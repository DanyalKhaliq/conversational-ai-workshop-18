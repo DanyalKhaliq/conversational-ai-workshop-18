{
 "cells": [
  {
   "cell_type": "code",
   "execution_count": 96,
   "metadata": {},
   "outputs": [
    {
     "name": "stdout",
     "output_type": "stream",
     "text": [
      "INFO:tensorflow:Restoring parameters from models/dialogue_embed/policy_0_EmbeddingPolicy/tensorflow_embedding.ckpt\n"
     ]
    },
    {
     "data": {
      "text/html": [
       "\n",
       "    <div class=\"bk-root\">\n",
       "        <a href=\"https://bokeh.pydata.org\" target=\"_blank\" class=\"bk-logo bk-logo-small bk-logo-notebook\"></a>\n",
       "        <span id=\"632d2537-c8b9-44cb-a94e-0eeac50baa4c\">Loading BokehJS ...</span>\n",
       "    </div>"
      ]
     },
     "metadata": {},
     "output_type": "display_data"
    },
    {
     "data": {
      "application/javascript": [
       "\n",
       "(function(root) {\n",
       "  function now() {\n",
       "    return new Date();\n",
       "  }\n",
       "\n",
       "  var force = true;\n",
       "\n",
       "  if (typeof (root._bokeh_onload_callbacks) === \"undefined\" || force === true) {\n",
       "    root._bokeh_onload_callbacks = [];\n",
       "    root._bokeh_is_loading = undefined;\n",
       "  }\n",
       "\n",
       "  var JS_MIME_TYPE = 'application/javascript';\n",
       "  var HTML_MIME_TYPE = 'text/html';\n",
       "  var EXEC_MIME_TYPE = 'application/vnd.bokehjs_exec.v0+json';\n",
       "  var CLASS_NAME = 'output_bokeh rendered_html';\n",
       "\n",
       "  /**\n",
       "   * Render data to the DOM node\n",
       "   */\n",
       "  function render(props, node) {\n",
       "    var script = document.createElement(\"script\");\n",
       "    node.appendChild(script);\n",
       "  }\n",
       "\n",
       "  /**\n",
       "   * Handle when an output is cleared or removed\n",
       "   */\n",
       "  function handleClearOutput(event, handle) {\n",
       "    var cell = handle.cell;\n",
       "\n",
       "    var id = cell.output_area._bokeh_element_id;\n",
       "    var server_id = cell.output_area._bokeh_server_id;\n",
       "    // Clean up Bokeh references\n",
       "    if (id != null && id in Bokeh.index) {\n",
       "      Bokeh.index[id].model.document.clear();\n",
       "      delete Bokeh.index[id];\n",
       "    }\n",
       "\n",
       "    if (server_id !== undefined) {\n",
       "      // Clean up Bokeh references\n",
       "      var cmd = \"from bokeh.io.state import curstate; print(curstate().uuid_to_server['\" + server_id + \"'].get_sessions()[0].document.roots[0]._id)\";\n",
       "      cell.notebook.kernel.execute(cmd, {\n",
       "        iopub: {\n",
       "          output: function(msg) {\n",
       "            var id = msg.content.text.trim();\n",
       "            if (id in Bokeh.index) {\n",
       "              Bokeh.index[id].model.document.clear();\n",
       "              delete Bokeh.index[id];\n",
       "            }\n",
       "          }\n",
       "        }\n",
       "      });\n",
       "      // Destroy server and session\n",
       "      var cmd = \"import bokeh.io.notebook as ion; ion.destroy_server('\" + server_id + \"')\";\n",
       "      cell.notebook.kernel.execute(cmd);\n",
       "    }\n",
       "  }\n",
       "\n",
       "  /**\n",
       "   * Handle when a new output is added\n",
       "   */\n",
       "  function handleAddOutput(event, handle) {\n",
       "    var output_area = handle.output_area;\n",
       "    var output = handle.output;\n",
       "\n",
       "    // limit handleAddOutput to display_data with EXEC_MIME_TYPE content only\n",
       "    if ((output.output_type != \"display_data\") || (!output.data.hasOwnProperty(EXEC_MIME_TYPE))) {\n",
       "      return\n",
       "    }\n",
       "\n",
       "    var toinsert = output_area.element.find(\".\" + CLASS_NAME.split(' ')[0]);\n",
       "\n",
       "    if (output.metadata[EXEC_MIME_TYPE][\"id\"] !== undefined) {\n",
       "      toinsert[toinsert.length - 1].firstChild.textContent = output.data[JS_MIME_TYPE];\n",
       "      // store reference to embed id on output_area\n",
       "      output_area._bokeh_element_id = output.metadata[EXEC_MIME_TYPE][\"id\"];\n",
       "    }\n",
       "    if (output.metadata[EXEC_MIME_TYPE][\"server_id\"] !== undefined) {\n",
       "      var bk_div = document.createElement(\"div\");\n",
       "      bk_div.innerHTML = output.data[HTML_MIME_TYPE];\n",
       "      var script_attrs = bk_div.children[0].attributes;\n",
       "      for (var i = 0; i < script_attrs.length; i++) {\n",
       "        toinsert[toinsert.length - 1].firstChild.setAttribute(script_attrs[i].name, script_attrs[i].value);\n",
       "      }\n",
       "      // store reference to server id on output_area\n",
       "      output_area._bokeh_server_id = output.metadata[EXEC_MIME_TYPE][\"server_id\"];\n",
       "    }\n",
       "  }\n",
       "\n",
       "  function register_renderer(events, OutputArea) {\n",
       "\n",
       "    function append_mime(data, metadata, element) {\n",
       "      // create a DOM node to render to\n",
       "      var toinsert = this.create_output_subarea(\n",
       "        metadata,\n",
       "        CLASS_NAME,\n",
       "        EXEC_MIME_TYPE\n",
       "      );\n",
       "      this.keyboard_manager.register_events(toinsert);\n",
       "      // Render to node\n",
       "      var props = {data: data, metadata: metadata[EXEC_MIME_TYPE]};\n",
       "      render(props, toinsert[toinsert.length - 1]);\n",
       "      element.append(toinsert);\n",
       "      return toinsert\n",
       "    }\n",
       "\n",
       "    /* Handle when an output is cleared or removed */\n",
       "    events.on('clear_output.CodeCell', handleClearOutput);\n",
       "    events.on('delete.Cell', handleClearOutput);\n",
       "\n",
       "    /* Handle when a new output is added */\n",
       "    events.on('output_added.OutputArea', handleAddOutput);\n",
       "\n",
       "    /**\n",
       "     * Register the mime type and append_mime function with output_area\n",
       "     */\n",
       "    OutputArea.prototype.register_mime_type(EXEC_MIME_TYPE, append_mime, {\n",
       "      /* Is output safe? */\n",
       "      safe: true,\n",
       "      /* Index of renderer in `output_area.display_order` */\n",
       "      index: 0\n",
       "    });\n",
       "  }\n",
       "\n",
       "  // register the mime type if in Jupyter Notebook environment and previously unregistered\n",
       "  if (root.Jupyter !== undefined) {\n",
       "    var events = require('base/js/events');\n",
       "    var OutputArea = require('notebook/js/outputarea').OutputArea;\n",
       "\n",
       "    if (OutputArea.prototype.mime_types().indexOf(EXEC_MIME_TYPE) == -1) {\n",
       "      register_renderer(events, OutputArea);\n",
       "    }\n",
       "  }\n",
       "\n",
       "  \n",
       "  if (typeof (root._bokeh_timeout) === \"undefined\" || force === true) {\n",
       "    root._bokeh_timeout = Date.now() + 5000;\n",
       "    root._bokeh_failed_load = false;\n",
       "  }\n",
       "\n",
       "  var NB_LOAD_WARNING = {'data': {'text/html':\n",
       "     \"<div style='background-color: #fdd'>\\n\"+\n",
       "     \"<p>\\n\"+\n",
       "     \"BokehJS does not appear to have successfully loaded. If loading BokehJS from CDN, this \\n\"+\n",
       "     \"may be due to a slow or bad network connection. Possible fixes:\\n\"+\n",
       "     \"</p>\\n\"+\n",
       "     \"<ul>\\n\"+\n",
       "     \"<li>re-rerun `output_notebook()` to attempt to load from CDN again, or</li>\\n\"+\n",
       "     \"<li>use INLINE resources instead, as so:</li>\\n\"+\n",
       "     \"</ul>\\n\"+\n",
       "     \"<code>\\n\"+\n",
       "     \"from bokeh.resources import INLINE\\n\"+\n",
       "     \"output_notebook(resources=INLINE)\\n\"+\n",
       "     \"</code>\\n\"+\n",
       "     \"</div>\"}};\n",
       "\n",
       "  function display_loaded() {\n",
       "    var el = document.getElementById(\"632d2537-c8b9-44cb-a94e-0eeac50baa4c\");\n",
       "    if (el != null) {\n",
       "      el.textContent = \"BokehJS is loading...\";\n",
       "    }\n",
       "    if (root.Bokeh !== undefined) {\n",
       "      if (el != null) {\n",
       "        el.textContent = \"BokehJS \" + root.Bokeh.version + \" successfully loaded.\";\n",
       "      }\n",
       "    } else if (Date.now() < root._bokeh_timeout) {\n",
       "      setTimeout(display_loaded, 100)\n",
       "    }\n",
       "  }\n",
       "\n",
       "\n",
       "  function run_callbacks() {\n",
       "    try {\n",
       "      root._bokeh_onload_callbacks.forEach(function(callback) { callback() });\n",
       "    }\n",
       "    finally {\n",
       "      delete root._bokeh_onload_callbacks\n",
       "    }\n",
       "    console.info(\"Bokeh: all callbacks have finished\");\n",
       "  }\n",
       "\n",
       "  function load_libs(js_urls, callback) {\n",
       "    root._bokeh_onload_callbacks.push(callback);\n",
       "    if (root._bokeh_is_loading > 0) {\n",
       "      console.log(\"Bokeh: BokehJS is being loaded, scheduling callback at\", now());\n",
       "      return null;\n",
       "    }\n",
       "    if (js_urls == null || js_urls.length === 0) {\n",
       "      run_callbacks();\n",
       "      return null;\n",
       "    }\n",
       "    console.log(\"Bokeh: BokehJS not loaded, scheduling load and callback at\", now());\n",
       "    root._bokeh_is_loading = js_urls.length;\n",
       "    for (var i = 0; i < js_urls.length; i++) {\n",
       "      var url = js_urls[i];\n",
       "      var s = document.createElement('script');\n",
       "      s.src = url;\n",
       "      s.async = false;\n",
       "      s.onreadystatechange = s.onload = function() {\n",
       "        root._bokeh_is_loading--;\n",
       "        if (root._bokeh_is_loading === 0) {\n",
       "          console.log(\"Bokeh: all BokehJS libraries loaded\");\n",
       "          run_callbacks()\n",
       "        }\n",
       "      };\n",
       "      s.onerror = function() {\n",
       "        console.warn(\"failed to load library \" + url);\n",
       "      };\n",
       "      console.log(\"Bokeh: injecting script tag for BokehJS library: \", url);\n",
       "      document.getElementsByTagName(\"head\")[0].appendChild(s);\n",
       "    }\n",
       "  };var element = document.getElementById(\"632d2537-c8b9-44cb-a94e-0eeac50baa4c\");\n",
       "  if (element == null) {\n",
       "    console.log(\"Bokeh: ERROR: autoload.js configured with elementid '632d2537-c8b9-44cb-a94e-0eeac50baa4c' but no matching script tag was found. \")\n",
       "    return false;\n",
       "  }\n",
       "\n",
       "  var js_urls = [\"https://cdn.pydata.org/bokeh/release/bokeh-0.13.0.min.js\", \"https://cdn.pydata.org/bokeh/release/bokeh-widgets-0.13.0.min.js\", \"https://cdn.pydata.org/bokeh/release/bokeh-tables-0.13.0.min.js\", \"https://cdn.pydata.org/bokeh/release/bokeh-gl-0.13.0.min.js\"];\n",
       "\n",
       "  var inline_js = [\n",
       "    function(Bokeh) {\n",
       "      Bokeh.set_log_level(\"info\");\n",
       "    },\n",
       "    \n",
       "    function(Bokeh) {\n",
       "      \n",
       "    },\n",
       "    function(Bokeh) {\n",
       "      console.log(\"Bokeh: injecting CSS: https://cdn.pydata.org/bokeh/release/bokeh-0.13.0.min.css\");\n",
       "      Bokeh.embed.inject_css(\"https://cdn.pydata.org/bokeh/release/bokeh-0.13.0.min.css\");\n",
       "      console.log(\"Bokeh: injecting CSS: https://cdn.pydata.org/bokeh/release/bokeh-widgets-0.13.0.min.css\");\n",
       "      Bokeh.embed.inject_css(\"https://cdn.pydata.org/bokeh/release/bokeh-widgets-0.13.0.min.css\");\n",
       "      console.log(\"Bokeh: injecting CSS: https://cdn.pydata.org/bokeh/release/bokeh-tables-0.13.0.min.css\");\n",
       "      Bokeh.embed.inject_css(\"https://cdn.pydata.org/bokeh/release/bokeh-tables-0.13.0.min.css\");\n",
       "    }\n",
       "  ];\n",
       "\n",
       "  function run_inline_js() {\n",
       "    \n",
       "    if ((root.Bokeh !== undefined) || (force === true)) {\n",
       "      for (var i = 0; i < inline_js.length; i++) {\n",
       "        inline_js[i].call(root, root.Bokeh);\n",
       "      }if (force === true) {\n",
       "        display_loaded();\n",
       "      }} else if (Date.now() < root._bokeh_timeout) {\n",
       "      setTimeout(run_inline_js, 100);\n",
       "    } else if (!root._bokeh_failed_load) {\n",
       "      console.log(\"Bokeh: BokehJS failed to load within specified timeout.\");\n",
       "      root._bokeh_failed_load = true;\n",
       "    } else if (force !== true) {\n",
       "      var cell = $(document.getElementById(\"632d2537-c8b9-44cb-a94e-0eeac50baa4c\")).parents('.cell').data().cell;\n",
       "      cell.output_area.append_execute_result(NB_LOAD_WARNING)\n",
       "    }\n",
       "\n",
       "  }\n",
       "\n",
       "  if (root._bokeh_is_loading === 0) {\n",
       "    console.log(\"Bokeh: BokehJS loaded, going straight to plotting\");\n",
       "    run_inline_js();\n",
       "  } else {\n",
       "    load_libs(js_urls, function() {\n",
       "      console.log(\"Bokeh: BokehJS plotting callback run at\", now());\n",
       "      run_inline_js();\n",
       "    });\n",
       "  }\n",
       "}(window));"
      ],
      "application/vnd.bokehjs_load.v0+json": "\n(function(root) {\n  function now() {\n    return new Date();\n  }\n\n  var force = true;\n\n  if (typeof (root._bokeh_onload_callbacks) === \"undefined\" || force === true) {\n    root._bokeh_onload_callbacks = [];\n    root._bokeh_is_loading = undefined;\n  }\n\n  \n\n  \n  if (typeof (root._bokeh_timeout) === \"undefined\" || force === true) {\n    root._bokeh_timeout = Date.now() + 5000;\n    root._bokeh_failed_load = false;\n  }\n\n  var NB_LOAD_WARNING = {'data': {'text/html':\n     \"<div style='background-color: #fdd'>\\n\"+\n     \"<p>\\n\"+\n     \"BokehJS does not appear to have successfully loaded. If loading BokehJS from CDN, this \\n\"+\n     \"may be due to a slow or bad network connection. Possible fixes:\\n\"+\n     \"</p>\\n\"+\n     \"<ul>\\n\"+\n     \"<li>re-rerun `output_notebook()` to attempt to load from CDN again, or</li>\\n\"+\n     \"<li>use INLINE resources instead, as so:</li>\\n\"+\n     \"</ul>\\n\"+\n     \"<code>\\n\"+\n     \"from bokeh.resources import INLINE\\n\"+\n     \"output_notebook(resources=INLINE)\\n\"+\n     \"</code>\\n\"+\n     \"</div>\"}};\n\n  function display_loaded() {\n    var el = document.getElementById(\"632d2537-c8b9-44cb-a94e-0eeac50baa4c\");\n    if (el != null) {\n      el.textContent = \"BokehJS is loading...\";\n    }\n    if (root.Bokeh !== undefined) {\n      if (el != null) {\n        el.textContent = \"BokehJS \" + root.Bokeh.version + \" successfully loaded.\";\n      }\n    } else if (Date.now() < root._bokeh_timeout) {\n      setTimeout(display_loaded, 100)\n    }\n  }\n\n\n  function run_callbacks() {\n    try {\n      root._bokeh_onload_callbacks.forEach(function(callback) { callback() });\n    }\n    finally {\n      delete root._bokeh_onload_callbacks\n    }\n    console.info(\"Bokeh: all callbacks have finished\");\n  }\n\n  function load_libs(js_urls, callback) {\n    root._bokeh_onload_callbacks.push(callback);\n    if (root._bokeh_is_loading > 0) {\n      console.log(\"Bokeh: BokehJS is being loaded, scheduling callback at\", now());\n      return null;\n    }\n    if (js_urls == null || js_urls.length === 0) {\n      run_callbacks();\n      return null;\n    }\n    console.log(\"Bokeh: BokehJS not loaded, scheduling load and callback at\", now());\n    root._bokeh_is_loading = js_urls.length;\n    for (var i = 0; i < js_urls.length; i++) {\n      var url = js_urls[i];\n      var s = document.createElement('script');\n      s.src = url;\n      s.async = false;\n      s.onreadystatechange = s.onload = function() {\n        root._bokeh_is_loading--;\n        if (root._bokeh_is_loading === 0) {\n          console.log(\"Bokeh: all BokehJS libraries loaded\");\n          run_callbacks()\n        }\n      };\n      s.onerror = function() {\n        console.warn(\"failed to load library \" + url);\n      };\n      console.log(\"Bokeh: injecting script tag for BokehJS library: \", url);\n      document.getElementsByTagName(\"head\")[0].appendChild(s);\n    }\n  };var element = document.getElementById(\"632d2537-c8b9-44cb-a94e-0eeac50baa4c\");\n  if (element == null) {\n    console.log(\"Bokeh: ERROR: autoload.js configured with elementid '632d2537-c8b9-44cb-a94e-0eeac50baa4c' but no matching script tag was found. \")\n    return false;\n  }\n\n  var js_urls = [\"https://cdn.pydata.org/bokeh/release/bokeh-0.13.0.min.js\", \"https://cdn.pydata.org/bokeh/release/bokeh-widgets-0.13.0.min.js\", \"https://cdn.pydata.org/bokeh/release/bokeh-tables-0.13.0.min.js\", \"https://cdn.pydata.org/bokeh/release/bokeh-gl-0.13.0.min.js\"];\n\n  var inline_js = [\n    function(Bokeh) {\n      Bokeh.set_log_level(\"info\");\n    },\n    \n    function(Bokeh) {\n      \n    },\n    function(Bokeh) {\n      console.log(\"Bokeh: injecting CSS: https://cdn.pydata.org/bokeh/release/bokeh-0.13.0.min.css\");\n      Bokeh.embed.inject_css(\"https://cdn.pydata.org/bokeh/release/bokeh-0.13.0.min.css\");\n      console.log(\"Bokeh: injecting CSS: https://cdn.pydata.org/bokeh/release/bokeh-widgets-0.13.0.min.css\");\n      Bokeh.embed.inject_css(\"https://cdn.pydata.org/bokeh/release/bokeh-widgets-0.13.0.min.css\");\n      console.log(\"Bokeh: injecting CSS: https://cdn.pydata.org/bokeh/release/bokeh-tables-0.13.0.min.css\");\n      Bokeh.embed.inject_css(\"https://cdn.pydata.org/bokeh/release/bokeh-tables-0.13.0.min.css\");\n    }\n  ];\n\n  function run_inline_js() {\n    \n    if ((root.Bokeh !== undefined) || (force === true)) {\n      for (var i = 0; i < inline_js.length; i++) {\n        inline_js[i].call(root, root.Bokeh);\n      }if (force === true) {\n        display_loaded();\n      }} else if (Date.now() < root._bokeh_timeout) {\n      setTimeout(run_inline_js, 100);\n    } else if (!root._bokeh_failed_load) {\n      console.log(\"Bokeh: BokehJS failed to load within specified timeout.\");\n      root._bokeh_failed_load = true;\n    } else if (force !== true) {\n      var cell = $(document.getElementById(\"632d2537-c8b9-44cb-a94e-0eeac50baa4c\")).parents('.cell').data().cell;\n      cell.output_area.append_execute_result(NB_LOAD_WARNING)\n    }\n\n  }\n\n  if (root._bokeh_is_loading === 0) {\n    console.log(\"Bokeh: BokehJS loaded, going straight to plotting\");\n    run_inline_js();\n  } else {\n    load_libs(js_urls, function() {\n      console.log(\"Bokeh: BokehJS plotting callback run at\", now());\n      run_inline_js();\n    });\n  }\n}(window));"
     },
     "metadata": {},
     "output_type": "display_data"
    }
   ],
   "source": [
    "import rasa_core\n",
    "from rasa_core.agent import Agent\n",
    "from bokeh.io import output_notebook\n",
    "agent = Agent.load(\"models/dialogue_embed\")\n",
    "# agent = Agent.load(\"models/dialogue_embed_before_norm_loss\")\n",
    "output_notebook()"
   ]
  },
  {
   "cell_type": "code",
   "execution_count": 97,
   "metadata": {},
   "outputs": [
    {
     "data": {
      "text/plain": [
       "'0.13.0a4'"
      ]
     },
     "execution_count": 97,
     "metadata": {},
     "output_type": "execute_result"
    }
   ],
   "source": [
    "rasa_core.__version__"
   ]
  },
  {
   "cell_type": "code",
   "execution_count": 98,
   "metadata": {},
   "outputs": [
    {
     "name": "stdout",
     "output_type": "stream",
     "text": [
      "False\n"
     ]
    }
   ],
   "source": [
    "policy = agent.policy_ensemble.policies[0]\n",
    "interpreter = agent.interpreter\n",
    "print(policy.sparse_attention)"
   ]
  },
  {
   "cell_type": "code",
   "execution_count": 99,
   "metadata": {},
   "outputs": [],
   "source": [
    "domain = agent.domain\n"
   ]
  },
  {
   "cell_type": "code",
   "execution_count": 100,
   "metadata": {},
   "outputs": [],
   "source": [
    "from rasa_core.training.structures import StoryGraph\n",
    "from rasa_core.training.dsl import StoryFileReader\n",
    "from rasa_core.trackers import DialogueStateTracker\n",
    "from rasa_core.channels import UserMessage\n",
    "import numpy as np\n",
    "np.set_printoptions(precision=3, suppress=True)\n",
    "\n",
    "def embedding_from_tracker(story, bot=False, predict_only=False):\n",
    "    reader = StoryFileReader(domain, interpreter)\n",
    "    story = story.split('\\n')\n",
    "    story_steps = reader.process_lines(story)\n",
    "#     story_graph = StoryGraph(story_steps)\n",
    "    tracker = DialogueStateTracker(\n",
    "            1,\n",
    "            domain.slots\n",
    "    )\n",
    "    tracker._reset()\n",
    "    for step in story_steps:\n",
    "        events = step.explicit_events(domain)\n",
    "        for event in events[:-1]:\n",
    "            tracker.update(event)\n",
    "\n",
    "    if predict_only:\n",
    "        return policy.predict_action_probabilities(tracker, domain)\n",
    "\n",
    "    data_X = policy.featurizer.create_X([tracker], domain)\n",
    "    session_data = policy._create_tf_session_data(domain, data_X)\n",
    "    all_Y_d_x = np.stack([session_data.all_Y_d for _ in range(session_data.X.shape[0])])\n",
    "    feed_dict={policy.a_in: session_data.X,\n",
    "               policy.b_in: all_Y_d_x,\n",
    "               policy.c_in: session_data.slots,\n",
    "               policy.b_prev_in: session_data.previous_actions,\n",
    "               policy._dialogue_len: session_data.X.shape[1],\n",
    "               policy._x_for_no_intent_in: session_data.x_for_no_intent,\n",
    "               policy._y_for_no_action_in: session_data.y_for_no_action,\n",
    "               policy._y_for_action_listen_in: session_data.y_for_action_listen}\n",
    "\n",
    "    dial_vec = policy.session.run(policy.dial_embed, feed_dict=feed_dict)\n",
    "    bot_vec = policy.session.run(policy.bot_embed, feed_dict=feed_dict)\n",
    "\n",
    "    no_skip_gate = policy.session.run(policy.copy_attn_debug, feed_dict=feed_dict)\n",
    "    attn_embed = policy.session.run(policy.attn_embed, feed_dict=feed_dict)\n",
    "    rnn_embed = policy.session.run(policy.rnn_embed, feed_dict=feed_dict)\n",
    "    probs = policy.session.run(policy.alignment_history, feed_dict=feed_dict)\n",
    "    time_mask = policy.session.run(policy.all_time_masks, feed_dict=feed_dict)\n",
    "    topics = policy.session.run(policy.topics, feed_dict=feed_dict)\n",
    "    cell_state = policy.session.run(policy.cell_state, feed_dict=feed_dict)\n",
    "    if probs.shape[2] == 2 * probs.shape[1]:\n",
    "        user_probs = probs[0, -1, :int(probs.shape[2]/2)]\n",
    "        bot_probs = probs[0, -1, int(probs.shape[2]/2):]\n",
    "    else:\n",
    "        user_probs = probs[0, -1, :]\n",
    "        bot_probs = []\n",
    "\n",
    "    sims = policy.session.run(policy.sim_op, feed_dict=feed_dict)\n",
    "    if bot is False:\n",
    "        sims1 = policy.predict_action_probabilities(tracker, domain)\n",
    "\n",
    "    del tracker\n",
    "#     print(np.shape(dial_vec))\n",
    "\n",
    "    if bot is False:\n",
    "        return (dial_vec[0,-1,:],\n",
    "                no_skip_gate[0,-1,:],\n",
    "                attn_embed[0,-1,:],\n",
    "                rnn_embed[0,-1,:],\n",
    "                [user_probs, bot_probs, time_mask[0,-1,:]],\n",
    "                sims[0,-1,:],\n",
    "                sims1,\n",
    "                topics[0],\n",
    "                cell_state[0]\n",
    "               )\n",
    "    else:\n",
    "        return (dial_vec[0,-1,:],\n",
    "                sims[0,-1,:],\n",
    "                bot_vec[0,-1,:,:])\n",
    "    \n",
    "def make_prediction(story):\n",
    "    dial, sim0, bot = embedding_from_tracker(story, bot=True)\n",
    "    abs_vals = np.array([np.absolute(vec) for vec in bot])\n",
    "    norms = np.apply_along_axis(np.linalg.norm, 1, bot)\n",
    "    sims = np.dot(bot, dial)/norms\n",
    "#     name = domain.action_for_index(np.argmax(sims)).name()\n",
    "#     print(name)\n",
    "    name = domain.action_names[np.argmax(sim0)]\n",
    "#     print(name)\n",
    "#     print('---')\n",
    "#     ids = sim0.argsort()[::-1]\n",
    "#     print(ids)\n",
    "#     print(sims[ids])\n",
    "    return '- ' + name, np.max(sim0)\n",
    "#     print(dial.shape, bot.shape)"
   ]
  },
  {
   "cell_type": "code",
   "execution_count": 101,
   "metadata": {},
   "outputs": [],
   "source": [
    "# print(domain.intents)\n",
    "story_block = \"\"\"* request_hotel\n",
    "    - utter_ask_details\n",
    "* chitchat\n",
    "    - utter_chitchat\n",
    "    - utter_ask_details\n",
    "* inform{\"enddate\": \"May 26th\"}\n",
    "    - slot{\"enddate\": \"May 26th\"}\n",
    "    - utter_ask_startdate\n",
    "* inform{\"startdate\": \"next week\"}\n",
    "    - slot{\"startdate\": \"next week\"}\n",
    "    - utter_ask_location\n",
    "* correct{\"startdate\": \"next week\"}\n",
    "    - slot{\"startdate\": \"next week\"}\n",
    "    - utter_correct_startdate_hotel\n",
    "    - utter_ask_location\n",
    "* explain\n",
    "    - utter_explain_location_hotel\n",
    "    - utter_ask_location\n",
    "* inform{\"location\": \"rome\"}\n",
    "    - slot{\"location\": \"rome\"}\n",
    "    - utter_ask_price\n",
    "* chitchat\n",
    "    - utter_chitchat\n",
    "    - utter_ask_price\n",
    "* chitchat\n",
    "    - utter_chitchat\n",
    "    - utter_ask_price\n",
    "* chitchat\n",
    "    - utter_chitchat\n",
    "    - utter_ask_price\n",
    "* chitchat\n",
    "    - utter_chitchat\n",
    "    - utter_ask_price\n",
    "* explain\n",
    "    - utter_explain_price_hotel\n",
    "    - utter_ask_price\n",
    "* inform{\"price\": \"expensive\"}\n",
    "    - utter_ask_people\n",
    "* inform{\"people\": \"4\"}\n",
    "    - utter_filled_slots\n",
    "    - action_search_hotel\n",
    "    - slot{\"hotel\": \"hotel\"}\n",
    "    - utter_suggest_hotel\n",
    "* chitchat\n",
    "    - utter_chitchat\n",
    "    - utter_suggest_hotel\n",
    "* affirm\n",
    "    - utter_happy\"\"\""
   ]
  },
  {
   "cell_type": "code",
   "execution_count": 102,
   "metadata": {},
   "outputs": [],
   "source": [
    "# story_block = \"\"\"* request_hotel\n",
    "#     - utter_ask_details\n",
    "# * inform{\"people\": \"4\"}\n",
    "#     - slot{\"people\": \"4\"}\n",
    "#     - utter_ask_location\n",
    "# * correct{\"people\": \"2\"}\n",
    "#     - slot{\"people\": \"2\"}\n",
    "#     - utter_correct_people_hotel\n",
    "#     - utter_ask_location\n",
    "# * chitchat\n",
    "#     - utter_chitchat\n",
    "#     - utter_ask_location\n",
    "# * inform{\"location\": \"rome\"}\n",
    "#     - slot{\"location\": \"rome\"}\n",
    "#     - utter_ask_price\n",
    "# * inform{\"price\": \"expensive\"}\n",
    "#     - slot{\"price\": \"expensive\"}\n",
    "#     - utter_ask_startdate\n",
    "# * inform{\"startdate\": \"next week\", \"enddate\": \"tomorrow\"}\n",
    "#     - slot{\"startdate\": \"next week\"}\n",
    "#     - slot{\"enddate\": \"tomorrow\"}\n",
    "#     - utter_filled_slots\n",
    "#     - utter_search_hotel\n",
    "#     - slot{\"hotel\": \"hotel\"}\n",
    "#     - utter_suggest_hotel\n",
    "# * correct{\"enddate\": \"May 26th\"}\n",
    "#     - slot{\"enddate\": \"May 26th\"}\n",
    "#     - utter_correct_enddate_hotel\n",
    "#     - utter_search_hotel\n",
    "#     - slot{\"hotel\": \"hotel\"}\n",
    "#     - utter_suggest_hotel\n",
    "# * correct{\"location\": \"rome\"}\n",
    "#     - slot{\"location\": \"rome\"}\n",
    "#     - utter_correct_location_hotel\n",
    "#     - utter_search_hotel\n",
    "#     - slot{\"hotel\": \"hotel\"}\n",
    "#     - utter_suggest_hotel\n",
    "# * did_that_work\n",
    "#     - utter_worked_hotel\n",
    "#     - utter_suggest_hotel\n",
    "# * affirm\n",
    "#     - utter_happy\n",
    "# * chitchat\"\"\""
   ]
  },
  {
   "cell_type": "code",
   "execution_count": 103,
   "metadata": {},
   "outputs": [],
   "source": [
    "# story_block = \"\"\"* request_hotel\n",
    "#     - utter_ask_details\n",
    "# * inform{\"people\": \"2\"}\n",
    "#     - slot{\"people\": \"2\"}\n",
    "#     - utter_ask_location\n",
    "# * correct{\"people\": \"2\"}\n",
    "#     - slot{\"people\": \"2\"}\n",
    "#     - utter_correct_people_hotel\n",
    "#     - utter_ask_location\n",
    "# * explain\n",
    "#     - utter_explain_location_hotel\n",
    "#     - utter_ask_location\n",
    "# * inform{\"location\": \"paris\"}\n",
    "#     - utter_ask_price\n",
    "# * inform{\"price\": \"expensive\"}\n",
    "#     - utter_ask_startdate\n",
    "# * inform{\"startdate\": \"10.03.2018\"}\n",
    "#     - utter_ask_enddate\n",
    "# * explain\n",
    "#     - utter_explain_enddate_hotel\n",
    "#     - utter_ask_enddate\n",
    "# * explain\n",
    "#     - utter_explain_enddate_hotel\n",
    "#     - utter_ask_enddate\n",
    "# * explain\n",
    "#     - utter_explain_enddate_hotel\n",
    "#     - utter_ask_enddate\n",
    "# * explain\n",
    "#     - utter_explain_enddate_hotel\n",
    "#     - utter_ask_enddate\n",
    "# * did_that_work\n",
    "#     - utter_more_info_hotel\n",
    "#     - utter_ask_enddate\n",
    "# * inform{\"enddate\": \"10.03.2018\"}\n",
    "#     - utter_filled_slots\n",
    "#     - utter_search_hotel\n",
    "#     - slot{\"hotel\": \"hotel\"}\n",
    "#     - utter_suggest_hotel\n",
    "# * did_that_work\n",
    "#     - utter_worked_hotel\n",
    "#     - utter_suggest_hotel\n",
    "# * affirm\n",
    "#     - utter_happy\n",
    "# \"\"\""
   ]
  },
  {
   "cell_type": "code",
   "execution_count": 104,
   "metadata": {},
   "outputs": [
    {
     "name": "stdout",
     "output_type": "stream",
     "text": [
      "48\n",
      "27\n"
     ]
    }
   ],
   "source": [
    "print(len(story_block.split('\\n')))\n",
    "cool_list = []\n",
    "lines = story_block.split('\\n')\n",
    "for idx, line in enumerate(lines):\n",
    "    if idx == len(lines)-1:\n",
    "        continue\n",
    "    if '*' in lines[idx+1] or 'slot{' in lines[idx+1]:\n",
    "#     if 'slot{' in lines[idx+1]:\n",
    "        continue\n",
    "    sub_story = '\\n'.join(lines[:idx+1])\n",
    "    (dial, not_skip, attn, rnn, probs, sims, sims1, topic, cell_state\n",
    "    ) = embedding_from_tracker(\"#generate story\\n{}\".format(sub_story))\n",
    "#     print(np.max(sims), np.max(sims1))\n",
    "\n",
    "    pred, sim = make_prediction(\"#generate story\\n{}\".format(sub_story))\n",
    "    cool_list.append((lines[idx+1].strip(), dial, (pred, sim, sims), not_skip, attn[-20:], rnn,\n",
    "                      probs, topic, cell_state))\n",
    "#     embedding_from_tracker(\"#generate story\\n{}\".format(sub_story), predict_only=True)\n",
    "\n",
    "print(len(cool_list))\n",
    "# print(cool_list[0][4].shape)\n",
    "#     break\n",
    "# dial = embedding_from_tracker(\"#generate story\\n{}\".format(story_block)\n",
    "# )\n",
    "# print(dial.shape)\n",
    "# print(len(story_block.split('\\n')))\n",
    "# print(probs[0, 6, :])"
   ]
  },
  {
   "cell_type": "code",
   "execution_count": 105,
   "metadata": {},
   "outputs": [
    {
     "data": {
      "text/plain": [
       "('- utter_explain_location_hotel',\n",
       " array([-0.013,  0.001,  0.165,  0.127, -0.018,  0.019, -0.141, -0.041,\n",
       "         0.246,  0.007, -0.087,  0.094, -0.005, -0.033,  0.17 ,  0.064,\n",
       "        -0.055,  0.017, -0.189,  0.054], dtype=float32),\n",
       " ('- utter_explain_location_hotel',\n",
       "  0.8260947,\n",
       "  array([-0.039,  0.064,  0.076, -0.012, -0.105,  0.036, -0.058, -0.095,\n",
       "         -0.526,  0.407, -0.323, -0.217, -0.235,  0.027, -0.085, -0.138,\n",
       "          0.112, -0.138,  0.418,  0.133,  0.446,  0.826,  0.341,  0.267,\n",
       "          0.027,  0.425,  0.139,  0.454,  0.15 ,  0.057, -0.156,  0.059,\n",
       "         -0.333,  0.124,  0.488,  0.138, -0.035,  0.094, -0.07 , -0.12 ,\n",
       "         -0.2  ,  0.126,  0.112,  0.079, -0.148, -0.123,  0.138],\n",
       "        dtype=float32)),\n",
       " array([1., 1., 0., 0., 1.], dtype=float32),\n",
       " array([-0.02 , -0.015,  0.033,  0.034, -0.01 ,  0.046,  0.018, -0.027,\n",
       "         0.019,  0.001,  0.011,  0.018,  0.002, -0.017,  0.014, -0.012,\n",
       "        -0.005,  0.006,  0.006, -0.005], dtype=float32),\n",
       " array([ 0.007,  0.015,  0.132,  0.092, -0.008, -0.027, -0.159, -0.014,\n",
       "         0.227,  0.006, -0.097,  0.076, -0.007, -0.016,  0.156,  0.076,\n",
       "        -0.05 ,  0.011, -0.196,  0.059], dtype=float32),\n",
       " [array([0.   , 0.   , 0.   , 0.   , 0.   , 0.003, 0.   , 0.013, 0.   ,\n",
       "         0.   , 0.   , 0.   , 0.119, 0.865], dtype=float32),\n",
       "  [],\n",
       "  array([1, 1, 0, 0, 0, 1, 1, 1, 1, 0, 0, 0, 1, 0], dtype=int32)],\n",
       " array([[0.997, 0.001, 0.001, 0.001, 0.   , 0.   , 0.   ],\n",
       "        [0.001, 0.997, 0.   , 0.   , 0.   , 0.001, 0.   ],\n",
       "        [0.998, 0.001, 0.   , 0.   , 0.   , 0.   , 0.   ],\n",
       "        [0.009, 0.002, 0.001, 0.984, 0.001, 0.001, 0.002],\n",
       "        [0.004, 0.   , 0.001, 0.992, 0.001, 0.001, 0.001],\n",
       "        [0.998, 0.   , 0.   , 0.001, 0.   , 0.   , 0.   ],\n",
       "        [0.001, 0.998, 0.   , 0.   , 0.   , 0.   , 0.   ],\n",
       "        [0.999, 0.   , 0.   , 0.   , 0.   , 0.   , 0.   ],\n",
       "        [0.   , 0.999, 0.   , 0.   , 0.   , 0.   , 0.   ],\n",
       "        [0.999, 0.   , 0.   , 0.   , 0.   , 0.   , 0.   ],\n",
       "        [0.004, 0.002, 0.001, 0.002, 0.002, 0.002, 0.988],\n",
       "        [0.001, 0.   , 0.   , 0.001, 0.001, 0.001, 0.996],\n",
       "        [0.998, 0.   , 0.   , 0.   , 0.   , 0.   , 0.   ],\n",
       "        [0.004, 0.002, 0.001, 0.001, 0.986, 0.003, 0.002]], dtype=float32),\n",
       " array([[ 0.149,  0.043,  0.076, -0.073, -0.055, -0.126, -0.279,  0.09 ,\n",
       "         -0.372,  1.361, -0.175, -0.95 , -0.594, -0.11 , -0.373, -1.29 ,\n",
       "         -0.157,  0.275,  0.05 , -0.106, -0.417,  0.043,  0.042, -0.288,\n",
       "          0.066, -0.038, -0.918,  0.508, -0.225, -0.079,  0.783,  0.522,\n",
       "         -0.309, -1.018,  0.245,  0.204, -0.427,  0.297,  0.09 ,  0.033,\n",
       "          0.532,  0.046, -0.727,  0.075, -0.108, -0.009,  0.125, -0.177,\n",
       "          0.116, -0.169, -0.053, -0.225, -0.46 , -0.347, -0.606,  0.142,\n",
       "          0.095,  0.014,  0.399,  0.127, -0.18 ,  1.314,  0.008,  1.29 ],\n",
       "        [-0.245, -0.053, -0.196, -0.946,  1.482,  0.24 ,  0.194,  0.442,\n",
       "         -0.113,  1.112, -0.263,  0.205,  0.172,  0.75 ,  0.169, -0.009,\n",
       "         -0.016, -0.967,  0.047,  0.148,  0.186,  0.23 , -1.521,  0.278,\n",
       "         -0.148,  0.148,  0.124, -0.087, -0.208, -0.299,  0.052, -0.047,\n",
       "         -0.101, -0.021,  0.021,  0.479,  0.176,  0.192, -0.35 ,  0.041,\n",
       "         -0.309, -0.217, -0.053,  0.175,  0.732, -0.204,  0.279,  0.114,\n",
       "         -0.055, -0.215,  0.021,  0.46 , -0.027, -0.094,  0.095, -0.831,\n",
       "          0.166,  0.673,  0.342, -0.095, -0.028, -0.012, -0.381, -0.447],\n",
       "        [ 0.   ,  0.   ,  0.   ,  0.   ,  0.   ,  0.   ,  0.   ,  0.   ,\n",
       "          0.   ,  0.   ,  0.   ,  0.   ,  0.   ,  0.   ,  0.   ,  0.   ,\n",
       "          0.   ,  0.   ,  0.   ,  0.   ,  0.   ,  0.   ,  0.   ,  0.   ,\n",
       "          0.   ,  0.   ,  0.   ,  0.   ,  0.   ,  0.   ,  0.   ,  0.   ,\n",
       "          0.   ,  0.   ,  0.   ,  0.   ,  0.   ,  0.   ,  0.   ,  0.   ,\n",
       "          0.   ,  0.   ,  0.   ,  0.   ,  0.   ,  0.   ,  0.   ,  0.   ,\n",
       "          0.   ,  0.   ,  0.   ,  0.   ,  0.   ,  0.   ,  0.   ,  0.   ,\n",
       "          0.   ,  0.   ,  0.   ,  0.   ,  0.   ,  0.   ,  0.   ,  0.   ],\n",
       "        [ 0.   ,  0.   ,  0.   ,  0.   ,  0.   ,  0.   ,  0.   ,  0.   ,\n",
       "          0.   ,  0.   ,  0.   ,  0.   ,  0.   ,  0.   ,  0.   ,  0.   ,\n",
       "          0.   ,  0.   ,  0.   ,  0.   ,  0.   ,  0.   ,  0.   ,  0.   ,\n",
       "          0.   ,  0.   ,  0.   ,  0.   ,  0.   ,  0.   ,  0.   ,  0.   ,\n",
       "          0.   ,  0.   ,  0.   ,  0.   ,  0.   ,  0.   ,  0.   ,  0.   ,\n",
       "          0.   ,  0.   ,  0.   ,  0.   ,  0.   ,  0.   ,  0.   ,  0.   ,\n",
       "          0.   ,  0.   ,  0.   ,  0.   ,  0.   ,  0.   ,  0.   ,  0.   ,\n",
       "          0.   ,  0.   ,  0.   ,  0.   ,  0.   ,  0.   ,  0.   ,  0.   ],\n",
       "        [ 0.117, -0.023, -0.037, -0.835, -0.519,  0.062,  0.096, -0.042,\n",
       "          0.119, -0.298, -0.322,  0.161, -0.119,  0.438, -0.304,  0.066,\n",
       "          0.132,  0.024, -0.007,  0.082,  0.011,  0.075, -0.033, -0.508,\n",
       "         -0.028,  0.037, -0.05 , -0.019,  0.324,  0.388, -0.237, -0.112,\n",
       "         -0.019, -0.036,  0.152,  0.521,  0.646,  0.317,  0.077,  0.177,\n",
       "         -0.195, -0.485, -0.146, -0.049,  0.258, -0.175,  0.096, -0.197,\n",
       "          0.088, -0.088,  0.008,  0.407,  0.358, -0.112, -0.013,  0.467,\n",
       "          0.088,  0.144, -0.137, -0.274, -0.022, -0.239, -0.248,  0.167],\n",
       "        [ 0.   ,  0.   ,  0.   ,  0.   ,  0.   ,  0.   ,  0.   ,  0.   ,\n",
       "          0.   ,  0.   ,  0.   ,  0.   ,  0.   ,  0.   ,  0.   ,  0.   ,\n",
       "          0.   ,  0.   ,  0.   ,  0.   ,  0.   ,  0.   ,  0.   ,  0.   ,\n",
       "          0.   ,  0.   ,  0.   ,  0.   ,  0.   ,  0.   ,  0.   ,  0.   ,\n",
       "          0.   ,  0.   ,  0.   ,  0.   ,  0.   ,  0.   ,  0.   ,  0.   ,\n",
       "          0.   ,  0.   ,  0.   ,  0.   ,  0.   ,  0.   ,  0.   ,  0.   ,\n",
       "          0.   ,  0.   ,  0.   ,  0.   ,  0.   ,  0.   ,  0.   ,  0.   ,\n",
       "          0.   ,  0.   ,  0.   ,  0.   ,  0.   ,  0.   ,  0.   ,  0.   ],\n",
       "        [ 0.   ,  0.   ,  0.   ,  0.   ,  0.   ,  0.   ,  0.   ,  0.   ,\n",
       "          0.   ,  0.   ,  0.   ,  0.   ,  0.   ,  0.   ,  0.   ,  0.   ,\n",
       "          0.   ,  0.   ,  0.   ,  0.   ,  0.   ,  0.   ,  0.   ,  0.   ,\n",
       "          0.   ,  0.   ,  0.   ,  0.   ,  0.   ,  0.   ,  0.   ,  0.   ,\n",
       "          0.   ,  0.   ,  0.   ,  0.   ,  0.   ,  0.   ,  0.   ,  0.   ,\n",
       "          0.   ,  0.   ,  0.   ,  0.   ,  0.   ,  0.   ,  0.   ,  0.   ,\n",
       "          0.   ,  0.   ,  0.   ,  0.   ,  0.   ,  0.   ,  0.   ,  0.   ,\n",
       "          0.   ,  0.   ,  0.   ,  0.   ,  0.   ,  0.   ,  0.   ,  0.   ]],\n",
       "       dtype=float32))"
      ]
     },
     "execution_count": 105,
     "metadata": {},
     "output_type": "execute_result"
    }
   ],
   "source": [
    "import copy\n",
    "\n",
    "# cool_list0 = copy.deepcopy(cool_list)\n",
    "cool_list[7]"
   ]
  },
  {
   "cell_type": "code",
   "execution_count": 106,
   "metadata": {},
   "outputs": [
    {
     "data": {
      "text/plain": [
       "('- utter_explain_price_hotel',\n",
       " array([ 0.062,  0.073,  0.097,  0.069,  0.042, -0.029, -0.157, -0.117,\n",
       "         0.161,  0.013, -0.202,  0.105, -0.035,  0.046,  0.101,  0.05 ,\n",
       "        -0.006,  0.03 , -0.126,  0.113], dtype=float32),\n",
       " ('- utter_explain_location_hotel',\n",
       "  0.759085,\n",
       "  array([-0.108,  0.091,  0.172,  0.037, -0.07 ,  0.067, -0.048, -0.115,\n",
       "         -0.554,  0.108,  0.123, -0.324, -0.204,  0.007, -0.015, -0.121,\n",
       "          0.203, -0.217,  0.504,  0.177,  0.559,  0.759,  0.294,  0.363,\n",
       "          0.072,  0.651,  0.268,  0.525,  0.192,  0.128, -0.142,  0.166,\n",
       "         -0.383,  0.165,  0.352,  0.052, -0.021,  0.281,  0.034, -0.078,\n",
       "         -0.186,  0.148,  0.177,  0.103, -0.152, -0.199, -0.   ],\n",
       "        dtype=float32)),\n",
       " array([1., 1., 0., 0., 1.], dtype=float32),\n",
       " array([ 0.015,  0.017, -0.003, -0.009,  0.02 ,  0.017,  0.029, -0.047,\n",
       "        -0.014, -0.002, -0.02 ,  0.015, -0.009,  0.003, -0.013, -0.019,\n",
       "         0.   ,  0.008,  0.019,  0.026], dtype=float32),\n",
       " array([ 0.047,  0.055,  0.1  ,  0.078,  0.022, -0.047, -0.186, -0.069,\n",
       "         0.175,  0.015, -0.182,  0.09 , -0.026,  0.043,  0.115,  0.069,\n",
       "        -0.007,  0.022, -0.145,  0.088], dtype=float32),\n",
       " [array([0.   , 0.   , 0.   , 0.   , 0.   , 0.001, 0.   , 0.002, 0.   ,\n",
       "         0.   , 0.   , 0.   , 0.   , 0.   , 0.   , 0.019, 0.   , 0.   ,\n",
       "         0.   , 0.   , 0.   , 0.   , 0.   , 0.   , 0.   , 0.   , 0.   ,\n",
       "         0.   , 0.   , 0.215, 0.763], dtype=float32),\n",
       "  [],\n",
       "  array([1, 1, 0, 0, 0, 1, 1, 1, 1, 0, 0, 0, 0, 0, 0, 1, 1, 0, 0, 0, 0, 0,\n",
       "         0, 0, 0, 0, 0, 0, 0, 1, 0], dtype=int32)],\n",
       " array([[0.997, 0.001, 0.001, 0.001, 0.   , 0.   , 0.   ],\n",
       "        [0.001, 0.997, 0.   , 0.   , 0.   , 0.001, 0.   ],\n",
       "        [0.998, 0.001, 0.   , 0.   , 0.   , 0.   , 0.   ],\n",
       "        [0.009, 0.002, 0.001, 0.984, 0.001, 0.001, 0.002],\n",
       "        [0.004, 0.   , 0.001, 0.992, 0.001, 0.001, 0.001],\n",
       "        [0.998, 0.   , 0.   , 0.001, 0.   , 0.   , 0.   ],\n",
       "        [0.001, 0.998, 0.   , 0.   , 0.   , 0.   , 0.   ],\n",
       "        [0.999, 0.   , 0.   , 0.   , 0.   , 0.   , 0.   ],\n",
       "        [0.   , 0.999, 0.   , 0.   , 0.   , 0.   , 0.   ],\n",
       "        [0.999, 0.   , 0.   , 0.   , 0.   , 0.   , 0.   ],\n",
       "        [0.004, 0.002, 0.001, 0.002, 0.002, 0.002, 0.988],\n",
       "        [0.001, 0.   , 0.   , 0.001, 0.001, 0.001, 0.996],\n",
       "        [0.998, 0.   , 0.   , 0.   , 0.   , 0.   , 0.   ],\n",
       "        [0.004, 0.002, 0.001, 0.001, 0.986, 0.003, 0.002],\n",
       "        [0.001, 0.001, 0.001, 0.   , 0.995, 0.001, 0.001],\n",
       "        [0.999, 0.   , 0.   , 0.   , 0.   , 0.   , 0.   ],\n",
       "        [0.   , 0.999, 0.   , 0.   , 0.   , 0.   , 0.   ],\n",
       "        [0.999, 0.   , 0.   , 0.   , 0.   , 0.   , 0.   ],\n",
       "        [0.005, 0.002, 0.001, 0.989, 0.001, 0.001, 0.002],\n",
       "        [0.003, 0.   , 0.001, 0.994, 0.001, 0.001, 0.001],\n",
       "        [0.998, 0.   , 0.   , 0.001, 0.   , 0.   , 0.   ],\n",
       "        [0.006, 0.001, 0.001, 0.99 , 0.001, 0.001, 0.001],\n",
       "        [0.003, 0.   , 0.   , 0.995, 0.   , 0.001, 0.001],\n",
       "        [0.998, 0.   , 0.   , 0.001, 0.   , 0.   , 0.   ],\n",
       "        [0.006, 0.001, 0.001, 0.99 , 0.001, 0.001, 0.001],\n",
       "        [0.003, 0.   , 0.   , 0.995, 0.   , 0.001, 0.001],\n",
       "        [0.998, 0.   , 0.   , 0.001, 0.   , 0.   , 0.   ],\n",
       "        [0.006, 0.001, 0.001, 0.99 , 0.001, 0.001, 0.001],\n",
       "        [0.003, 0.   , 0.   , 0.995, 0.   , 0.001, 0.001],\n",
       "        [0.998, 0.   , 0.   , 0.001, 0.   , 0.   , 0.   ],\n",
       "        [0.007, 0.003, 0.002, 0.004, 0.977, 0.005, 0.003]], dtype=float32),\n",
       " array([[ 0.007,  0.104, -0.057,  0.267, -0.217, -0.126,  0.049,  0.029,\n",
       "         -1.002,  0.116, -0.073, -0.343, -1.019,  0.087, -0.312, -1.5  ,\n",
       "          0.077,  0.23 ,  0.305, -0.164, -0.183,  0.009,  0.06 , -0.094,\n",
       "          0.234, -0.074, -0.981,  0.416, -0.351, -0.142,  0.48 ,  0.868,\n",
       "         -0.224, -1.085,  0.335,  0.1  , -0.405,  0.145,  0.302,  0.632,\n",
       "          0.649,  0.554, -0.724,  0.012, -0.098,  0.023,  0.509, -0.273,\n",
       "         -0.08 , -0.153, -0.083, -0.388, -0.527, -0.348, -0.93 ,  0.032,\n",
       "         -0.159, -0.176,  0.785, -0.031, -0.134,  1.863,  0.323,  1.014],\n",
       "        [-0.118, -0.226, -0.238,  0.572,  1.22 ,  0.61 ,  0.111,  0.178,\n",
       "         -0.154, -0.129, -0.33 , -0.069,  0.124,  0.921,  0.02 , -0.086,\n",
       "         -0.007, -1.104,  0.019,  0.197,  0.77 ,  0.281,  0.038, -0.128,\n",
       "          0.369,  0.2  ,  0.15 , -0.008, -0.027, -0.562,  0.378, -0.057,\n",
       "         -0.128, -0.064,  0.195, -0.044,  0.17 ,  0.181, -0.076,  0.04 ,\n",
       "         -0.408, -0.199, -0.23 , -0.237,  0.649,  0.014,  0.347,  0.114,\n",
       "         -0.168, -0.409,  0.08 ,  0.321, -0.217,  0.136,  0.273, -0.793,\n",
       "          0.206,  0.462,  0.285,  0.033, -0.221, -0.076, -0.044,  0.474],\n",
       "        [ 0.   ,  0.   ,  0.   ,  0.   ,  0.   ,  0.   ,  0.   ,  0.   ,\n",
       "          0.   ,  0.   ,  0.   ,  0.   ,  0.   ,  0.   ,  0.   ,  0.   ,\n",
       "          0.   ,  0.   ,  0.   ,  0.   ,  0.   ,  0.   ,  0.   ,  0.   ,\n",
       "          0.   ,  0.   ,  0.   ,  0.   ,  0.   ,  0.   ,  0.   ,  0.   ,\n",
       "          0.   ,  0.   ,  0.   ,  0.   ,  0.   ,  0.   ,  0.   ,  0.   ,\n",
       "          0.   ,  0.   ,  0.   ,  0.   ,  0.   ,  0.   ,  0.   ,  0.   ,\n",
       "          0.   ,  0.   ,  0.   ,  0.   ,  0.   ,  0.   ,  0.   ,  0.   ,\n",
       "          0.   ,  0.   ,  0.   ,  0.   ,  0.   ,  0.   ,  0.   ,  0.   ],\n",
       "        [ 0.   ,  0.   ,  0.   ,  0.   ,  0.   ,  0.   ,  0.   ,  0.   ,\n",
       "          0.   ,  0.   ,  0.   ,  0.   ,  0.   ,  0.   ,  0.   ,  0.   ,\n",
       "          0.   ,  0.   ,  0.   ,  0.   ,  0.   ,  0.   ,  0.   ,  0.   ,\n",
       "          0.   ,  0.   ,  0.   ,  0.   ,  0.   ,  0.   ,  0.   ,  0.   ,\n",
       "          0.   ,  0.   ,  0.   ,  0.   ,  0.   ,  0.   ,  0.   ,  0.   ,\n",
       "          0.   ,  0.   ,  0.   ,  0.   ,  0.   ,  0.   ,  0.   ,  0.   ,\n",
       "          0.   ,  0.   ,  0.   ,  0.   ,  0.   ,  0.   ,  0.   ,  0.   ,\n",
       "          0.   ,  0.   ,  0.   ,  0.   ,  0.   ,  0.   ,  0.   ,  0.   ],\n",
       "        [ 0.208,  0.027, -0.024, -0.635, -0.44 ,  0.081,  0.095, -0.052,\n",
       "          0.106, -0.387, -0.323,  0.174, -0.261,  0.335, -0.366,  0.045,\n",
       "          0.196,  0.049, -0.017,  0.087,  0.014,  0.03 , -0.021, -0.498,\n",
       "         -0.028,  0.03 , -0.057,  0.13 ,  0.427,  0.302, -0.405, -0.148,\n",
       "         -0.05 , -0.026,  0.153,  0.465,  0.632,  0.197,  0.199,  0.036,\n",
       "         -0.297, -0.364, -0.121, -0.087,  0.193, -0.246,  0.081, -0.177,\n",
       "          0.119, -0.096,  0.011,  0.005,  0.451, -0.206, -0.035,  0.342,\n",
       "          0.084, -0.05 , -0.041, -0.229, -0.246, -0.33 , -0.192,  0.096],\n",
       "        [ 0.   ,  0.   ,  0.   ,  0.   ,  0.   ,  0.   ,  0.   ,  0.   ,\n",
       "          0.   ,  0.   ,  0.   ,  0.   ,  0.   ,  0.   ,  0.   ,  0.   ,\n",
       "          0.   ,  0.   ,  0.   ,  0.   ,  0.   ,  0.   ,  0.   ,  0.   ,\n",
       "          0.   ,  0.   ,  0.   ,  0.   ,  0.   ,  0.   ,  0.   ,  0.   ,\n",
       "          0.   ,  0.   ,  0.   ,  0.   ,  0.   ,  0.   ,  0.   ,  0.   ,\n",
       "          0.   ,  0.   ,  0.   ,  0.   ,  0.   ,  0.   ,  0.   ,  0.   ,\n",
       "          0.   ,  0.   ,  0.   ,  0.   ,  0.   ,  0.   ,  0.   ,  0.   ,\n",
       "          0.   ,  0.   ,  0.   ,  0.   ,  0.   ,  0.   ,  0.   ,  0.   ],\n",
       "        [ 0.   ,  0.   ,  0.   ,  0.   ,  0.   ,  0.   ,  0.   ,  0.   ,\n",
       "          0.   ,  0.   ,  0.   ,  0.   ,  0.   ,  0.   ,  0.   ,  0.   ,\n",
       "          0.   ,  0.   ,  0.   ,  0.   ,  0.   ,  0.   ,  0.   ,  0.   ,\n",
       "          0.   ,  0.   ,  0.   ,  0.   ,  0.   ,  0.   ,  0.   ,  0.   ,\n",
       "          0.   ,  0.   ,  0.   ,  0.   ,  0.   ,  0.   ,  0.   ,  0.   ,\n",
       "          0.   ,  0.   ,  0.   ,  0.   ,  0.   ,  0.   ,  0.   ,  0.   ,\n",
       "          0.   ,  0.   ,  0.   ,  0.   ,  0.   ,  0.   ,  0.   ,  0.   ,\n",
       "          0.   ,  0.   ,  0.   ,  0.   ,  0.   ,  0.   ,  0.   ,  0.   ]],\n",
       "       dtype=float32))"
      ]
     },
     "execution_count": 106,
     "metadata": {},
     "output_type": "execute_result"
    }
   ],
   "source": [
    "# cool_list1= copy.deepcopy(cool_list)\n",
    "cool_list[18]"
   ]
  },
  {
   "cell_type": "code",
   "execution_count": 58,
   "metadata": {},
   "outputs": [],
   "source": [
    "# import matplotlib.pyplot as plt\n",
    "# plt.plot(cool_list[15][-2], marker='x')"
   ]
  },
  {
   "cell_type": "code",
   "execution_count": 13,
   "metadata": {},
   "outputs": [],
   "source": [
    "# plt.plot(cool_list[19][-2], marker='x')"
   ]
  },
  {
   "cell_type": "code",
   "execution_count": null,
   "metadata": {},
   "outputs": [],
   "source": []
  },
  {
   "cell_type": "code",
   "execution_count": null,
   "metadata": {},
   "outputs": [],
   "source": []
  },
  {
   "cell_type": "code",
   "execution_count": 33,
   "metadata": {},
   "outputs": [],
   "source": [
    "from sklearn.decomposition import PCA"
   ]
  },
  {
   "cell_type": "code",
   "execution_count": 34,
   "metadata": {},
   "outputs": [],
   "source": [
    "pca = PCA(n_components=2)\n",
    "X = pca.fit_transform([ting[1] for ting in cool_list])"
   ]
  },
  {
   "cell_type": "code",
   "execution_count": 35,
   "metadata": {},
   "outputs": [],
   "source": [
    "from bokeh.plotting import figure, show\n",
    "import matplotlib.pyplot as plt"
   ]
  },
  {
   "cell_type": "code",
   "execution_count": 36,
   "metadata": {},
   "outputs": [],
   "source": [
    "embed_dim = cool_list[0][1].shape[0]\n"
   ]
  },
  {
   "cell_type": "code",
   "execution_count": 37,
   "metadata": {},
   "outputs": [
    {
     "data": {
      "text/html": [
       "<div style=\"display: table;\"><div style=\"display: table-row;\"><div style=\"display: table-cell;\"><b title=\"bokeh.models.renderers.GlyphRenderer\">GlyphRenderer</b>(</div><div style=\"display: table-cell;\">id&nbsp;=&nbsp;'03e941ab-d215-4f7d-8f32-f819af542619', <span id=\"84d47858-9966-44f8-8df6-0fc725fc8a10\" style=\"cursor: pointer;\">&hellip;)</span></div></div><div class=\"900fc8f8-d78a-4838-b31c-8d0742bed262\" style=\"display: none;\"><div style=\"display: table-cell;\"></div><div style=\"display: table-cell;\">data_source&nbsp;=&nbsp;ColumnDataSource(id='beef3413-9a47-45e0-acfe-01dc7eee71b0', ...),</div></div><div class=\"900fc8f8-d78a-4838-b31c-8d0742bed262\" style=\"display: none;\"><div style=\"display: table-cell;\"></div><div style=\"display: table-cell;\">glyph&nbsp;=&nbsp;Circle(id='d891f89a-ff4f-406b-83b7-0217e97184d3', ...),</div></div><div class=\"900fc8f8-d78a-4838-b31c-8d0742bed262\" style=\"display: none;\"><div style=\"display: table-cell;\"></div><div style=\"display: table-cell;\">hover_glyph&nbsp;=&nbsp;None,</div></div><div class=\"900fc8f8-d78a-4838-b31c-8d0742bed262\" style=\"display: none;\"><div style=\"display: table-cell;\"></div><div style=\"display: table-cell;\">js_event_callbacks&nbsp;=&nbsp;{},</div></div><div class=\"900fc8f8-d78a-4838-b31c-8d0742bed262\" style=\"display: none;\"><div style=\"display: table-cell;\"></div><div style=\"display: table-cell;\">js_property_callbacks&nbsp;=&nbsp;{},</div></div><div class=\"900fc8f8-d78a-4838-b31c-8d0742bed262\" style=\"display: none;\"><div style=\"display: table-cell;\"></div><div style=\"display: table-cell;\">level&nbsp;=&nbsp;'glyph',</div></div><div class=\"900fc8f8-d78a-4838-b31c-8d0742bed262\" style=\"display: none;\"><div style=\"display: table-cell;\"></div><div style=\"display: table-cell;\">muted&nbsp;=&nbsp;False,</div></div><div class=\"900fc8f8-d78a-4838-b31c-8d0742bed262\" style=\"display: none;\"><div style=\"display: table-cell;\"></div><div style=\"display: table-cell;\">muted_glyph&nbsp;=&nbsp;None,</div></div><div class=\"900fc8f8-d78a-4838-b31c-8d0742bed262\" style=\"display: none;\"><div style=\"display: table-cell;\"></div><div style=\"display: table-cell;\">name&nbsp;=&nbsp;None,</div></div><div class=\"900fc8f8-d78a-4838-b31c-8d0742bed262\" style=\"display: none;\"><div style=\"display: table-cell;\"></div><div style=\"display: table-cell;\">nonselection_glyph&nbsp;=&nbsp;Circle(id='5cf41f76-8f6a-4eec-9ad1-dd6119e56c4d', ...),</div></div><div class=\"900fc8f8-d78a-4838-b31c-8d0742bed262\" style=\"display: none;\"><div style=\"display: table-cell;\"></div><div style=\"display: table-cell;\">selection_glyph&nbsp;=&nbsp;None,</div></div><div class=\"900fc8f8-d78a-4838-b31c-8d0742bed262\" style=\"display: none;\"><div style=\"display: table-cell;\"></div><div style=\"display: table-cell;\">subscribed_events&nbsp;=&nbsp;[],</div></div><div class=\"900fc8f8-d78a-4838-b31c-8d0742bed262\" style=\"display: none;\"><div style=\"display: table-cell;\"></div><div style=\"display: table-cell;\">tags&nbsp;=&nbsp;[],</div></div><div class=\"900fc8f8-d78a-4838-b31c-8d0742bed262\" style=\"display: none;\"><div style=\"display: table-cell;\"></div><div style=\"display: table-cell;\">view&nbsp;=&nbsp;CDSView(id='c4ea1e89-a805-419e-89ce-beb42e914fea', ...),</div></div><div class=\"900fc8f8-d78a-4838-b31c-8d0742bed262\" style=\"display: none;\"><div style=\"display: table-cell;\"></div><div style=\"display: table-cell;\">visible&nbsp;=&nbsp;True,</div></div><div class=\"900fc8f8-d78a-4838-b31c-8d0742bed262\" style=\"display: none;\"><div style=\"display: table-cell;\"></div><div style=\"display: table-cell;\">x_range_name&nbsp;=&nbsp;'default',</div></div><div class=\"900fc8f8-d78a-4838-b31c-8d0742bed262\" style=\"display: none;\"><div style=\"display: table-cell;\"></div><div style=\"display: table-cell;\">y_range_name&nbsp;=&nbsp;'default')</div></div></div>\n",
       "<script>\n",
       "(function() {\n",
       "  var expanded = false;\n",
       "  var ellipsis = document.getElementById(\"84d47858-9966-44f8-8df6-0fc725fc8a10\");\n",
       "  ellipsis.addEventListener(\"click\", function() {\n",
       "    var rows = document.getElementsByClassName(\"900fc8f8-d78a-4838-b31c-8d0742bed262\");\n",
       "    for (var i = 0; i < rows.length; i++) {\n",
       "      var el = rows[i];\n",
       "      el.style.display = expanded ? \"none\" : \"table-row\";\n",
       "    }\n",
       "    ellipsis.innerHTML = expanded ? \"&hellip;)\" : \"&lsaquo;&lsaquo;&lsaquo;\";\n",
       "    expanded = !expanded;\n",
       "  });\n",
       "})();\n",
       "</script>\n"
      ],
      "text/plain": [
       "bokeh.models.renderers.GlyphRenderer(\n",
       "    id='03e941ab-d215-4f7d-8f32-f819af542619',\n",
       "    data_source=bokeh.models.sources.ColumnDataSource(\n",
       "        id='beef3413-9a47-45e0-acfe-01dc7eee71b0',\n",
       "        callback=None,\n",
       "        data={},\n",
       "        js_event_callbacks={},\n",
       "        js_property_callbacks={},\n",
       "        name=None,\n",
       "        selected=bokeh.models.selections.Selection(\n",
       "            id='4758660c-38fd-48b3-abce-2be50a0c6f3c',\n",
       "            indices=[],\n",
       "            js_event_callbacks={},\n",
       "            js_property_callbacks={},\n",
       "            line_indices=[],\n",
       "            multiline_indices={},\n",
       "            name=None,\n",
       "            subscribed_events=[],\n",
       "            tags=[]),\n",
       "        selection_policy=bokeh.models.selections.UnionRenderers(\n",
       "            id='ea80e412-24a1-49f5-910e-7e419d7a3e8b',\n",
       "            js_event_callbacks={},\n",
       "            js_property_callbacks={},\n",
       "            name=None,\n",
       "            subscribed_events=[],\n",
       "            tags=[]),\n",
       "        subscribed_events=[],\n",
       "        tags=[]),\n",
       "    glyph=bokeh.models.markers.Circle(\n",
       "        id='d891f89a-ff4f-406b-83b7-0217e97184d3',\n",
       "        angle={'value': 0.0, 'units': 'rad'},\n",
       "        fill_alpha={'value': 1.0},\n",
       "        fill_color={'value': 'red'},\n",
       "        js_event_callbacks={},\n",
       "        js_property_callbacks={},\n",
       "        line_alpha={'value': 1.0},\n",
       "        line_cap='butt',\n",
       "        line_color={'value': 'red'},\n",
       "        line_dash=[],\n",
       "        line_dash_offset=0,\n",
       "        line_join='bevel',\n",
       "        line_width={'value': 1},\n",
       "        name=None,\n",
       "        radius=None,\n",
       "        radius_dimension='x',\n",
       "        size={'value': 10, 'units': 'screen'},\n",
       "        subscribed_events=[],\n",
       "        tags=[],\n",
       "        x={'value': 0.04185751513638254},\n",
       "        y={'value': 0.561837822186348}),\n",
       "    hover_glyph=None,\n",
       "    js_event_callbacks={},\n",
       "    js_property_callbacks={},\n",
       "    level='glyph',\n",
       "    muted=False,\n",
       "    muted_glyph=None,\n",
       "    name=None,\n",
       "    nonselection_glyph=bokeh.models.markers.Circle(\n",
       "        id='5cf41f76-8f6a-4eec-9ad1-dd6119e56c4d',\n",
       "        angle={'value': 0.0, 'units': 'rad'},\n",
       "        fill_alpha={'value': 0.1},\n",
       "        fill_color={'value': '#1f77b4'},\n",
       "        js_event_callbacks={},\n",
       "        js_property_callbacks={},\n",
       "        line_alpha={'value': 0.1},\n",
       "        line_cap='butt',\n",
       "        line_color={'value': '#1f77b4'},\n",
       "        line_dash=[],\n",
       "        line_dash_offset=0,\n",
       "        line_join='bevel',\n",
       "        line_width={'value': 1},\n",
       "        name=None,\n",
       "        radius=None,\n",
       "        radius_dimension='x',\n",
       "        size={'value': 10, 'units': 'screen'},\n",
       "        subscribed_events=[],\n",
       "        tags=[],\n",
       "        x={'value': 0.04185751513638254},\n",
       "        y={'value': 0.561837822186348}),\n",
       "    selection_glyph=None,\n",
       "    subscribed_events=[],\n",
       "    tags=[],\n",
       "    view=bokeh.models.sources.CDSView(\n",
       "        id='c4ea1e89-a805-419e-89ce-beb42e914fea',\n",
       "        filters=[],\n",
       "        js_event_callbacks={},\n",
       "        js_property_callbacks={},\n",
       "        name=None,\n",
       "        source=bokeh.models.sources.ColumnDataSource(\n",
       "            id='beef3413-9a47-45e0-acfe-01dc7eee71b0',\n",
       "            callback=None,\n",
       "            data={},\n",
       "            js_event_callbacks={},\n",
       "            js_property_callbacks={},\n",
       "            name=None,\n",
       "            selected=bokeh.models.selections.Selection(\n",
       "                id='4758660c-38fd-48b3-abce-2be50a0c6f3c',\n",
       "                indices=[],\n",
       "                js_event_callbacks={},\n",
       "                js_property_callbacks={},\n",
       "                line_indices=[],\n",
       "                multiline_indices={},\n",
       "                name=None,\n",
       "                subscribed_events=[],\n",
       "                tags=[]),\n",
       "            selection_policy=bokeh.models.selections.UnionRenderers(\n",
       "                id='ea80e412-24a1-49f5-910e-7e419d7a3e8b',\n",
       "                js_event_callbacks={},\n",
       "                js_property_callbacks={},\n",
       "                name=None,\n",
       "                subscribed_events=[],\n",
       "                tags=[]),\n",
       "            subscribed_events=[],\n",
       "            tags=[]),\n",
       "        subscribed_events=[],\n",
       "        tags=[]),\n",
       "    visible=True,\n",
       "    x_range_name='default',\n",
       "    y_range_name='default')"
      ]
     },
     "execution_count": 37,
     "metadata": {},
     "output_type": "execute_result"
    }
   ],
   "source": [
    "from bokeh.plotting import figure, output_file, show, ColumnDataSource\n",
    "from bokeh.models import HoverTool, Arrow, OpenHead\n",
    "\n",
    "hover = HoverTool(tooltips=[(\"true action\",\"@desc\"), (\"prediction\", \"@pred\"),\n",
    "                            (\"not_skip_gate\", \"@not_skip\")],names=['circle'])\n",
    "p = figure( tools=[hover])\n",
    "\n",
    "for i in range(1, len(X)):\n",
    "    p.add_layout(Arrow(end=OpenHead(line_color=\"firebrick\", size=10, line_width=2),\n",
    "                       x_start=X[i-1,0], y_start=X[i-1,1],\n",
    "                       x_end=X[i,0], y_end=X[i,1], line_color='gray'))\n",
    "\n",
    "source = ColumnDataSource(data=dict(\n",
    "    x=X[:,0],\n",
    "    y=X[:,1],\n",
    "    desc=[ting[0] for ting in cool_list],\n",
    "    pred = [ting[2][0] for ting in cool_list],\n",
    "    not_skip = [ting[3][-1] for ting in cool_list]\n",
    "))\n",
    "p.circle('x','y', source=source, size=10, name='circle')\n",
    "# p.line(X[:,0], X[:,1])\n",
    "\n",
    "X1 = pca.transform([ting[4] for ting in cool_list])\n",
    "source = ColumnDataSource(data=dict(\n",
    "    x=X1[:,0],\n",
    "    y=X1[:,1],\n",
    "    desc=[ting[0] for ting in cool_list],\n",
    "    pred = [ting[2][0] for ting in cool_list],\n",
    "    not_skip = [ting[3][-1] for ting in cool_list]\n",
    "))\n",
    "p.circle('x','y', source=source, size=5, color='green', name='circle')\n",
    "\n",
    "X2 = pca.transform([ting[5] for ting in cool_list])\n",
    "source = ColumnDataSource(data=dict(\n",
    "    x=X2[:,0],\n",
    "    y=X2[:,1],\n",
    "    desc=[ting[0] for ting in cool_list],\n",
    "    pred = [ting[2][0] for ting in cool_list],\n",
    "    not_skip = [ting[3][-1] for ting in cool_list]\n",
    "))\n",
    "p.circle('x','y', source=source, size=5, color='red', name='circle')\n",
    "\n",
    "x = pca.transform(np.zeros((1,embed_dim)))\n",
    "p.circle(x[0,0], x[0,1], size=5, color='magenta')\n",
    "p.circle(X[0,0], X[0,1], size=10, color='green')\n",
    "p.circle(X[-1,0], X[-1,1], size=10, color='red')\n"
   ]
  },
  {
   "cell_type": "code",
   "execution_count": 38,
   "metadata": {
    "scrolled": false
   },
   "outputs": [
    {
     "data": {
      "text/html": [
       "\n",
       "\n",
       "\n",
       "\n",
       "\n",
       "\n",
       "  <div class=\"bk-root\" id=\"d8132e82-691e-47a4-922b-78b820c0d2cb\"></div>\n"
      ]
     },
     "metadata": {},
     "output_type": "display_data"
    },
    {
     "data": {
      "application/javascript": [
       "(function(root) {\n",
       "  function embed_document(root) {\n",
       "    \n",
       "  var docs_json = {\"a3920351-b8b8-41d3-a3b7-bd32eada60fb\":{\"roots\":{\"references\":[{\"attributes\":{\"fill_alpha\":{\"value\":0.1},\"fill_color\":{\"value\":\"#1f77b4\"},\"line_alpha\":{\"value\":0.1},\"line_color\":{\"value\":\"#1f77b4\"},\"size\":{\"units\":\"screen\",\"value\":10},\"x\":{\"field\":\"x\"},\"y\":{\"field\":\"y\"}},\"id\":\"5625e23e-fe5f-4ea9-8051-3bb7f0a2d7b3\",\"type\":\"Circle\"},{\"attributes\":{\"line_color\":{\"value\":\"firebrick\"},\"line_width\":{\"value\":2},\"plot\":null,\"size\":10},\"id\":\"ac6f4d32-18b2-41c1-a195-76bbc88190cb\",\"type\":\"OpenHead\"},{\"attributes\":{\"line_color\":{\"value\":\"firebrick\"},\"line_width\":{\"value\":2},\"plot\":null,\"size\":10},\"id\":\"d8113910-33f8-4861-9b3c-54db34d4dde6\",\"type\":\"OpenHead\"},{\"attributes\":{\"end\":{\"id\":\"ac6f4d32-18b2-41c1-a195-76bbc88190cb\",\"type\":\"OpenHead\"},\"line_color\":{\"value\":\"gray\"},\"plot\":{\"id\":\"560ae03e-22f8-4611-9ce4-01b9eb8c7cb9\",\"subtype\":\"Figure\",\"type\":\"Plot\"},\"source\":null,\"start\":null,\"x_end\":{\"value\":-0.7143760480605462},\"x_start\":{\"value\":0.254393107171058},\"y_end\":{\"value\":0.0168970228148727},\"y_start\":{\"value\":0.5804769092503469}},\"id\":\"54cf6df9-73e5-4c22-8582-105c72d5ac42\",\"type\":\"Arrow\"},{\"attributes\":{\"line_color\":{\"value\":\"firebrick\"},\"line_width\":{\"value\":2},\"plot\":null,\"size\":10},\"id\":\"25532a25-01e3-4f62-9355-43e13d0fb76e\",\"type\":\"OpenHead\"},{\"attributes\":{\"end\":{\"id\":\"d8113910-33f8-4861-9b3c-54db34d4dde6\",\"type\":\"OpenHead\"},\"line_color\":{\"value\":\"gray\"},\"plot\":{\"id\":\"560ae03e-22f8-4611-9ce4-01b9eb8c7cb9\",\"subtype\":\"Figure\",\"type\":\"Plot\"},\"source\":null,\"start\":null,\"x_end\":{\"value\":0.13209520179479248},\"x_start\":{\"value\":-0.7143760480605462},\"y_end\":{\"value\":0.15855531443016244},\"y_start\":{\"value\":0.0168970228148727}},\"id\":\"cddc82bf-e5a0-43f9-9879-8473a2d26f09\",\"type\":\"Arrow\"},{\"attributes\":{\"fill_color\":{\"value\":\"#1f77b4\"},\"line_color\":{\"value\":\"#1f77b4\"},\"size\":{\"units\":\"screen\",\"value\":10},\"x\":{\"field\":\"x\"},\"y\":{\"field\":\"y\"}},\"id\":\"424ca558-ebac-42ba-b22b-b8b3461c1c25\",\"type\":\"Circle\"},{\"attributes\":{\"end\":{\"id\":\"25532a25-01e3-4f62-9355-43e13d0fb76e\",\"type\":\"OpenHead\"},\"line_color\":{\"value\":\"gray\"},\"plot\":{\"id\":\"560ae03e-22f8-4611-9ce4-01b9eb8c7cb9\",\"subtype\":\"Figure\",\"type\":\"Plot\"},\"source\":null,\"start\":null,\"x_end\":{\"value\":0.04185751513638254},\"x_start\":{\"value\":0.13209520179479248},\"y_end\":{\"value\":0.561837822186348},\"y_start\":{\"value\":0.15855531443016244}},\"id\":\"1fa0c308-55b5-4891-87ed-4000faf37974\",\"type\":\"Arrow\"},{\"attributes\":{\"data_source\":{\"id\":\"3111f8a8-f1e7-4730-aede-12ab84121ddd\",\"type\":\"ColumnDataSource\"},\"glyph\":{\"id\":\"424ca558-ebac-42ba-b22b-b8b3461c1c25\",\"type\":\"Circle\"},\"hover_glyph\":null,\"muted_glyph\":null,\"name\":\"circle\",\"nonselection_glyph\":{\"id\":\"5625e23e-fe5f-4ea9-8051-3bb7f0a2d7b3\",\"type\":\"Circle\"},\"selection_glyph\":null,\"view\":{\"id\":\"3c479fa3-940f-4e2d-9cbb-8d181c5afa09\",\"type\":\"CDSView\"}},\"id\":\"612472e2-8ab5-478a-b9fa-6bdb4e7ecc87\",\"type\":\"GlyphRenderer\"},{\"attributes\":{\"source\":{\"id\":\"3111f8a8-f1e7-4730-aede-12ab84121ddd\",\"type\":\"ColumnDataSource\"}},\"id\":\"3c479fa3-940f-4e2d-9cbb-8d181c5afa09\",\"type\":\"CDSView\"},{\"attributes\":{\"fill_color\":{\"value\":\"red\"},\"line_color\":{\"value\":\"red\"},\"size\":{\"units\":\"screen\",\"value\":5},\"x\":{\"field\":\"x\"},\"y\":{\"field\":\"y\"}},\"id\":\"879e78f3-b366-4f90-bc71-a4a7e90c32a2\",\"type\":\"Circle\"},{\"attributes\":{\"source\":{\"id\":\"bb15c7c2-9ecd-471c-85b1-f72fc25f7b65\",\"type\":\"ColumnDataSource\"}},\"id\":\"6ee0dab6-1983-4734-93d8-ee589c412777\",\"type\":\"CDSView\"},{\"attributes\":{\"data_source\":{\"id\":\"bb15c7c2-9ecd-471c-85b1-f72fc25f7b65\",\"type\":\"ColumnDataSource\"},\"glyph\":{\"id\":\"c25d1d99-e828-4af9-ae5e-86f106ec8428\",\"type\":\"Circle\"},\"hover_glyph\":null,\"muted_glyph\":null,\"name\":\"circle\",\"nonselection_glyph\":{\"id\":\"10632f3d-4534-40c8-a364-1aa9e110fd2a\",\"type\":\"Circle\"},\"selection_glyph\":null,\"view\":{\"id\":\"6ee0dab6-1983-4734-93d8-ee589c412777\",\"type\":\"CDSView\"}},\"id\":\"728c60d9-1765-44a0-bf61-395a7af451bf\",\"type\":\"GlyphRenderer\"},{\"attributes\":{\"callback\":null,\"data\":{\"desc\":[\"- utter_ask_details\",\"- utter_chitchat\",\"- utter_ask_details\",\"- utter_ask_startdate\",\"- utter_ask_location\",\"- utter_correct_startdate_hotel\",\"- utter_ask_location\",\"- utter_explain_location_hotel\",\"- utter_ask_location\",\"- utter_ask_price\",\"- utter_chitchat\",\"- utter_ask_price\",\"- utter_chitchat\",\"- utter_ask_price\",\"- utter_chitchat\",\"- utter_ask_price\",\"- utter_chitchat\",\"- utter_ask_price\",\"- utter_explain_price_hotel\",\"- utter_ask_price\",\"- utter_ask_people\",\"- utter_filled_slots\",\"- action_search_hotel\",\"- utter_suggest_hotel\",\"- utter_chitchat\",\"- utter_suggest_hotel\",\"- utter_happy\"],\"not_skip\":[1.0,1.0,0.0,1.0,1.0,1.0,0.0,1.0,0.0,1.0,1.0,0.0,1.0,0.0,1.0,0.0,1.0,0.0,1.0,0.0,1.0,1.0,1.0,1.0,1.0,0.0,1.0],\"pred\":[\"- utter_ask_details\",\"- utter_chitchat\",\"- utter_ask_details\",\"- utter_ask_startdate\",\"- utter_ask_location\",\"- utter_correct_startdate_hotel\",\"- utter_ask_location\",\"- utter_explain_location_hotel\",\"- utter_ask_location\",\"- utter_ask_price\",\"- utter_chitchat\",\"- utter_ask_price\",\"- utter_chitchat\",\"- utter_ask_price\",\"- utter_chitchat\",\"- utter_ask_price\",\"- utter_chitchat\",\"- utter_ask_price\",\"- utter_explain_people_hotel\",\"- utter_ask_price\",\"- utter_ask_people\",\"- utter_filled_slots\",\"- action_search_hotel\",\"- utter_suggest_hotel\",\"- utter_chitchat\",\"- utter_suggest_hotel\",\"- utter_happy\"],\"x\":{\"__ndarray__\":\"FctSB3JBxz994OIpHUbHP6vpt23Iuc0/6Un0pt5dxz/IxVyP9ITHPzr0A2qBlMc/HfoEc5QIzD+e3LDNiynIP4jtE3v0Fcw/bgPa6S/txz/JXrxWFBjIP6cQL3fpNMk/lu1EWJwnyD+Pyb0jTjjJP198IZ42KMg/BDS0H3I4yT/AEGofTCjIP4kKNHh2OMk/KJ/yAnoAyD+Nn69LOsbJP0BlPZBAkcc/HwDMKLV+xz84s9fNjwXKP2kmYAT499A/gbqRT76V0j+eZrffvaPKP8c6lE/uidU/\",\"dtype\":\"float64\",\"shape\":[27]},\"y\":{\"__ndarray__\":\"XA6auEFSs7/0BbMWyWuzv6DfXnHPWcu/5NF0irDts7/uFQzDSYS1vzdb8BCP6LG/CSjDtYVw1D/QlL1BBhWQv3u9FUjqi9U/bzEvsVJ7k78b/9o77c20vykhd8jmbsO/AIRwUBLRtL9ytMUmVBbDv8k1eRzJzbS/gW5DrYgTw79fkvxEZ820v8wNrVk1E8O/CVa/GT3stL/7oGFZOAu1v2f+VA56bba/wJTeRQIjtL9lD4kkTo6wv58DMD27Yqu/czuzlDrglb8t4tiT3t+7PwuMbk2KB6G/\",\"dtype\":\"float64\",\"shape\":[27]}},\"selected\":{\"id\":\"9a6cd947-bc9a-4905-a09e-b552a653e382\",\"type\":\"Selection\"},\"selection_policy\":{\"id\":\"ef55ec0d-f7fe-450a-b43f-de9feda86dd6\",\"type\":\"UnionRenderers\"}},\"id\":\"bb15c7c2-9ecd-471c-85b1-f72fc25f7b65\",\"type\":\"ColumnDataSource\"},{\"attributes\":{\"fill_alpha\":{\"value\":0.1},\"fill_color\":{\"value\":\"#1f77b4\"},\"line_alpha\":{\"value\":0.1},\"line_color\":{\"value\":\"#1f77b4\"},\"size\":{\"units\":\"screen\",\"value\":5},\"x\":{\"field\":\"x\"},\"y\":{\"field\":\"y\"}},\"id\":\"10632f3d-4534-40c8-a364-1aa9e110fd2a\",\"type\":\"Circle\"},{\"attributes\":{\"below\":[{\"id\":\"679330cf-9866-4e6e-8e84-fa023e0b402e\",\"type\":\"LinearAxis\"}],\"left\":[{\"id\":\"d5c81c98-d618-4659-bd77-f19509182d03\",\"type\":\"LinearAxis\"}],\"renderers\":[{\"id\":\"679330cf-9866-4e6e-8e84-fa023e0b402e\",\"type\":\"LinearAxis\"},{\"id\":\"0605d74d-42c9-4806-bfe2-3e33b5d1670f\",\"type\":\"Grid\"},{\"id\":\"d5c81c98-d618-4659-bd77-f19509182d03\",\"type\":\"LinearAxis\"},{\"id\":\"9ce4c999-a2de-47ec-aff5-44443601e289\",\"type\":\"Grid\"},{\"id\":\"a26d2557-02e8-45ac-a5bc-c053e93ba268\",\"type\":\"Arrow\"},{\"id\":\"095f73af-9d37-4693-8cba-a3f18eec8b12\",\"type\":\"Arrow\"},{\"id\":\"6cc7c9c5-8793-41da-9c54-e1f308cf67ce\",\"type\":\"Arrow\"},{\"id\":\"d8d1f451-a6d3-4805-815a-6000d53b449f\",\"type\":\"Arrow\"},{\"id\":\"7172e20b-c7d3-46b7-86fa-7d0ca4565ea1\",\"type\":\"Arrow\"},{\"id\":\"140c04d4-9dda-47c6-9c82-d5be5611fbc2\",\"type\":\"Arrow\"},{\"id\":\"1e0b0559-255a-43cf-a138-9dc2eed82918\",\"type\":\"Arrow\"},{\"id\":\"cdab602e-8f51-462f-9a0e-fed2892cdca8\",\"type\":\"Arrow\"},{\"id\":\"e825d324-5dd3-4c7d-bf17-a0125421c7bc\",\"type\":\"Arrow\"},{\"id\":\"d8885ec8-12e1-4a5d-a366-9830a19600a2\",\"type\":\"Arrow\"},{\"id\":\"5880b4ac-5043-4d44-b247-99eb592cc66c\",\"type\":\"Arrow\"},{\"id\":\"f062ecfa-2cf9-4fd7-8ab4-613b938a9c27\",\"type\":\"Arrow\"},{\"id\":\"2813f89c-02ce-47f8-96c3-ff6bff366c2d\",\"type\":\"Arrow\"},{\"id\":\"2739369a-fe71-40cf-bceb-23b6c9cbcae9\",\"type\":\"Arrow\"},{\"id\":\"aae1d814-269b-41bf-ba3e-baaa7b66c8b9\",\"type\":\"Arrow\"},{\"id\":\"77a17ce7-1f97-47e2-8986-57808e2b8987\",\"type\":\"Arrow\"},{\"id\":\"7c228d2b-8870-4847-b6d7-0733c27b19d8\",\"type\":\"Arrow\"},{\"id\":\"f20be70e-98c0-4190-8dce-43dc91499c07\",\"type\":\"Arrow\"},{\"id\":\"7b5c2b5e-e251-4238-b651-95cbbcf8b76b\",\"type\":\"Arrow\"},{\"id\":\"8180d206-e7e7-4465-970a-e0d3162e1086\",\"type\":\"Arrow\"},{\"id\":\"66635fda-960c-4526-817f-8ecb0e82ac39\",\"type\":\"Arrow\"},{\"id\":\"1cbff7ec-f035-4d0d-9612-8b35cca7cb79\",\"type\":\"Arrow\"},{\"id\":\"1d1529d6-6ea3-4fc6-8982-a741ceb6af93\",\"type\":\"Arrow\"},{\"id\":\"54cf6df9-73e5-4c22-8582-105c72d5ac42\",\"type\":\"Arrow\"},{\"id\":\"cddc82bf-e5a0-43f9-9879-8473a2d26f09\",\"type\":\"Arrow\"},{\"id\":\"1fa0c308-55b5-4891-87ed-4000faf37974\",\"type\":\"Arrow\"},{\"id\":\"612472e2-8ab5-478a-b9fa-6bdb4e7ecc87\",\"type\":\"GlyphRenderer\"},{\"id\":\"728c60d9-1765-44a0-bf61-395a7af451bf\",\"type\":\"GlyphRenderer\"},{\"id\":\"ad314eb9-5681-4463-97b1-0a00589fa678\",\"type\":\"GlyphRenderer\"},{\"id\":\"203ce314-d320-4a31-95b0-5411dc43d3e6\",\"type\":\"GlyphRenderer\"},{\"id\":\"8fe2f937-d140-4e7d-a904-982e21b12e01\",\"type\":\"GlyphRenderer\"},{\"id\":\"03e941ab-d215-4f7d-8f32-f819af542619\",\"type\":\"GlyphRenderer\"}],\"title\":{\"id\":\"bfaf23ca-e52b-4b53-9db9-e5e683a465e5\",\"type\":\"Title\"},\"toolbar\":{\"id\":\"9d4568ce-16c3-4f27-9a74-a14abcb5ca9c\",\"type\":\"Toolbar\"},\"x_range\":{\"id\":\"7ece29ba-0502-4936-a973-dea949963e66\",\"type\":\"DataRange1d\"},\"x_scale\":{\"id\":\"72e2eccb-b7a9-40f0-80d6-64ae7b83ab98\",\"type\":\"LinearScale\"},\"y_range\":{\"id\":\"e4ca36f5-b3fc-4824-8022-9446f2551f3e\",\"type\":\"DataRange1d\"},\"y_scale\":{\"id\":\"578df93b-8aad-4db5-9fa8-ebcf6677dd7f\",\"type\":\"LinearScale\"}},\"id\":\"560ae03e-22f8-4611-9ce4-01b9eb8c7cb9\",\"subtype\":\"Figure\",\"type\":\"Plot\"},{\"attributes\":{\"callback\":null,\"names\":[\"circle\"],\"renderers\":\"auto\",\"tooltips\":[[\"true action\",\"@desc\"],[\"prediction\",\"@pred\"],[\"not_skip_gate\",\"@not_skip\"]]},\"id\":\"4b405d0d-0c36-4e69-bc06-bbe1d98032b7\",\"type\":\"HoverTool\"},{\"attributes\":{\"fill_color\":{\"value\":\"green\"},\"line_color\":{\"value\":\"green\"},\"size\":{\"units\":\"screen\",\"value\":5},\"x\":{\"field\":\"x\"},\"y\":{\"field\":\"y\"}},\"id\":\"c25d1d99-e828-4af9-ae5e-86f106ec8428\",\"type\":\"Circle\"},{\"attributes\":{\"callback\":null,\"data\":{\"desc\":[\"- utter_ask_details\",\"- utter_chitchat\",\"- utter_ask_details\",\"- utter_ask_startdate\",\"- utter_ask_location\",\"- utter_correct_startdate_hotel\",\"- utter_ask_location\",\"- utter_explain_location_hotel\",\"- utter_ask_location\",\"- utter_ask_price\",\"- utter_chitchat\",\"- utter_ask_price\",\"- utter_chitchat\",\"- utter_ask_price\",\"- utter_chitchat\",\"- utter_ask_price\",\"- utter_chitchat\",\"- utter_ask_price\",\"- utter_explain_price_hotel\",\"- utter_ask_price\",\"- utter_ask_people\",\"- utter_filled_slots\",\"- action_search_hotel\",\"- utter_suggest_hotel\",\"- utter_chitchat\",\"- utter_suggest_hotel\",\"- utter_happy\"],\"not_skip\":[1.0,1.0,0.0,1.0,1.0,1.0,0.0,1.0,0.0,1.0,1.0,0.0,1.0,0.0,1.0,0.0,1.0,0.0,1.0,0.0,1.0,1.0,1.0,1.0,1.0,0.0,1.0],\"pred\":[\"- utter_ask_details\",\"- utter_chitchat\",\"- utter_ask_details\",\"- utter_ask_startdate\",\"- utter_ask_location\",\"- utter_correct_startdate_hotel\",\"- utter_ask_location\",\"- utter_explain_location_hotel\",\"- utter_ask_location\",\"- utter_ask_price\",\"- utter_chitchat\",\"- utter_ask_price\",\"- utter_chitchat\",\"- utter_ask_price\",\"- utter_chitchat\",\"- utter_ask_price\",\"- utter_chitchat\",\"- utter_ask_price\",\"- utter_explain_people_hotel\",\"- utter_ask_price\",\"- utter_ask_people\",\"- utter_filled_slots\",\"- action_search_hotel\",\"- utter_suggest_hotel\",\"- utter_chitchat\",\"- utter_suggest_hotel\",\"- utter_happy\"],\"x\":{\"__ndarray__\":\"A6j3RFyE0j9XTGmFOB3fv4rcQDi8ZMg/usUgp23a0T9mIXuQq4bDP95scAvzyLQ/PzWyIeWnzz+NrSj431iqP1FQtcFmG9I/m3JH3lyFmz/O1IEA4EDvv+5fgyiv1so/HDJ4F2LL7b+YT11AFfjIPzgMkq3kyO2/XO87n+X5yD/k8hNNnsjtv4yC0Ngb+sg/L5iXJfjwrb8RIKV1fTjSP7p9/IjsLMk/DaBPVE934j+aP+8XLlPyPz4p6Ab6R9A/l+duKCvc5r9PZdXdfujAP2qGNCVZbqU/\",\"dtype\":\"float64\",\"shape\":[27]},\"y\":{\"__ndarray__\":\"XmaKq1Wb278dHBD6PYG/v9udR6lu69G/ZzyiMTfA2b9QEAxL14PiP2cgtdOv1uO/uFdkb9P83T8zdt3fk7PZP+jmBwW6L+Y/okfVhH2W3r99H60LLjWgv+oleR0Ez8G/c3nCoTpwsL8mLopl8LXAv3UVYFSWbbC/4YKKJmq+wL9NUtKHNW2wvz4c30Qcv8C/Sh9QuzMq0D+JyiT9qf6wvzeNEsQ0g8a//mCrY8KmxL+jBT98LPvLv18Hqk9Ek+I/3v6OAXRNkT9b0gphikvEP4BH/k+T+uE/\",\"dtype\":\"float64\",\"shape\":[27]}},\"selected\":{\"id\":\"966b796b-a0e8-4a56-b8a0-e1f0f6b5da6b\",\"type\":\"Selection\"},\"selection_policy\":{\"id\":\"e9a92dcd-0fde-4da5-ba4a-ea9c24c0d499\",\"type\":\"UnionRenderers\"}},\"id\":\"3111f8a8-f1e7-4730-aede-12ab84121ddd\",\"type\":\"ColumnDataSource\"},{\"attributes\":{\"source\":{\"id\":\"c7f9b260-da0a-41f3-8f00-b579a68553f5\",\"type\":\"ColumnDataSource\"}},\"id\":\"fb387441-db27-426d-a34d-2a6f0a0cc2ad\",\"type\":\"CDSView\"},{\"attributes\":{\"end\":{\"id\":\"107f710b-e20c-4314-82f1-8ff623df6bb1\",\"type\":\"OpenHead\"},\"line_color\":{\"value\":\"gray\"},\"plot\":{\"id\":\"560ae03e-22f8-4611-9ce4-01b9eb8c7cb9\",\"subtype\":\"Figure\",\"type\":\"Plot\"},\"source\":null,\"start\":null,\"x_end\":{\"value\":0.19057419535394998},\"x_start\":{\"value\":-0.48615849522065474},\"y_end\":{\"value\":-0.27999464541650604},\"y_start\":{\"value\":-0.1230658278947065}},\"id\":\"095f73af-9d37-4693-8cba-a3f18eec8b12\",\"type\":\"Arrow\"},{\"attributes\":{\"data_source\":{\"id\":\"c7f9b260-da0a-41f3-8f00-b579a68553f5\",\"type\":\"ColumnDataSource\"},\"glyph\":{\"id\":\"879e78f3-b366-4f90-bc71-a4a7e90c32a2\",\"type\":\"Circle\"},\"hover_glyph\":null,\"muted_glyph\":null,\"name\":\"circle\",\"nonselection_glyph\":{\"id\":\"a368f699-c62c-474b-89aa-074f493c063d\",\"type\":\"Circle\"},\"selection_glyph\":null,\"view\":{\"id\":\"fb387441-db27-426d-a34d-2a6f0a0cc2ad\",\"type\":\"CDSView\"}},\"id\":\"ad314eb9-5681-4463-97b1-0a00589fa678\",\"type\":\"GlyphRenderer\"},{\"attributes\":{\"active_drag\":\"auto\",\"active_inspect\":\"auto\",\"active_multi\":null,\"active_scroll\":\"auto\",\"active_tap\":\"auto\",\"tools\":[{\"id\":\"4b405d0d-0c36-4e69-bc06-bbe1d98032b7\",\"type\":\"HoverTool\"}]},\"id\":\"9d4568ce-16c3-4f27-9a74-a14abcb5ca9c\",\"type\":\"Toolbar\"},{\"attributes\":{\"callback\":null,\"data\":{\"desc\":[\"- utter_ask_details\",\"- utter_chitchat\",\"- utter_ask_details\",\"- utter_ask_startdate\",\"- utter_ask_location\",\"- utter_correct_startdate_hotel\",\"- utter_ask_location\",\"- utter_explain_location_hotel\",\"- utter_ask_location\",\"- utter_ask_price\",\"- utter_chitchat\",\"- utter_ask_price\",\"- utter_chitchat\",\"- utter_ask_price\",\"- utter_chitchat\",\"- utter_ask_price\",\"- utter_chitchat\",\"- utter_ask_price\",\"- utter_explain_price_hotel\",\"- utter_ask_price\",\"- utter_ask_people\",\"- utter_filled_slots\",\"- action_search_hotel\",\"- utter_suggest_hotel\",\"- utter_chitchat\",\"- utter_suggest_hotel\",\"- utter_happy\"],\"not_skip\":[1.0,1.0,0.0,1.0,1.0,1.0,0.0,1.0,0.0,1.0,1.0,0.0,1.0,0.0,1.0,0.0,1.0,0.0,1.0,0.0,1.0,1.0,1.0,1.0,1.0,0.0,1.0],\"pred\":[\"- utter_ask_details\",\"- utter_chitchat\",\"- utter_ask_details\",\"- utter_ask_startdate\",\"- utter_ask_location\",\"- utter_correct_startdate_hotel\",\"- utter_ask_location\",\"- utter_explain_location_hotel\",\"- utter_ask_location\",\"- utter_ask_price\",\"- utter_chitchat\",\"- utter_ask_price\",\"- utter_chitchat\",\"- utter_ask_price\",\"- utter_chitchat\",\"- utter_ask_price\",\"- utter_chitchat\",\"- utter_ask_price\",\"- utter_explain_people_hotel\",\"- utter_ask_price\",\"- utter_ask_people\",\"- utter_filled_slots\",\"- action_search_hotel\",\"- utter_suggest_hotel\",\"- utter_chitchat\",\"- utter_suggest_hotel\",\"- utter_happy\"],\"x\":{\"__ndarray__\":\"Baj3RFyE0j9cRecYjh/fv/p5g9Rl7ME/cYUJVzfM0T/LeLkGKUPDP3oXFnvUIrQ/NvlCp8Lgyj/IGvrUeLimPxIaJQdLYs8/I7w7OW4nlj+AtouQiHbvv0W7FrA348g/V3ALr+wE7r8pyXMnOQHHPw7addmVAu6/JfeBheUCxz8mvjfdVALuv9Pjq2wXA8c/lDDGAox2sL/GKKdWGfbQPxoXUf0d3cg/P9knjP5n4j+iVKljqvrxP2ZmeRh24cU/eKpz061W6r8SPicSZgy7PzKWy62o7by/\",\"dtype\":\"float64\",\"shape\":[27]},\"y\":{\"__ndarray__\":\"ZGaKq1Wb279yslChtme/v7bq6sEuJsK/77x3eFuZ2b+PZxJLGMriP7SQ1SfmA+S/opk1B/Xesj/E+0HYU+DVPymJAUb5/tE/r7uJYawZ4b/PpLmNrnuav3rq9018ErC/SBDoKtTirb+Ftxlu9CKtv+2DA/4d5K2/LTXbXQlQrb+bGk8jIOStv4xn/RUfVK2/QX5HkLKQ0D9nKSLRZouuv5dBQZ2Y9cS/v7//IGI+xL+A4NpGJl3Nv8vK/dAn3+E/wSMBGqwNo791C7AYL2yav+1iXMDDoOA/\",\"dtype\":\"float64\",\"shape\":[27]}},\"selected\":{\"id\":\"5ba153e0-e8de-4353-9efb-f692790499cf\",\"type\":\"Selection\"},\"selection_policy\":{\"id\":\"0fc98789-1cd7-4b7d-af44-da23e41ec9a2\",\"type\":\"UnionRenderers\"}},\"id\":\"c7f9b260-da0a-41f3-8f00-b579a68553f5\",\"type\":\"ColumnDataSource\"},{\"attributes\":{\"callback\":null},\"id\":\"7ece29ba-0502-4936-a973-dea949963e66\",\"type\":\"DataRange1d\"},{\"attributes\":{\"fill_alpha\":{\"value\":0.1},\"fill_color\":{\"value\":\"#1f77b4\"},\"line_alpha\":{\"value\":0.1},\"line_color\":{\"value\":\"#1f77b4\"},\"size\":{\"units\":\"screen\",\"value\":5},\"x\":{\"field\":\"x\"},\"y\":{\"field\":\"y\"}},\"id\":\"a368f699-c62c-474b-89aa-074f493c063d\",\"type\":\"Circle\"},{\"attributes\":{\"end\":{\"id\":\"571f5c6d-86c2-4073-901e-75ddb8b1ffaf\",\"type\":\"OpenHead\"},\"line_color\":{\"value\":\"gray\"},\"plot\":{\"id\":\"560ae03e-22f8-4611-9ce4-01b9eb8c7cb9\",\"subtype\":\"Figure\",\"type\":\"Plot\"},\"source\":null,\"start\":null,\"x_end\":{\"value\":0.254393107171058},\"x_start\":{\"value\":1.1453076300567546},\"y_end\":{\"value\":0.5804769092503469},\"y_start\":{\"value\":-0.21860271517475124}},\"id\":\"1d1529d6-6ea3-4fc6-8982-a741ceb6af93\",\"type\":\"Arrow\"},{\"attributes\":{\"callback\":null},\"id\":\"e4ca36f5-b3fc-4824-8022-9446f2551f3e\",\"type\":\"DataRange1d\"},{\"attributes\":{\"callback\":null,\"data\":{},\"selected\":{\"id\":\"152a174e-0e67-4e92-9e01-eb1624725bca\",\"type\":\"Selection\"},\"selection_policy\":{\"id\":\"dbd90d01-5afa-42e9-b414-15ca35498e2e\",\"type\":\"UnionRenderers\"}},\"id\":\"e08dd668-5968-4a38-9a48-41b156c7ba42\",\"type\":\"ColumnDataSource\"},{\"attributes\":{},\"id\":\"72e2eccb-b7a9-40f0-80d6-64ae7b83ab98\",\"type\":\"LinearScale\"},{\"attributes\":{\"callback\":null,\"data\":{},\"selected\":{\"id\":\"3f9b4a71-1476-409f-b60d-95895a63f610\",\"type\":\"Selection\"},\"selection_policy\":{\"id\":\"ff9bf672-2ab7-4609-bb42-33ae2dc4908c\",\"type\":\"UnionRenderers\"}},\"id\":\"33d13c38-61e7-4903-8acc-d7a46661ecc2\",\"type\":\"ColumnDataSource\"},{\"attributes\":{},\"id\":\"578df93b-8aad-4db5-9fa8-ebcf6677dd7f\",\"type\":\"LinearScale\"},{\"attributes\":{\"fill_color\":{\"value\":\"magenta\"},\"line_color\":{\"value\":\"magenta\"},\"size\":{\"units\":\"screen\",\"value\":5},\"x\":{\"value\":0.1816847358473629},\"y\":{\"value\":-0.07547388798598703}},\"id\":\"7e494321-0fa3-47f2-ab55-403960ad4021\",\"type\":\"Circle\"},{\"attributes\":{\"end\":{\"id\":\"65e2d1da-3453-4700-ae99-a313c42445fb\",\"type\":\"OpenHead\"},\"line_color\":{\"value\":\"gray\"},\"plot\":{\"id\":\"560ae03e-22f8-4611-9ce4-01b9eb8c7cb9\",\"subtype\":\"Figure\",\"type\":\"Plot\"},\"source\":null,\"start\":null,\"x_end\":{\"value\":-0.48615849522065474},\"x_start\":{\"value\":0.2893286393651808},\"y_end\":{\"value\":-0.1230658278947065},\"y_start\":{\"value\":-0.4313558745576297}},\"id\":\"a26d2557-02e8-45ac-a5bc-c053e93ba268\",\"type\":\"Arrow\"},{\"attributes\":{\"fill_alpha\":{\"value\":0.1},\"fill_color\":{\"value\":\"#1f77b4\"},\"line_alpha\":{\"value\":0.1},\"line_color\":{\"value\":\"#1f77b4\"},\"size\":{\"units\":\"screen\",\"value\":5},\"x\":{\"value\":0.1816847358473629},\"y\":{\"value\":-0.07547388798598703}},\"id\":\"d174131b-9a7d-4c68-bb62-c6f6f7aa30fa\",\"type\":\"Circle\"},{\"attributes\":{\"formatter\":{\"id\":\"99175b21-5cbc-4ef2-9bac-10f0f2fdc0b6\",\"type\":\"BasicTickFormatter\"},\"plot\":{\"id\":\"560ae03e-22f8-4611-9ce4-01b9eb8c7cb9\",\"subtype\":\"Figure\",\"type\":\"Plot\"},\"ticker\":{\"id\":\"b543a6c7-0da7-4266-8eb2-6ae18e0aabd4\",\"type\":\"BasicTicker\"}},\"id\":\"679330cf-9866-4e6e-8e84-fa023e0b402e\",\"type\":\"LinearAxis\"},{\"attributes\":{\"data_source\":{\"id\":\"33d13c38-61e7-4903-8acc-d7a46661ecc2\",\"type\":\"ColumnDataSource\"},\"glyph\":{\"id\":\"7e494321-0fa3-47f2-ab55-403960ad4021\",\"type\":\"Circle\"},\"hover_glyph\":null,\"muted_glyph\":null,\"nonselection_glyph\":{\"id\":\"d174131b-9a7d-4c68-bb62-c6f6f7aa30fa\",\"type\":\"Circle\"},\"selection_glyph\":null,\"view\":{\"id\":\"7bf13298-c68e-4365-b18d-cb5a82c4002d\",\"type\":\"CDSView\"}},\"id\":\"203ce314-d320-4a31-95b0-5411dc43d3e6\",\"type\":\"GlyphRenderer\"},{\"attributes\":{},\"id\":\"b543a6c7-0da7-4266-8eb2-6ae18e0aabd4\",\"type\":\"BasicTicker\"},{\"attributes\":{\"source\":{\"id\":\"33d13c38-61e7-4903-8acc-d7a46661ecc2\",\"type\":\"ColumnDataSource\"}},\"id\":\"7bf13298-c68e-4365-b18d-cb5a82c4002d\",\"type\":\"CDSView\"},{\"attributes\":{\"plot\":{\"id\":\"560ae03e-22f8-4611-9ce4-01b9eb8c7cb9\",\"subtype\":\"Figure\",\"type\":\"Plot\"},\"ticker\":{\"id\":\"b543a6c7-0da7-4266-8eb2-6ae18e0aabd4\",\"type\":\"BasicTicker\"}},\"id\":\"0605d74d-42c9-4806-bfe2-3e33b5d1670f\",\"type\":\"Grid\"},{\"attributes\":{\"callback\":null,\"data\":{},\"selected\":{\"id\":\"4758660c-38fd-48b3-abce-2be50a0c6f3c\",\"type\":\"Selection\"},\"selection_policy\":{\"id\":\"ea80e412-24a1-49f5-910e-7e419d7a3e8b\",\"type\":\"UnionRenderers\"}},\"id\":\"beef3413-9a47-45e0-acfe-01dc7eee71b0\",\"type\":\"ColumnDataSource\"},{\"attributes\":{\"line_color\":{\"value\":\"firebrick\"},\"line_width\":{\"value\":2},\"plot\":null,\"size\":10},\"id\":\"1d5dc7e8-f666-4448-bc7f-fb3c1e666531\",\"type\":\"OpenHead\"},{\"attributes\":{\"formatter\":{\"id\":\"b06a4c58-886d-43e6-9b95-864bad214572\",\"type\":\"BasicTickFormatter\"},\"plot\":{\"id\":\"560ae03e-22f8-4611-9ce4-01b9eb8c7cb9\",\"subtype\":\"Figure\",\"type\":\"Plot\"},\"ticker\":{\"id\":\"9ac9c700-a3d0-456a-a924-a6a4ab92f526\",\"type\":\"BasicTicker\"}},\"id\":\"d5c81c98-d618-4659-bd77-f19509182d03\",\"type\":\"LinearAxis\"},{\"attributes\":{\"fill_color\":{\"value\":\"green\"},\"line_color\":{\"value\":\"green\"},\"size\":{\"units\":\"screen\",\"value\":10},\"x\":{\"value\":0.2893286393651808},\"y\":{\"value\":-0.4313558745576297}},\"id\":\"0778f9a2-b0c4-4428-89f8-35e0200cf5ac\",\"type\":\"Circle\"},{\"attributes\":{},\"id\":\"9ac9c700-a3d0-456a-a924-a6a4ab92f526\",\"type\":\"BasicTicker\"},{\"attributes\":{\"fill_alpha\":{\"value\":0.1},\"fill_color\":{\"value\":\"#1f77b4\"},\"line_alpha\":{\"value\":0.1},\"line_color\":{\"value\":\"#1f77b4\"},\"size\":{\"units\":\"screen\",\"value\":10},\"x\":{\"value\":0.2893286393651808},\"y\":{\"value\":-0.4313558745576297}},\"id\":\"1a01d8a8-69fb-4067-98b7-090afd6be26d\",\"type\":\"Circle\"},{\"attributes\":{\"dimension\":1,\"plot\":{\"id\":\"560ae03e-22f8-4611-9ce4-01b9eb8c7cb9\",\"subtype\":\"Figure\",\"type\":\"Plot\"},\"ticker\":{\"id\":\"9ac9c700-a3d0-456a-a924-a6a4ab92f526\",\"type\":\"BasicTicker\"}},\"id\":\"9ce4c999-a2de-47ec-aff5-44443601e289\",\"type\":\"Grid\"},{\"attributes\":{\"data_source\":{\"id\":\"e08dd668-5968-4a38-9a48-41b156c7ba42\",\"type\":\"ColumnDataSource\"},\"glyph\":{\"id\":\"0778f9a2-b0c4-4428-89f8-35e0200cf5ac\",\"type\":\"Circle\"},\"hover_glyph\":null,\"muted_glyph\":null,\"nonselection_glyph\":{\"id\":\"1a01d8a8-69fb-4067-98b7-090afd6be26d\",\"type\":\"Circle\"},\"selection_glyph\":null,\"view\":{\"id\":\"cf9b9995-796d-4f2a-9fdf-38706e4b43d3\",\"type\":\"CDSView\"}},\"id\":\"8fe2f937-d140-4e7d-a904-982e21b12e01\",\"type\":\"GlyphRenderer\"},{\"attributes\":{\"end\":{\"id\":\"ce41bd63-d037-4e47-94e7-291298fac60a\",\"type\":\"OpenHead\"},\"line_color\":{\"value\":\"gray\"},\"plot\":{\"id\":\"560ae03e-22f8-4611-9ce4-01b9eb8c7cb9\",\"subtype\":\"Figure\",\"type\":\"Plot\"},\"source\":null,\"start\":null,\"x_end\":{\"value\":0.2789568073377172},\"x_start\":{\"value\":0.19057419535394998},\"y_end\":{\"value\":-0.4023569092468677},\"y_start\":{\"value\":-0.27999464541650604}},\"id\":\"6cc7c9c5-8793-41da-9c54-e1f308cf67ce\",\"type\":\"Arrow\"},{\"attributes\":{\"source\":{\"id\":\"e08dd668-5968-4a38-9a48-41b156c7ba42\",\"type\":\"ColumnDataSource\"}},\"id\":\"cf9b9995-796d-4f2a-9fdf-38706e4b43d3\",\"type\":\"CDSView\"},{\"attributes\":{},\"id\":\"99175b21-5cbc-4ef2-9bac-10f0f2fdc0b6\",\"type\":\"BasicTickFormatter\"},{\"attributes\":{\"line_color\":{\"value\":\"firebrick\"},\"line_width\":{\"value\":2},\"plot\":null,\"size\":10},\"id\":\"ce41bd63-d037-4e47-94e7-291298fac60a\",\"type\":\"OpenHead\"},{\"attributes\":{},\"id\":\"0fc98789-1cd7-4b7d-af44-da23e41ec9a2\",\"type\":\"UnionRenderers\"},{\"attributes\":{\"fill_color\":{\"value\":\"red\"},\"line_color\":{\"value\":\"red\"},\"size\":{\"units\":\"screen\",\"value\":10},\"x\":{\"value\":0.04185751513638254},\"y\":{\"value\":0.561837822186348}},\"id\":\"d891f89a-ff4f-406b-83b7-0217e97184d3\",\"type\":\"Circle\"},{\"attributes\":{},\"id\":\"ff9bf672-2ab7-4609-bb42-33ae2dc4908c\",\"type\":\"UnionRenderers\"},{\"attributes\":{\"line_color\":{\"value\":\"firebrick\"},\"line_width\":{\"value\":2},\"plot\":null,\"size\":10},\"id\":\"dd2b78a1-03f7-4542-9227-3aaf3b69e865\",\"type\":\"OpenHead\"},{\"attributes\":{\"fill_alpha\":{\"value\":0.1},\"fill_color\":{\"value\":\"#1f77b4\"},\"line_alpha\":{\"value\":0.1},\"line_color\":{\"value\":\"#1f77b4\"},\"size\":{\"units\":\"screen\",\"value\":10},\"x\":{\"value\":0.04185751513638254},\"y\":{\"value\":0.561837822186348}},\"id\":\"5cf41f76-8f6a-4eec-9ad1-dd6119e56c4d\",\"type\":\"Circle\"},{\"attributes\":{\"data_source\":{\"id\":\"beef3413-9a47-45e0-acfe-01dc7eee71b0\",\"type\":\"ColumnDataSource\"},\"glyph\":{\"id\":\"d891f89a-ff4f-406b-83b7-0217e97184d3\",\"type\":\"Circle\"},\"hover_glyph\":null,\"muted_glyph\":null,\"nonselection_glyph\":{\"id\":\"5cf41f76-8f6a-4eec-9ad1-dd6119e56c4d\",\"type\":\"Circle\"},\"selection_glyph\":null,\"view\":{\"id\":\"c4ea1e89-a805-419e-89ce-beb42e914fea\",\"type\":\"CDSView\"}},\"id\":\"03e941ab-d215-4f7d-8f32-f819af542619\",\"type\":\"GlyphRenderer\"},{\"attributes\":{\"line_color\":{\"value\":\"firebrick\"},\"line_width\":{\"value\":2},\"plot\":null,\"size\":10},\"id\":\"16eb5718-ed0d-4e53-b296-703b45d47fe6\",\"type\":\"OpenHead\"},{\"attributes\":{},\"id\":\"152a174e-0e67-4e92-9e01-eb1624725bca\",\"type\":\"Selection\"},{\"attributes\":{\"end\":{\"id\":\"dd2b78a1-03f7-4542-9227-3aaf3b69e865\",\"type\":\"OpenHead\"},\"line_color\":{\"value\":\"gray\"},\"plot\":{\"id\":\"560ae03e-22f8-4611-9ce4-01b9eb8c7cb9\",\"subtype\":\"Figure\",\"type\":\"Plot\"},\"source\":null,\"start\":null,\"x_end\":{\"value\":0.15254730753646156},\"x_start\":{\"value\":0.2789568073377172},\"y_end\":{\"value\":0.578593870712675},\"y_start\":{\"value\":-0.4023569092468677}},\"id\":\"d8d1f451-a6d3-4805-815a-6000d53b449f\",\"type\":\"Arrow\"},{\"attributes\":{},\"id\":\"dbd90d01-5afa-42e9-b414-15ca35498e2e\",\"type\":\"UnionRenderers\"},{\"attributes\":{\"line_color\":{\"value\":\"firebrick\"},\"line_width\":{\"value\":2},\"plot\":null,\"size\":10},\"id\":\"c0150a5c-e852-4b11-830e-219251f3cdf4\",\"type\":\"OpenHead\"},{\"attributes\":{\"end\":{\"id\":\"1d5dc7e8-f666-4448-bc7f-fb3c1e666531\",\"type\":\"OpenHead\"},\"line_color\":{\"value\":\"gray\"},\"plot\":{\"id\":\"560ae03e-22f8-4611-9ce4-01b9eb8c7cb9\",\"subtype\":\"Figure\",\"type\":\"Plot\"},\"source\":null,\"start\":null,\"x_end\":{\"value\":0.2096766422098421},\"x_start\":{\"value\":-0.9766693124680843},\"y_end\":{\"value\":-0.13913012923357765},\"y_start\":{\"value\":-0.03165573017628185}},\"id\":\"5880b4ac-5043-4d44-b247-99eb592cc66c\",\"type\":\"Arrow\"},{\"attributes\":{\"end\":{\"id\":\"16eb5718-ed0d-4e53-b296-703b45d47fe6\",\"type\":\"OpenHead\"},\"line_color\":{\"value\":\"gray\"},\"plot\":{\"id\":\"560ae03e-22f8-4611-9ce4-01b9eb8c7cb9\",\"subtype\":\"Figure\",\"type\":\"Plot\"},\"source\":null,\"start\":null,\"x_end\":{\"value\":0.08119124440456768},\"x_start\":{\"value\":0.15254730753646156},\"y_end\":{\"value\":-0.6199568877136813},\"y_start\":{\"value\":0.578593870712675}},\"id\":\"7172e20b-c7d3-46b7-86fa-7d0ca4565ea1\",\"type\":\"Arrow\"},{\"attributes\":{\"end\":{\"id\":\"b5b30b79-486c-4207-a3f8-fa2785608631\",\"type\":\"OpenHead\"},\"line_color\":{\"value\":\"gray\"},\"plot\":{\"id\":\"560ae03e-22f8-4611-9ce4-01b9eb8c7cb9\",\"subtype\":\"Figure\",\"type\":\"Plot\"},\"source\":null,\"start\":null,\"x_end\":{\"value\":1.1453076300567546},\"x_start\":{\"value\":0.5770641943645402},\"y_end\":{\"value\":-0.21860271517475124},\"y_start\":{\"value\":-0.16133909098312665}},\"id\":\"1cbff7ec-f035-4d0d-9612-8b35cca7cb79\",\"type\":\"Arrow\"},{\"attributes\":{},\"id\":\"3f9b4a71-1476-409f-b60d-95895a63f610\",\"type\":\"Selection\"},{\"attributes\":{\"line_color\":{\"value\":\"firebrick\"},\"line_width\":{\"value\":2},\"plot\":null,\"size\":10},\"id\":\"57d17fa4-3c5b-4fb8-8702-9afaf69360e2\",\"type\":\"OpenHead\"},{\"attributes\":{\"end\":{\"id\":\"c0150a5c-e852-4b11-830e-219251f3cdf4\",\"type\":\"OpenHead\"},\"line_color\":{\"value\":\"gray\"},\"plot\":{\"id\":\"560ae03e-22f8-4611-9ce4-01b9eb8c7cb9\",\"subtype\":\"Figure\",\"type\":\"Plot\"},\"source\":null,\"start\":null,\"x_end\":{\"value\":0.24731125016516306},\"x_start\":{\"value\":0.08119124440456768},\"y_end\":{\"value\":0.46855626943704065},\"y_start\":{\"value\":-0.6199568877136813}},\"id\":\"140c04d4-9dda-47c6-9c82-d5be5611fbc2\",\"type\":\"Arrow\"},{\"attributes\":{\"line_color\":{\"value\":\"firebrick\"},\"line_width\":{\"value\":2},\"plot\":null,\"size\":10},\"id\":\"51471893-ff68-4a1e-abdc-9cd986d563df\",\"type\":\"OpenHead\"},{\"attributes\":{\"source\":{\"id\":\"beef3413-9a47-45e0-acfe-01dc7eee71b0\",\"type\":\"ColumnDataSource\"}},\"id\":\"c4ea1e89-a805-419e-89ce-beb42e914fea\",\"type\":\"CDSView\"},{\"attributes\":{\"end\":{\"id\":\"57d17fa4-3c5b-4fb8-8702-9afaf69360e2\",\"type\":\"OpenHead\"},\"line_color\":{\"value\":\"gray\"},\"plot\":{\"id\":\"560ae03e-22f8-4611-9ce4-01b9eb8c7cb9\",\"subtype\":\"Figure\",\"type\":\"Plot\"},\"source\":null,\"start\":null,\"x_end\":{\"value\":0.05145931152614045},\"x_start\":{\"value\":0.24731125016516306},\"y_end\":{\"value\":0.4015855489904851},\"y_start\":{\"value\":0.46855626943704065}},\"id\":\"1e0b0559-255a-43cf-a138-9dc2eed82918\",\"type\":\"Arrow\"},{\"attributes\":{\"line_color\":{\"value\":\"firebrick\"},\"line_width\":{\"value\":2},\"plot\":null,\"size\":10},\"id\":\"1a5af5cc-42e7-42eb-96a2-1dc033c6af38\",\"type\":\"OpenHead\"},{\"attributes\":{\"end\":{\"id\":\"51471893-ff68-4a1e-abdc-9cd986d563df\",\"type\":\"OpenHead\"},\"line_color\":{\"value\":\"gray\"},\"plot\":{\"id\":\"560ae03e-22f8-4611-9ce4-01b9eb8c7cb9\",\"subtype\":\"Figure\",\"type\":\"Plot\"},\"source\":null,\"start\":null,\"x_end\":{\"value\":0.2829224483186908},\"x_start\":{\"value\":0.05145931152614045},\"y_end\":{\"value\":0.693326005769646},\"y_start\":{\"value\":0.4015855489904851}},\"id\":\"cdab602e-8f51-462f-9a0e-fed2892cdca8\",\"type\":\"Arrow\"},{\"attributes\":{\"line_color\":{\"value\":\"firebrick\"},\"line_width\":{\"value\":2},\"plot\":null,\"size\":10},\"id\":\"65e2d1da-3453-4700-ae99-a313c42445fb\",\"type\":\"OpenHead\"},{\"attributes\":{\"line_color\":{\"value\":\"firebrick\"},\"line_width\":{\"value\":2},\"plot\":null,\"size\":10},\"id\":\"df516603-e4bd-4b92-a6e6-b1aa10af73ad\",\"type\":\"OpenHead\"},{\"attributes\":{},\"id\":\"966b796b-a0e8-4a56-b8a0-e1f0f6b5da6b\",\"type\":\"Selection\"},{\"attributes\":{\"line_color\":{\"value\":\"firebrick\"},\"line_width\":{\"value\":2},\"plot\":null,\"size\":10},\"id\":\"43652d4e-7353-427c-b4a6-bde21b34b319\",\"type\":\"OpenHead\"},{\"attributes\":{\"end\":{\"id\":\"1a5af5cc-42e7-42eb-96a2-1dc033c6af38\",\"type\":\"OpenHead\"},\"line_color\":{\"value\":\"gray\"},\"plot\":{\"id\":\"560ae03e-22f8-4611-9ce4-01b9eb8c7cb9\",\"subtype\":\"Figure\",\"type\":\"Plot\"},\"source\":null,\"start\":null,\"x_end\":{\"value\":0.026875926081504003},\"x_start\":{\"value\":0.2829224483186908},\"y_end\":{\"value\":-0.477935199470375},\"y_start\":{\"value\":0.693326005769646}},\"id\":\"e825d324-5dd3-4c7d-bf17-a0125421c7bc\",\"type\":\"Arrow\"},{\"attributes\":{\"indices\":[],\"line_indices\":[]},\"id\":\"4758660c-38fd-48b3-abce-2be50a0c6f3c\",\"type\":\"Selection\"},{\"attributes\":{\"end\":{\"id\":\"d3769a7c-4475-4771-81b6-af9200253c21\",\"type\":\"OpenHead\"},\"line_color\":{\"value\":\"gray\"},\"plot\":{\"id\":\"560ae03e-22f8-4611-9ce4-01b9eb8c7cb9\",\"subtype\":\"Figure\",\"type\":\"Plot\"},\"source\":null,\"start\":null,\"x_end\":{\"value\":-0.9310770471943814},\"x_start\":{\"value\":0.2096766422098421},\"y_end\":{\"value\":-0.06421247910700405},\"y_start\":{\"value\":-0.13913012923357765}},\"id\":\"f062ecfa-2cf9-4fd7-8ab4-613b938a9c27\",\"type\":\"Arrow\"},{\"attributes\":{\"end\":{\"id\":\"df516603-e4bd-4b92-a6e6-b1aa10af73ad\",\"type\":\"OpenHead\"},\"line_color\":{\"value\":\"gray\"},\"plot\":{\"id\":\"560ae03e-22f8-4611-9ce4-01b9eb8c7cb9\",\"subtype\":\"Figure\",\"type\":\"Plot\"},\"source\":null,\"start\":null,\"x_end\":{\"value\":-0.9766693124680843},\"x_start\":{\"value\":0.026875926081504003},\"y_end\":{\"value\":-0.03165573017628185},\"y_start\":{\"value\":-0.477935199470375}},\"id\":\"d8885ec8-12e1-4a5d-a366-9830a19600a2\",\"type\":\"Arrow\"},{\"attributes\":{},\"id\":\"ea80e412-24a1-49f5-910e-7e419d7a3e8b\",\"type\":\"UnionRenderers\"},{\"attributes\":{\"line_color\":{\"value\":\"firebrick\"},\"line_width\":{\"value\":2},\"plot\":null,\"size\":10},\"id\":\"76c4c9e4-ef64-4ddc-943d-a7c0ae1fa5db\",\"type\":\"OpenHead\"},{\"attributes\":{\"end\":{\"id\":\"43652d4e-7353-427c-b4a6-bde21b34b319\",\"type\":\"OpenHead\"},\"line_color\":{\"value\":\"gray\"},\"plot\":{\"id\":\"560ae03e-22f8-4611-9ce4-01b9eb8c7cb9\",\"subtype\":\"Figure\",\"type\":\"Plot\"},\"source\":null,\"start\":null,\"x_end\":{\"value\":0.19507089274213452},\"x_start\":{\"value\":-0.9310770471943814},\"y_end\":{\"value\":-0.13055233915325565},\"y_start\":{\"value\":-0.06421247910700405}},\"id\":\"2813f89c-02ce-47f8-96c3-ff6bff366c2d\",\"type\":\"Arrow\"},{\"attributes\":{\"line_color\":{\"value\":\"firebrick\"},\"line_width\":{\"value\":2},\"plot\":null,\"size\":10},\"id\":\"960a6036-74ba-469d-83c7-c28d3611e1ca\",\"type\":\"OpenHead\"},{\"attributes\":{\"end\":{\"id\":\"76c4c9e4-ef64-4ddc-943d-a7c0ae1fa5db\",\"type\":\"OpenHead\"},\"line_color\":{\"value\":\"gray\"},\"plot\":{\"id\":\"560ae03e-22f8-4611-9ce4-01b9eb8c7cb9\",\"subtype\":\"Figure\",\"type\":\"Plot\"},\"source\":null,\"start\":null,\"x_end\":{\"value\":-0.9307731046723182},\"x_start\":{\"value\":0.19507089274213452},\"y_end\":{\"value\":-0.0641721683496906},\"y_start\":{\"value\":-0.13055233915325565}},\"id\":\"2739369a-fe71-40cf-bceb-23b6c9cbcae9\",\"type\":\"Arrow\"},{\"attributes\":{\"line_color\":{\"value\":\"firebrick\"},\"line_width\":{\"value\":2},\"plot\":null,\"size\":10},\"id\":\"4c19dbaf-16af-42ff-910e-fb74df4e9c94\",\"type\":\"OpenHead\"},{\"attributes\":{\"end\":{\"id\":\"960a6036-74ba-469d-83c7-c28d3611e1ca\",\"type\":\"OpenHead\"},\"line_color\":{\"value\":\"gray\"},\"plot\":{\"id\":\"560ae03e-22f8-4611-9ce4-01b9eb8c7cb9\",\"subtype\":\"Figure\",\"type\":\"Plot\"},\"source\":null,\"start\":null,\"x_end\":{\"value\":0.19512625002959794},\"x_start\":{\"value\":-0.9307731046723182},\"y_end\":{\"value\":-0.1308109939755218},\"y_start\":{\"value\":-0.0641721683496906}},\"id\":\"aae1d814-269b-41bf-ba3e-baaa7b66c8b9\",\"type\":\"Arrow\"},{\"attributes\":{\"line_color\":{\"value\":\"firebrick\"},\"line_width\":{\"value\":2},\"plot\":null,\"size\":10},\"id\":\"895bc21d-a865-4976-9fe2-514735fe998c\",\"type\":\"OpenHead\"},{\"attributes\":{\"end\":{\"id\":\"4c19dbaf-16af-42ff-910e-fb74df4e9c94\",\"type\":\"OpenHead\"},\"line_color\":{\"value\":\"gray\"},\"plot\":{\"id\":\"560ae03e-22f8-4611-9ce4-01b9eb8c7cb9\",\"subtype\":\"Figure\",\"type\":\"Plot\"},\"source\":null,\"start\":null,\"x_end\":{\"value\":-0.9307395463398191},\"x_start\":{\"value\":0.19512625002959794},\"y_end\":{\"value\":-0.06416639867740877},\"y_start\":{\"value\":-0.1308109939755218}},\"id\":\"77a17ce7-1f97-47e2-8986-57808e2b8987\",\"type\":\"Arrow\"},{\"attributes\":{\"line_color\":{\"value\":\"firebrick\"},\"line_width\":{\"value\":2},\"plot\":null,\"size\":10},\"id\":\"107f710b-e20c-4314-82f1-8ff623df6bb1\",\"type\":\"OpenHead\"},{\"attributes\":{\"line_color\":{\"value\":\"firebrick\"},\"line_width\":{\"value\":2},\"plot\":null,\"size\":10},\"id\":\"d3769a7c-4475-4771-81b6-af9200253c21\",\"type\":\"OpenHead\"},{\"attributes\":{\"line_color\":{\"value\":\"firebrick\"},\"line_width\":{\"value\":2},\"plot\":null,\"size\":10},\"id\":\"00d0bb7a-92a3-41e2-aa9d-c5576abec288\",\"type\":\"OpenHead\"},{\"attributes\":{\"end\":{\"id\":\"895bc21d-a865-4976-9fe2-514735fe998c\",\"type\":\"OpenHead\"},\"line_color\":{\"value\":\"gray\"},\"plot\":{\"id\":\"560ae03e-22f8-4611-9ce4-01b9eb8c7cb9\",\"subtype\":\"Figure\",\"type\":\"Plot\"},\"source\":null,\"start\":null,\"x_end\":{\"value\":0.19513271414418332},\"x_start\":{\"value\":-0.9307395463398191},\"y_end\":{\"value\":-0.13083222735278527},\"y_start\":{\"value\":-0.06416639867740877}},\"id\":\"7c228d2b-8870-4847-b6d7-0733c27b19d8\",\"type\":\"Arrow\"},{\"attributes\":{},\"id\":\"b06a4c58-886d-43e6-9b95-864bad214572\",\"type\":\"BasicTickFormatter\"},{\"attributes\":{\"line_color\":{\"value\":\"firebrick\"},\"line_width\":{\"value\":2},\"plot\":null,\"size\":10},\"id\":\"7743a60d-afbb-4f1c-8255-3d642ca6f6e6\",\"type\":\"OpenHead\"},{\"attributes\":{\"end\":{\"id\":\"00d0bb7a-92a3-41e2-aa9d-c5576abec288\",\"type\":\"OpenHead\"},\"line_color\":{\"value\":\"gray\"},\"plot\":{\"id\":\"560ae03e-22f8-4611-9ce4-01b9eb8c7cb9\",\"subtype\":\"Figure\",\"type\":\"Plot\"},\"source\":null,\"start\":null,\"x_end\":{\"value\":-0.05847907503975624},\"x_start\":{\"value\":0.19513271414418332},\"y_end\":{\"value\":0.2525758103588386},\"y_start\":{\"value\":-0.13083222735278527}},\"id\":\"f20be70e-98c0-4190-8dce-43dc91499c07\",\"type\":\"Arrow\"},{\"attributes\":{\"line_color\":{\"value\":\"firebrick\"},\"line_width\":{\"value\":2},\"plot\":null,\"size\":10},\"id\":\"f042c2e1-f779-40bd-928b-7ec67f4543d3\",\"type\":\"OpenHead\"},{\"attributes\":{},\"id\":\"e9a92dcd-0fde-4da5-ba4a-ea9c24c0d499\",\"type\":\"UnionRenderers\"},{\"attributes\":{\"end\":{\"id\":\"7743a60d-afbb-4f1c-8255-3d642ca6f6e6\",\"type\":\"OpenHead\"},\"line_color\":{\"value\":\"gray\"},\"plot\":{\"id\":\"560ae03e-22f8-4611-9ce4-01b9eb8c7cb9\",\"subtype\":\"Figure\",\"type\":\"Plot\"},\"source\":null,\"start\":null,\"x_end\":{\"value\":0.2846978806378511},\"x_start\":{\"value\":-0.05847907503975624},\"y_end\":{\"value\":-0.06638586454645624},\"y_start\":{\"value\":0.2525758103588386}},\"id\":\"7b5c2b5e-e251-4238-b651-95cbbcf8b76b\",\"type\":\"Arrow\"},{\"attributes\":{},\"id\":\"9a6cd947-bc9a-4905-a09e-b552a653e382\",\"type\":\"Selection\"},{\"attributes\":{\"line_color\":{\"value\":\"firebrick\"},\"line_width\":{\"value\":2},\"plot\":null,\"size\":10},\"id\":\"b980539d-6cf9-46ac-9b13-dc081a25c820\",\"type\":\"OpenHead\"},{\"attributes\":{},\"id\":\"ef55ec0d-f7fe-450a-b43f-de9feda86dd6\",\"type\":\"UnionRenderers\"},{\"attributes\":{\"end\":{\"id\":\"f042c2e1-f779-40bd-928b-7ec67f4543d3\",\"type\":\"OpenHead\"},\"line_color\":{\"value\":\"gray\"},\"plot\":{\"id\":\"560ae03e-22f8-4611-9ce4-01b9eb8c7cb9\",\"subtype\":\"Figure\",\"type\":\"Plot\"},\"source\":null,\"start\":null,\"x_end\":{\"value\":0.19668347061904773},\"x_start\":{\"value\":0.2846978806378511},\"y_end\":{\"value\":-0.17587909292078915},\"y_start\":{\"value\":-0.06638586454645624}},\"id\":\"8180d206-e7e7-4465-970a-e0d3162e1086\",\"type\":\"Arrow\"},{\"attributes\":{},\"id\":\"5ba153e0-e8de-4353-9efb-f692790499cf\",\"type\":\"Selection\"},{\"attributes\":{\"line_color\":{\"value\":\"firebrick\"},\"line_width\":{\"value\":2},\"plot\":null,\"size\":10},\"id\":\"b5b30b79-486c-4207-a3f8-fa2785608631\",\"type\":\"OpenHead\"},{\"attributes\":{\"end\":{\"id\":\"b980539d-6cf9-46ac-9b13-dc081a25c820\",\"type\":\"OpenHead\"},\"line_color\":{\"value\":\"gray\"},\"plot\":{\"id\":\"560ae03e-22f8-4611-9ce4-01b9eb8c7cb9\",\"subtype\":\"Figure\",\"type\":\"Plot\"},\"source\":null,\"start\":null,\"x_end\":{\"value\":0.5770641943645402},\"x_start\":{\"value\":0.19668347061904773},\"y_end\":{\"value\":-0.16133909098312665},\"y_start\":{\"value\":-0.17587909292078915}},\"id\":\"66635fda-960c-4526-817f-8ecb0e82ac39\",\"type\":\"Arrow\"},{\"attributes\":{\"line_color\":{\"value\":\"firebrick\"},\"line_width\":{\"value\":2},\"plot\":null,\"size\":10},\"id\":\"571f5c6d-86c2-4073-901e-75ddb8b1ffaf\",\"type\":\"OpenHead\"},{\"attributes\":{\"plot\":null,\"text\":\"\"},\"id\":\"bfaf23ca-e52b-4b53-9db9-e5e683a465e5\",\"type\":\"Title\"}],\"root_ids\":[\"560ae03e-22f8-4611-9ce4-01b9eb8c7cb9\"]},\"title\":\"Bokeh Application\",\"version\":\"0.13.0\"}};\n",
       "  var render_items = [{\"docid\":\"a3920351-b8b8-41d3-a3b7-bd32eada60fb\",\"roots\":{\"560ae03e-22f8-4611-9ce4-01b9eb8c7cb9\":\"d8132e82-691e-47a4-922b-78b820c0d2cb\"}}];\n",
       "  root.Bokeh.embed.embed_items_notebook(docs_json, render_items);\n",
       "\n",
       "  }\n",
       "  if (root.Bokeh !== undefined) {\n",
       "    embed_document(root);\n",
       "  } else {\n",
       "    var attempts = 0;\n",
       "    var timer = setInterval(function(root) {\n",
       "      if (root.Bokeh !== undefined) {\n",
       "        embed_document(root);\n",
       "        clearInterval(timer);\n",
       "      }\n",
       "      attempts++;\n",
       "      if (attempts > 100) {\n",
       "        console.log(\"Bokeh: ERROR: Unable to run BokehJS code because BokehJS library is missing\")\n",
       "        clearInterval(timer);\n",
       "      }\n",
       "    }, 10, root)\n",
       "  }\n",
       "})(window);"
      ],
      "application/vnd.bokehjs_exec.v0+json": ""
     },
     "metadata": {
      "application/vnd.bokehjs_exec.v0+json": {
       "id": "560ae03e-22f8-4611-9ce4-01b9eb8c7cb9"
      }
     },
     "output_type": "display_data"
    }
   ],
   "source": [
    "show(p)"
   ]
  },
  {
   "cell_type": "code",
   "execution_count": null,
   "metadata": {},
   "outputs": [],
   "source": []
  },
  {
   "cell_type": "code",
   "execution_count": 18,
   "metadata": {},
   "outputs": [
    {
     "name": "stdout",
     "output_type": "stream",
     "text": [
      "utter_ask_price --> 6\n",
      "utter_ask_details --> 28\n",
      "utter_ask_people --> 4\n",
      "utter_explain_details_hotel --> 14\n",
      "utter_explain_people_hotel --> 19\n",
      "utter_explain_price_hotel --> 21\n",
      "utter_ask_location --> 5\n",
      "utter_explain_location_hotel --> 17\n",
      "utter_ask_startdate --> 7\n",
      "utter_suggest_hotel --> 12\n",
      "action_search_hotel --> 42\n",
      "action_listen --> 0\n"
     ]
    }
   ],
   "source": [
    "print('utter_ask_price', '-->', domain.index_for_action('utter_ask_price'))\n",
    "print('utter_ask_details', '-->', domain.index_for_action('utter_ask_details'))\n",
    "print('utter_ask_people', '-->', domain.index_for_action('utter_ask_people'))\n",
    "print('utter_explain_details_hotel', '-->', domain.index_for_action('utter_explain_details_hotel'))\n",
    "print('utter_explain_people_hotel', '-->', domain.index_for_action('utter_explain_people_hotel'))\n",
    "print('utter_explain_price_hotel', '-->', domain.index_for_action('utter_explain_price_hotel'))\n",
    "print('utter_ask_location', '-->', domain.index_for_action('utter_ask_location'))\n",
    "print('utter_explain_location_hotel', '-->', domain.index_for_action('utter_explain_location_hotel'))\n",
    "print('utter_ask_startdate', '-->', domain.index_for_action('utter_ask_startdate'))\n",
    "print('utter_suggest_hotel', '-->', domain.index_for_action('utter_suggest_hotel'))\n",
    "print('action_search_hotel', '-->', domain.index_for_action('action_search_hotel'))\n",
    "print('action_listen', '-->', domain.index_for_action('action_listen'))"
   ]
  },
  {
   "cell_type": "code",
   "execution_count": 19,
   "metadata": {},
   "outputs": [
    {
     "data": {
      "text/plain": [
       "(20,)"
      ]
     },
     "execution_count": 19,
     "metadata": {},
     "output_type": "execute_result"
    }
   ],
   "source": [
    "utter_price = embedding_from_tracker(\"#generate story\\n{}\".format(story_block), bot=True)[0,-1,5,:]\n",
    "utter_price.shape"
   ]
  },
  {
   "cell_type": "code",
   "execution_count": 20,
   "metadata": {},
   "outputs": [
    {
     "name": "stdout",
     "output_type": "stream",
     "text": [
      "(20,)\n"
     ]
    },
    {
     "data": {
      "text/html": [
       "<div style=\"display: table;\"><div style=\"display: table-row;\"><div style=\"display: table-cell;\"><b title=\"bokeh.models.renderers.GlyphRenderer\">GlyphRenderer</b>(</div><div style=\"display: table-cell;\">id&nbsp;=&nbsp;'1db745d9-cfee-44a7-8a51-a238a358f252', <span id=\"39a24e62-01d3-478d-97b4-067e18601781\" style=\"cursor: pointer;\">&hellip;)</span></div></div><div class=\"cb057124-66eb-4d3b-8bd8-dddcd76cabb6\" style=\"display: none;\"><div style=\"display: table-cell;\"></div><div style=\"display: table-cell;\">data_source&nbsp;=&nbsp;ColumnDataSource(id='f011c53f-e8a7-4c7c-9830-ff8fdc912a23', ...),</div></div><div class=\"cb057124-66eb-4d3b-8bd8-dddcd76cabb6\" style=\"display: none;\"><div style=\"display: table-cell;\"></div><div style=\"display: table-cell;\">glyph&nbsp;=&nbsp;Circle(id='dc8dc1af-cea4-493b-8c6c-d8fcbf8d1706', ...),</div></div><div class=\"cb057124-66eb-4d3b-8bd8-dddcd76cabb6\" style=\"display: none;\"><div style=\"display: table-cell;\"></div><div style=\"display: table-cell;\">hover_glyph&nbsp;=&nbsp;None,</div></div><div class=\"cb057124-66eb-4d3b-8bd8-dddcd76cabb6\" style=\"display: none;\"><div style=\"display: table-cell;\"></div><div style=\"display: table-cell;\">js_event_callbacks&nbsp;=&nbsp;{},</div></div><div class=\"cb057124-66eb-4d3b-8bd8-dddcd76cabb6\" style=\"display: none;\"><div style=\"display: table-cell;\"></div><div style=\"display: table-cell;\">js_property_callbacks&nbsp;=&nbsp;{},</div></div><div class=\"cb057124-66eb-4d3b-8bd8-dddcd76cabb6\" style=\"display: none;\"><div style=\"display: table-cell;\"></div><div style=\"display: table-cell;\">level&nbsp;=&nbsp;'glyph',</div></div><div class=\"cb057124-66eb-4d3b-8bd8-dddcd76cabb6\" style=\"display: none;\"><div style=\"display: table-cell;\"></div><div style=\"display: table-cell;\">muted&nbsp;=&nbsp;False,</div></div><div class=\"cb057124-66eb-4d3b-8bd8-dddcd76cabb6\" style=\"display: none;\"><div style=\"display: table-cell;\"></div><div style=\"display: table-cell;\">muted_glyph&nbsp;=&nbsp;None,</div></div><div class=\"cb057124-66eb-4d3b-8bd8-dddcd76cabb6\" style=\"display: none;\"><div style=\"display: table-cell;\"></div><div style=\"display: table-cell;\">name&nbsp;=&nbsp;None,</div></div><div class=\"cb057124-66eb-4d3b-8bd8-dddcd76cabb6\" style=\"display: none;\"><div style=\"display: table-cell;\"></div><div style=\"display: table-cell;\">nonselection_glyph&nbsp;=&nbsp;Circle(id='00d5c32d-1a28-4324-b511-c6c84bae9453', ...),</div></div><div class=\"cb057124-66eb-4d3b-8bd8-dddcd76cabb6\" style=\"display: none;\"><div style=\"display: table-cell;\"></div><div style=\"display: table-cell;\">selection_glyph&nbsp;=&nbsp;None,</div></div><div class=\"cb057124-66eb-4d3b-8bd8-dddcd76cabb6\" style=\"display: none;\"><div style=\"display: table-cell;\"></div><div style=\"display: table-cell;\">subscribed_events&nbsp;=&nbsp;[],</div></div><div class=\"cb057124-66eb-4d3b-8bd8-dddcd76cabb6\" style=\"display: none;\"><div style=\"display: table-cell;\"></div><div style=\"display: table-cell;\">tags&nbsp;=&nbsp;[],</div></div><div class=\"cb057124-66eb-4d3b-8bd8-dddcd76cabb6\" style=\"display: none;\"><div style=\"display: table-cell;\"></div><div style=\"display: table-cell;\">view&nbsp;=&nbsp;CDSView(id='ed67240e-ca62-4683-b5a8-428e01fd79d3', ...),</div></div><div class=\"cb057124-66eb-4d3b-8bd8-dddcd76cabb6\" style=\"display: none;\"><div style=\"display: table-cell;\"></div><div style=\"display: table-cell;\">visible&nbsp;=&nbsp;True,</div></div><div class=\"cb057124-66eb-4d3b-8bd8-dddcd76cabb6\" style=\"display: none;\"><div style=\"display: table-cell;\"></div><div style=\"display: table-cell;\">x_range_name&nbsp;=&nbsp;'default',</div></div><div class=\"cb057124-66eb-4d3b-8bd8-dddcd76cabb6\" style=\"display: none;\"><div style=\"display: table-cell;\"></div><div style=\"display: table-cell;\">y_range_name&nbsp;=&nbsp;'default')</div></div></div>\n",
       "<script>\n",
       "(function() {\n",
       "  var expanded = false;\n",
       "  var ellipsis = document.getElementById(\"39a24e62-01d3-478d-97b4-067e18601781\");\n",
       "  ellipsis.addEventListener(\"click\", function() {\n",
       "    var rows = document.getElementsByClassName(\"cb057124-66eb-4d3b-8bd8-dddcd76cabb6\");\n",
       "    for (var i = 0; i < rows.length; i++) {\n",
       "      var el = rows[i];\n",
       "      el.style.display = expanded ? \"none\" : \"table-row\";\n",
       "    }\n",
       "    ellipsis.innerHTML = expanded ? \"&hellip;)\" : \"&lsaquo;&lsaquo;&lsaquo;\";\n",
       "    expanded = !expanded;\n",
       "  });\n",
       "})();\n",
       "</script>\n"
      ],
      "text/plain": [
       "GlyphRenderer(id='1db745d9-cfee-44a7-8a51-a238a358f252', ...)"
      ]
     },
     "execution_count": 20,
     "metadata": {},
     "output_type": "execute_result"
    }
   ],
   "source": [
    "print(utter_price.shape)\n",
    "x = pca.transform(utter_price.reshape(1,-1))\n",
    "p.circle(x[0][0], x[0][1], color='black')"
   ]
  },
  {
   "cell_type": "code",
   "execution_count": 21,
   "metadata": {},
   "outputs": [
    {
     "data": {
      "text/html": [
       "\n",
       "<div class=\"bk-root\">\n",
       "    <div class=\"bk-plotdiv\" id=\"e38ee173-28d2-4a73-a4d0-aa968c67dc81\"></div>\n",
       "</div>"
      ]
     },
     "metadata": {},
     "output_type": "execute_result"
    },
    {
     "data": {},
     "metadata": {
      "application/vnd.bokehjs_exec.v0+json": {
       "id": "347ab833-a443-4459-b311-0c8692793c11"
      }
     },
     "output_type": "display_data"
    }
   ],
   "source": [
    "show(p)"
   ]
  },
  {
   "cell_type": "code",
   "execution_count": 22,
   "metadata": {},
   "outputs": [],
   "source": [
    "from collections import namedtuple"
   ]
  },
  {
   "cell_type": "code",
   "execution_count": 23,
   "metadata": {},
   "outputs": [
    {
     "data": {
      "text/plain": [
       "OrderedDict([('x', 11), ('y', 22)])"
      ]
     },
     "execution_count": 23,
     "metadata": {},
     "output_type": "execute_result"
    }
   ],
   "source": [
    "Point = namedtuple('Point', ['x', 'y'])\n",
    "p = Point(11, y=22)\n",
    "p._asdict()"
   ]
  },
  {
   "cell_type": "code",
   "execution_count": 24,
   "metadata": {},
   "outputs": [],
   "source": [
    "Point3D = namedtuple('Point3D', Point._fields + ('z',))"
   ]
  },
  {
   "cell_type": "code",
   "execution_count": 25,
   "metadata": {},
   "outputs": [
    {
     "data": {
      "text/plain": [
       "OrderedDict([('x', 11), ('y', 22), ('z', 3)])"
      ]
     },
     "execution_count": 25,
     "metadata": {},
     "output_type": "execute_result"
    }
   ],
   "source": [
    "p_asdict = p._asdict()\n",
    "p_asdict['z'] = 3\n",
    "p_asdict"
   ]
  },
  {
   "cell_type": "code",
   "execution_count": 26,
   "metadata": {},
   "outputs": [
    {
     "data": {
      "text/plain": [
       "Point3D(x=11, y=22, z=3)"
      ]
     },
     "execution_count": 26,
     "metadata": {},
     "output_type": "execute_result"
    }
   ],
   "source": [
    "p3D = Point3D(**p_asdict)\n",
    "p3D"
   ]
  },
  {
   "cell_type": "code",
   "execution_count": 27,
   "metadata": {},
   "outputs": [],
   "source": [
    "x ={\n",
    "        \"day\": \"20\",\n",
    "        \"month\": \"06\",\n",
    "        \"year\": \"2018\"\n",
    "    }"
   ]
  },
  {
   "cell_type": "code",
   "execution_count": 28,
   "metadata": {},
   "outputs": [
    {
     "data": {
      "text/plain": [
       "{'day': '20', 'month': '06', 'year': '2018'}"
      ]
     },
     "execution_count": 28,
     "metadata": {},
     "output_type": "execute_result"
    }
   ],
   "source": [
    "x"
   ]
  },
  {
   "cell_type": "code",
   "execution_count": 29,
   "metadata": {},
   "outputs": [
    {
     "data": {
      "text/plain": [
       "{'touched': True, 'value': {'value1': '20', 'value2': '06', 'value3': '2018'}}"
      ]
     },
     "execution_count": 29,
     "metadata": {},
     "output_type": "execute_result"
    }
   ],
   "source": [
    "def value_touched_dict(value):\n",
    "    if isinstance(value, dict) and value.get(\"day\"):\n",
    "        value[\"value1\"] = value.pop(\"day\")\n",
    "        value[\"value2\"] = value.pop(\"month\")\n",
    "        value[\"value3\"] = value.pop(\"year\")\n",
    "    return {\"value\": value,\n",
    "            \"touched\": True}\n",
    "value_touched_dict(x)"
   ]
  },
  {
   "cell_type": "code",
   "execution_count": 30,
   "metadata": {},
   "outputs": [
    {
     "data": {
      "text/plain": [
       "{'touched': True, 'value': 'x'}"
      ]
     },
     "execution_count": 30,
     "metadata": {},
     "output_type": "execute_result"
    }
   ],
   "source": [
    "value_touched_dict('x')"
   ]
  },
  {
   "cell_type": "code",
   "execution_count": null,
   "metadata": {},
   "outputs": [],
   "source": []
  }
 ],
 "metadata": {
  "kernelspec": {
   "display_name": "Python 3",
   "language": "python",
   "name": "python3"
  },
  "language_info": {
   "codemirror_mode": {
    "name": "ipython",
    "version": 3
   },
   "file_extension": ".py",
   "mimetype": "text/x-python",
   "name": "python",
   "nbconvert_exporter": "python",
   "pygments_lexer": "ipython3",
   "version": "3.6.5"
  }
 },
 "nbformat": 4,
 "nbformat_minor": 2
}
