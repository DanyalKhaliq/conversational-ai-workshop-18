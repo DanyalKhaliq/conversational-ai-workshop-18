{
 "cells": [
  {
   "cell_type": "code",
   "execution_count": 42,
   "metadata": {},
   "outputs": [
    {
     "name": "stdout",
     "output_type": "stream",
     "text": [
      "INFO:tensorflow:Restoring parameters from models/dialogue_embed/policy_0_EmbeddingPolicy/tensorflow_embedding.ckpt\n"
     ]
    },
    {
     "data": {
      "text/html": [
       "\n",
       "    <div class=\"bk-root\">\n",
       "        <a href=\"https://bokeh.pydata.org\" target=\"_blank\" class=\"bk-logo bk-logo-small bk-logo-notebook\"></a>\n",
       "        <span id=\"1314\">Loading BokehJS ...</span>\n",
       "    </div>"
      ]
     },
     "metadata": {},
     "output_type": "display_data"
    },
    {
     "data": {
      "application/javascript": [
       "\n",
       "(function(root) {\n",
       "  function now() {\n",
       "    return new Date();\n",
       "  }\n",
       "\n",
       "  var force = true;\n",
       "\n",
       "  if (typeof (root._bokeh_onload_callbacks) === \"undefined\" || force === true) {\n",
       "    root._bokeh_onload_callbacks = [];\n",
       "    root._bokeh_is_loading = undefined;\n",
       "  }\n",
       "\n",
       "  var JS_MIME_TYPE = 'application/javascript';\n",
       "  var HTML_MIME_TYPE = 'text/html';\n",
       "  var EXEC_MIME_TYPE = 'application/vnd.bokehjs_exec.v0+json';\n",
       "  var CLASS_NAME = 'output_bokeh rendered_html';\n",
       "\n",
       "  /**\n",
       "   * Render data to the DOM node\n",
       "   */\n",
       "  function render(props, node) {\n",
       "    var script = document.createElement(\"script\");\n",
       "    node.appendChild(script);\n",
       "  }\n",
       "\n",
       "  /**\n",
       "   * Handle when an output is cleared or removed\n",
       "   */\n",
       "  function handleClearOutput(event, handle) {\n",
       "    var cell = handle.cell;\n",
       "\n",
       "    var id = cell.output_area._bokeh_element_id;\n",
       "    var server_id = cell.output_area._bokeh_server_id;\n",
       "    // Clean up Bokeh references\n",
       "    if (id != null && id in Bokeh.index) {\n",
       "      Bokeh.index[id].model.document.clear();\n",
       "      delete Bokeh.index[id];\n",
       "    }\n",
       "\n",
       "    if (server_id !== undefined) {\n",
       "      // Clean up Bokeh references\n",
       "      var cmd = \"from bokeh.io.state import curstate; print(curstate().uuid_to_server['\" + server_id + \"'].get_sessions()[0].document.roots[0]._id)\";\n",
       "      cell.notebook.kernel.execute(cmd, {\n",
       "        iopub: {\n",
       "          output: function(msg) {\n",
       "            var id = msg.content.text.trim();\n",
       "            if (id in Bokeh.index) {\n",
       "              Bokeh.index[id].model.document.clear();\n",
       "              delete Bokeh.index[id];\n",
       "            }\n",
       "          }\n",
       "        }\n",
       "      });\n",
       "      // Destroy server and session\n",
       "      var cmd = \"import bokeh.io.notebook as ion; ion.destroy_server('\" + server_id + \"')\";\n",
       "      cell.notebook.kernel.execute(cmd);\n",
       "    }\n",
       "  }\n",
       "\n",
       "  /**\n",
       "   * Handle when a new output is added\n",
       "   */\n",
       "  function handleAddOutput(event, handle) {\n",
       "    var output_area = handle.output_area;\n",
       "    var output = handle.output;\n",
       "\n",
       "    // limit handleAddOutput to display_data with EXEC_MIME_TYPE content only\n",
       "    if ((output.output_type != \"display_data\") || (!output.data.hasOwnProperty(EXEC_MIME_TYPE))) {\n",
       "      return\n",
       "    }\n",
       "\n",
       "    var toinsert = output_area.element.find(\".\" + CLASS_NAME.split(' ')[0]);\n",
       "\n",
       "    if (output.metadata[EXEC_MIME_TYPE][\"id\"] !== undefined) {\n",
       "      toinsert[toinsert.length - 1].firstChild.textContent = output.data[JS_MIME_TYPE];\n",
       "      // store reference to embed id on output_area\n",
       "      output_area._bokeh_element_id = output.metadata[EXEC_MIME_TYPE][\"id\"];\n",
       "    }\n",
       "    if (output.metadata[EXEC_MIME_TYPE][\"server_id\"] !== undefined) {\n",
       "      var bk_div = document.createElement(\"div\");\n",
       "      bk_div.innerHTML = output.data[HTML_MIME_TYPE];\n",
       "      var script_attrs = bk_div.children[0].attributes;\n",
       "      for (var i = 0; i < script_attrs.length; i++) {\n",
       "        toinsert[toinsert.length - 1].firstChild.setAttribute(script_attrs[i].name, script_attrs[i].value);\n",
       "      }\n",
       "      // store reference to server id on output_area\n",
       "      output_area._bokeh_server_id = output.metadata[EXEC_MIME_TYPE][\"server_id\"];\n",
       "    }\n",
       "  }\n",
       "\n",
       "  function register_renderer(events, OutputArea) {\n",
       "\n",
       "    function append_mime(data, metadata, element) {\n",
       "      // create a DOM node to render to\n",
       "      var toinsert = this.create_output_subarea(\n",
       "        metadata,\n",
       "        CLASS_NAME,\n",
       "        EXEC_MIME_TYPE\n",
       "      );\n",
       "      this.keyboard_manager.register_events(toinsert);\n",
       "      // Render to node\n",
       "      var props = {data: data, metadata: metadata[EXEC_MIME_TYPE]};\n",
       "      render(props, toinsert[toinsert.length - 1]);\n",
       "      element.append(toinsert);\n",
       "      return toinsert\n",
       "    }\n",
       "\n",
       "    /* Handle when an output is cleared or removed */\n",
       "    events.on('clear_output.CodeCell', handleClearOutput);\n",
       "    events.on('delete.Cell', handleClearOutput);\n",
       "\n",
       "    /* Handle when a new output is added */\n",
       "    events.on('output_added.OutputArea', handleAddOutput);\n",
       "\n",
       "    /**\n",
       "     * Register the mime type and append_mime function with output_area\n",
       "     */\n",
       "    OutputArea.prototype.register_mime_type(EXEC_MIME_TYPE, append_mime, {\n",
       "      /* Is output safe? */\n",
       "      safe: true,\n",
       "      /* Index of renderer in `output_area.display_order` */\n",
       "      index: 0\n",
       "    });\n",
       "  }\n",
       "\n",
       "  // register the mime type if in Jupyter Notebook environment and previously unregistered\n",
       "  if (root.Jupyter !== undefined) {\n",
       "    var events = require('base/js/events');\n",
       "    var OutputArea = require('notebook/js/outputarea').OutputArea;\n",
       "\n",
       "    if (OutputArea.prototype.mime_types().indexOf(EXEC_MIME_TYPE) == -1) {\n",
       "      register_renderer(events, OutputArea);\n",
       "    }\n",
       "  }\n",
       "\n",
       "  \n",
       "  if (typeof (root._bokeh_timeout) === \"undefined\" || force === true) {\n",
       "    root._bokeh_timeout = Date.now() + 5000;\n",
       "    root._bokeh_failed_load = false;\n",
       "  }\n",
       "\n",
       "  var NB_LOAD_WARNING = {'data': {'text/html':\n",
       "     \"<div style='background-color: #fdd'>\\n\"+\n",
       "     \"<p>\\n\"+\n",
       "     \"BokehJS does not appear to have successfully loaded. If loading BokehJS from CDN, this \\n\"+\n",
       "     \"may be due to a slow or bad network connection. Possible fixes:\\n\"+\n",
       "     \"</p>\\n\"+\n",
       "     \"<ul>\\n\"+\n",
       "     \"<li>re-rerun `output_notebook()` to attempt to load from CDN again, or</li>\\n\"+\n",
       "     \"<li>use INLINE resources instead, as so:</li>\\n\"+\n",
       "     \"</ul>\\n\"+\n",
       "     \"<code>\\n\"+\n",
       "     \"from bokeh.resources import INLINE\\n\"+\n",
       "     \"output_notebook(resources=INLINE)\\n\"+\n",
       "     \"</code>\\n\"+\n",
       "     \"</div>\"}};\n",
       "\n",
       "  function display_loaded() {\n",
       "    var el = document.getElementById(\"1314\");\n",
       "    if (el != null) {\n",
       "      el.textContent = \"BokehJS is loading...\";\n",
       "    }\n",
       "    if (root.Bokeh !== undefined) {\n",
       "      if (el != null) {\n",
       "        el.textContent = \"BokehJS \" + root.Bokeh.version + \" successfully loaded.\";\n",
       "      }\n",
       "    } else if (Date.now() < root._bokeh_timeout) {\n",
       "      setTimeout(display_loaded, 100)\n",
       "    }\n",
       "  }\n",
       "\n",
       "\n",
       "  function run_callbacks() {\n",
       "    try {\n",
       "      root._bokeh_onload_callbacks.forEach(function(callback) { callback() });\n",
       "    }\n",
       "    finally {\n",
       "      delete root._bokeh_onload_callbacks\n",
       "    }\n",
       "    console.info(\"Bokeh: all callbacks have finished\");\n",
       "  }\n",
       "\n",
       "  function load_libs(js_urls, callback) {\n",
       "    root._bokeh_onload_callbacks.push(callback);\n",
       "    if (root._bokeh_is_loading > 0) {\n",
       "      console.log(\"Bokeh: BokehJS is being loaded, scheduling callback at\", now());\n",
       "      return null;\n",
       "    }\n",
       "    if (js_urls == null || js_urls.length === 0) {\n",
       "      run_callbacks();\n",
       "      return null;\n",
       "    }\n",
       "    console.log(\"Bokeh: BokehJS not loaded, scheduling load and callback at\", now());\n",
       "    root._bokeh_is_loading = js_urls.length;\n",
       "    for (var i = 0; i < js_urls.length; i++) {\n",
       "      var url = js_urls[i];\n",
       "      var s = document.createElement('script');\n",
       "      s.src = url;\n",
       "      s.async = false;\n",
       "      s.onreadystatechange = s.onload = function() {\n",
       "        root._bokeh_is_loading--;\n",
       "        if (root._bokeh_is_loading === 0) {\n",
       "          console.log(\"Bokeh: all BokehJS libraries loaded\");\n",
       "          run_callbacks()\n",
       "        }\n",
       "      };\n",
       "      s.onerror = function() {\n",
       "        console.warn(\"failed to load library \" + url);\n",
       "      };\n",
       "      console.log(\"Bokeh: injecting script tag for BokehJS library: \", url);\n",
       "      document.getElementsByTagName(\"head\")[0].appendChild(s);\n",
       "    }\n",
       "  };var element = document.getElementById(\"1314\");\n",
       "  if (element == null) {\n",
       "    console.log(\"Bokeh: ERROR: autoload.js configured with elementid '1314' but no matching script tag was found. \")\n",
       "    return false;\n",
       "  }\n",
       "\n",
       "  var js_urls = [\"https://cdn.pydata.org/bokeh/release/bokeh-1.0.4.min.js\", \"https://cdn.pydata.org/bokeh/release/bokeh-widgets-1.0.4.min.js\", \"https://cdn.pydata.org/bokeh/release/bokeh-tables-1.0.4.min.js\", \"https://cdn.pydata.org/bokeh/release/bokeh-gl-1.0.4.min.js\"];\n",
       "\n",
       "  var inline_js = [\n",
       "    function(Bokeh) {\n",
       "      Bokeh.set_log_level(\"info\");\n",
       "    },\n",
       "    \n",
       "    function(Bokeh) {\n",
       "      \n",
       "    },\n",
       "    function(Bokeh) {\n",
       "      console.log(\"Bokeh: injecting CSS: https://cdn.pydata.org/bokeh/release/bokeh-1.0.4.min.css\");\n",
       "      Bokeh.embed.inject_css(\"https://cdn.pydata.org/bokeh/release/bokeh-1.0.4.min.css\");\n",
       "      console.log(\"Bokeh: injecting CSS: https://cdn.pydata.org/bokeh/release/bokeh-widgets-1.0.4.min.css\");\n",
       "      Bokeh.embed.inject_css(\"https://cdn.pydata.org/bokeh/release/bokeh-widgets-1.0.4.min.css\");\n",
       "      console.log(\"Bokeh: injecting CSS: https://cdn.pydata.org/bokeh/release/bokeh-tables-1.0.4.min.css\");\n",
       "      Bokeh.embed.inject_css(\"https://cdn.pydata.org/bokeh/release/bokeh-tables-1.0.4.min.css\");\n",
       "    }\n",
       "  ];\n",
       "\n",
       "  function run_inline_js() {\n",
       "    \n",
       "    if ((root.Bokeh !== undefined) || (force === true)) {\n",
       "      for (var i = 0; i < inline_js.length; i++) {\n",
       "        inline_js[i].call(root, root.Bokeh);\n",
       "      }if (force === true) {\n",
       "        display_loaded();\n",
       "      }} else if (Date.now() < root._bokeh_timeout) {\n",
       "      setTimeout(run_inline_js, 100);\n",
       "    } else if (!root._bokeh_failed_load) {\n",
       "      console.log(\"Bokeh: BokehJS failed to load within specified timeout.\");\n",
       "      root._bokeh_failed_load = true;\n",
       "    } else if (force !== true) {\n",
       "      var cell = $(document.getElementById(\"1314\")).parents('.cell').data().cell;\n",
       "      cell.output_area.append_execute_result(NB_LOAD_WARNING)\n",
       "    }\n",
       "\n",
       "  }\n",
       "\n",
       "  if (root._bokeh_is_loading === 0) {\n",
       "    console.log(\"Bokeh: BokehJS loaded, going straight to plotting\");\n",
       "    run_inline_js();\n",
       "  } else {\n",
       "    load_libs(js_urls, function() {\n",
       "      console.log(\"Bokeh: BokehJS plotting callback run at\", now());\n",
       "      run_inline_js();\n",
       "    });\n",
       "  }\n",
       "}(window));"
      ],
      "application/vnd.bokehjs_load.v0+json": "\n(function(root) {\n  function now() {\n    return new Date();\n  }\n\n  var force = true;\n\n  if (typeof (root._bokeh_onload_callbacks) === \"undefined\" || force === true) {\n    root._bokeh_onload_callbacks = [];\n    root._bokeh_is_loading = undefined;\n  }\n\n  \n\n  \n  if (typeof (root._bokeh_timeout) === \"undefined\" || force === true) {\n    root._bokeh_timeout = Date.now() + 5000;\n    root._bokeh_failed_load = false;\n  }\n\n  var NB_LOAD_WARNING = {'data': {'text/html':\n     \"<div style='background-color: #fdd'>\\n\"+\n     \"<p>\\n\"+\n     \"BokehJS does not appear to have successfully loaded. If loading BokehJS from CDN, this \\n\"+\n     \"may be due to a slow or bad network connection. Possible fixes:\\n\"+\n     \"</p>\\n\"+\n     \"<ul>\\n\"+\n     \"<li>re-rerun `output_notebook()` to attempt to load from CDN again, or</li>\\n\"+\n     \"<li>use INLINE resources instead, as so:</li>\\n\"+\n     \"</ul>\\n\"+\n     \"<code>\\n\"+\n     \"from bokeh.resources import INLINE\\n\"+\n     \"output_notebook(resources=INLINE)\\n\"+\n     \"</code>\\n\"+\n     \"</div>\"}};\n\n  function display_loaded() {\n    var el = document.getElementById(\"1314\");\n    if (el != null) {\n      el.textContent = \"BokehJS is loading...\";\n    }\n    if (root.Bokeh !== undefined) {\n      if (el != null) {\n        el.textContent = \"BokehJS \" + root.Bokeh.version + \" successfully loaded.\";\n      }\n    } else if (Date.now() < root._bokeh_timeout) {\n      setTimeout(display_loaded, 100)\n    }\n  }\n\n\n  function run_callbacks() {\n    try {\n      root._bokeh_onload_callbacks.forEach(function(callback) { callback() });\n    }\n    finally {\n      delete root._bokeh_onload_callbacks\n    }\n    console.info(\"Bokeh: all callbacks have finished\");\n  }\n\n  function load_libs(js_urls, callback) {\n    root._bokeh_onload_callbacks.push(callback);\n    if (root._bokeh_is_loading > 0) {\n      console.log(\"Bokeh: BokehJS is being loaded, scheduling callback at\", now());\n      return null;\n    }\n    if (js_urls == null || js_urls.length === 0) {\n      run_callbacks();\n      return null;\n    }\n    console.log(\"Bokeh: BokehJS not loaded, scheduling load and callback at\", now());\n    root._bokeh_is_loading = js_urls.length;\n    for (var i = 0; i < js_urls.length; i++) {\n      var url = js_urls[i];\n      var s = document.createElement('script');\n      s.src = url;\n      s.async = false;\n      s.onreadystatechange = s.onload = function() {\n        root._bokeh_is_loading--;\n        if (root._bokeh_is_loading === 0) {\n          console.log(\"Bokeh: all BokehJS libraries loaded\");\n          run_callbacks()\n        }\n      };\n      s.onerror = function() {\n        console.warn(\"failed to load library \" + url);\n      };\n      console.log(\"Bokeh: injecting script tag for BokehJS library: \", url);\n      document.getElementsByTagName(\"head\")[0].appendChild(s);\n    }\n  };var element = document.getElementById(\"1314\");\n  if (element == null) {\n    console.log(\"Bokeh: ERROR: autoload.js configured with elementid '1314' but no matching script tag was found. \")\n    return false;\n  }\n\n  var js_urls = [\"https://cdn.pydata.org/bokeh/release/bokeh-1.0.4.min.js\", \"https://cdn.pydata.org/bokeh/release/bokeh-widgets-1.0.4.min.js\", \"https://cdn.pydata.org/bokeh/release/bokeh-tables-1.0.4.min.js\", \"https://cdn.pydata.org/bokeh/release/bokeh-gl-1.0.4.min.js\"];\n\n  var inline_js = [\n    function(Bokeh) {\n      Bokeh.set_log_level(\"info\");\n    },\n    \n    function(Bokeh) {\n      \n    },\n    function(Bokeh) {\n      console.log(\"Bokeh: injecting CSS: https://cdn.pydata.org/bokeh/release/bokeh-1.0.4.min.css\");\n      Bokeh.embed.inject_css(\"https://cdn.pydata.org/bokeh/release/bokeh-1.0.4.min.css\");\n      console.log(\"Bokeh: injecting CSS: https://cdn.pydata.org/bokeh/release/bokeh-widgets-1.0.4.min.css\");\n      Bokeh.embed.inject_css(\"https://cdn.pydata.org/bokeh/release/bokeh-widgets-1.0.4.min.css\");\n      console.log(\"Bokeh: injecting CSS: https://cdn.pydata.org/bokeh/release/bokeh-tables-1.0.4.min.css\");\n      Bokeh.embed.inject_css(\"https://cdn.pydata.org/bokeh/release/bokeh-tables-1.0.4.min.css\");\n    }\n  ];\n\n  function run_inline_js() {\n    \n    if ((root.Bokeh !== undefined) || (force === true)) {\n      for (var i = 0; i < inline_js.length; i++) {\n        inline_js[i].call(root, root.Bokeh);\n      }if (force === true) {\n        display_loaded();\n      }} else if (Date.now() < root._bokeh_timeout) {\n      setTimeout(run_inline_js, 100);\n    } else if (!root._bokeh_failed_load) {\n      console.log(\"Bokeh: BokehJS failed to load within specified timeout.\");\n      root._bokeh_failed_load = true;\n    } else if (force !== true) {\n      var cell = $(document.getElementById(\"1314\")).parents('.cell').data().cell;\n      cell.output_area.append_execute_result(NB_LOAD_WARNING)\n    }\n\n  }\n\n  if (root._bokeh_is_loading === 0) {\n    console.log(\"Bokeh: BokehJS loaded, going straight to plotting\");\n    run_inline_js();\n  } else {\n    load_libs(js_urls, function() {\n      console.log(\"Bokeh: BokehJS plotting callback run at\", now());\n      run_inline_js();\n    });\n  }\n}(window));"
     },
     "metadata": {},
     "output_type": "display_data"
    }
   ],
   "source": [
    "import rasa_core\n",
    "from rasa_core.agent import Agent\n",
    "from bokeh.io import output_notebook\n",
    "agent = Agent.load(\"models/dialogue_embed\")\n",
    "# agent = Agent.load(\"models/dialogue_embed_before_norm_loss\")\n",
    "output_notebook()"
   ]
  },
  {
   "cell_type": "code",
   "execution_count": 41,
   "metadata": {},
   "outputs": [
    {
     "name": "stdout",
     "output_type": "stream",
     "text": [
      "/Users/paulawesselmann/anaconda3/envs/new.6/bin/python3\r\n"
     ]
    }
   ],
   "source": [
    "! which python3"
   ]
  },
  {
   "cell_type": "code",
   "execution_count": 2,
   "metadata": {},
   "outputs": [
    {
     "data": {
      "text/plain": [
       "'0.13.1'"
      ]
     },
     "execution_count": 2,
     "metadata": {},
     "output_type": "execute_result"
    }
   ],
   "source": [
    "import rasa_core\n",
    "rasa_core.__version__"
   ]
  },
  {
   "cell_type": "code",
   "execution_count": 2,
   "metadata": {},
   "outputs": [
    {
     "name": "stdout",
     "output_type": "stream",
     "text": [
      "False\n"
     ]
    }
   ],
   "source": [
    "policy = agent.policy_ensemble.policies[0]\n",
    "interpreter = agent.interpreter\n",
    "print(policy.sparse_attention)"
   ]
  },
  {
   "cell_type": "code",
   "execution_count": 3,
   "metadata": {
    "collapsed": true
   },
   "outputs": [],
   "source": [
    "domain = agent.domain\n"
   ]
  },
  {
   "cell_type": "code",
   "execution_count": 4,
   "metadata": {
    "collapsed": true
   },
   "outputs": [],
   "source": [
    "from rasa_core.training.structures import StoryGraph\n",
    "from rasa_core.training.dsl import StoryFileReader\n",
    "from rasa_core.trackers import DialogueStateTracker\n",
    "from rasa_core.channels import UserMessage\n",
    "import numpy as np\n",
    "np.set_printoptions(precision=3, suppress=True)\n",
    "\n",
    "def embedding_from_tracker(story, bot=False, predict_only=False):\n",
    "    reader = StoryFileReader(domain, interpreter)\n",
    "    story = story.split('\\n')\n",
    "    story_steps = reader.process_lines(story)\n",
    "#     story_graph = StoryGraph(story_steps)\n",
    "    tracker = DialogueStateTracker(\n",
    "            1,\n",
    "            domain.slots\n",
    "    )\n",
    "    tracker._reset()\n",
    "    for step in story_steps:\n",
    "        events = step.explicit_events(domain)\n",
    "        for event in events[:-1]:\n",
    "            tracker.update(event)\n",
    "\n",
    "    if predict_only:\n",
    "        return policy.predict_action_probabilities(tracker, domain)\n",
    "\n",
    "    feed_dict=policy.tf_feed_dict_for_prediction(tracker, domain)\n",
    "\n",
    "    dial_vec = policy.session.run(policy.dial_embed, feed_dict=feed_dict)\n",
    "    bot_vec = policy.session.run(policy.bot_embed, feed_dict=feed_dict)\n",
    "\n",
    "    no_skip_gate = policy.session.run(policy.copy_attn_debug, feed_dict=feed_dict)\n",
    "    attn_embed = policy.session.run(policy.attn_embed, feed_dict=feed_dict)\n",
    "    rnn_embed = policy.session.run(policy.rnn_embed, feed_dict=feed_dict)\n",
    "    probs = policy.session.run(policy.alignment_history, feed_dict=feed_dict)\n",
    "    if policy.all_time_masks is not None:\n",
    "        time_mask = policy.session.run(policy.all_time_masks, feed_dict=feed_dict)\n",
    "    else:\n",
    "        time_mask = None\n",
    "    if policy.topics is not None:\n",
    "        topics = policy.session.run(policy.topics, feed_dict=feed_dict)\n",
    "    else:\n",
    "        topics = None\n",
    "    cell_state = policy.session.run(policy.cell_state, feed_dict=feed_dict)\n",
    "    if probs.shape[2] == 2 * probs.shape[1]:\n",
    "        user_probs = probs[0, -1, :int(probs.shape[2]/2)]\n",
    "        bot_probs = probs[0, -1, int(probs.shape[2]/2):]\n",
    "    else:\n",
    "        user_probs = probs[0, -1, :]\n",
    "        bot_probs = []\n",
    "\n",
    "    sims = policy.session.run(policy.sim_op, feed_dict=feed_dict)\n",
    "    if bot is False:\n",
    "        sims1 = policy.predict_action_probabilities(tracker, domain)\n",
    "\n",
    "    del tracker\n",
    "#     print(np.shape(dial_vec))\n",
    "\n",
    "    if bot is False:\n",
    "        return (dial_vec[0,-1,:],\n",
    "                no_skip_gate[0,-1,:],\n",
    "                attn_embed[0,-1,:],\n",
    "                rnn_embed[0,-1,:],\n",
    "                [user_probs, bot_probs, time_mask[0,-1,:] if time_mask is not None else time_mask],\n",
    "                sims[0,-1,:],\n",
    "                sims1,\n",
    "                topics[0] if topics is not None else topics,\n",
    "                cell_state[0]\n",
    "               )\n",
    "    else:\n",
    "        return (dial_vec[0,-1,:],\n",
    "                sims[0,-1,:],\n",
    "                bot_vec[0,-1,:,:])\n",
    "    \n",
    "def make_prediction(story):\n",
    "    dial, sim0, bot = embedding_from_tracker(story, bot=True)\n",
    "    abs_vals = np.array([np.absolute(vec) for vec in bot])\n",
    "    norms = np.apply_along_axis(np.linalg.norm, 1, bot)\n",
    "    sims = np.dot(bot, dial)/norms\n",
    "#     name = domain.action_for_index(np.argmax(sims)).name()\n",
    "#     print(name)\n",
    "    name = domain.action_names[np.argmax(sim0)]\n",
    "#     print(name)\n",
    "#     print('---')\n",
    "#     ids = sim0.argsort()[::-1]\n",
    "#     print(ids)\n",
    "#     print(sims[ids])\n",
    "    return '- ' + name, np.max(sim0)\n",
    "#     print(dial.shape, bot.shape)"
   ]
  },
  {
   "cell_type": "code",
   "execution_count": 5,
   "metadata": {
    "collapsed": true
   },
   "outputs": [],
   "source": [
    "# print(domain.intents)\n",
    "story_block = \"\"\"* request_hotel\n",
    "    - utter_ask_details\n",
    "* chitchat\n",
    "    - utter_chitchat\n",
    "    - utter_ask_details\n",
    "* inform{\"enddate\": \"May 26th\"}\n",
    "    - slot{\"enddate\": \"May 26th\"}\n",
    "    - utter_ask_startdate\n",
    "* inform{\"startdate\": \"next week\"}\n",
    "    - slot{\"startdate\": \"next week\"}\n",
    "    - utter_ask_location\n",
    "* correct{\"startdate\": \"next week\"}\n",
    "    - slot{\"startdate\": \"next week\"}\n",
    "    - utter_correct_startdate_hotel\n",
    "    - utter_ask_location\n",
    "* explain\n",
    "    - utter_explain_location_hotel\n",
    "    - utter_ask_location\n",
    "* inform{\"location\": \"rome\"}\n",
    "    - slot{\"location\": \"rome\"}\n",
    "    - utter_ask_price\n",
    "* chitchat\n",
    "    - utter_chitchat\n",
    "    - utter_ask_price\n",
    "* chitchat\n",
    "    - utter_chitchat\n",
    "    - utter_ask_price\n",
    "* chitchat\n",
    "    - utter_chitchat\n",
    "    - utter_ask_price\n",
    "* chitchat\n",
    "    - utter_chitchat\n",
    "    - utter_ask_price\n",
    "* explain\n",
    "    - utter_explain_price_hotel\n",
    "    - utter_ask_price\n",
    "* inform{\"price\": \"expensive\"}\n",
    "    - utter_ask_people\n",
    "* inform{\"people\": \"4\"}\n",
    "    - utter_filled_slots\n",
    "    - action_search_hotel\n",
    "    - slot{\"hotel\": \"hotel\"}\n",
    "    - utter_suggest_hotel\n",
    "* chitchat\n",
    "    - utter_chitchat\n",
    "    - utter_suggest_hotel\n",
    "* correct{\"people\": \"2\"}\n",
    "    - slot{\"people\": \"2\"}\n",
    "    - correct: utter_correct_people_hotel\n",
    "    - correct: action_search_hotel\n",
    "    - slot{\"hotel\": \"hotel\"}\n",
    "    - correct: utter_suggest_hotel\n",
    "* affirm\n",
    "    - utter_happy\n",
    "* request_restaurant\n",
    "    - restaurant: utter_ask_details\n",
    "* inform{\"people\": \"4\"}\n",
    "    - slot{\"people\": \"4\"}\n",
    "    - restaurant: utter_ask_location\n",
    "* inform{\"location\": \"paris\"}\n",
    "    - slot{\"location\": \"paris\"}\n",
    "    - restaurant: utter_ask_price\n",
    "* explain\n",
    "    - explain: utter_explain_price_restaurant\n",
    "    - explain: utter_ask_price\n",
    "* did_that_work\n",
    "    - did_that_work: utter_more_info_restaurant\n",
    "    - did_that_work: utter_ask_price\n",
    "* correct{\"location\": \"london\"}\n",
    "    - slot{\"location\": \"london\"}\n",
    "    - correct: utter_correct_location_restaurant\n",
    "    - correct: utter_ask_price\n",
    "* inform{\"price\": \"expensive\"}\n",
    "    - restaurant: utter_ask_cuisine\n",
    "* inform{\"cuisine\": \"italian\"}\n",
    "    - restaurant: utter_filled_slots\n",
    "    - restaurant: action_search_restaurant\n",
    "    - slot{\"restaurant\": \"restaurant\"}\n",
    "    - restaurant: utter_suggest_restaurant\n",
    "* affirm\n",
    "    - restaurant: utter_happy\"\"\""
   ]
  },
  {
   "cell_type": "code",
   "execution_count": 6,
   "metadata": {
    "collapsed": true
   },
   "outputs": [],
   "source": [
    "# story_block = \"\"\"* request_restaurant\n",
    "#     - restaurant: utter_ask_details\n",
    "# * inform{\"people\": \"4\"}\n",
    "#     - slot{\"people\": \"4\"}\n",
    "#     - restaurant: utter_ask_location\n",
    "# * inform{\"location\": \"paris\"}\n",
    "#     - slot{\"location\": \"paris\"}\n",
    "#     - restaurant: utter_ask_price\n",
    "# * explain\n",
    "#     - explain: utter_explain_price_restaurant\n",
    "#     - explain: utter_ask_price\n",
    "# * did_that_work\n",
    "#     - did_that_work: utter_more_info_restaurant\n",
    "#     - did_that_work: utter_ask_price\n",
    "# * correct{\"location\": \"london\"}\n",
    "#     - slot{\"location\": \"london\"}\n",
    "#     - correct: utter_correct_location_restaurant\n",
    "#     - correct: utter_ask_price\n",
    "# * inform{\"price\": \"expensive\"}\n",
    "#     - restaurant: utter_ask_cuisine\n",
    "# * inform{\"cuisine\": \"italian\"}\n",
    "#     - restaurant: utter_filled_slots\n",
    "#     - restaurant: action_search_restaurant\n",
    "#     - slot{\"restaurant\": \"restaurant\"}\n",
    "#     - restaurant: utter_suggest_restaurant\n",
    "# * affirm\n",
    "#     - restaurant: utter_happy\"\"\""
   ]
  },
  {
   "cell_type": "code",
   "execution_count": 7,
   "metadata": {
    "collapsed": true
   },
   "outputs": [],
   "source": [
    "# story_block = \"\"\"* request_hotel\n",
    "#     - utter_ask_details\n",
    "#     - slot{\"hotel\": null}\n",
    "# * inform{\"price\": \"mid-range\"}\n",
    "#     - slot{\"price\": \"mid-range\"}\n",
    "#     - slot{\"price\": \"mid-range\"}\n",
    "#     - utter_ask_people\n",
    "# * correct{\"price\": \"cheap\"}\n",
    "#     - slot{\"price\": \"cheap\"}\n",
    "#     - slot{\"price\": \"cheap\"}\n",
    "#     - utter_correct_price_hotel\n",
    "#     - utter_ask_people\n",
    "# * explain\n",
    "#     - utter_explain_people_hotel\n",
    "#     - utter_ask_people\n",
    "# * explain\n",
    "#     - utter_explain_people_hotel\n",
    "#     - utter_ask_people\n",
    "# * inform{\"people\": \"2\"}\n",
    "#     - slot{\"people\": \"2\"}\n",
    "#     - slot{\"people\": \"2\"}\n",
    "#     - utter_ask_startdate\n",
    "# * did_that_work\n",
    "#     - utter_more_info_hotel\n",
    "#     - utter_ask_startdate\n",
    "# * explain\n",
    "#     - utter_explain_startdate_hotel\n",
    "#     - utter_ask_startdate\n",
    "# * correct{\"people\": \"4\"}\n",
    "#     - slot{\"people\": \"4\"}\n",
    "#     - slot{\"people\": \"4\"}\n",
    "#     - utter_correct_people_hotel\n",
    "#     - utter_ask_startdate\n",
    "# * inform{\"startdate\": \"10.03.2018\"}\n",
    "#     - slot{\"startdate\": \"10.03.2018\"}\n",
    "#     - utter_ask_enddate\n",
    "# * inform{\"enddate\": \"10.03.2018\"}\n",
    "#     - slot{\"enddate\": \"10.03.2018\"}\n",
    "#     - utter_ask_location   <!-- predicted: utter_explain_location_hotel -->\n",
    "# * did_that_work\n",
    "#     - utter_more_info_hotel\n",
    "#     - utter_ask_location\n",
    "# * chitchat\n",
    "#     - utter_chitchat\n",
    "#     - utter_ask_location\n",
    "# * inform{\"location\": \"paris\"}\n",
    "#     - slot{\"location\": \"paris\"}\n",
    "#     - utter_filled_slots\n",
    "#     - action_search_hotel\n",
    "#     - slot{\"hotel\": \"hotel\"}\n",
    "#     - utter_suggest_hotel\n",
    "# * did_that_work\n",
    "#     - utter_worked_hotel\n",
    "#     - utter_suggest_hotel\n",
    "# * affirm\n",
    "#     - utter_happy\"\"\""
   ]
  },
  {
   "cell_type": "code",
   "execution_count": 8,
   "metadata": {},
   "outputs": [
    {
     "name": "stdout",
     "output_type": "stream",
     "text": [
      "81\n",
      "44\n",
      "20\n"
     ]
    }
   ],
   "source": [
    "print(len(story_block.split('\\n')))\n",
    "cool_list = []\n",
    "lines = story_block.split('\\n')\n",
    "for idx, line in enumerate(lines):\n",
    "    if idx == len(lines)-1:\n",
    "        continue\n",
    "    if '*' in lines[idx+1] or 'slot{' in lines[idx+1]:\n",
    "#     if 'slot{' in lines[idx+1]:\n",
    "        continue\n",
    "    sub_story = '\\n'.join(lines[:idx+1])\n",
    "    (dial, not_skip, attn, rnn, probs, sims, sims1, topic, cell_state\n",
    "    ) = embedding_from_tracker(\"#generate story\\n{}\".format(sub_story))\n",
    "#     print(np.max(sims), np.max(sims1))\n",
    "\n",
    "    pred, sim = make_prediction(\"#generate story\\n{}\".format(sub_story))\n",
    "    cool_list.append((lines[idx+1].strip(), dial, (pred, sim, sims), not_skip, attn[-dial.shape[-1]:], rnn,\n",
    "                      probs, topic, cell_state))\n",
    "#     embedding_from_tracker(\"#generate story\\n{}\".format(sub_story), predict_only=True)\n",
    "\n",
    "print(len(cool_list))\n",
    "# print(cool_list[0][4].shape)\n",
    "#     break\n",
    "# dial = embedding_from_tracker(\"#generate story\\n{}\".format(story_block)\n",
    "# )\n",
    "# print(dial.shape)\n",
    "# print(len(story_block.split('\\n')))\n",
    "# print(probs[0, 6, :])\n",
    "print(dial.shape[-1])"
   ]
  },
  {
   "cell_type": "code",
   "execution_count": 38,
   "metadata": {},
   "outputs": [
    {
     "data": {
      "text/plain": [
       "('- utter_ask_details',\n",
       " array([-0.019,  0.024, -0.032, -0.046,  0.077, -0.146, -0.046, -0.235,\n",
       "         0.21 , -0.203,  0.038, -0.18 ,  0.085,  0.222,  0.086, -0.038,\n",
       "         0.025, -0.002, -0.085,  0.136], dtype=float32),\n",
       " ('- utter_ask_people',\n",
       "  0.87039864,\n",
       "  array([ 0.065, -0.37 , -0.172, -0.177, -0.154,  0.015,  0.02 , -0.047,\n",
       "          0.87 ,  0.287, -0.043,  0.193, -0.028, -0.093, -0.379, -0.108,\n",
       "         -0.022,  0.07 , -0.463, -0.485, -0.463, -0.331, -0.355, -0.093,\n",
       "         -0.118, -0.468, -0.49 , -0.38 , -0.471,  0.099,  0.046,  0.162,\n",
       "         -0.037, -0.165, -0.476, -0.502, -0.611, -0.618, -0.642, -0.202,\n",
       "         -0.229, -0.515, -0.611,  0.037, -0.023, -0.02 ,  0.064],\n",
       "        dtype=float32)),\n",
       " array([1.   , 1.   , 0.   , 0.   , 1.   , 0.104, 0.489, 0.33 , 0.078],\n",
       "       dtype=float32),\n",
       " array([ 0.006,  0.01 ,  0.013, -0.005,  0.012,  0.001,  0.006, -0.018,\n",
       "         0.001,  0.024, -0.015, -0.001, -0.014,  0.013,  0.004,  0.025,\n",
       "        -0.031, -0.009,  0.025,  0.007], dtype=float32),\n",
       " array([-0.025,  0.014, -0.045, -0.041,  0.064, -0.147, -0.052, -0.218,\n",
       "         0.209, -0.228,  0.053, -0.179,  0.099,  0.209,  0.082, -0.063,\n",
       "         0.056,  0.007, -0.11 ,  0.129], dtype=float32),\n",
       " [array([0.   , 0.396, 0.   , 0.021, 0.583], dtype=float32),\n",
       "  array([0.   , 0.   , 0.126, 0.   , 0.874], dtype=float32),\n",
       "  None],\n",
       " array([[0.994, 0.002, 0.002, 0.001],\n",
       "        [0.007, 0.989, 0.002, 0.002],\n",
       "        [0.998, 0.002, 0.   , 0.   ],\n",
       "        [0.005, 0.004, 0.002, 0.989],\n",
       "        [0.001, 0.001, 0.   , 0.998]], dtype=float32),\n",
       " array([[ 0.47 ,  0.001, -0.45 , -0.007, -0.176,  0.522,  1.22 ,  0.346,\n",
       "          0.956,  0.041, -0.067,  0.011, -0.03 , -0.008,  0.126, -0.41 ,\n",
       "         -0.016, -0.02 ,  0.29 , -0.101,  0.268,  0.053,  0.279,  0.336,\n",
       "         -0.502,  0.022, -0.031,  0.68 ,  0.243, -0.291, -0.905, -0.754,\n",
       "          0.317, -0.065,  0.43 , -0.105, -0.006, -0.819, -0.103, -0.405,\n",
       "          0.812, -0.359, -0.512, -0.259,  0.16 , -1.097, -0.032, -0.734,\n",
       "         -0.334, -0.205, -0.581,  0.491, -0.225,  0.008, -0.444,  0.025,\n",
       "          0.031,  0.023, -0.062,  0.09 , -0.092,  0.906,  0.029,  0.002],\n",
       "        [ 0.051,  0.225, -0.   ,  0.106,  0.322, -0.293,  0.184,  0.364,\n",
       "         -0.11 , -0.004,  0.096, -0.01 ,  0.436, -0.002,  0.029,  0.014,\n",
       "         -0.004, -0.46 ,  0.119, -0.014,  0.032,  0.021, -0.361,  0.088,\n",
       "         -0.38 ,  0.01 ,  0.01 ,  0.473, -0.596, -0.778,  0.049, -0.628,\n",
       "          0.283, -0.751,  0.834, -0.009, -0.044, -0.003,  0.008,  0.763,\n",
       "          0.237,  0.309,  0.379,  0.364,  0.1  , -0.034,  0.622,  0.048,\n",
       "         -0.122, -0.061, -0.434,  0.007,  0.01 ,  0.002, -0.067,  0.685,\n",
       "         -0.039,  0.03 , -0.145, -0.212,  0.752, -0.089, -0.665, -0.001],\n",
       "        [ 0.   ,  0.   ,  0.   ,  0.   ,  0.   ,  0.   ,  0.   ,  0.   ,\n",
       "          0.   ,  0.   ,  0.   ,  0.   ,  0.   ,  0.   ,  0.   ,  0.   ,\n",
       "          0.   ,  0.   ,  0.   ,  0.   ,  0.   ,  0.   ,  0.   ,  0.   ,\n",
       "          0.   ,  0.   ,  0.   ,  0.   ,  0.   ,  0.   ,  0.   ,  0.   ,\n",
       "          0.   ,  0.   ,  0.   ,  0.   ,  0.   ,  0.   ,  0.   ,  0.   ,\n",
       "          0.   ,  0.   ,  0.   ,  0.   ,  0.   ,  0.   ,  0.   ,  0.   ,\n",
       "          0.   ,  0.   ,  0.   ,  0.   ,  0.   ,  0.   ,  0.   ,  0.   ,\n",
       "          0.   ,  0.   ,  0.   ,  0.   ,  0.   ,  0.   ,  0.   ,  0.   ],\n",
       "        [ 0.254, -0.593,  0.002, -0.598,  0.008,  0.008,  0.715,  0.347,\n",
       "         -0.393,  0.01 , -0.244,  0.099,  0.52 ,  0.04 , -0.112, -0.695,\n",
       "         -0.016, -0.422,  0.201,  0.041,  0.048,  0.038, -0.211,  0.269,\n",
       "         -0.902,  0.004, -0.303,  0.435,  0.002, -0.84 ,  0.103, -0.576,\n",
       "          0.636, -0.813,  1.235, -0.049, -0.066, -0.025,  0.02 ,  0.138,\n",
       "          0.006, -0.596,  0.695,  0.26 ,  0.13 , -0.006,  0.136,  0.558,\n",
       "         -0.043,  0.012, -1.348, -0.607, -0.163, -0.005, -0.006,  0.066,\n",
       "          0.046, -0.002, -0.438, -0.092,  0.243,  0.033,  0.208, -0.006]],\n",
       "       dtype=float32))"
      ]
     },
     "execution_count": 38,
     "metadata": {},
     "output_type": "execute_result"
    }
   ],
   "source": [
    "import copy\n",
    "\n",
    "# cool_list0 = copy.deepcopy(cool_list)\n",
    "cool_list[2]"
   ]
  },
  {
   "cell_type": "code",
   "execution_count": 10,
   "metadata": {},
   "outputs": [
    {
     "data": {
      "text/plain": [
       "('- restaurant: utter_happy',\n",
       " array([-0.089,  0.082,  0.247,  0.193, -0.045, -0.225, -0.469,  0.091,\n",
       "         0.168,  0.033, -0.02 , -0.147,  0.175,  0.068, -0.152, -0.131,\n",
       "         0.049, -0.081,  0.256, -0.168], dtype=float32),\n",
       " ('- utter_happy',\n",
       "  0.9609421,\n",
       "  array([-0.043, -0.058, -0.154, -0.047, -0.222, -0.25 , -0.149,  0.008,\n",
       "          0.022,  0.059, -0.011, -0.024, -0.04 , -0.019, -0.134, -0.059,\n",
       "         -0.03 ,  0.961, -0.007, -0.016, -0.006,  0.039,  0.03 ,  0.018,\n",
       "          0.009,  0.004, -0.004,  0.001,  0.002, -0.018, -0.036, -0.008,\n",
       "         -0.045,  0.036, -0.024, -0.035, -0.058, -0.059, -0.069, -0.046,\n",
       "         -0.055, -0.062, -0.071,  0.044,  0.023, -0.006,  0.023],\n",
       "        dtype=float32)),\n",
       " array([1.   , 1.   , 0.   , 1.   , 1.   , 0.109, 0.293, 0.508, 0.09 ],\n",
       "       dtype=float32),\n",
       " array([-0., -0.,  0., -0., -0.,  0.,  0.,  0.,  0.,  0.,  0., -0., -0.,\n",
       "        -0.,  0., -0.,  0.,  0.,  0., -0.], dtype=float32),\n",
       " array([-0.089,  0.082,  0.247,  0.193, -0.045, -0.225, -0.469,  0.091,\n",
       "         0.168,  0.033, -0.02 , -0.147,  0.175,  0.068, -0.152, -0.131,\n",
       "         0.049, -0.081,  0.256, -0.168], dtype=float32),\n",
       " [array([0.   , 0.057, 0.   , 0.003, 0.   , 0.   , 0.05 , 0.   , 0.056,\n",
       "         0.   , 0.002, 0.   , 0.   , 0.005, 0.   , 0.   , 0.066, 0.   ,\n",
       "         0.003, 0.   , 0.   , 0.003, 0.   , 0.   , 0.003, 0.   , 0.   ,\n",
       "         0.003, 0.   , 0.   , 0.005, 0.   , 0.   , 0.055, 0.   , 0.065,\n",
       "         0.   , 0.   , 0.   , 0.003, 0.   , 0.   , 0.002, 0.   , 0.   ,\n",
       "         0.   , 0.029, 0.   , 0.091, 0.   , 0.099, 0.   , 0.127, 0.   ,\n",
       "         0.005, 0.   , 0.   , 0.002, 0.   , 0.   , 0.002, 0.   , 0.   ,\n",
       "         0.1  , 0.   , 0.134, 0.   , 0.   , 0.   , 0.032], dtype=float32),\n",
       "  array([0., 0., 0., 0., 0., 0., 0., 0., 0., 0., 0., 0., 0., 0., 0., 0., 0.,\n",
       "         0., 0., 0., 0., 0., 0., 0., 0., 0., 0., 0., 0., 0., 0., 0., 0., 0.,\n",
       "         0., 0., 0., 0., 0., 0., 0., 0., 0., 0., 0., 0., 0., 0., 0., 0., 0.,\n",
       "         0., 0., 0., 0., 0., 0., 0., 0., 0., 0., 0., 0., 0., 0., 0., 0., 0.,\n",
       "         0., 1.], dtype=float32),\n",
       "  None],\n",
       " array([[0.994, 0.002, 0.002, 0.001],\n",
       "        [0.007, 0.989, 0.002, 0.002],\n",
       "        [0.998, 0.002, 0.   , 0.   ],\n",
       "        [0.005, 0.004, 0.002, 0.989],\n",
       "        [0.001, 0.001, 0.   , 0.998],\n",
       "        [0.998, 0.   , 0.   , 0.001],\n",
       "        [0.002, 0.996, 0.001, 0.001],\n",
       "        [0.999, 0.001, 0.   , 0.   ],\n",
       "        [0.001, 0.998, 0.   , 0.   ],\n",
       "        [0.999, 0.001, 0.   , 0.   ],\n",
       "        [0.001, 0.001, 0.   , 0.997],\n",
       "        [0.   , 0.001, 0.   , 0.999],\n",
       "        [0.999, 0.   , 0.   , 0.001],\n",
       "        [0.001, 0.001, 0.   , 0.998],\n",
       "        [0.   , 0.   , 0.   , 0.999],\n",
       "        [0.999, 0.   , 0.   , 0.001],\n",
       "        [0.001, 0.998, 0.   , 0.001],\n",
       "        [0.999, 0.001, 0.   , 0.   ],\n",
       "        [0.001, 0.001, 0.   , 0.998],\n",
       "        [0.001, 0.   , 0.   , 0.999],\n",
       "        [0.999, 0.   , 0.   , 0.   ],\n",
       "        [0.001, 0.001, 0.   , 0.998],\n",
       "        [0.001, 0.   , 0.   , 0.999],\n",
       "        [0.999, 0.   , 0.   , 0.   ],\n",
       "        [0.001, 0.001, 0.   , 0.998],\n",
       "        [0.001, 0.   , 0.   , 0.999],\n",
       "        [0.999, 0.   , 0.   , 0.   ],\n",
       "        [0.001, 0.001, 0.   , 0.998],\n",
       "        [0.001, 0.   , 0.   , 0.999],\n",
       "        [0.999, 0.   , 0.   , 0.   ],\n",
       "        [0.001, 0.001, 0.   , 0.998],\n",
       "        [0.   , 0.   , 0.   , 0.999],\n",
       "        [0.999, 0.   , 0.   , 0.001],\n",
       "        [0.001, 0.998, 0.   , 0.001],\n",
       "        [0.999, 0.001, 0.   , 0.   ],\n",
       "        [0.001, 0.999, 0.   , 0.   ],\n",
       "        [0.001, 0.998, 0.   , 0.   ],\n",
       "        [0.   , 0.999, 0.   , 0.   ],\n",
       "        [0.999, 0.001, 0.   , 0.   ],\n",
       "        [0.001, 0.001, 0.   , 0.998],\n",
       "        [0.   , 0.   , 0.   , 0.999],\n",
       "        [0.999, 0.   , 0.   , 0.   ],\n",
       "        [0.001, 0.001, 0.   , 0.998],\n",
       "        [0.   , 0.   , 0.   , 0.999],\n",
       "        [0.005, 0.007, 0.   , 0.988],\n",
       "        [0.999, 0.   , 0.   , 0.   ],\n",
       "        [0.001, 0.997, 0.001, 0.001],\n",
       "        [0.999, 0.001, 0.   , 0.   ],\n",
       "        [0.003, 0.002, 0.993, 0.001],\n",
       "        [0.998, 0.   , 0.001, 0.   ],\n",
       "        [0.001, 0.001, 0.997, 0.001],\n",
       "        [0.998, 0.   , 0.001, 0.   ],\n",
       "        [0.001, 0.001, 0.997, 0.001],\n",
       "        [0.999, 0.   , 0.001, 0.   ],\n",
       "        [0.001, 0.   , 0.001, 0.998],\n",
       "        [0.   , 0.   , 0.001, 0.999],\n",
       "        [0.999, 0.   , 0.001, 0.001],\n",
       "        [0.002, 0.   , 0.001, 0.997],\n",
       "        [0.001, 0.   , 0.001, 0.999],\n",
       "        [0.999, 0.   , 0.001, 0.001],\n",
       "        [0.001, 0.   , 0.001, 0.998],\n",
       "        [0.   , 0.   , 0.001, 0.999],\n",
       "        [0.999, 0.   , 0.001, 0.001],\n",
       "        [0.002, 0.001, 0.997, 0.001],\n",
       "        [0.999, 0.   , 0.001, 0.   ],\n",
       "        [0.001, 0.   , 0.998, 0.001],\n",
       "        [0.002, 0.   , 0.997, 0.   ],\n",
       "        [0.001, 0.001, 0.998, 0.001],\n",
       "        [0.999, 0.   , 0.001, 0.   ],\n",
       "        [0.002, 0.001, 0.997, 0.001]], dtype=float32),\n",
       " array([[ 0.339,  0.571, -5.898, -0.608, -2.107,  0.435,  0.85 , -0.391,\n",
       "          1.615,  1.644,  0.002,  0.284,  0.178,  0.318,  0.44 , -0.918,\n",
       "         -0.512, -0.334,  0.421, -1.08 ,  1.811,  0.115,  1.747, -0.133,\n",
       "          0.189,  0.548, -0.071,  0.445,  0.053,  0.009, -6.598, -1.962,\n",
       "         -0.106,  0.278,  0.323, -1.143,  0.137, -4.714, -0.305, -0.507,\n",
       "          4.262, -0.067, -0.755, -2.065, -0.585, -5.227, -0.079, -0.677,\n",
       "         -0.621, -0.349, -0.174,  0.53 , -1.77 ,  0.613, -1.529,  0.157,\n",
       "          0.05 , -0.094, -1.041,  0.647, -0.585,  1.985,  0.147,  0.102],\n",
       "        [ 0.078,  0.462, -0.324, -0.156,  1.476, -1.609,  0.133,  0.2  ,\n",
       "         -0.989, -0.12 ,  1.333,  0.032,  0.779,  0.063,  0.103,  0.027,\n",
       "         -0.056, -0.963,  0.298, -0.2  , -0.127, -0.073, -0.222,  0.104,\n",
       "          0.233,  0.243,  0.044,  0.821, -0.06 , -1.668,  0.013, -0.461,\n",
       "          0.28 , -1.526,  0.314, -0.128, -0.328,  0.029,  0.142,  0.008,\n",
       "          1.162, -0.388, -0.005,  0.677, -0.407,  0.019,  0.056,  0.023,\n",
       "         -0.282, -0.24 , -0.299,  0.337, -0.021,  0.846, -0.076, -0.559,\n",
       "          0.014,  1.31 , -0.793, -0.632,  1.258, -0.462, -0.277, -0.11 ],\n",
       "        [ 0.092,  0.408, -0.497, -0.121,  0.826, -0.675, -0.189, -0.394,\n",
       "         -1.299, -0.039,  0.309, -0.291,  0.828,  0.049,  0.039,  0.153,\n",
       "         -0.027, -0.854,  0.836, -0.02 , -0.109, -0.922, -0.043,  0.351,\n",
       "          0.019, -0.385,  0.077,  0.339, -0.056, -0.994,  0.   , -0.32 ,\n",
       "          0.609, -0.373,  0.313, -0.016, -0.271,  0.153,  1.244, -0.034,\n",
       "          0.25 , -0.362,  0.269, -0.268, -0.021, -0.294, -0.043,  0.078,\n",
       "         -0.734, -0.983, -0.059,  0.227,  0.   ,  1.251, -0.357, -0.461,\n",
       "          0.155,  1.358, -0.091, -0.001,  0.866, -0.261,  0.212,  1.386],\n",
       "        [ 0.28 , -0.25 , -0.143, -0.578,  0.305, -0.501, -0.681,  0.662,\n",
       "         -0.453,  0.012, -1.421,  3.148,  0.706,  1.492, -0.218, -7.154,\n",
       "         -0.584, -0.446, -0.077,  0.11 , -0.033, -0.161, -0.225, -0.075,\n",
       "          0.03 ,  1.468, -2.447,  0.055,  0.138, -0.541,  0.152, -0.746,\n",
       "          0.09 , -0.011,  1.915, -0.589, -1.973,  0.379,  0.762, -0.055,\n",
       "         -0.046, -0.062, -0.128,  0.07 , -0.589,  0.312,  0.013,  0.142,\n",
       "         -0.279,  0.004, -1.432, -0.043, -4.845,  0.273,  0.368,  0.173,\n",
       "          0.057,  0.286, -1.67 , -1.422,  0.02 ,  0.013,  0.533, -0.175]],\n",
       "       dtype=float32))"
      ]
     },
     "execution_count": 10,
     "metadata": {},
     "output_type": "execute_result"
    }
   ],
   "source": [
    "# cool_list1= copy.deepcopy(cool_list)\n",
    "cool_list[-1]"
   ]
  },
  {
   "cell_type": "code",
   "execution_count": 11,
   "metadata": {
    "collapsed": true
   },
   "outputs": [],
   "source": [
    "# import matplotlib.pyplot as plt\n",
    "# plt.plot(cool_list[15][-2], marker='x')"
   ]
  },
  {
   "cell_type": "code",
   "execution_count": 12,
   "metadata": {
    "collapsed": true
   },
   "outputs": [],
   "source": [
    "# plt.plot(cool_list[19][-2], marker='x')"
   ]
  },
  {
   "cell_type": "code",
   "execution_count": null,
   "metadata": {
    "collapsed": true
   },
   "outputs": [],
   "source": []
  },
  {
   "cell_type": "code",
   "execution_count": null,
   "metadata": {
    "collapsed": true
   },
   "outputs": [],
   "source": []
  },
  {
   "cell_type": "code",
   "execution_count": 13,
   "metadata": {
    "collapsed": true
   },
   "outputs": [],
   "source": [
    "from sklearn.decomposition import PCA"
   ]
  },
  {
   "cell_type": "code",
   "execution_count": 14,
   "metadata": {
    "collapsed": true
   },
   "outputs": [],
   "source": [
    "pca = PCA(n_components=2)\n",
    "X = pca.fit_transform([ting[1] for ting in cool_list])"
   ]
  },
  {
   "cell_type": "code",
   "execution_count": 15,
   "metadata": {
    "collapsed": true
   },
   "outputs": [],
   "source": [
    "from bokeh.plotting import figure, show\n",
    "import matplotlib.pyplot as plt"
   ]
  },
  {
   "cell_type": "code",
   "execution_count": 16,
   "metadata": {
    "collapsed": true
   },
   "outputs": [],
   "source": [
    "embed_dim = cool_list[0][1].shape[0]\n"
   ]
  },
  {
   "cell_type": "code",
   "execution_count": 17,
   "metadata": {},
   "outputs": [
    {
     "data": {
      "text/html": [
       "<div style=\"display: table;\"><div style=\"display: table-row;\"><div style=\"display: table-cell;\"><b title=\"bokeh.models.renderers.GlyphRenderer\">GlyphRenderer</b>(</div><div style=\"display: table-cell;\">id&nbsp;=&nbsp;'1184', <span id=\"1187\" style=\"cursor: pointer;\">&hellip;)</span></div></div><div class=\"1186\" style=\"display: none;\"><div style=\"display: table-cell;\"></div><div style=\"display: table-cell;\">data_source&nbsp;=&nbsp;ColumnDataSource(id='1181', ...),</div></div><div class=\"1186\" style=\"display: none;\"><div style=\"display: table-cell;\"></div><div style=\"display: table-cell;\">glyph&nbsp;=&nbsp;Circle(id='1182', ...),</div></div><div class=\"1186\" style=\"display: none;\"><div style=\"display: table-cell;\"></div><div style=\"display: table-cell;\">hover_glyph&nbsp;=&nbsp;None,</div></div><div class=\"1186\" style=\"display: none;\"><div style=\"display: table-cell;\"></div><div style=\"display: table-cell;\">js_event_callbacks&nbsp;=&nbsp;{},</div></div><div class=\"1186\" style=\"display: none;\"><div style=\"display: table-cell;\"></div><div style=\"display: table-cell;\">js_property_callbacks&nbsp;=&nbsp;{},</div></div><div class=\"1186\" style=\"display: none;\"><div style=\"display: table-cell;\"></div><div style=\"display: table-cell;\">level&nbsp;=&nbsp;'glyph',</div></div><div class=\"1186\" style=\"display: none;\"><div style=\"display: table-cell;\"></div><div style=\"display: table-cell;\">muted&nbsp;=&nbsp;False,</div></div><div class=\"1186\" style=\"display: none;\"><div style=\"display: table-cell;\"></div><div style=\"display: table-cell;\">muted_glyph&nbsp;=&nbsp;None,</div></div><div class=\"1186\" style=\"display: none;\"><div style=\"display: table-cell;\"></div><div style=\"display: table-cell;\">name&nbsp;=&nbsp;None,</div></div><div class=\"1186\" style=\"display: none;\"><div style=\"display: table-cell;\"></div><div style=\"display: table-cell;\">nonselection_glyph&nbsp;=&nbsp;Circle(id='1183', ...),</div></div><div class=\"1186\" style=\"display: none;\"><div style=\"display: table-cell;\"></div><div style=\"display: table-cell;\">selection_glyph&nbsp;=&nbsp;None,</div></div><div class=\"1186\" style=\"display: none;\"><div style=\"display: table-cell;\"></div><div style=\"display: table-cell;\">subscribed_events&nbsp;=&nbsp;[],</div></div><div class=\"1186\" style=\"display: none;\"><div style=\"display: table-cell;\"></div><div style=\"display: table-cell;\">tags&nbsp;=&nbsp;[],</div></div><div class=\"1186\" style=\"display: none;\"><div style=\"display: table-cell;\"></div><div style=\"display: table-cell;\">view&nbsp;=&nbsp;CDSView(id='1185', ...),</div></div><div class=\"1186\" style=\"display: none;\"><div style=\"display: table-cell;\"></div><div style=\"display: table-cell;\">visible&nbsp;=&nbsp;True,</div></div><div class=\"1186\" style=\"display: none;\"><div style=\"display: table-cell;\"></div><div style=\"display: table-cell;\">x_range_name&nbsp;=&nbsp;'default',</div></div><div class=\"1186\" style=\"display: none;\"><div style=\"display: table-cell;\"></div><div style=\"display: table-cell;\">y_range_name&nbsp;=&nbsp;'default')</div></div></div>\n",
       "<script>\n",
       "(function() {\n",
       "  var expanded = false;\n",
       "  var ellipsis = document.getElementById(\"1187\");\n",
       "  ellipsis.addEventListener(\"click\", function() {\n",
       "    var rows = document.getElementsByClassName(\"1186\");\n",
       "    for (var i = 0; i < rows.length; i++) {\n",
       "      var el = rows[i];\n",
       "      el.style.display = expanded ? \"none\" : \"table-row\";\n",
       "    }\n",
       "    ellipsis.innerHTML = expanded ? \"&hellip;)\" : \"&lsaquo;&lsaquo;&lsaquo;\";\n",
       "    expanded = !expanded;\n",
       "  });\n",
       "})();\n",
       "</script>\n"
      ],
      "text/plain": [
       "GlyphRenderer(id='1184', ...)"
      ]
     },
     "execution_count": 17,
     "metadata": {},
     "output_type": "execute_result"
    }
   ],
   "source": [
    "from bokeh.plotting import figure, output_file, show, ColumnDataSource\n",
    "from bokeh.models import HoverTool, Arrow, OpenHead\n",
    "\n",
    "hover = HoverTool(tooltips=[(\"true action\",\"@desc\"), (\"prediction\", \"@pred\"),\n",
    "                            (\"not_skip_gate\", \"@not_skip\")],names=['circle'])\n",
    "p = figure( tools=[hover])\n",
    "\n",
    "for i in range(1, len(X)):\n",
    "    p.add_layout(Arrow(end=OpenHead(line_color=\"firebrick\", size=10, line_width=2),\n",
    "                       x_start=X[i-1,0], y_start=X[i-1,1],\n",
    "                       x_end=X[i,0], y_end=X[i,1], line_color='gray'))\n",
    "\n",
    "source = ColumnDataSource(data=dict(\n",
    "    x=X[:,0],\n",
    "    y=X[:,1],\n",
    "    desc=[ting[0] for ting in cool_list],\n",
    "    pred = [ting[2][0] for ting in cool_list],\n",
    "    not_skip = [ting[3][-1] for ting in cool_list]\n",
    "))\n",
    "p.circle('x','y', source=source, size=10, name='circle')\n",
    "# p.line(X[:,0], X[:,1])\n",
    "\n",
    "X1 = pca.transform([ting[4] for ting in cool_list])\n",
    "source = ColumnDataSource(data=dict(\n",
    "    x=X1[:,0],\n",
    "    y=X1[:,1],\n",
    "    desc=[ting[0] for ting in cool_list],\n",
    "    pred = [ting[2][0] for ting in cool_list],\n",
    "    not_skip = [ting[3][-1] for ting in cool_list]\n",
    "))\n",
    "p.circle('x','y', source=source, size=5, color='green', name='circle')\n",
    "\n",
    "X2 = pca.transform([ting[5] for ting in cool_list])\n",
    "source = ColumnDataSource(data=dict(\n",
    "    x=X2[:,0],\n",
    "    y=X2[:,1],\n",
    "    desc=[ting[0] for ting in cool_list],\n",
    "    pred = [ting[2][0] for ting in cool_list],\n",
    "    not_skip = [ting[3][-1] for ting in cool_list]\n",
    "))\n",
    "p.circle('x','y', source=source, size=5, color='red', name='circle')\n",
    "\n",
    "x = pca.transform(np.zeros((1,embed_dim)))\n",
    "p.circle(x[0,0], x[0,1], size=5, color='magenta')\n",
    "p.circle(X[0,0], X[0,1], size=10, color='green')\n",
    "p.circle(X[-1,0], X[-1,1], size=10, color='red')\n"
   ]
  },
  {
   "cell_type": "code",
   "execution_count": 18,
   "metadata": {
    "scrolled": false
   },
   "outputs": [
    {
     "data": {
      "text/html": [
       "\n",
       "\n",
       "\n",
       "\n",
       "\n",
       "\n",
       "  <div class=\"bk-root\" id=\"94837d97-c913-429b-b781-007ee751a119\" data-root-id=\"1003\"></div>\n"
      ]
     },
     "metadata": {},
     "output_type": "display_data"
    },
    {
     "data": {
      "application/javascript": [
       "(function(root) {\n",
       "  function embed_document(root) {\n",
       "    \n",
       "  var docs_json = {\"9a725e65-64dc-4835-a9f2-32e9083b8029\":{\"roots\":{\"references\":[{\"attributes\":{\"below\":[{\"id\":\"1012\",\"type\":\"LinearAxis\"}],\"left\":[{\"id\":\"1017\",\"type\":\"LinearAxis\"}],\"renderers\":[{\"id\":\"1012\",\"type\":\"LinearAxis\"},{\"id\":\"1016\",\"type\":\"Grid\"},{\"id\":\"1017\",\"type\":\"LinearAxis\"},{\"id\":\"1021\",\"type\":\"Grid\"},{\"id\":\"1025\",\"type\":\"Arrow\"},{\"id\":\"1028\",\"type\":\"Arrow\"},{\"id\":\"1031\",\"type\":\"Arrow\"},{\"id\":\"1034\",\"type\":\"Arrow\"},{\"id\":\"1037\",\"type\":\"Arrow\"},{\"id\":\"1040\",\"type\":\"Arrow\"},{\"id\":\"1043\",\"type\":\"Arrow\"},{\"id\":\"1046\",\"type\":\"Arrow\"},{\"id\":\"1049\",\"type\":\"Arrow\"},{\"id\":\"1052\",\"type\":\"Arrow\"},{\"id\":\"1055\",\"type\":\"Arrow\"},{\"id\":\"1058\",\"type\":\"Arrow\"},{\"id\":\"1061\",\"type\":\"Arrow\"},{\"id\":\"1064\",\"type\":\"Arrow\"},{\"id\":\"1067\",\"type\":\"Arrow\"},{\"id\":\"1070\",\"type\":\"Arrow\"},{\"id\":\"1073\",\"type\":\"Arrow\"},{\"id\":\"1076\",\"type\":\"Arrow\"},{\"id\":\"1079\",\"type\":\"Arrow\"},{\"id\":\"1082\",\"type\":\"Arrow\"},{\"id\":\"1085\",\"type\":\"Arrow\"},{\"id\":\"1088\",\"type\":\"Arrow\"},{\"id\":\"1091\",\"type\":\"Arrow\"},{\"id\":\"1094\",\"type\":\"Arrow\"},{\"id\":\"1097\",\"type\":\"Arrow\"},{\"id\":\"1100\",\"type\":\"Arrow\"},{\"id\":\"1103\",\"type\":\"Arrow\"},{\"id\":\"1106\",\"type\":\"Arrow\"},{\"id\":\"1109\",\"type\":\"Arrow\"},{\"id\":\"1112\",\"type\":\"Arrow\"},{\"id\":\"1115\",\"type\":\"Arrow\"},{\"id\":\"1118\",\"type\":\"Arrow\"},{\"id\":\"1121\",\"type\":\"Arrow\"},{\"id\":\"1124\",\"type\":\"Arrow\"},{\"id\":\"1127\",\"type\":\"Arrow\"},{\"id\":\"1130\",\"type\":\"Arrow\"},{\"id\":\"1133\",\"type\":\"Arrow\"},{\"id\":\"1136\",\"type\":\"Arrow\"},{\"id\":\"1139\",\"type\":\"Arrow\"},{\"id\":\"1142\",\"type\":\"Arrow\"},{\"id\":\"1145\",\"type\":\"Arrow\"},{\"id\":\"1148\",\"type\":\"Arrow\"},{\"id\":\"1151\",\"type\":\"Arrow\"},{\"id\":\"1157\",\"type\":\"GlyphRenderer\"},{\"id\":\"1163\",\"type\":\"GlyphRenderer\"},{\"id\":\"1169\",\"type\":\"GlyphRenderer\"},{\"id\":\"1174\",\"type\":\"GlyphRenderer\"},{\"id\":\"1179\",\"type\":\"GlyphRenderer\"},{\"id\":\"1184\",\"type\":\"GlyphRenderer\"}],\"title\":{\"id\":\"1188\",\"type\":\"Title\"},\"toolbar\":{\"id\":\"1022\",\"type\":\"Toolbar\"},\"x_range\":{\"id\":\"1004\",\"type\":\"DataRange1d\"},\"x_scale\":{\"id\":\"1008\",\"type\":\"LinearScale\"},\"y_range\":{\"id\":\"1006\",\"type\":\"DataRange1d\"},\"y_scale\":{\"id\":\"1010\",\"type\":\"LinearScale\"}},\"id\":\"1003\",\"subtype\":\"Figure\",\"type\":\"Plot\"},{\"attributes\":{\"end\":{\"id\":\"1048\",\"type\":\"OpenHead\"},\"line_color\":{\"value\":\"gray\"},\"plot\":{\"id\":\"1003\",\"subtype\":\"Figure\",\"type\":\"Plot\"},\"source\":null,\"start\":null,\"x_end\":{\"value\":0.614644016218748},\"x_start\":{\"value\":-0.43078794452373653},\"y_end\":{\"value\":-0.11661946333520641},\"y_start\":{\"value\":-0.29689491823841263}},\"id\":\"1049\",\"type\":\"Arrow\"},{\"attributes\":{\"end\":{\"id\":\"1102\",\"type\":\"OpenHead\"},\"line_color\":{\"value\":\"gray\"},\"plot\":{\"id\":\"1003\",\"subtype\":\"Figure\",\"type\":\"Plot\"},\"source\":null,\"start\":null,\"x_end\":{\"value\":0.03718467178690091},\"x_start\":{\"value\":-0.5795761166905745},\"y_end\":{\"value\":-0.439846490886726},\"y_start\":{\"value\":-0.42146167536667983}},\"id\":\"1103\",\"type\":\"Arrow\"},{\"attributes\":{},\"id\":\"1201\",\"type\":\"UnionRenderers\"},{\"attributes\":{\"data_source\":{\"id\":\"1153\",\"type\":\"ColumnDataSource\"},\"glyph\":{\"id\":\"1155\",\"type\":\"Circle\"},\"hover_glyph\":null,\"muted_glyph\":null,\"name\":\"circle\",\"nonselection_glyph\":{\"id\":\"1156\",\"type\":\"Circle\"},\"selection_glyph\":null,\"view\":{\"id\":\"1158\",\"type\":\"CDSView\"}},\"id\":\"1157\",\"type\":\"GlyphRenderer\"},{\"attributes\":{\"line_color\":{\"value\":\"firebrick\"},\"line_width\":{\"value\":2},\"plot\":null,\"size\":10},\"id\":\"1051\",\"type\":\"OpenHead\"},{\"attributes\":{\"line_color\":{\"value\":\"firebrick\"},\"line_width\":{\"value\":2},\"plot\":null,\"size\":10},\"id\":\"1105\",\"type\":\"OpenHead\"},{\"attributes\":{},\"id\":\"1202\",\"type\":\"Selection\"},{\"attributes\":{\"end\":{\"id\":\"1051\",\"type\":\"OpenHead\"},\"line_color\":{\"value\":\"gray\"},\"plot\":{\"id\":\"1003\",\"subtype\":\"Figure\",\"type\":\"Plot\"},\"source\":null,\"start\":null,\"x_end\":{\"value\":-0.3502226617993065},\"x_start\":{\"value\":0.614644016218748},\"y_end\":{\"value\":0.7746250889833393},\"y_start\":{\"value\":-0.11661946333520641}},\"id\":\"1052\",\"type\":\"Arrow\"},{\"attributes\":{\"end\":{\"id\":\"1105\",\"type\":\"OpenHead\"},\"line_color\":{\"value\":\"gray\"},\"plot\":{\"id\":\"1003\",\"subtype\":\"Figure\",\"type\":\"Plot\"},\"source\":null,\"start\":null,\"x_end\":{\"value\":-0.08376563466401399},\"x_start\":{\"value\":0.03718467178690091},\"y_end\":{\"value\":-0.3516280169882773},\"y_start\":{\"value\":-0.439846490886726}},\"id\":\"1106\",\"type\":\"Arrow\"},{\"attributes\":{},\"id\":\"1203\",\"type\":\"UnionRenderers\"},{\"attributes\":{\"line_color\":{\"value\":\"firebrick\"},\"line_width\":{\"value\":2},\"plot\":null,\"size\":10},\"id\":\"1054\",\"type\":\"OpenHead\"},{\"attributes\":{\"line_color\":{\"value\":\"firebrick\"},\"line_width\":{\"value\":2},\"plot\":null,\"size\":10},\"id\":\"1108\",\"type\":\"OpenHead\"},{\"attributes\":{\"fill_color\":{\"value\":\"red\"},\"line_color\":{\"value\":\"red\"},\"size\":{\"units\":\"screen\",\"value\":5},\"x\":{\"field\":\"x\"},\"y\":{\"field\":\"y\"}},\"id\":\"1167\",\"type\":\"Circle\"},{\"attributes\":{\"end\":{\"id\":\"1054\",\"type\":\"OpenHead\"},\"line_color\":{\"value\":\"gray\"},\"plot\":{\"id\":\"1003\",\"subtype\":\"Figure\",\"type\":\"Plot\"},\"source\":null,\"start\":null,\"x_end\":{\"value\":0.6442602288978165},\"x_start\":{\"value\":-0.3502226617993065},\"y_end\":{\"value\":0.0793588382482514},\"y_start\":{\"value\":0.7746250889833393}},\"id\":\"1055\",\"type\":\"Arrow\"},{\"attributes\":{\"end\":{\"id\":\"1108\",\"type\":\"OpenHead\"},\"line_color\":{\"value\":\"gray\"},\"plot\":{\"id\":\"1003\",\"subtype\":\"Figure\",\"type\":\"Plot\"},\"source\":null,\"start\":null,\"x_end\":{\"value\":-0.22619818683799853},\"x_start\":{\"value\":-0.08376563466401399},\"y_end\":{\"value\":-0.08108416714609715},\"y_start\":{\"value\":-0.3516280169882773}},\"id\":\"1109\",\"type\":\"Arrow\"},{\"attributes\":{},\"id\":\"1200\",\"type\":\"Selection\"},{\"attributes\":{\"source\":{\"id\":\"1159\",\"type\":\"ColumnDataSource\"}},\"id\":\"1164\",\"type\":\"CDSView\"},{\"attributes\":{\"line_color\":{\"value\":\"firebrick\"},\"line_width\":{\"value\":2},\"plot\":null,\"size\":10},\"id\":\"1057\",\"type\":\"OpenHead\"},{\"attributes\":{\"line_color\":{\"value\":\"firebrick\"},\"line_width\":{\"value\":2},\"plot\":null,\"size\":10},\"id\":\"1111\",\"type\":\"OpenHead\"},{\"attributes\":{\"fill_color\":{\"value\":\"green\"},\"line_color\":{\"value\":\"green\"},\"size\":{\"units\":\"screen\",\"value\":5},\"x\":{\"field\":\"x\"},\"y\":{\"field\":\"y\"}},\"id\":\"1161\",\"type\":\"Circle\"},{\"attributes\":{},\"id\":\"1204\",\"type\":\"Selection\"},{\"attributes\":{\"end\":{\"id\":\"1057\",\"type\":\"OpenHead\"},\"line_color\":{\"value\":\"gray\"},\"plot\":{\"id\":\"1003\",\"subtype\":\"Figure\",\"type\":\"Plot\"},\"source\":null,\"start\":null,\"x_end\":{\"value\":-0.30077036747965824},\"x_start\":{\"value\":0.6442602288978165},\"y_end\":{\"value\":0.8295184736821734},\"y_start\":{\"value\":0.0793588382482514}},\"id\":\"1058\",\"type\":\"Arrow\"},{\"attributes\":{\"fill_alpha\":{\"value\":0.1},\"fill_color\":{\"value\":\"#1f77b4\"},\"line_alpha\":{\"value\":0.1},\"line_color\":{\"value\":\"#1f77b4\"},\"size\":{\"units\":\"screen\",\"value\":5},\"x\":{\"field\":\"x\"},\"y\":{\"field\":\"y\"}},\"id\":\"1168\",\"type\":\"Circle\"},{\"attributes\":{\"callback\":null,\"names\":[\"circle\"],\"tooltips\":[[\"true action\",\"@desc\"],[\"prediction\",\"@pred\"],[\"not_skip_gate\",\"@not_skip\"]]},\"id\":\"1002\",\"type\":\"HoverTool\"},{\"attributes\":{\"callback\":null,\"data\":{\"desc\":[\"- utter_ask_details\",\"- utter_chitchat\",\"- utter_ask_details\",\"- utter_ask_startdate\",\"- utter_ask_location\",\"- utter_correct_startdate_hotel\",\"- utter_ask_location\",\"- utter_explain_location_hotel\",\"- utter_ask_location\",\"- utter_ask_price\",\"- utter_chitchat\",\"- utter_ask_price\",\"- utter_chitchat\",\"- utter_ask_price\",\"- utter_chitchat\",\"- utter_ask_price\",\"- utter_chitchat\",\"- utter_ask_price\",\"- utter_explain_price_hotel\",\"- utter_ask_price\",\"- utter_ask_people\",\"- utter_filled_slots\",\"- action_search_hotel\",\"- utter_suggest_hotel\",\"- utter_chitchat\",\"- utter_suggest_hotel\",\"- correct: utter_correct_people_hotel\",\"- correct: action_search_hotel\",\"- correct: utter_suggest_hotel\",\"- utter_happy\",\"- restaurant: utter_ask_details\",\"- restaurant: utter_ask_location\",\"- restaurant: utter_ask_price\",\"- explain: utter_explain_price_restaurant\",\"- explain: utter_ask_price\",\"- did_that_work: utter_more_info_restaurant\",\"- did_that_work: utter_ask_price\",\"- correct: utter_correct_location_restaurant\",\"- correct: utter_ask_price\",\"- restaurant: utter_ask_cuisine\",\"- restaurant: utter_filled_slots\",\"- restaurant: action_search_restaurant\",\"- restaurant: utter_suggest_restaurant\",\"- restaurant: utter_happy\"],\"not_skip\":[0.07439000904560089,0.08474110066890717,0.07754526287317276,0.06063828244805336,0.061524879187345505,0.09530054777860641,0.07614439725875854,0.08342958986759186,0.07539092004299164,0.06213926523923874,0.08459679782390594,0.07623867690563202,0.08444996178150177,0.07621552050113678,0.08445511758327484,0.07625892013311386,0.08449941873550415,0.07631596177816391,0.0858982652425766,0.07626689970493317,0.05968727543950081,0.06050027906894684,0.08230570703744888,0.06721089780330658,0.09990356117486954,0.0962458923459053,0.10584338009357452,0.09761494398117065,0.09628523886203766,0.07454372197389603,0.1161518469452858,0.09606663882732391,0.10197918117046356,0.10333579033613205,0.09858962893486023,0.11338399350643158,0.0985938012599945,0.11803151667118073,0.0988335907459259,0.09460752457380295,0.09612061083316803,0.1012951135635376,0.08601241558790207,0.0900011658668518],\"pred\":[\"- utter_ask_details\",\"- utter_chitchat\",\"- utter_ask_people\",\"- utter_ask_startdate\",\"- utter_ask_location\",\"- utter_correct_startdate_hotel\",\"- utter_ask_location\",\"- utter_explain_location_hotel\",\"- utter_ask_location\",\"- utter_ask_price\",\"- utter_chitchat\",\"- utter_ask_price\",\"- utter_chitchat\",\"- utter_ask_price\",\"- utter_chitchat\",\"- utter_ask_price\",\"- utter_chitchat\",\"- utter_ask_price\",\"- utter_explain_price_hotel\",\"- utter_ask_price\",\"- utter_ask_people\",\"- utter_filled_slots\",\"- action_search_hotel\",\"- utter_suggest_hotel\",\"- utter_chitchat\",\"- utter_suggest_hotel\",\"- utter_correct_people_hotel\",\"- utter_suggest_hotel\",\"- utter_suggest_hotel\",\"- utter_happy\",\"- utter_ask_details\",\"- utter_ask_location\",\"- utter_ask_price\",\"- utter_explain_price_restaurant\",\"- utter_ask_price\",\"- utter_more_info_restaurant\",\"- utter_ask_price\",\"- utter_correct_location_restaurant\",\"- utter_ask_price\",\"- utter_ask_cuisine\",\"- utter_filled_slots\",\"- action_search_restaurant\",\"- utter_suggest_restaurant\",\"- utter_happy\"],\"x\":{\"__ndarray__\":\"bZ7RFmtPwr9cEI0LcU/Cv0ep7RpQ0cK/5+WfOHRPwr/En669cE/Cv5NCL4eST8K/eUlhWWi3x7/CftvG5a3Cv4CqZ0Wg8NO/8tGs19JPwr/7demVyTTCv0/0SDVsVcU/DvtAdsZEwr8vejlrWoa+P05X55A7M8K/GogzYnSqpj9RxAOByBzCvw2Yll0NuIE/TMsQ78+PoL93hwQ8wKO2P9vGfipLNsK/m3NN9ntOwr+51F+o52Kov7GJkV5xAra/95c3/K07wr9Jj+4wHbTLP+04F1Ir7MG/mWmpHYZr1D8/d79xNnzRP9VI05MvTMK/0YY412FCwr+ZitcdRE/Cv7MSmh83T8K/kiql2x1Vtb+PqViQpOzSP/DRfqbtzsC/5O/BXZGV0j+RVsvu3ALCvzgZT2HUV9Q/dP6rIGBJwr8S1UnwK0/Cv+yLsudPWay/CMvu0KkvuL/3cuq090vCvw==\",\"dtype\":\"float64\",\"shape\":[44]},\"y\":{\"__ndarray__\":\"t5UG4jYswL+J1AFcQCzAv2eP4E7j+sC/YY/gFS4swL8HtROSNyzAv5LHWWhgLMC/3FyAyQV2xr8+AepWB2XAv7AVDASbtcm/IySlGHgswL8nxKYuRS3Av/7E8He+f72/fwIjEh4rwL9RfNLm9My2vwNhFwdmJ8C/PcSBXgQ3q7+ZtFVJpSLAvzVCI17ZOqw/ODd8+10IvL+gsGCf32utP8+ENHHOKcC/3fjxygEswL8lV3qiBzinvwE6upbUHLy/6yPJbJMqwL9zMhgWZ4+lv0G1YvhoJMC/PZF1WKDTtL/jgWw7knSzv4a4qxcBLMC/JoWYNikqwL81fzkENCzAv0EW0yo4LMC/e/46qYcjv78oK0a7zNuxv9ZAoHpjDsC/MbGx9XyIsL92/SbjLSbAv/rb/fgoyLK/A922vbsrwL91a46hJyzAv9mKfmI3l6u/9kRp+WUjuL9/F//T4SvAvw==\",\"dtype\":\"float64\",\"shape\":[44]}},\"selected\":{\"id\":\"1196\",\"type\":\"Selection\"},\"selection_policy\":{\"id\":\"1197\",\"type\":\"UnionRenderers\"}},\"id\":\"1159\",\"type\":\"ColumnDataSource\"},{\"attributes\":{\"end\":{\"id\":\"1042\",\"type\":\"OpenHead\"},\"line_color\":{\"value\":\"gray\"},\"plot\":{\"id\":\"1003\",\"subtype\":\"Figure\",\"type\":\"Plot\"},\"source\":null,\"start\":null,\"x_end\":{\"value\":-0.41268498713637997},\"x_start\":{\"value\":-0.2291775915959643},\"y_end\":{\"value\":-0.2520005068337866},\"y_start\":{\"value\":-0.2577634561111191}},\"id\":\"1043\",\"type\":\"Arrow\"},{\"attributes\":{\"line_color\":{\"value\":\"firebrick\"},\"line_width\":{\"value\":2},\"plot\":null,\"size\":10},\"id\":\"1060\",\"type\":\"OpenHead\"},{\"attributes\":{\"line_color\":{\"value\":\"firebrick\"},\"line_width\":{\"value\":2},\"plot\":null,\"size\":10},\"id\":\"1114\",\"type\":\"OpenHead\"},{\"attributes\":{\"callback\":null,\"data\":{\"desc\":[\"- utter_ask_details\",\"- utter_chitchat\",\"- utter_ask_details\",\"- utter_ask_startdate\",\"- utter_ask_location\",\"- utter_correct_startdate_hotel\",\"- utter_ask_location\",\"- utter_explain_location_hotel\",\"- utter_ask_location\",\"- utter_ask_price\",\"- utter_chitchat\",\"- utter_ask_price\",\"- utter_chitchat\",\"- utter_ask_price\",\"- utter_chitchat\",\"- utter_ask_price\",\"- utter_chitchat\",\"- utter_ask_price\",\"- utter_explain_price_hotel\",\"- utter_ask_price\",\"- utter_ask_people\",\"- utter_filled_slots\",\"- action_search_hotel\",\"- utter_suggest_hotel\",\"- utter_chitchat\",\"- utter_suggest_hotel\",\"- correct: utter_correct_people_hotel\",\"- correct: action_search_hotel\",\"- correct: utter_suggest_hotel\",\"- utter_happy\",\"- restaurant: utter_ask_details\",\"- restaurant: utter_ask_location\",\"- restaurant: utter_ask_price\",\"- explain: utter_explain_price_restaurant\",\"- explain: utter_ask_price\",\"- did_that_work: utter_more_info_restaurant\",\"- did_that_work: utter_ask_price\",\"- correct: utter_correct_location_restaurant\",\"- correct: utter_ask_price\",\"- restaurant: utter_ask_cuisine\",\"- restaurant: utter_filled_slots\",\"- restaurant: action_search_restaurant\",\"- restaurant: utter_suggest_restaurant\",\"- restaurant: utter_happy\"],\"not_skip\":[0.07439000904560089,0.08474110066890717,0.07754526287317276,0.06063828244805336,0.061524879187345505,0.09530054777860641,0.07614439725875854,0.08342958986759186,0.07539092004299164,0.06213926523923874,0.08459679782390594,0.07623867690563202,0.08444996178150177,0.07621552050113678,0.08445511758327484,0.07625892013311386,0.08449941873550415,0.07631596177816391,0.0858982652425766,0.07626689970493317,0.05968727543950081,0.06050027906894684,0.08230570703744888,0.06721089780330658,0.09990356117486954,0.0962458923459053,0.10584338009357452,0.09761494398117065,0.09628523886203766,0.07454372197389603,0.1161518469452858,0.09606663882732391,0.10197918117046356,0.10333579033613205,0.09858962893486023,0.11338399350643158,0.0985938012599945,0.11803151667118073,0.0988335907459259,0.09460752457380295,0.09612061083316803,0.1012951135635376,0.08601241558790207,0.0900011658668518],\"pred\":[\"- utter_ask_details\",\"- utter_chitchat\",\"- utter_ask_people\",\"- utter_ask_startdate\",\"- utter_ask_location\",\"- utter_correct_startdate_hotel\",\"- utter_ask_location\",\"- utter_explain_location_hotel\",\"- utter_ask_location\",\"- utter_ask_price\",\"- utter_chitchat\",\"- utter_ask_price\",\"- utter_chitchat\",\"- utter_ask_price\",\"- utter_chitchat\",\"- utter_ask_price\",\"- utter_chitchat\",\"- utter_ask_price\",\"- utter_explain_price_hotel\",\"- utter_ask_price\",\"- utter_ask_people\",\"- utter_filled_slots\",\"- action_search_hotel\",\"- utter_suggest_hotel\",\"- utter_chitchat\",\"- utter_suggest_hotel\",\"- utter_correct_people_hotel\",\"- utter_suggest_hotel\",\"- utter_suggest_hotel\",\"- utter_happy\",\"- utter_ask_details\",\"- utter_ask_location\",\"- utter_ask_price\",\"- utter_explain_price_restaurant\",\"- utter_ask_price\",\"- utter_more_info_restaurant\",\"- utter_ask_price\",\"- utter_correct_location_restaurant\",\"- utter_ask_price\",\"- utter_ask_cuisine\",\"- utter_filled_slots\",\"- action_search_restaurant\",\"- utter_suggest_restaurant\",\"- utter_happy\"],\"x\":{\"__ndarray__\":\"HYR7RgZ20L/9gbNf8nPQv7WD2Doz9Ma/pOMfVRAtzr9ZprM33mG0v+9nhxXPOti/0Ivvt7Ptx78bZPruMDrav5CvweQcydC/iNom30Or4z9ZZ90WXXfWvy9L958jadU/jAmVqiRF07++at2SEwnXP7VtmEnSOdO/XJ8lOY/+1j9K0DnCvpnTvws8ixjFp9Y/8QelCaDatL+JwOuF/o7WP6jdPKfJVre/LmDCaSt/u7+llzAWdRimv4h/ZHUl1NK/Gy0iZo0c3b8w1wb5ZN7ivxhuGS+zpOK/IcFq2f8x278+pOJIKwDgv0+iFHdL98y/QFuv+XEqzr/FBtZNrDjKv4Yp4PrxVOQ/LpMWxveSyj/bZ26POPjhP+kg65ZqDG+/8oMyB1bV4T97Zs+CPi/Wv3qzSMX6wuA/lffJXk8Cxb+BjjS/cJ7Vv1PWaogixLi/ISxJKYos1r+oiFwO/73Jvw==\",\"dtype\":\"float64\",\"shape\":[44]},\"y\":{\"__ndarray__\":\"gS8MIj9Uzr+RvxWTvrzTP0srwQRdL6K/JKgbuTiDo7/jGRWDeaLGv743cuUCF7S/NvT8uJW0yr+8Mhh5XgTQv6tNcP5Cd8y/vwtoiEPavb9Hxfsi/snoP0ZFhQoteLE/r5eiGCSL6j+cNE6C+uG0P8/rxvVI8+o/NAKKt+n+tj/IH6NIyi3rPw5fRrYXGrk/iODW/1+qt7949LNw9oOrP7gIHMEu3Lq/7+tVg0vtxL+XJ3641Mfiv4IMKFATaN6/OxR7w+dM6D8U/P3SCBrgv2TB9Wgh/dq/XP5VPaUH378yGzK1CbrZv/PVFBNawrS/ONIrldshyb/qR+hYDFfRv22cFTtpbrS/r7IDPbDBqT/jkjsOyFaXv/k9txMQ97s/kTiCxkVvsb9oy0l6dUu5v1N3GsHzL7a/mwPVlRI6sL/jkQjrSDGxv4sNuvywdLi/alcQNafTUD9SoL6rcUW+vw==\",\"dtype\":\"float64\",\"shape\":[44]}},\"selected\":{\"id\":\"1198\",\"type\":\"Selection\"},\"selection_policy\":{\"id\":\"1199\",\"type\":\"UnionRenderers\"}},\"id\":\"1165\",\"type\":\"ColumnDataSource\"},{\"attributes\":{\"end\":{\"id\":\"1060\",\"type\":\"OpenHead\"},\"line_color\":{\"value\":\"gray\"},\"plot\":{\"id\":\"1003\",\"subtype\":\"Figure\",\"type\":\"Plot\"},\"source\":null,\"start\":null,\"x_end\":{\"value\":0.622215207872782},\"x_start\":{\"value\":-0.30077036747965824},\"y_end\":{\"value\":0.1188575868537637},\"y_start\":{\"value\":0.8295184736821734}},\"id\":\"1061\",\"type\":\"Arrow\"},{\"attributes\":{\"end\":{\"id\":\"1114\",\"type\":\"OpenHead\"},\"line_color\":{\"value\":\"gray\"},\"plot\":{\"id\":\"1003\",\"subtype\":\"Figure\",\"type\":\"Plot\"},\"source\":null,\"start\":null,\"x_end\":{\"value\":-0.20484987367445007},\"x_start\":{\"value\":-0.23527249983196624},\"y_end\":{\"value\":-0.27093766139877357},\"y_start\":{\"value\":-0.1962830969005003}},\"id\":\"1115\",\"type\":\"Arrow\"},{\"attributes\":{\"line_color\":{\"value\":\"firebrick\"},\"line_width\":{\"value\":2},\"plot\":null,\"size\":10},\"id\":\"1024\",\"type\":\"OpenHead\"},{\"attributes\":{\"line_color\":{\"value\":\"firebrick\"},\"line_width\":{\"value\":2},\"plot\":null,\"size\":10},\"id\":\"1063\",\"type\":\"OpenHead\"},{\"attributes\":{\"line_color\":{\"value\":\"firebrick\"},\"line_width\":{\"value\":2},\"plot\":null,\"size\":10},\"id\":\"1117\",\"type\":\"OpenHead\"},{\"attributes\":{\"callback\":null},\"id\":\"1004\",\"type\":\"DataRange1d\"},{\"attributes\":{\"end\":{\"id\":\"1063\",\"type\":\"OpenHead\"},\"line_color\":{\"value\":\"gray\"},\"plot\":{\"id\":\"1003\",\"subtype\":\"Figure\",\"type\":\"Plot\"},\"source\":null,\"start\":null,\"x_end\":{\"value\":-0.2995439848660333},\"x_start\":{\"value\":0.622215207872782},\"y_end\":{\"value\":0.8423448482042556},\"y_start\":{\"value\":0.1188575868537637}},\"id\":\"1064\",\"type\":\"Arrow\"},{\"attributes\":{\"end\":{\"id\":\"1117\",\"type\":\"OpenHead\"},\"line_color\":{\"value\":\"gray\"},\"plot\":{\"id\":\"1003\",\"subtype\":\"Figure\",\"type\":\"Plot\"},\"source\":null,\"start\":null,\"x_end\":{\"value\":0.635375496105932},\"x_start\":{\"value\":-0.20484987367445007},\"y_end\":{\"value\":-0.07980989301528782},\"y_start\":{\"value\":-0.27093766139877357}},\"id\":\"1118\",\"type\":\"Arrow\"},{\"attributes\":{\"data_source\":{\"id\":\"1165\",\"type\":\"ColumnDataSource\"},\"glyph\":{\"id\":\"1167\",\"type\":\"Circle\"},\"hover_glyph\":null,\"muted_glyph\":null,\"name\":\"circle\",\"nonselection_glyph\":{\"id\":\"1168\",\"type\":\"Circle\"},\"selection_glyph\":null,\"view\":{\"id\":\"1170\",\"type\":\"CDSView\"}},\"id\":\"1169\",\"type\":\"GlyphRenderer\"},{\"attributes\":{},\"id\":\"1191\",\"type\":\"BasicTickFormatter\"},{\"attributes\":{\"callback\":null},\"id\":\"1006\",\"type\":\"DataRange1d\"},{\"attributes\":{\"line_color\":{\"value\":\"firebrick\"},\"line_width\":{\"value\":2},\"plot\":null,\"size\":10},\"id\":\"1066\",\"type\":\"OpenHead\"},{\"attributes\":{\"line_color\":{\"value\":\"firebrick\"},\"line_width\":{\"value\":2},\"plot\":null,\"size\":10},\"id\":\"1120\",\"type\":\"OpenHead\"},{\"attributes\":{\"source\":{\"id\":\"1165\",\"type\":\"ColumnDataSource\"}},\"id\":\"1170\",\"type\":\"CDSView\"},{\"attributes\":{},\"id\":\"1008\",\"type\":\"LinearScale\"},{\"attributes\":{\"end\":{\"id\":\"1066\",\"type\":\"OpenHead\"},\"line_color\":{\"value\":\"gray\"},\"plot\":{\"id\":\"1003\",\"subtype\":\"Figure\",\"type\":\"Plot\"},\"source\":null,\"start\":null,\"x_end\":{\"value\":0.5466049493349099},\"x_start\":{\"value\":-0.2995439848660333},\"y_end\":{\"value\":0.16302235340055982},\"y_start\":{\"value\":0.8423448482042556}},\"id\":\"1067\",\"type\":\"Arrow\"},{\"attributes\":{\"end\":{\"id\":\"1120\",\"type\":\"OpenHead\"},\"line_color\":{\"value\":\"gray\"},\"plot\":{\"id\":\"1003\",\"subtype\":\"Figure\",\"type\":\"Plot\"},\"source\":null,\"start\":null,\"x_end\":{\"value\":0.2673287300380539},\"x_start\":{\"value\":0.635375496105932},\"y_end\":{\"value\":0.055019270884088325},\"y_start\":{\"value\":-0.07980989301528782}},\"id\":\"1121\",\"type\":\"Arrow\"},{\"attributes\":{\"callback\":null,\"data\":{},\"selected\":{\"id\":\"1200\",\"type\":\"Selection\"},\"selection_policy\":{\"id\":\"1201\",\"type\":\"UnionRenderers\"}},\"id\":\"1171\",\"type\":\"ColumnDataSource\"},{\"attributes\":{\"callback\":null,\"data\":{},\"selected\":{\"id\":\"1202\",\"type\":\"Selection\"},\"selection_policy\":{\"id\":\"1203\",\"type\":\"UnionRenderers\"}},\"id\":\"1176\",\"type\":\"ColumnDataSource\"},{\"attributes\":{},\"id\":\"1197\",\"type\":\"UnionRenderers\"},{\"attributes\":{},\"id\":\"1010\",\"type\":\"LinearScale\"},{\"attributes\":{\"line_color\":{\"value\":\"firebrick\"},\"line_width\":{\"value\":2},\"plot\":null,\"size\":10},\"id\":\"1069\",\"type\":\"OpenHead\"},{\"attributes\":{\"line_color\":{\"value\":\"firebrick\"},\"line_width\":{\"value\":2},\"plot\":null,\"size\":10},\"id\":\"1123\",\"type\":\"OpenHead\"},{\"attributes\":{\"fill_color\":{\"value\":\"magenta\"},\"line_color\":{\"value\":\"magenta\"},\"size\":{\"units\":\"screen\",\"value\":5},\"x\":{\"value\":-0.14304865469169975},\"y\":{\"value\":-0.1263493159905644}},\"id\":\"1172\",\"type\":\"Circle\"},{\"attributes\":{},\"id\":\"1198\",\"type\":\"Selection\"},{\"attributes\":{\"formatter\":{\"id\":\"1193\",\"type\":\"BasicTickFormatter\"},\"plot\":{\"id\":\"1003\",\"subtype\":\"Figure\",\"type\":\"Plot\"},\"ticker\":{\"id\":\"1013\",\"type\":\"BasicTicker\"}},\"id\":\"1012\",\"type\":\"LinearAxis\"},{\"attributes\":{\"end\":{\"id\":\"1069\",\"type\":\"OpenHead\"},\"line_color\":{\"value\":\"gray\"},\"plot\":{\"id\":\"1003\",\"subtype\":\"Figure\",\"type\":\"Plot\"},\"source\":null,\"start\":null,\"x_end\":{\"value\":-0.3047136046463418},\"x_start\":{\"value\":0.5466049493349099},\"y_end\":{\"value\":0.8496316278553075},\"y_start\":{\"value\":0.16302235340055982}},\"id\":\"1070\",\"type\":\"Arrow\"},{\"attributes\":{\"end\":{\"id\":\"1123\",\"type\":\"OpenHead\"},\"line_color\":{\"value\":\"gray\"},\"plot\":{\"id\":\"1003\",\"subtype\":\"Figure\",\"type\":\"Plot\"},\"source\":null,\"start\":null,\"x_end\":{\"value\":1.0002925893800854},\"x_start\":{\"value\":0.2673287300380539},\"y_end\":{\"value\":0.03379721338988609},\"y_start\":{\"value\":0.055019270884088325}},\"id\":\"1124\",\"type\":\"Arrow\"},{\"attributes\":{\"fill_alpha\":{\"value\":0.1},\"fill_color\":{\"value\":\"#1f77b4\"},\"line_alpha\":{\"value\":0.1},\"line_color\":{\"value\":\"#1f77b4\"},\"size\":{\"units\":\"screen\",\"value\":5},\"x\":{\"value\":-0.14304865469169975},\"y\":{\"value\":-0.1263493159905644}},\"id\":\"1173\",\"type\":\"Circle\"},{\"attributes\":{\"plot\":null,\"text\":\"\"},\"id\":\"1188\",\"type\":\"Title\"},{\"attributes\":{\"data_source\":{\"id\":\"1171\",\"type\":\"ColumnDataSource\"},\"glyph\":{\"id\":\"1172\",\"type\":\"Circle\"},\"hover_glyph\":null,\"muted_glyph\":null,\"nonselection_glyph\":{\"id\":\"1173\",\"type\":\"Circle\"},\"selection_glyph\":null,\"view\":{\"id\":\"1175\",\"type\":\"CDSView\"}},\"id\":\"1174\",\"type\":\"GlyphRenderer\"},{\"attributes\":{},\"id\":\"1013\",\"type\":\"BasicTicker\"},{\"attributes\":{\"line_color\":{\"value\":\"firebrick\"},\"line_width\":{\"value\":2},\"plot\":null,\"size\":10},\"id\":\"1072\",\"type\":\"OpenHead\"},{\"attributes\":{\"line_color\":{\"value\":\"firebrick\"},\"line_width\":{\"value\":2},\"plot\":null,\"size\":10},\"id\":\"1126\",\"type\":\"OpenHead\"},{\"attributes\":{\"line_color\":{\"value\":\"firebrick\"},\"line_width\":{\"value\":2},\"plot\":null,\"size\":10},\"id\":\"1027\",\"type\":\"OpenHead\"},{\"attributes\":{\"end\":{\"id\":\"1072\",\"type\":\"OpenHead\"},\"line_color\":{\"value\":\"gray\"},\"plot\":{\"id\":\"1003\",\"subtype\":\"Figure\",\"type\":\"Plot\"},\"source\":null,\"start\":null,\"x_end\":{\"value\":0.505690338390202},\"x_start\":{\"value\":-0.3047136046463418},\"y_end\":{\"value\":0.27954019159562526},\"y_start\":{\"value\":0.8496316278553075}},\"id\":\"1073\",\"type\":\"Arrow\"},{\"attributes\":{\"end\":{\"id\":\"1126\",\"type\":\"OpenHead\"},\"line_color\":{\"value\":\"gray\"},\"plot\":{\"id\":\"1003\",\"subtype\":\"Figure\",\"type\":\"Plot\"},\"source\":null,\"start\":null,\"x_end\":{\"value\":0.007943599126779954},\"x_start\":{\"value\":1.0002925893800854},\"y_end\":{\"value\":0.11014883959018831},\"y_start\":{\"value\":0.03379721338988609}},\"id\":\"1127\",\"type\":\"Arrow\"},{\"attributes\":{\"source\":{\"id\":\"1171\",\"type\":\"ColumnDataSource\"}},\"id\":\"1175\",\"type\":\"CDSView\"},{\"attributes\":{\"plot\":{\"id\":\"1003\",\"subtype\":\"Figure\",\"type\":\"Plot\"},\"ticker\":{\"id\":\"1013\",\"type\":\"BasicTicker\"}},\"id\":\"1016\",\"type\":\"Grid\"},{\"attributes\":{\"line_color\":{\"value\":\"firebrick\"},\"line_width\":{\"value\":2},\"plot\":null,\"size\":10},\"id\":\"1075\",\"type\":\"OpenHead\"},{\"attributes\":{\"line_color\":{\"value\":\"firebrick\"},\"line_width\":{\"value\":2},\"plot\":null,\"size\":10},\"id\":\"1129\",\"type\":\"OpenHead\"},{\"attributes\":{\"callback\":null,\"data\":{},\"selected\":{\"id\":\"1204\",\"type\":\"Selection\"},\"selection_policy\":{\"id\":\"1205\",\"type\":\"UnionRenderers\"}},\"id\":\"1181\",\"type\":\"ColumnDataSource\"},{\"attributes\":{\"formatter\":{\"id\":\"1191\",\"type\":\"BasicTickFormatter\"},\"plot\":{\"id\":\"1003\",\"subtype\":\"Figure\",\"type\":\"Plot\"},\"ticker\":{\"id\":\"1018\",\"type\":\"BasicTicker\"}},\"id\":\"1017\",\"type\":\"LinearAxis\"},{\"attributes\":{\"end\":{\"id\":\"1075\",\"type\":\"OpenHead\"},\"line_color\":{\"value\":\"gray\"},\"plot\":{\"id\":\"1003\",\"subtype\":\"Figure\",\"type\":\"Plot\"},\"source\":null,\"start\":null,\"x_end\":{\"value\":0.02924050664075861},\"x_start\":{\"value\":0.505690338390202},\"y_end\":{\"value\":-0.07559682144093695},\"y_start\":{\"value\":0.27954019159562526}},\"id\":\"1076\",\"type\":\"Arrow\"},{\"attributes\":{\"end\":{\"id\":\"1129\",\"type\":\"OpenHead\"},\"line_color\":{\"value\":\"gray\"},\"plot\":{\"id\":\"1003\",\"subtype\":\"Figure\",\"type\":\"Plot\"},\"source\":null,\"start\":null,\"x_end\":{\"value\":0.9907195322193799},\"x_start\":{\"value\":0.007943599126779954},\"y_end\":{\"value\":-0.006337465027684957},\"y_start\":{\"value\":0.11014883959018831}},\"id\":\"1130\",\"type\":\"Arrow\"},{\"attributes\":{\"fill_color\":{\"value\":\"green\"},\"line_color\":{\"value\":\"green\"},\"size\":{\"units\":\"screen\",\"value\":10},\"x\":{\"value\":-0.2572036445909043},\"y\":{\"value\":-0.23694600260239088}},\"id\":\"1177\",\"type\":\"Circle\"},{\"attributes\":{},\"id\":\"1018\",\"type\":\"BasicTicker\"},{\"attributes\":{},\"id\":\"1196\",\"type\":\"Selection\"},{\"attributes\":{\"line_color\":{\"value\":\"firebrick\"},\"line_width\":{\"value\":2},\"plot\":null,\"size\":10},\"id\":\"1078\",\"type\":\"OpenHead\"},{\"attributes\":{\"line_color\":{\"value\":\"firebrick\"},\"line_width\":{\"value\":2},\"plot\":null,\"size\":10},\"id\":\"1132\",\"type\":\"OpenHead\"},{\"attributes\":{\"fill_alpha\":{\"value\":0.1},\"fill_color\":{\"value\":\"#1f77b4\"},\"line_alpha\":{\"value\":0.1},\"line_color\":{\"value\":\"#1f77b4\"},\"size\":{\"units\":\"screen\",\"value\":10},\"x\":{\"value\":-0.2572036445909043},\"y\":{\"value\":-0.23694600260239088}},\"id\":\"1178\",\"type\":\"Circle\"},{\"attributes\":{\"dimension\":1,\"plot\":{\"id\":\"1003\",\"subtype\":\"Figure\",\"type\":\"Plot\"},\"ticker\":{\"id\":\"1018\",\"type\":\"BasicTicker\"}},\"id\":\"1021\",\"type\":\"Grid\"},{\"attributes\":{\"end\":{\"id\":\"1078\",\"type\":\"OpenHead\"},\"line_color\":{\"value\":\"gray\"},\"plot\":{\"id\":\"1003\",\"subtype\":\"Figure\",\"type\":\"Plot\"},\"source\":null,\"start\":null,\"x_end\":{\"value\":0.5839624706829292},\"x_start\":{\"value\":0.02924050664075861},\"y_end\":{\"value\":0.23755413042265935},\"y_start\":{\"value\":-0.07559682144093695}},\"id\":\"1079\",\"type\":\"Arrow\"},{\"attributes\":{\"end\":{\"id\":\"1132\",\"type\":\"OpenHead\"},\"line_color\":{\"value\":\"gray\"},\"plot\":{\"id\":\"1003\",\"subtype\":\"Figure\",\"type\":\"Plot\"},\"source\":null,\"start\":null,\"x_end\":{\"value\":-0.34429727440142616},\"x_start\":{\"value\":0.9907195322193799},\"y_end\":{\"value\":-0.09862348261926114},\"y_start\":{\"value\":-0.006337465027684957}},\"id\":\"1133\",\"type\":\"Arrow\"},{\"attributes\":{\"data_source\":{\"id\":\"1176\",\"type\":\"ColumnDataSource\"},\"glyph\":{\"id\":\"1177\",\"type\":\"Circle\"},\"hover_glyph\":null,\"muted_glyph\":null,\"nonselection_glyph\":{\"id\":\"1178\",\"type\":\"Circle\"},\"selection_glyph\":null,\"view\":{\"id\":\"1180\",\"type\":\"CDSView\"}},\"id\":\"1179\",\"type\":\"GlyphRenderer\"},{\"attributes\":{\"end\":{\"id\":\"1024\",\"type\":\"OpenHead\"},\"line_color\":{\"value\":\"gray\"},\"plot\":{\"id\":\"1003\",\"subtype\":\"Figure\",\"type\":\"Plot\"},\"source\":null,\"start\":null,\"x_end\":{\"value\":-0.2570775417439676},\"x_start\":{\"value\":-0.2572036445909043},\"y_end\":{\"value\":0.308393914342519},\"y_start\":{\"value\":-0.23694600260239088}},\"id\":\"1025\",\"type\":\"Arrow\"},{\"attributes\":{\"line_color\":{\"value\":\"firebrick\"},\"line_width\":{\"value\":2},\"plot\":null,\"size\":10},\"id\":\"1081\",\"type\":\"OpenHead\"},{\"attributes\":{\"line_color\":{\"value\":\"firebrick\"},\"line_width\":{\"value\":2},\"plot\":null,\"size\":10},\"id\":\"1135\",\"type\":\"OpenHead\"},{\"attributes\":{\"source\":{\"id\":\"1176\",\"type\":\"ColumnDataSource\"}},\"id\":\"1180\",\"type\":\"CDSView\"},{\"attributes\":{\"end\":{\"id\":\"1081\",\"type\":\"OpenHead\"},\"line_color\":{\"value\":\"gray\"},\"plot\":{\"id\":\"1003\",\"subtype\":\"Figure\",\"type\":\"Plot\"},\"source\":null,\"start\":null,\"x_end\":{\"value\":-0.09040128027605165},\"x_start\":{\"value\":0.5839624706829292},\"y_end\":{\"value\":-0.10484873338160713},\"y_start\":{\"value\":0.23755413042265935}},\"id\":\"1082\",\"type\":\"Arrow\"},{\"attributes\":{\"end\":{\"id\":\"1135\",\"type\":\"OpenHead\"},\"line_color\":{\"value\":\"gray\"},\"plot\":{\"id\":\"1003\",\"subtype\":\"Figure\",\"type\":\"Plot\"},\"source\":null,\"start\":null,\"x_end\":{\"value\":0.9847105957527462},\"x_start\":{\"value\":-0.34429727440142616},\"y_end\":{\"value\":-0.03368657008138437},\"y_start\":{\"value\":-0.09862348261926114}},\"id\":\"1136\",\"type\":\"Arrow\"},{\"attributes\":{\"active_drag\":\"auto\",\"active_inspect\":\"auto\",\"active_multi\":null,\"active_scroll\":\"auto\",\"active_tap\":\"auto\",\"tools\":[{\"id\":\"1002\",\"type\":\"HoverTool\"}]},\"id\":\"1022\",\"type\":\"Toolbar\"},{\"attributes\":{},\"id\":\"1193\",\"type\":\"BasicTickFormatter\"},{\"attributes\":{\"line_color\":{\"value\":\"firebrick\"},\"line_width\":{\"value\":2},\"plot\":null,\"size\":10},\"id\":\"1084\",\"type\":\"OpenHead\"},{\"attributes\":{\"line_color\":{\"value\":\"firebrick\"},\"line_width\":{\"value\":2},\"plot\":null,\"size\":10},\"id\":\"1138\",\"type\":\"OpenHead\"},{\"attributes\":{\"fill_color\":{\"value\":\"red\"},\"line_color\":{\"value\":\"red\"},\"size\":{\"units\":\"screen\",\"value\":10},\"x\":{\"value\":-0.20100541753998039},\"y\":{\"value\":-0.11823698919250955}},\"id\":\"1182\",\"type\":\"Circle\"},{\"attributes\":{\"end\":{\"id\":\"1027\",\"type\":\"OpenHead\"},\"line_color\":{\"value\":\"gray\"},\"plot\":{\"id\":\"1003\",\"subtype\":\"Figure\",\"type\":\"Plot\"},\"source\":null,\"start\":null,\"x_end\":{\"value\":-0.18329146135976307},\"x_start\":{\"value\":-0.2570775417439676},\"y_end\":{\"value\":-0.041824779706869125},\"y_start\":{\"value\":0.308393914342519}},\"id\":\"1028\",\"type\":\"Arrow\"},{\"attributes\":{\"fill_alpha\":{\"value\":0.1},\"fill_color\":{\"value\":\"#1f77b4\"},\"line_alpha\":{\"value\":0.1},\"line_color\":{\"value\":\"#1f77b4\"},\"size\":{\"units\":\"screen\",\"value\":10},\"x\":{\"field\":\"x\"},\"y\":{\"field\":\"y\"}},\"id\":\"1156\",\"type\":\"Circle\"},{\"attributes\":{\"end\":{\"id\":\"1084\",\"type\":\"OpenHead\"},\"line_color\":{\"value\":\"gray\"},\"plot\":{\"id\":\"1003\",\"subtype\":\"Figure\",\"type\":\"Plot\"},\"source\":null,\"start\":null,\"x_end\":{\"value\":-0.10738069662119785},\"x_start\":{\"value\":-0.09040128027605165},\"y_end\":{\"value\":-0.16348534103176152},\"y_start\":{\"value\":-0.10484873338160713}},\"id\":\"1085\",\"type\":\"Arrow\"},{\"attributes\":{\"end\":{\"id\":\"1138\",\"type\":\"OpenHead\"},\"line_color\":{\"value\":\"gray\"},\"plot\":{\"id\":\"1003\",\"subtype\":\"Figure\",\"type\":\"Plot\"},\"source\":null,\"start\":null,\"x_end\":{\"value\":-0.16394858280924124},\"x_start\":{\"value\":0.9847105957527462},\"y_end\":{\"value\":-0.06337144192233349},\"y_start\":{\"value\":-0.03368657008138437}},\"id\":\"1139\",\"type\":\"Arrow\"},{\"attributes\":{\"fill_alpha\":{\"value\":0.1},\"fill_color\":{\"value\":\"#1f77b4\"},\"line_alpha\":{\"value\":0.1},\"line_color\":{\"value\":\"#1f77b4\"},\"size\":{\"units\":\"screen\",\"value\":10},\"x\":{\"value\":-0.20100541753998039},\"y\":{\"value\":-0.11823698919250955}},\"id\":\"1183\",\"type\":\"Circle\"},{\"attributes\":{\"line_color\":{\"value\":\"firebrick\"},\"line_width\":{\"value\":2},\"plot\":null,\"size\":10},\"id\":\"1030\",\"type\":\"OpenHead\"},{\"attributes\":{\"data_source\":{\"id\":\"1181\",\"type\":\"ColumnDataSource\"},\"glyph\":{\"id\":\"1182\",\"type\":\"Circle\"},\"hover_glyph\":null,\"muted_glyph\":null,\"nonselection_glyph\":{\"id\":\"1183\",\"type\":\"Circle\"},\"selection_glyph\":null,\"view\":{\"id\":\"1185\",\"type\":\"CDSView\"}},\"id\":\"1184\",\"type\":\"GlyphRenderer\"},{\"attributes\":{\"line_color\":{\"value\":\"firebrick\"},\"line_width\":{\"value\":2},\"plot\":null,\"size\":10},\"id\":\"1087\",\"type\":\"OpenHead\"},{\"attributes\":{\"line_color\":{\"value\":\"firebrick\"},\"line_width\":{\"value\":2},\"plot\":null,\"size\":10},\"id\":\"1141\",\"type\":\"OpenHead\"},{\"attributes\":{\"end\":{\"id\":\"1030\",\"type\":\"OpenHead\"},\"line_color\":{\"value\":\"gray\"},\"plot\":{\"id\":\"1003\",\"subtype\":\"Figure\",\"type\":\"Plot\"},\"source\":null,\"start\":null,\"x_end\":{\"value\":-0.23575132915281696},\"x_start\":{\"value\":-0.18329146135976307},\"y_end\":{\"value\":-0.03810947333091561},\"y_start\":{\"value\":-0.041824779706869125}},\"id\":\"1031\",\"type\":\"Arrow\"},{\"attributes\":{\"end\":{\"id\":\"1087\",\"type\":\"OpenHead\"},\"line_color\":{\"value\":\"gray\"},\"plot\":{\"id\":\"1003\",\"subtype\":\"Figure\",\"type\":\"Plot\"},\"source\":null,\"start\":null,\"x_end\":{\"value\":0.05226372344922815},\"x_start\":{\"value\":-0.10738069662119785},\"y_end\":{\"value\":-0.5058934559003728},\"y_start\":{\"value\":-0.16348534103176152}},\"id\":\"1088\",\"type\":\"Arrow\"},{\"attributes\":{\"end\":{\"id\":\"1141\",\"type\":\"OpenHead\"},\"line_color\":{\"value\":\"gray\"},\"plot\":{\"id\":\"1003\",\"subtype\":\"Figure\",\"type\":\"Plot\"},\"source\":null,\"start\":null,\"x_end\":{\"value\":-0.3377879134064066},\"x_start\":{\"value\":-0.16394858280924124},\"y_end\":{\"value\":-0.06715645909710763},\"y_start\":{\"value\":-0.06337144192233349}},\"id\":\"1142\",\"type\":\"Arrow\"},{\"attributes\":{\"source\":{\"id\":\"1181\",\"type\":\"ColumnDataSource\"}},\"id\":\"1185\",\"type\":\"CDSView\"},{\"attributes\":{\"line_color\":{\"value\":\"firebrick\"},\"line_width\":{\"value\":2},\"plot\":null,\"size\":10},\"id\":\"1033\",\"type\":\"OpenHead\"},{\"attributes\":{\"line_color\":{\"value\":\"firebrick\"},\"line_width\":{\"value\":2},\"plot\":null,\"size\":10},\"id\":\"1090\",\"type\":\"OpenHead\"},{\"attributes\":{\"line_color\":{\"value\":\"firebrick\"},\"line_width\":{\"value\":2},\"plot\":null,\"size\":10},\"id\":\"1144\",\"type\":\"OpenHead\"},{\"attributes\":{\"end\":{\"id\":\"1033\",\"type\":\"OpenHead\"},\"line_color\":{\"value\":\"gray\"},\"plot\":{\"id\":\"1003\",\"subtype\":\"Figure\",\"type\":\"Plot\"},\"source\":null,\"start\":null,\"x_end\":{\"value\":-0.07961902157717693},\"x_start\":{\"value\":-0.23575132915281696},\"y_end\":{\"value\":-0.17683341256385962},\"y_start\":{\"value\":-0.03810947333091561}},\"id\":\"1034\",\"type\":\"Arrow\"},{\"attributes\":{\"end\":{\"id\":\"1090\",\"type\":\"OpenHead\"},\"line_color\":{\"value\":\"gray\"},\"plot\":{\"id\":\"1003\",\"subtype\":\"Figure\",\"type\":\"Plot\"},\"source\":null,\"start\":null,\"x_end\":{\"value\":-0.23712451263367648},\"x_start\":{\"value\":0.05226372344922815},\"y_end\":{\"value\":-0.4585678658239848},\"y_start\":{\"value\":-0.5058934559003728}},\"id\":\"1091\",\"type\":\"Arrow\"},{\"attributes\":{\"end\":{\"id\":\"1144\",\"type\":\"OpenHead\"},\"line_color\":{\"value\":\"gray\"},\"plot\":{\"id\":\"1003\",\"subtype\":\"Figure\",\"type\":\"Plot\"},\"source\":null,\"start\":null,\"x_end\":{\"value\":-0.00906302488362381},\"x_start\":{\"value\":-0.3377879134064066},\"y_end\":{\"value\":-0.0230693164901197},\"y_start\":{\"value\":-0.06715645909710763}},\"id\":\"1145\",\"type\":\"Arrow\"},{\"attributes\":{},\"id\":\"1205\",\"type\":\"UnionRenderers\"},{\"attributes\":{\"line_color\":{\"value\":\"firebrick\"},\"line_width\":{\"value\":2},\"plot\":null,\"size\":10},\"id\":\"1036\",\"type\":\"OpenHead\"},{\"attributes\":{\"line_color\":{\"value\":\"firebrick\"},\"line_width\":{\"value\":2},\"plot\":null,\"size\":10},\"id\":\"1093\",\"type\":\"OpenHead\"},{\"attributes\":{\"line_color\":{\"value\":\"firebrick\"},\"line_width\":{\"value\":2},\"plot\":null,\"size\":10},\"id\":\"1147\",\"type\":\"OpenHead\"},{\"attributes\":{\"end\":{\"id\":\"1036\",\"type\":\"OpenHead\"},\"line_color\":{\"value\":\"gray\"},\"plot\":{\"id\":\"1003\",\"subtype\":\"Figure\",\"type\":\"Plot\"},\"source\":null,\"start\":null,\"x_end\":{\"value\":-0.37859411460348025},\"x_start\":{\"value\":-0.07961902157717693},\"y_end\":{\"value\":-0.07848107080403162},\"y_start\":{\"value\":-0.17683341256385962}},\"id\":\"1037\",\"type\":\"Arrow\"},{\"attributes\":{\"end\":{\"id\":\"1093\",\"type\":\"OpenHead\"},\"line_color\":{\"value\":\"gray\"},\"plot\":{\"id\":\"1003\",\"subtype\":\"Figure\",\"type\":\"Plot\"},\"source\":null,\"start\":null,\"x_end\":{\"value\":-0.4542653145832203},\"x_start\":{\"value\":-0.23712451263367648},\"y_end\":{\"value\":0.7594378698036407},\"y_start\":{\"value\":-0.4585678658239848}},\"id\":\"1094\",\"type\":\"Arrow\"},{\"attributes\":{\"end\":{\"id\":\"1147\",\"type\":\"OpenHead\"},\"line_color\":{\"value\":\"gray\"},\"plot\":{\"id\":\"1003\",\"subtype\":\"Figure\",\"type\":\"Plot\"},\"source\":null,\"start\":null,\"x_end\":{\"value\":-0.2978971095761511},\"x_start\":{\"value\":-0.00906302488362381},\"y_end\":{\"value\":0.033086197531042895},\"y_start\":{\"value\":-0.0230693164901197}},\"id\":\"1148\",\"type\":\"Arrow\"},{\"attributes\":{\"line_color\":{\"value\":\"firebrick\"},\"line_width\":{\"value\":2},\"plot\":null,\"size\":10},\"id\":\"1039\",\"type\":\"OpenHead\"},{\"attributes\":{\"line_color\":{\"value\":\"firebrick\"},\"line_width\":{\"value\":2},\"plot\":null,\"size\":10},\"id\":\"1096\",\"type\":\"OpenHead\"},{\"attributes\":{\"line_color\":{\"value\":\"firebrick\"},\"line_width\":{\"value\":2},\"plot\":null,\"size\":10},\"id\":\"1150\",\"type\":\"OpenHead\"},{\"attributes\":{\"end\":{\"id\":\"1039\",\"type\":\"OpenHead\"},\"line_color\":{\"value\":\"gray\"},\"plot\":{\"id\":\"1003\",\"subtype\":\"Figure\",\"type\":\"Plot\"},\"source\":null,\"start\":null,\"x_end\":{\"value\":-0.2291775915959643},\"x_start\":{\"value\":-0.37859411460348025},\"y_end\":{\"value\":-0.2577634561111191},\"y_start\":{\"value\":-0.07848107080403162}},\"id\":\"1040\",\"type\":\"Arrow\"},{\"attributes\":{\"end\":{\"id\":\"1096\",\"type\":\"OpenHead\"},\"line_color\":{\"value\":\"gray\"},\"plot\":{\"id\":\"1003\",\"subtype\":\"Figure\",\"type\":\"Plot\"},\"source\":null,\"start\":null,\"x_end\":{\"value\":-0.2301649623917431},\"x_start\":{\"value\":-0.4542653145832203},\"y_end\":{\"value\":-0.4189384175493015},\"y_start\":{\"value\":0.7594378698036407}},\"id\":\"1097\",\"type\":\"Arrow\"},{\"attributes\":{\"end\":{\"id\":\"1150\",\"type\":\"OpenHead\"},\"line_color\":{\"value\":\"gray\"},\"plot\":{\"id\":\"1003\",\"subtype\":\"Figure\",\"type\":\"Plot\"},\"source\":null,\"start\":null,\"x_end\":{\"value\":-0.20100541753998039},\"x_start\":{\"value\":-0.2978971095761511},\"y_end\":{\"value\":-0.11823698919250955},\"y_start\":{\"value\":0.033086197531042895}},\"id\":\"1151\",\"type\":\"Arrow\"},{\"attributes\":{\"line_color\":{\"value\":\"firebrick\"},\"line_width\":{\"value\":2},\"plot\":null,\"size\":10},\"id\":\"1045\",\"type\":\"OpenHead\"},{\"attributes\":{\"line_color\":{\"value\":\"firebrick\"},\"line_width\":{\"value\":2},\"plot\":null,\"size\":10},\"id\":\"1099\",\"type\":\"OpenHead\"},{\"attributes\":{\"fill_color\":{\"value\":\"#1f77b4\"},\"line_color\":{\"value\":\"#1f77b4\"},\"size\":{\"units\":\"screen\",\"value\":10},\"x\":{\"field\":\"x\"},\"y\":{\"field\":\"y\"}},\"id\":\"1155\",\"type\":\"Circle\"},{\"attributes\":{},\"id\":\"1194\",\"type\":\"Selection\"},{\"attributes\":{\"fill_alpha\":{\"value\":0.1},\"fill_color\":{\"value\":\"#1f77b4\"},\"line_alpha\":{\"value\":0.1},\"line_color\":{\"value\":\"#1f77b4\"},\"size\":{\"units\":\"screen\",\"value\":5},\"x\":{\"field\":\"x\"},\"y\":{\"field\":\"y\"}},\"id\":\"1162\",\"type\":\"Circle\"},{\"attributes\":{\"end\":{\"id\":\"1045\",\"type\":\"OpenHead\"},\"line_color\":{\"value\":\"gray\"},\"plot\":{\"id\":\"1003\",\"subtype\":\"Figure\",\"type\":\"Plot\"},\"source\":null,\"start\":null,\"x_end\":{\"value\":-0.43078794452373653},\"x_start\":{\"value\":-0.41268498713637997},\"y_end\":{\"value\":-0.29689491823841263},\"y_start\":{\"value\":-0.2520005068337866}},\"id\":\"1046\",\"type\":\"Arrow\"},{\"attributes\":{\"end\":{\"id\":\"1099\",\"type\":\"OpenHead\"},\"line_color\":{\"value\":\"gray\"},\"plot\":{\"id\":\"1003\",\"subtype\":\"Figure\",\"type\":\"Plot\"},\"source\":null,\"start\":null,\"x_end\":{\"value\":-0.5795761166905745},\"x_start\":{\"value\":-0.2301649623917431},\"y_end\":{\"value\":-0.42146167536667983},\"y_start\":{\"value\":-0.4189384175493015}},\"id\":\"1100\",\"type\":\"Arrow\"},{\"attributes\":{},\"id\":\"1195\",\"type\":\"UnionRenderers\"},{\"attributes\":{\"callback\":null,\"data\":{\"desc\":[\"- utter_ask_details\",\"- utter_chitchat\",\"- utter_ask_details\",\"- utter_ask_startdate\",\"- utter_ask_location\",\"- utter_correct_startdate_hotel\",\"- utter_ask_location\",\"- utter_explain_location_hotel\",\"- utter_ask_location\",\"- utter_ask_price\",\"- utter_chitchat\",\"- utter_ask_price\",\"- utter_chitchat\",\"- utter_ask_price\",\"- utter_chitchat\",\"- utter_ask_price\",\"- utter_chitchat\",\"- utter_ask_price\",\"- utter_explain_price_hotel\",\"- utter_ask_price\",\"- utter_ask_people\",\"- utter_filled_slots\",\"- action_search_hotel\",\"- utter_suggest_hotel\",\"- utter_chitchat\",\"- utter_suggest_hotel\",\"- correct: utter_correct_people_hotel\",\"- correct: action_search_hotel\",\"- correct: utter_suggest_hotel\",\"- utter_happy\",\"- restaurant: utter_ask_details\",\"- restaurant: utter_ask_location\",\"- restaurant: utter_ask_price\",\"- explain: utter_explain_price_restaurant\",\"- explain: utter_ask_price\",\"- did_that_work: utter_more_info_restaurant\",\"- did_that_work: utter_ask_price\",\"- correct: utter_correct_location_restaurant\",\"- correct: utter_ask_price\",\"- restaurant: utter_ask_cuisine\",\"- restaurant: utter_filled_slots\",\"- restaurant: action_search_restaurant\",\"- restaurant: utter_suggest_restaurant\",\"- restaurant: utter_happy\"],\"not_skip\":[0.07439000904560089,0.08474110066890717,0.07754526287317276,0.06063828244805336,0.061524879187345505,0.09530054777860641,0.07614439725875854,0.08342958986759186,0.07539092004299164,0.06213926523923874,0.08459679782390594,0.07623867690563202,0.08444996178150177,0.07621552050113678,0.08445511758327484,0.07625892013311386,0.08449941873550415,0.07631596177816391,0.0858982652425766,0.07626689970493317,0.05968727543950081,0.06050027906894684,0.08230570703744888,0.06721089780330658,0.09990356117486954,0.0962458923459053,0.10584338009357452,0.09761494398117065,0.09628523886203766,0.07454372197389603,0.1161518469452858,0.09606663882732391,0.10197918117046356,0.10333579033613205,0.09858962893486023,0.11338399350643158,0.0985938012599945,0.11803151667118073,0.0988335907459259,0.09460752457380295,0.09612061083316803,0.1012951135635376,0.08601241558790207,0.0900011658668518],\"pred\":[\"- utter_ask_details\",\"- utter_chitchat\",\"- utter_ask_people\",\"- utter_ask_startdate\",\"- utter_ask_location\",\"- utter_correct_startdate_hotel\",\"- utter_ask_location\",\"- utter_explain_location_hotel\",\"- utter_ask_location\",\"- utter_ask_price\",\"- utter_chitchat\",\"- utter_ask_price\",\"- utter_chitchat\",\"- utter_ask_price\",\"- utter_chitchat\",\"- utter_ask_price\",\"- utter_chitchat\",\"- utter_ask_price\",\"- utter_explain_price_hotel\",\"- utter_ask_price\",\"- utter_ask_people\",\"- utter_filled_slots\",\"- action_search_hotel\",\"- utter_suggest_hotel\",\"- utter_chitchat\",\"- utter_suggest_hotel\",\"- utter_correct_people_hotel\",\"- utter_suggest_hotel\",\"- utter_suggest_hotel\",\"- utter_happy\",\"- utter_ask_details\",\"- utter_ask_location\",\"- utter_ask_price\",\"- utter_explain_price_restaurant\",\"- utter_ask_price\",\"- utter_more_info_restaurant\",\"- utter_ask_price\",\"- utter_correct_location_restaurant\",\"- utter_ask_price\",\"- utter_ask_cuisine\",\"- utter_filled_slots\",\"- action_search_restaurant\",\"- utter_suggest_restaurant\",\"- utter_happy\"],\"x\":{\"__ndarray__\":\"KIR7RgZ20L/+45Rc9XPQv7WOFjgYdse/rZVZfBktzr8YQdCF6WG0v4KFK8/iOti/JLtw+rBVzb97QtNKbmnav4dkT5kHktu/he6K7Smr4z/wv69PDGrWv9pYp6DHneQ/EJb7WtI/07/pZRzeL+njP/SjrYi6K9O/ojSnqcl94T9GjKZ9bYDTvzxAKYGdLuA/P032LjnxnT/UlTUQ0q/iPyBbTc6JJLe/r7E1JE19u79Sl/aNT8KqP9+4a5UYWs6/sOR1064S3b90LBSlC3bNv31RVzbji+K/pHZ5it4Joz+oHmklqnG1vyAdcesP9My/QpY2xmgdzr9UwAJKhTjKv1eNDv7+VOQ/ntsy9ukb0T8VGV3NMgHwP2ZJstO7RIA/P4DMcvmz7z/x/Glv9wjWvw4Mmcu/gu8/HhSyZET8xL9ZIkQyUZ7Vv93w0puij4K/uPXMCb8Q07/VllOni7rJvw==\",\"dtype\":\"float64\",\"shape\":[44]},\"y\":{\"__ndarray__\":\"gS8MIj9Uzr8lvRjUubzTP5y+AboOaqW/rYU/uxWDo78bo+YteqLGvyVYdeBVF7S/3XmGSzJ/0L9mTNu7xiDQv1SvC4tTANO/bQ4a7cXavb9oBvuNusnoP0i/7F7cULQ/lZF8U2qL6j/pG2toc22+Pz253y599Oo/dKkvnurdxD8uJemqLjDrP7yHNIv849E/WTfFM1Bas78X95h6LGjOP6ap5thd17q/XayNcBbtxL/XRwt5RzDgv1Z5rQgtWd2/P9HEpVBN6D8uYpoU48/av5HnDWQ6+dq/Pptn5XEm3L9gm1TMEoHWv6KqHZbuwbS/4f349M0fyb/ZmL3qClfRvxbeZdBrbrS/EqAxYnwrrD+ENmlM3k2hPwpyu9+2Mrw/hgOJUFD1eb9RpHd4Yz+5vxi/oLldP6G/gomOXhw5sL9+iIlrKjGxv8jsdp97n5e/7YywkKzwoD+2Y8KBx0S+vw==\",\"dtype\":\"float64\",\"shape\":[44]}},\"selected\":{\"id\":\"1194\",\"type\":\"Selection\"},\"selection_policy\":{\"id\":\"1195\",\"type\":\"UnionRenderers\"}},\"id\":\"1153\",\"type\":\"ColumnDataSource\"},{\"attributes\":{\"line_color\":{\"value\":\"firebrick\"},\"line_width\":{\"value\":2},\"plot\":null,\"size\":10},\"id\":\"1048\",\"type\":\"OpenHead\"},{\"attributes\":{\"line_color\":{\"value\":\"firebrick\"},\"line_width\":{\"value\":2},\"plot\":null,\"size\":10},\"id\":\"1102\",\"type\":\"OpenHead\"},{\"attributes\":{\"data_source\":{\"id\":\"1159\",\"type\":\"ColumnDataSource\"},\"glyph\":{\"id\":\"1161\",\"type\":\"Circle\"},\"hover_glyph\":null,\"muted_glyph\":null,\"name\":\"circle\",\"nonselection_glyph\":{\"id\":\"1162\",\"type\":\"Circle\"},\"selection_glyph\":null,\"view\":{\"id\":\"1164\",\"type\":\"CDSView\"}},\"id\":\"1163\",\"type\":\"GlyphRenderer\"},{\"attributes\":{\"end\":{\"id\":\"1111\",\"type\":\"OpenHead\"},\"line_color\":{\"value\":\"gray\"},\"plot\":{\"id\":\"1003\",\"subtype\":\"Figure\",\"type\":\"Plot\"},\"source\":null,\"start\":null,\"x_end\":{\"value\":-0.23527249983196624},\"x_start\":{\"value\":-0.22619818683799853},\"y_end\":{\"value\":-0.1962830969005003},\"y_start\":{\"value\":-0.08108416714609715}},\"id\":\"1112\",\"type\":\"Arrow\"},{\"attributes\":{\"source\":{\"id\":\"1153\",\"type\":\"ColumnDataSource\"}},\"id\":\"1158\",\"type\":\"CDSView\"},{\"attributes\":{\"line_color\":{\"value\":\"firebrick\"},\"line_width\":{\"value\":2},\"plot\":null,\"size\":10},\"id\":\"1042\",\"type\":\"OpenHead\"},{\"attributes\":{},\"id\":\"1199\",\"type\":\"UnionRenderers\"}],\"root_ids\":[\"1003\"]},\"title\":\"Bokeh Application\",\"version\":\"1.0.4\"}};\n",
       "  var render_items = [{\"docid\":\"9a725e65-64dc-4835-a9f2-32e9083b8029\",\"roots\":{\"1003\":\"94837d97-c913-429b-b781-007ee751a119\"}}];\n",
       "  root.Bokeh.embed.embed_items_notebook(docs_json, render_items);\n",
       "\n",
       "  }\n",
       "  if (root.Bokeh !== undefined) {\n",
       "    embed_document(root);\n",
       "  } else {\n",
       "    var attempts = 0;\n",
       "    var timer = setInterval(function(root) {\n",
       "      if (root.Bokeh !== undefined) {\n",
       "        embed_document(root);\n",
       "        clearInterval(timer);\n",
       "      }\n",
       "      attempts++;\n",
       "      if (attempts > 100) {\n",
       "        console.log(\"Bokeh: ERROR: Unable to run BokehJS code because BokehJS library is missing\");\n",
       "        clearInterval(timer);\n",
       "      }\n",
       "    }, 10, root)\n",
       "  }\n",
       "})(window);"
      ],
      "application/vnd.bokehjs_exec.v0+json": ""
     },
     "metadata": {
      "application/vnd.bokehjs_exec.v0+json": {
       "id": "1003"
      }
     },
     "output_type": "display_data"
    }
   ],
   "source": [
    "show(p)"
   ]
  },
  {
   "cell_type": "code",
   "execution_count": null,
   "metadata": {
    "collapsed": true
   },
   "outputs": [],
   "source": []
  },
  {
   "cell_type": "code",
   "execution_count": 18,
   "metadata": {},
   "outputs": [
    {
     "name": "stdout",
     "output_type": "stream",
     "text": [
      "utter_ask_price --> 6\n",
      "utter_ask_details --> 28\n",
      "utter_ask_people --> 4\n",
      "utter_explain_details_hotel --> 14\n",
      "utter_explain_people_hotel --> 19\n",
      "utter_explain_price_hotel --> 21\n",
      "utter_ask_location --> 5\n",
      "utter_explain_location_hotel --> 17\n",
      "utter_ask_startdate --> 7\n",
      "utter_suggest_hotel --> 12\n",
      "action_search_hotel --> 42\n",
      "action_listen --> 0\n"
     ]
    }
   ],
   "source": [
    "print('utter_ask_price', '-->', domain.index_for_action('utter_ask_price'))\n",
    "print('utter_ask_details', '-->', domain.index_for_action('utter_ask_details'))\n",
    "print('utter_ask_people', '-->', domain.index_for_action('utter_ask_people'))\n",
    "print('utter_explain_details_hotel', '-->', domain.index_for_action('utter_explain_details_hotel'))\n",
    "print('utter_explain_people_hotel', '-->', domain.index_for_action('utter_explain_people_hotel'))\n",
    "print('utter_explain_price_hotel', '-->', domain.index_for_action('utter_explain_price_hotel'))\n",
    "print('utter_ask_location', '-->', domain.index_for_action('utter_ask_location'))\n",
    "print('utter_explain_location_hotel', '-->', domain.index_for_action('utter_explain_location_hotel'))\n",
    "print('utter_ask_startdate', '-->', domain.index_for_action('utter_ask_startdate'))\n",
    "print('utter_suggest_hotel', '-->', domain.index_for_action('utter_suggest_hotel'))\n",
    "print('action_search_hotel', '-->', domain.index_for_action('action_search_hotel'))\n",
    "print('action_listen', '-->', domain.index_for_action('action_listen'))"
   ]
  },
  {
   "cell_type": "code",
   "execution_count": 19,
   "metadata": {},
   "outputs": [
    {
     "data": {
      "text/plain": [
       "(20,)"
      ]
     },
     "execution_count": 19,
     "metadata": {},
     "output_type": "execute_result"
    }
   ],
   "source": [
    "utter_price = embedding_from_tracker(\"#generate story\\n{}\".format(story_block), bot=True)[0,-1,5,:]\n",
    "utter_price.shape"
   ]
  },
  {
   "cell_type": "code",
   "execution_count": 20,
   "metadata": {},
   "outputs": [
    {
     "name": "stdout",
     "output_type": "stream",
     "text": [
      "(20,)\n"
     ]
    },
    {
     "data": {
      "text/html": [
       "<div style=\"display: table;\"><div style=\"display: table-row;\"><div style=\"display: table-cell;\"><b title=\"bokeh.models.renderers.GlyphRenderer\">GlyphRenderer</b>(</div><div style=\"display: table-cell;\">id&nbsp;=&nbsp;'1db745d9-cfee-44a7-8a51-a238a358f252', <span id=\"39a24e62-01d3-478d-97b4-067e18601781\" style=\"cursor: pointer;\">&hellip;)</span></div></div><div class=\"cb057124-66eb-4d3b-8bd8-dddcd76cabb6\" style=\"display: none;\"><div style=\"display: table-cell;\"></div><div style=\"display: table-cell;\">data_source&nbsp;=&nbsp;ColumnDataSource(id='f011c53f-e8a7-4c7c-9830-ff8fdc912a23', ...),</div></div><div class=\"cb057124-66eb-4d3b-8bd8-dddcd76cabb6\" style=\"display: none;\"><div style=\"display: table-cell;\"></div><div style=\"display: table-cell;\">glyph&nbsp;=&nbsp;Circle(id='dc8dc1af-cea4-493b-8c6c-d8fcbf8d1706', ...),</div></div><div class=\"cb057124-66eb-4d3b-8bd8-dddcd76cabb6\" style=\"display: none;\"><div style=\"display: table-cell;\"></div><div style=\"display: table-cell;\">hover_glyph&nbsp;=&nbsp;None,</div></div><div class=\"cb057124-66eb-4d3b-8bd8-dddcd76cabb6\" style=\"display: none;\"><div style=\"display: table-cell;\"></div><div style=\"display: table-cell;\">js_event_callbacks&nbsp;=&nbsp;{},</div></div><div class=\"cb057124-66eb-4d3b-8bd8-dddcd76cabb6\" style=\"display: none;\"><div style=\"display: table-cell;\"></div><div style=\"display: table-cell;\">js_property_callbacks&nbsp;=&nbsp;{},</div></div><div class=\"cb057124-66eb-4d3b-8bd8-dddcd76cabb6\" style=\"display: none;\"><div style=\"display: table-cell;\"></div><div style=\"display: table-cell;\">level&nbsp;=&nbsp;'glyph',</div></div><div class=\"cb057124-66eb-4d3b-8bd8-dddcd76cabb6\" style=\"display: none;\"><div style=\"display: table-cell;\"></div><div style=\"display: table-cell;\">muted&nbsp;=&nbsp;False,</div></div><div class=\"cb057124-66eb-4d3b-8bd8-dddcd76cabb6\" style=\"display: none;\"><div style=\"display: table-cell;\"></div><div style=\"display: table-cell;\">muted_glyph&nbsp;=&nbsp;None,</div></div><div class=\"cb057124-66eb-4d3b-8bd8-dddcd76cabb6\" style=\"display: none;\"><div style=\"display: table-cell;\"></div><div style=\"display: table-cell;\">name&nbsp;=&nbsp;None,</div></div><div class=\"cb057124-66eb-4d3b-8bd8-dddcd76cabb6\" style=\"display: none;\"><div style=\"display: table-cell;\"></div><div style=\"display: table-cell;\">nonselection_glyph&nbsp;=&nbsp;Circle(id='00d5c32d-1a28-4324-b511-c6c84bae9453', ...),</div></div><div class=\"cb057124-66eb-4d3b-8bd8-dddcd76cabb6\" style=\"display: none;\"><div style=\"display: table-cell;\"></div><div style=\"display: table-cell;\">selection_glyph&nbsp;=&nbsp;None,</div></div><div class=\"cb057124-66eb-4d3b-8bd8-dddcd76cabb6\" style=\"display: none;\"><div style=\"display: table-cell;\"></div><div style=\"display: table-cell;\">subscribed_events&nbsp;=&nbsp;[],</div></div><div class=\"cb057124-66eb-4d3b-8bd8-dddcd76cabb6\" style=\"display: none;\"><div style=\"display: table-cell;\"></div><div style=\"display: table-cell;\">tags&nbsp;=&nbsp;[],</div></div><div class=\"cb057124-66eb-4d3b-8bd8-dddcd76cabb6\" style=\"display: none;\"><div style=\"display: table-cell;\"></div><div style=\"display: table-cell;\">view&nbsp;=&nbsp;CDSView(id='ed67240e-ca62-4683-b5a8-428e01fd79d3', ...),</div></div><div class=\"cb057124-66eb-4d3b-8bd8-dddcd76cabb6\" style=\"display: none;\"><div style=\"display: table-cell;\"></div><div style=\"display: table-cell;\">visible&nbsp;=&nbsp;True,</div></div><div class=\"cb057124-66eb-4d3b-8bd8-dddcd76cabb6\" style=\"display: none;\"><div style=\"display: table-cell;\"></div><div style=\"display: table-cell;\">x_range_name&nbsp;=&nbsp;'default',</div></div><div class=\"cb057124-66eb-4d3b-8bd8-dddcd76cabb6\" style=\"display: none;\"><div style=\"display: table-cell;\"></div><div style=\"display: table-cell;\">y_range_name&nbsp;=&nbsp;'default')</div></div></div>\n",
       "<script>\n",
       "(function() {\n",
       "  var expanded = false;\n",
       "  var ellipsis = document.getElementById(\"39a24e62-01d3-478d-97b4-067e18601781\");\n",
       "  ellipsis.addEventListener(\"click\", function() {\n",
       "    var rows = document.getElementsByClassName(\"cb057124-66eb-4d3b-8bd8-dddcd76cabb6\");\n",
       "    for (var i = 0; i < rows.length; i++) {\n",
       "      var el = rows[i];\n",
       "      el.style.display = expanded ? \"none\" : \"table-row\";\n",
       "    }\n",
       "    ellipsis.innerHTML = expanded ? \"&hellip;)\" : \"&lsaquo;&lsaquo;&lsaquo;\";\n",
       "    expanded = !expanded;\n",
       "  });\n",
       "})();\n",
       "</script>\n"
      ],
      "text/plain": [
       "GlyphRenderer(id='1db745d9-cfee-44a7-8a51-a238a358f252', ...)"
      ]
     },
     "execution_count": 20,
     "metadata": {},
     "output_type": "execute_result"
    }
   ],
   "source": [
    "print(utter_price.shape)\n",
    "x = pca.transform(utter_price.reshape(1,-1))\n",
    "p.circle(x[0][0], x[0][1], color='black')"
   ]
  },
  {
   "cell_type": "code",
   "execution_count": 21,
   "metadata": {},
   "outputs": [
    {
     "data": {
      "text/html": [
       "\n",
       "<div class=\"bk-root\">\n",
       "    <div class=\"bk-plotdiv\" id=\"e38ee173-28d2-4a73-a4d0-aa968c67dc81\"></div>\n",
       "</div>"
      ]
     },
     "metadata": {},
     "output_type": "execute_result"
    },
    {
     "data": {},
     "metadata": {
      "application/vnd.bokehjs_exec.v0+json": {
       "id": "347ab833-a443-4459-b311-0c8692793c11"
      }
     },
     "output_type": "display_data"
    }
   ],
   "source": [
    "show(p)"
   ]
  },
  {
   "cell_type": "code",
   "execution_count": 22,
   "metadata": {
    "collapsed": true
   },
   "outputs": [],
   "source": [
    "from collections import namedtuple"
   ]
  },
  {
   "cell_type": "code",
   "execution_count": 23,
   "metadata": {},
   "outputs": [
    {
     "data": {
      "text/plain": [
       "OrderedDict([('x', 11), ('y', 22)])"
      ]
     },
     "execution_count": 23,
     "metadata": {},
     "output_type": "execute_result"
    }
   ],
   "source": [
    "Point = namedtuple('Point', ['x', 'y'])\n",
    "p = Point(11, y=22)\n",
    "p._asdict()"
   ]
  },
  {
   "cell_type": "code",
   "execution_count": 24,
   "metadata": {
    "collapsed": true
   },
   "outputs": [],
   "source": [
    "Point3D = namedtuple('Point3D', Point._fields + ('z',))"
   ]
  },
  {
   "cell_type": "code",
   "execution_count": 25,
   "metadata": {},
   "outputs": [
    {
     "data": {
      "text/plain": [
       "OrderedDict([('x', 11), ('y', 22), ('z', 3)])"
      ]
     },
     "execution_count": 25,
     "metadata": {},
     "output_type": "execute_result"
    }
   ],
   "source": [
    "p_asdict = p._asdict()\n",
    "p_asdict['z'] = 3\n",
    "p_asdict"
   ]
  },
  {
   "cell_type": "code",
   "execution_count": 26,
   "metadata": {},
   "outputs": [
    {
     "data": {
      "text/plain": [
       "Point3D(x=11, y=22, z=3)"
      ]
     },
     "execution_count": 26,
     "metadata": {},
     "output_type": "execute_result"
    }
   ],
   "source": [
    "p3D = Point3D(**p_asdict)\n",
    "p3D"
   ]
  },
  {
   "cell_type": "code",
   "execution_count": 27,
   "metadata": {
    "collapsed": true
   },
   "outputs": [],
   "source": [
    "x ={\n",
    "        \"day\": \"20\",\n",
    "        \"month\": \"06\",\n",
    "        \"year\": \"2018\"\n",
    "    }"
   ]
  },
  {
   "cell_type": "code",
   "execution_count": 28,
   "metadata": {},
   "outputs": [
    {
     "data": {
      "text/plain": [
       "{'day': '20', 'month': '06', 'year': '2018'}"
      ]
     },
     "execution_count": 28,
     "metadata": {},
     "output_type": "execute_result"
    }
   ],
   "source": [
    "x"
   ]
  },
  {
   "cell_type": "code",
   "execution_count": 29,
   "metadata": {},
   "outputs": [
    {
     "data": {
      "text/plain": [
       "{'touched': True, 'value': {'value1': '20', 'value2': '06', 'value3': '2018'}}"
      ]
     },
     "execution_count": 29,
     "metadata": {},
     "output_type": "execute_result"
    }
   ],
   "source": [
    "def value_touched_dict(value):\n",
    "    if isinstance(value, dict) and value.get(\"day\"):\n",
    "        value[\"value1\"] = value.pop(\"day\")\n",
    "        value[\"value2\"] = value.pop(\"month\")\n",
    "        value[\"value3\"] = value.pop(\"year\")\n",
    "    return {\"value\": value,\n",
    "            \"touched\": True}\n",
    "value_touched_dict(x)"
   ]
  },
  {
   "cell_type": "code",
   "execution_count": 30,
   "metadata": {},
   "outputs": [
    {
     "data": {
      "text/plain": [
       "{'touched': True, 'value': 'x'}"
      ]
     },
     "execution_count": 30,
     "metadata": {},
     "output_type": "execute_result"
    }
   ],
   "source": [
    "value_touched_dict('x')"
   ]
  },
  {
   "cell_type": "code",
   "execution_count": null,
   "metadata": {
    "collapsed": true
   },
   "outputs": [],
   "source": []
  }
 ],
 "metadata": {
  "kernelspec": {
   "display_name": "new.6",
   "language": "python",
   "name": "new.6"
  },
  "language_info": {
   "codemirror_mode": {
    "name": "ipython",
    "version": 3
   },
   "file_extension": ".py",
   "mimetype": "text/x-python",
   "name": "python",
   "nbconvert_exporter": "python",
   "pygments_lexer": "ipython3",
   "version": "3.6.8"
  }
 },
 "nbformat": 4,
 "nbformat_minor": 2
}
