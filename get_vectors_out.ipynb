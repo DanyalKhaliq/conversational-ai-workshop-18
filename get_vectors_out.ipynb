{
 "cells": [
  {
   "cell_type": "code",
   "execution_count": 3,
   "metadata": {},
   "outputs": [
    {
     "ename": "UnsupportedDialogueModelError",
     "evalue": "The model version is to old to be loaded by this Rasa Core instance. Either retrain the model, or run withan older version. Model version: 0.13.0a5 Instance version: 0.14.0a1 Minimal compatible version: 0.14.0a1",
     "traceback": [
      "\u001b[0;31m---------------------------------------------------------------------------\u001b[0m",
      "\u001b[0;31mUnsupportedDialogueModelError\u001b[0m             Traceback (most recent call last)",
      "\u001b[0;32m<ipython-input-3-a2da85948a34>\u001b[0m in \u001b[0;36m<module>\u001b[0;34m\u001b[0m\n\u001b[1;32m      2\u001b[0m \u001b[0;32mfrom\u001b[0m \u001b[0mrasa_core\u001b[0m\u001b[0;34m.\u001b[0m\u001b[0magent\u001b[0m \u001b[0;32mimport\u001b[0m \u001b[0mAgent\u001b[0m\u001b[0;34m\u001b[0m\u001b[0m\n\u001b[1;32m      3\u001b[0m \u001b[0;32mfrom\u001b[0m \u001b[0mbokeh\u001b[0m\u001b[0;34m.\u001b[0m\u001b[0mio\u001b[0m \u001b[0;32mimport\u001b[0m \u001b[0moutput_notebook\u001b[0m\u001b[0;34m\u001b[0m\u001b[0m\n\u001b[0;32m----> 4\u001b[0;31m \u001b[0magent\u001b[0m \u001b[0;34m=\u001b[0m \u001b[0mAgent\u001b[0m\u001b[0;34m.\u001b[0m\u001b[0mload\u001b[0m\u001b[0;34m(\u001b[0m\u001b[0;34m\"models/dialogue_embed\"\u001b[0m\u001b[0;34m)\u001b[0m\u001b[0;34m\u001b[0m\u001b[0m\n\u001b[0m\u001b[1;32m      5\u001b[0m \u001b[0;31m# agent = Agent.load(\"models/dialogue_embed_before_norm_loss\")\u001b[0m\u001b[0;34m\u001b[0m\u001b[0;34m\u001b[0m\u001b[0m\n\u001b[1;32m      6\u001b[0m \u001b[0moutput_notebook\u001b[0m\u001b[0;34m(\u001b[0m\u001b[0;34m)\u001b[0m\u001b[0;34m\u001b[0m\u001b[0m\n",
      "\u001b[0;32m~/Documents/rasa/rasa_core/rasa_core/agent.py\u001b[0m in \u001b[0;36mload\u001b[0;34m(cls, path, interpreter, generator, tracker_store, action_endpoint)\u001b[0m\n\u001b[1;32m    260\u001b[0m \u001b[0;34m\u001b[0m\u001b[0m\n\u001b[1;32m    261\u001b[0m         \u001b[0mdomain\u001b[0m \u001b[0;34m=\u001b[0m \u001b[0mDomain\u001b[0m\u001b[0;34m.\u001b[0m\u001b[0mload\u001b[0m\u001b[0;34m(\u001b[0m\u001b[0mos\u001b[0m\u001b[0;34m.\u001b[0m\u001b[0mpath\u001b[0m\u001b[0;34m.\u001b[0m\u001b[0mjoin\u001b[0m\u001b[0;34m(\u001b[0m\u001b[0mpath\u001b[0m\u001b[0;34m,\u001b[0m \u001b[0;34m\"domain.yml\"\u001b[0m\u001b[0;34m)\u001b[0m\u001b[0;34m)\u001b[0m\u001b[0;34m\u001b[0m\u001b[0m\n\u001b[0;32m--> 262\u001b[0;31m         \u001b[0mensemble\u001b[0m \u001b[0;34m=\u001b[0m \u001b[0mPolicyEnsemble\u001b[0m\u001b[0;34m.\u001b[0m\u001b[0mload\u001b[0m\u001b[0;34m(\u001b[0m\u001b[0mpath\u001b[0m\u001b[0;34m)\u001b[0m \u001b[0;32mif\u001b[0m \u001b[0mpath\u001b[0m \u001b[0;32melse\u001b[0m \u001b[0;32mNone\u001b[0m\u001b[0;34m\u001b[0m\u001b[0m\n\u001b[0m\u001b[1;32m    263\u001b[0m \u001b[0;34m\u001b[0m\u001b[0m\n\u001b[1;32m    264\u001b[0m         \u001b[0;31m# ensures the domain hasn't changed between test and train\u001b[0m\u001b[0;34m\u001b[0m\u001b[0;34m\u001b[0m\u001b[0m\n",
      "\u001b[0;32m~/Documents/rasa/rasa_core/rasa_core/policies/ensemble.py\u001b[0m in \u001b[0;36mload\u001b[0;34m(cls, path)\u001b[0m\n\u001b[1;32m    219\u001b[0m \u001b[0;34m\u001b[0m\u001b[0m\n\u001b[1;32m    220\u001b[0m     \u001b[0;34m@\u001b[0m\u001b[0mclassmethod\u001b[0m\u001b[0;34m\u001b[0m\u001b[0m\n\u001b[0;32m--> 221\u001b[0;31m     \u001b[0;32mdef\u001b[0m \u001b[0mfrom_dict\u001b[0m\u001b[0;34m(\u001b[0m\u001b[0mcls\u001b[0m\u001b[0;34m,\u001b[0m \u001b[0mdictionary\u001b[0m\u001b[0;34m:\u001b[0m \u001b[0mDict\u001b[0m\u001b[0;34m[\u001b[0m\u001b[0mText\u001b[0m\u001b[0;34m,\u001b[0m \u001b[0mAny\u001b[0m\u001b[0;34m]\u001b[0m\u001b[0;34m)\u001b[0m \u001b[0;34m->\u001b[0m \u001b[0mList\u001b[0m\u001b[0;34m[\u001b[0m\u001b[0mPolicy\u001b[0m\u001b[0;34m]\u001b[0m\u001b[0;34m:\u001b[0m\u001b[0;34m\u001b[0m\u001b[0m\n\u001b[0m\u001b[1;32m    222\u001b[0m         \u001b[0mpolicies\u001b[0m \u001b[0;34m=\u001b[0m \u001b[0mdictionary\u001b[0m\u001b[0;34m.\u001b[0m\u001b[0mget\u001b[0m\u001b[0;34m(\u001b[0m\u001b[0;34m'policies'\u001b[0m\u001b[0;34m)\u001b[0m \u001b[0;32mor\u001b[0m \u001b[0mdictionary\u001b[0m\u001b[0;34m.\u001b[0m\u001b[0mget\u001b[0m\u001b[0;34m(\u001b[0m\u001b[0;34m'policy'\u001b[0m\u001b[0;34m)\u001b[0m\u001b[0;34m\u001b[0m\u001b[0m\n\u001b[1;32m    223\u001b[0m         \u001b[0;32mif\u001b[0m \u001b[0mpolicies\u001b[0m \u001b[0;32mis\u001b[0m \u001b[0;32mNone\u001b[0m\u001b[0;34m:\u001b[0m\u001b[0;34m\u001b[0m\u001b[0m\n",
      "\u001b[0;32m~/Documents/rasa/rasa_core/rasa_core/policies/ensemble.py\u001b[0m in \u001b[0;36mensure_model_compatibility\u001b[0;34m(metadata, version_to_check)\u001b[0m\n\u001b[1;32m    200\u001b[0m     \u001b[0;34m@\u001b[0m\u001b[0mclassmethod\u001b[0m\u001b[0;34m\u001b[0m\u001b[0m\n\u001b[1;32m    201\u001b[0m     \u001b[0;32mdef\u001b[0m \u001b[0mload\u001b[0m\u001b[0;34m(\u001b[0m\u001b[0mcls\u001b[0m\u001b[0;34m,\u001b[0m \u001b[0mpath\u001b[0m\u001b[0;34m:\u001b[0m \u001b[0mText\u001b[0m\u001b[0;34m)\u001b[0m \u001b[0;34m->\u001b[0m \u001b[0;34m'PolicyEnsemble'\u001b[0m\u001b[0;34m:\u001b[0m\u001b[0;34m\u001b[0m\u001b[0m\n\u001b[0;32m--> 202\u001b[0;31m         \u001b[0;34m\"\"\"Loads policy and domain specification from storage\"\"\"\u001b[0m\u001b[0;34m\u001b[0m\u001b[0m\n\u001b[0m\u001b[1;32m    203\u001b[0m \u001b[0;34m\u001b[0m\u001b[0m\n\u001b[1;32m    204\u001b[0m         \u001b[0mmetadata\u001b[0m \u001b[0;34m=\u001b[0m \u001b[0mcls\u001b[0m\u001b[0;34m.\u001b[0m\u001b[0mload_metadata\u001b[0m\u001b[0;34m(\u001b[0m\u001b[0mpath\u001b[0m\u001b[0;34m)\u001b[0m\u001b[0;34m\u001b[0m\u001b[0m\n",
      "\u001b[0;31mUnsupportedDialogueModelError\u001b[0m: The model version is to old to be loaded by this Rasa Core instance. Either retrain the model, or run withan older version. Model version: 0.13.0a5 Instance version: 0.14.0a1 Minimal compatible version: 0.14.0a1"
     ],
     "output_type": "error"
    }
   ],
   "source": [
    "import rasa_core\n",
    "from rasa_core.agent import Agent\n",
    "from bokeh.io import output_notebook\n",
    "agent = Agent.load(\"models/dialogue_embed\")\n",
    "# agent = Agent.load(\"models/dialogue_embed_before_norm_loss\")\n",
    "output_notebook()"
   ]
  },
  {
   "cell_type": "code",
   "execution_count": 4,
   "metadata": {},
   "outputs": [
    {
     "data": {
      "text/plain": [
       "'0.14.0a1'"
      ]
     },
     "execution_count": 4,
     "metadata": {},
     "output_type": "execute_result"
    }
   ],
   "source": [
    "rasa_core.__version__"
   ]
  },
  {
   "cell_type": "code",
   "execution_count": 5,
   "metadata": {},
   "outputs": [
    {
     "ename": "NameError",
     "evalue": "name 'agent' is not defined",
     "traceback": [
      "\u001b[0;31m---------------------------------------------------------------------------\u001b[0m",
      "\u001b[0;31mNameError\u001b[0m                                 Traceback (most recent call last)",
      "\u001b[0;32m<ipython-input-5-439690791b8b>\u001b[0m in \u001b[0;36m<module>\u001b[0;34m\u001b[0m\n\u001b[0;32m----> 1\u001b[0;31m \u001b[0mpolicy\u001b[0m \u001b[0;34m=\u001b[0m \u001b[0magent\u001b[0m\u001b[0;34m.\u001b[0m\u001b[0mpolicy_ensemble\u001b[0m\u001b[0;34m.\u001b[0m\u001b[0mpolicies\u001b[0m\u001b[0;34m[\u001b[0m\u001b[0;36m0\u001b[0m\u001b[0;34m]\u001b[0m\u001b[0;34m\u001b[0m\u001b[0m\n\u001b[0m\u001b[1;32m      2\u001b[0m \u001b[0minterpreter\u001b[0m \u001b[0;34m=\u001b[0m \u001b[0magent\u001b[0m\u001b[0;34m.\u001b[0m\u001b[0minterpreter\u001b[0m\u001b[0;34m\u001b[0m\u001b[0m\n\u001b[1;32m      3\u001b[0m \u001b[0mprint\u001b[0m\u001b[0;34m(\u001b[0m\u001b[0mpolicy\u001b[0m\u001b[0;34m.\u001b[0m\u001b[0msparse_attention\u001b[0m\u001b[0;34m)\u001b[0m\u001b[0;34m\u001b[0m\u001b[0m\n",
      "\u001b[0;31mNameError\u001b[0m: name 'agent' is not defined"
     ],
     "output_type": "error"
    }
   ],
   "source": [
    "policy = agent.policy_ensemble.policies[0]\n",
    "interpreter = agent.interpreter\n",
    "print(policy.sparse_attention)"
   ]
  },
  {
   "cell_type": "code",
   "execution_count": 6,
   "metadata": {},
   "outputs": [
    {
     "ename": "NameError",
     "evalue": "name 'agent' is not defined",
     "traceback": [
      "\u001b[0;31m---------------------------------------------------------------------------\u001b[0m",
      "\u001b[0;31mNameError\u001b[0m                                 Traceback (most recent call last)",
      "\u001b[0;32m<ipython-input-6-1ad6fd152006>\u001b[0m in \u001b[0;36m<module>\u001b[0;34m\u001b[0m\n\u001b[0;32m----> 1\u001b[0;31m \u001b[0mdomain\u001b[0m \u001b[0;34m=\u001b[0m \u001b[0magent\u001b[0m\u001b[0;34m.\u001b[0m\u001b[0mdomain\u001b[0m\u001b[0;34m\u001b[0m\u001b[0m\n\u001b[0m",
      "\u001b[0;31mNameError\u001b[0m: name 'agent' is not defined"
     ],
     "output_type": "error"
    }
   ],
   "source": [
    "domain = agent.domain\n"
   ]
  },
  {
   "cell_type": "code",
   "execution_count": 7,
   "metadata": {},
   "outputs": [],
   "source": [
    "from rasa_core.training.structures import StoryGraph\n",
    "from rasa_core.training.dsl import StoryFileReader\n",
    "from rasa_core.trackers import DialogueStateTracker\n",
    "from rasa_core.channels import UserMessage\n",
    "import numpy as np\n",
    "np.set_printoptions(precision=3, suppress=True)\n",
    "\n",
    "def embedding_from_tracker(story, bot=False, predict_only=False):\n",
    "    reader = StoryFileReader(domain, interpreter)\n",
    "    story = story.split('\\n')\n",
    "    story_steps = reader.process_lines(story)\n",
    "#     story_graph = StoryGraph(story_steps)\n",
    "    tracker = DialogueStateTracker(\n",
    "            1,\n",
    "            domain.slots\n",
    "    )\n",
    "    tracker._reset()\n",
    "    for step in story_steps:\n",
    "        events = step.explicit_events(domain)\n",
    "        for event in events[:-1]:\n",
    "            tracker.update(event)\n",
    "\n",
    "    if predict_only:\n",
    "        return policy.predict_action_probabilities(tracker, domain)\n",
    "\n",
    "    feed_dict=policy.tf_feed_dict_for_prediction(tracker, domain)\n",
    "\n",
    "    dial_vec = policy.session.run(policy.dial_embed, feed_dict=feed_dict)\n",
    "    bot_vec = policy.session.run(policy.bot_embed, feed_dict=feed_dict)\n",
    "\n",
    "    no_skip_gate = policy.session.run(policy.copy_attn_debug, feed_dict=feed_dict)\n",
    "    attn_embed = policy.session.run(policy.attn_embed, feed_dict=feed_dict)\n",
    "    rnn_embed = policy.session.run(policy.rnn_embed, feed_dict=feed_dict)\n",
    "    probs = policy.session.run(policy.alignment_history, feed_dict=feed_dict)\n",
    "    if policy.all_time_masks is not None:\n",
    "        time_mask = policy.session.run(policy.all_time_masks, feed_dict=feed_dict)\n",
    "    else:\n",
    "        time_mask = None\n",
    "    if policy.topics is not None:\n",
    "        topics = policy.session.run(policy.topics, feed_dict=feed_dict)\n",
    "    else:\n",
    "        topics = None\n",
    "    cell_state = policy.session.run(policy.cell_state, feed_dict=feed_dict)\n",
    "    if probs.shape[2] == 2 * probs.shape[1]:\n",
    "        user_probs = probs[0, -1, :int(probs.shape[2]/2)]\n",
    "        bot_probs = probs[0, -1, int(probs.shape[2]/2):]\n",
    "    else:\n",
    "        user_probs = probs[0, -1, :]\n",
    "        bot_probs = []\n",
    "\n",
    "    sims = policy.session.run(policy.sim_op, feed_dict=feed_dict)\n",
    "    if bot is False:\n",
    "        sims1 = policy.predict_action_probabilities(tracker, domain)\n",
    "\n",
    "    del tracker\n",
    "#     print(np.shape(dial_vec))\n",
    "\n",
    "    if bot is False:\n",
    "        return (dial_vec[0,-1,:],\n",
    "                no_skip_gate[0,-1,:],\n",
    "                attn_embed[0,-1,:],\n",
    "                rnn_embed[0,-1,:],\n",
    "                [user_probs, bot_probs, time_mask[0,-1,:] if time_mask is not None else time_mask],\n",
    "                sims[0,-1,:],\n",
    "                sims1,\n",
    "                topics[0] if topics is not None else topics,\n",
    "                cell_state[0]\n",
    "               )\n",
    "    else:\n",
    "        return (dial_vec[0,-1,:],\n",
    "                sims[0,-1,:],\n",
    "                bot_vec[0,-1,:,:])\n",
    "    \n",
    "def make_prediction(story):\n",
    "    dial, sim0, bot = embedding_from_tracker(story, bot=True)\n",
    "    abs_vals = np.array([np.absolute(vec) for vec in bot])\n",
    "    norms = np.apply_along_axis(np.linalg.norm, 1, bot)\n",
    "    sims = np.dot(bot, dial)/norms\n",
    "#     name = domain.action_for_index(np.argmax(sims)).name()\n",
    "#     print(name)\n",
    "    name = domain.action_names[np.argmax(sim0)]\n",
    "#     print(name)\n",
    "#     print('---')\n",
    "#     ids = sim0.argsort()[::-1]\n",
    "#     print(ids)\n",
    "#     print(sims[ids])\n",
    "    return '- ' + name, np.max(sim0)\n",
    "#     print(dial.shape, bot.shape)"
   ]
  },
  {
   "cell_type": "code",
   "execution_count": 8,
   "metadata": {},
   "outputs": [],
   "source": [
    "# print(domain.intents)\n",
    "story_block = \"\"\"* request_hotel\n",
    "    - utter_ask_details\n",
    "* chitchat\n",
    "    - utter_chitchat\n",
    "    - utter_ask_details\n",
    "* inform{\"enddate\": \"May 26th\"}\n",
    "    - slot{\"enddate\": \"May 26th\"}\n",
    "    - utter_ask_startdate\n",
    "* inform{\"startdate\": \"next week\"}\n",
    "    - slot{\"startdate\": \"next week\"}\n",
    "    - utter_ask_location\n",
    "* correct{\"startdate\": \"next week\"}\n",
    "    - slot{\"startdate\": \"next week\"}\n",
    "    - utter_correct_startdate_hotel\n",
    "    - utter_ask_location\n",
    "* explain\n",
    "    - utter_explain_location_hotel\n",
    "    - utter_ask_location\n",
    "* inform{\"location\": \"rome\"}\n",
    "    - slot{\"location\": \"rome\"}\n",
    "    - utter_ask_price\n",
    "* chitchat\n",
    "    - utter_chitchat\n",
    "    - utter_ask_price\n",
    "* chitchat\n",
    "    - utter_chitchat\n",
    "    - utter_ask_price\n",
    "* chitchat\n",
    "    - utter_chitchat\n",
    "    - utter_ask_price\n",
    "* chitchat\n",
    "    - utter_chitchat\n",
    "    - utter_ask_price\n",
    "* explain\n",
    "    - utter_explain_price_hotel\n",
    "    - utter_ask_price\n",
    "* inform{\"price\": \"expensive\"}\n",
    "    - utter_ask_people\n",
    "* inform{\"people\": \"4\"}\n",
    "    - utter_filled_slots\n",
    "    - action_search_hotel\n",
    "    - slot{\"hotel\": \"hotel\"}\n",
    "    - utter_suggest_hotel\n",
    "* chitchat\n",
    "    - utter_chitchat\n",
    "    - utter_suggest_hotel\n",
    "* correct{\"people\": \"2\"}\n",
    "    - slot{\"people\": \"2\"}\n",
    "    - correct: utter_correct_people_hotel\n",
    "    - correct: action_search_hotel\n",
    "    - slot{\"hotel\": \"hotel\"}\n",
    "    - correct: utter_suggest_hotel\n",
    "* affirm\n",
    "    - utter_happy\n",
    "* request_restaurant\n",
    "    - restaurant: utter_ask_details\n",
    "* inform{\"people\": \"4\"}\n",
    "    - slot{\"people\": \"4\"}\n",
    "    - restaurant: utter_ask_location\n",
    "* inform{\"location\": \"paris\"}\n",
    "    - slot{\"location\": \"paris\"}\n",
    "    - restaurant: utter_ask_price\n",
    "* explain\n",
    "    - explain: utter_explain_price_restaurant\n",
    "    - explain: utter_ask_price\n",
    "* did_that_work\n",
    "    - did_that_work: utter_more_info_restaurant\n",
    "    - did_that_work: utter_ask_price\n",
    "* correct{\"location\": \"london\"}\n",
    "    - slot{\"location\": \"london\"}\n",
    "    - correct: utter_correct_location_restaurant\n",
    "    - correct: utter_ask_price\n",
    "* inform{\"price\": \"expensive\"}\n",
    "    - restaurant: utter_ask_cuisine\n",
    "* inform{\"cuisine\": \"italian\"}\n",
    "    - restaurant: utter_filled_slots\n",
    "    - restaurant: action_search_restaurant\n",
    "    - slot{\"restaurant\": \"restaurant\"}\n",
    "    - restaurant: utter_suggest_restaurant\n",
    "* affirm\n",
    "    - restaurant: utter_happy\"\"\""
   ]
  },
  {
   "cell_type": "code",
   "execution_count": 9,
   "metadata": {},
   "outputs": [],
   "source": [
    "# story_block = \"\"\"* request_restaurant\n",
    "#     - restaurant: utter_ask_details\n",
    "# * inform{\"people\": \"4\"}\n",
    "#     - slot{\"people\": \"4\"}\n",
    "#     - restaurant: utter_ask_location\n",
    "# * inform{\"location\": \"paris\"}\n",
    "#     - slot{\"location\": \"paris\"}\n",
    "#     - restaurant: utter_ask_price\n",
    "# * explain\n",
    "#     - explain: utter_explain_price_restaurant\n",
    "#     - explain: utter_ask_price\n",
    "# * did_that_work\n",
    "#     - did_that_work: utter_more_info_restaurant\n",
    "#     - did_that_work: utter_ask_price\n",
    "# * correct{\"location\": \"london\"}\n",
    "#     - slot{\"location\": \"london\"}\n",
    "#     - correct: utter_correct_location_restaurant\n",
    "#     - correct: utter_ask_price\n",
    "# * inform{\"price\": \"expensive\"}\n",
    "#     - restaurant: utter_ask_cuisine\n",
    "# * inform{\"cuisine\": \"italian\"}\n",
    "#     - restaurant: utter_filled_slots\n",
    "#     - restaurant: action_search_restaurant\n",
    "#     - slot{\"restaurant\": \"restaurant\"}\n",
    "#     - restaurant: utter_suggest_restaurant\n",
    "# * affirm\n",
    "#     - restaurant: utter_happy\"\"\""
   ]
  },
  {
   "cell_type": "code",
   "execution_count": 10,
   "metadata": {},
   "outputs": [],
   "source": [
    "# story_block = \"\"\"* request_hotel\n",
    "#     - utter_ask_details\n",
    "#     - slot{\"hotel\": null}\n",
    "# * inform{\"price\": \"mid-range\"}\n",
    "#     - slot{\"price\": \"mid-range\"}\n",
    "#     - slot{\"price\": \"mid-range\"}\n",
    "#     - utter_ask_people\n",
    "# * correct{\"price\": \"cheap\"}\n",
    "#     - slot{\"price\": \"cheap\"}\n",
    "#     - slot{\"price\": \"cheap\"}\n",
    "#     - utter_correct_price_hotel\n",
    "#     - utter_ask_people\n",
    "# * explain\n",
    "#     - utter_explain_people_hotel\n",
    "#     - utter_ask_people\n",
    "# * explain\n",
    "#     - utter_explain_people_hotel\n",
    "#     - utter_ask_people\n",
    "# * inform{\"people\": \"2\"}\n",
    "#     - slot{\"people\": \"2\"}\n",
    "#     - slot{\"people\": \"2\"}\n",
    "#     - utter_ask_startdate\n",
    "# * did_that_work\n",
    "#     - utter_more_info_hotel\n",
    "#     - utter_ask_startdate\n",
    "# * explain\n",
    "#     - utter_explain_startdate_hotel\n",
    "#     - utter_ask_startdate\n",
    "# * correct{\"people\": \"4\"}\n",
    "#     - slot{\"people\": \"4\"}\n",
    "#     - slot{\"people\": \"4\"}\n",
    "#     - utter_correct_people_hotel\n",
    "#     - utter_ask_startdate\n",
    "# * inform{\"startdate\": \"10.03.2018\"}\n",
    "#     - slot{\"startdate\": \"10.03.2018\"}\n",
    "#     - utter_ask_enddate\n",
    "# * inform{\"enddate\": \"10.03.2018\"}\n",
    "#     - slot{\"enddate\": \"10.03.2018\"}\n",
    "#     - utter_ask_location   <!-- predicted: utter_explain_location_hotel -->\n",
    "# * did_that_work\n",
    "#     - utter_more_info_hotel\n",
    "#     - utter_ask_location\n",
    "# * chitchat\n",
    "#     - utter_chitchat\n",
    "#     - utter_ask_location\n",
    "# * inform{\"location\": \"paris\"}\n",
    "#     - slot{\"location\": \"paris\"}\n",
    "#     - utter_filled_slots\n",
    "#     - action_search_hotel\n",
    "#     - slot{\"hotel\": \"hotel\"}\n",
    "#     - utter_suggest_hotel\n",
    "# * did_that_work\n",
    "#     - utter_worked_hotel\n",
    "#     - utter_suggest_hotel\n",
    "# * affirm\n",
    "#     - utter_happy\"\"\""
   ]
  },
  {
   "cell_type": "code",
   "execution_count": 11,
   "metadata": {},
   "outputs": [
    {
     "name": "stdout",
     "output_type": "stream",
     "text": [
      "81\n"
     ]
    },
    {
     "ename": "NameError",
     "evalue": "name 'domain' is not defined",
     "traceback": [
      "\u001b[0;31m---------------------------------------------------------------------------\u001b[0m",
      "\u001b[0;31mNameError\u001b[0m                                 Traceback (most recent call last)",
      "\u001b[0;32m<ipython-input-11-381fbdf4565f>\u001b[0m in \u001b[0;36m<module>\u001b[0;34m\u001b[0m\n\u001b[1;32m     10\u001b[0m     \u001b[0msub_story\u001b[0m \u001b[0;34m=\u001b[0m \u001b[0;34m'\\n'\u001b[0m\u001b[0;34m.\u001b[0m\u001b[0mjoin\u001b[0m\u001b[0;34m(\u001b[0m\u001b[0mlines\u001b[0m\u001b[0;34m[\u001b[0m\u001b[0;34m:\u001b[0m\u001b[0midx\u001b[0m\u001b[0;34m+\u001b[0m\u001b[0;36m1\u001b[0m\u001b[0;34m]\u001b[0m\u001b[0;34m)\u001b[0m\u001b[0;34m\u001b[0m\u001b[0m\n\u001b[1;32m     11\u001b[0m     (dial, not_skip, attn, rnn, probs, sims, sims1, topic, cell_state\n\u001b[0;32m---> 12\u001b[0;31m     ) = embedding_from_tracker(\"#generate story\\n{}\".format(sub_story))\n\u001b[0m\u001b[1;32m     13\u001b[0m \u001b[0;31m#     print(np.max(sims), np.max(sims1))\u001b[0m\u001b[0;34m\u001b[0m\u001b[0;34m\u001b[0m\u001b[0m\n\u001b[1;32m     14\u001b[0m \u001b[0;34m\u001b[0m\u001b[0m\n",
      "\u001b[0;32m<ipython-input-7-20d5332828d9>\u001b[0m in \u001b[0;36membedding_from_tracker\u001b[0;34m(story, bot, predict_only)\u001b[0m\n\u001b[1;32m      7\u001b[0m \u001b[0;34m\u001b[0m\u001b[0m\n\u001b[1;32m      8\u001b[0m \u001b[0;32mdef\u001b[0m \u001b[0membedding_from_tracker\u001b[0m\u001b[0;34m(\u001b[0m\u001b[0mstory\u001b[0m\u001b[0;34m,\u001b[0m \u001b[0mbot\u001b[0m\u001b[0;34m=\u001b[0m\u001b[0;32mFalse\u001b[0m\u001b[0;34m,\u001b[0m \u001b[0mpredict_only\u001b[0m\u001b[0;34m=\u001b[0m\u001b[0;32mFalse\u001b[0m\u001b[0;34m)\u001b[0m\u001b[0;34m:\u001b[0m\u001b[0;34m\u001b[0m\u001b[0m\n\u001b[0;32m----> 9\u001b[0;31m     \u001b[0mreader\u001b[0m \u001b[0;34m=\u001b[0m \u001b[0mStoryFileReader\u001b[0m\u001b[0;34m(\u001b[0m\u001b[0mdomain\u001b[0m\u001b[0;34m,\u001b[0m \u001b[0minterpreter\u001b[0m\u001b[0;34m)\u001b[0m\u001b[0;34m\u001b[0m\u001b[0m\n\u001b[0m\u001b[1;32m     10\u001b[0m     \u001b[0mstory\u001b[0m \u001b[0;34m=\u001b[0m \u001b[0mstory\u001b[0m\u001b[0;34m.\u001b[0m\u001b[0msplit\u001b[0m\u001b[0;34m(\u001b[0m\u001b[0;34m'\\n'\u001b[0m\u001b[0;34m)\u001b[0m\u001b[0;34m\u001b[0m\u001b[0m\n\u001b[1;32m     11\u001b[0m     \u001b[0mstory_steps\u001b[0m \u001b[0;34m=\u001b[0m \u001b[0mreader\u001b[0m\u001b[0;34m.\u001b[0m\u001b[0mprocess_lines\u001b[0m\u001b[0;34m(\u001b[0m\u001b[0mstory\u001b[0m\u001b[0;34m)\u001b[0m\u001b[0;34m\u001b[0m\u001b[0m\n",
      "\u001b[0;31mNameError\u001b[0m: name 'domain' is not defined"
     ],
     "output_type": "error"
    }
   ],
   "source": [
    "print(len(story_block.split('\\n')))\n",
    "cool_list = []\n",
    "lines = story_block.split('\\n')\n",
    "for idx, line in enumerate(lines):\n",
    "    if idx == len(lines)-1:\n",
    "        continue\n",
    "    if '*' in lines[idx+1] or 'slot{' in lines[idx+1]:\n",
    "#     if 'slot{' in lines[idx+1]:\n",
    "        continue\n",
    "    sub_story = '\\n'.join(lines[:idx+1])\n",
    "    (dial, not_skip, attn, rnn, probs, sims, sims1, topic, cell_state\n",
    "    ) = embedding_from_tracker(\"#generate story\\n{}\".format(sub_story))\n",
    "#     print(np.max(sims), np.max(sims1))\n",
    "\n",
    "    pred, sim = make_prediction(\"#generate story\\n{}\".format(sub_story))\n",
    "    cool_list.append((lines[idx+1].strip(), dial, (pred, sim, sims), not_skip, attn[-dial.shape[-1]:], rnn,\n",
    "                      probs, topic, cell_state))\n",
    "#     embedding_from_tracker(\"#generate story\\n{}\".format(sub_story), predict_only=True)\n",
    "\n",
    "print(len(cool_list))\n",
    "# print(cool_list[0][4].shape)\n",
    "#     break\n",
    "# dial = embedding_from_tracker(\"#generate story\\n{}\".format(story_block)\n",
    "# )\n",
    "# print(dial.shape)\n",
    "# print(len(story_block.split('\\n')))\n",
    "# print(probs[0, 6, :])\n",
    "print(dial.shape[-1])"
   ]
  },
  {
   "cell_type": "code",
   "execution_count": 12,
   "metadata": {},
   "outputs": [
    {
     "ename": "IndexError",
     "evalue": "list index out of range",
     "traceback": [
      "\u001b[0;31m---------------------------------------------------------------------------\u001b[0m",
      "\u001b[0;31mIndexError\u001b[0m                                Traceback (most recent call last)",
      "\u001b[0;32m<ipython-input-12-6bf409ff412b>\u001b[0m in \u001b[0;36m<module>\u001b[0;34m\u001b[0m\n\u001b[1;32m      2\u001b[0m \u001b[0;34m\u001b[0m\u001b[0m\n\u001b[1;32m      3\u001b[0m \u001b[0;31m# cool_list0 = copy.deepcopy(cool_list)\u001b[0m\u001b[0;34m\u001b[0m\u001b[0;34m\u001b[0m\u001b[0m\n\u001b[0;32m----> 4\u001b[0;31m \u001b[0mcool_list\u001b[0m\u001b[0;34m[\u001b[0m\u001b[0;36m7\u001b[0m\u001b[0;34m]\u001b[0m\u001b[0;34m\u001b[0m\u001b[0m\n\u001b[0m",
      "\u001b[0;31mIndexError\u001b[0m: list index out of range"
     ],
     "output_type": "error"
    }
   ],
   "source": [
    "import copy\n",
    "\n",
    "# cool_list0 = copy.deepcopy(cool_list)\n",
    "cool_list[7]"
   ]
  },
  {
   "cell_type": "code",
   "execution_count": 13,
   "metadata": {},
   "outputs": [
    {
     "ename": "IndexError",
     "evalue": "list index out of range",
     "traceback": [
      "\u001b[0;31m---------------------------------------------------------------------------\u001b[0m",
      "\u001b[0;31mIndexError\u001b[0m                                Traceback (most recent call last)",
      "\u001b[0;32m<ipython-input-13-ad71f1dcc3ba>\u001b[0m in \u001b[0;36m<module>\u001b[0;34m\u001b[0m\n\u001b[1;32m      1\u001b[0m \u001b[0;31m# cool_list1= copy.deepcopy(cool_list)\u001b[0m\u001b[0;34m\u001b[0m\u001b[0;34m\u001b[0m\u001b[0m\n\u001b[0;32m----> 2\u001b[0;31m \u001b[0mcool_list\u001b[0m\u001b[0;34m[\u001b[0m\u001b[0;34m-\u001b[0m\u001b[0;36m1\u001b[0m\u001b[0;34m]\u001b[0m\u001b[0;34m\u001b[0m\u001b[0m\n\u001b[0m",
      "\u001b[0;31mIndexError\u001b[0m: list index out of range"
     ],
     "output_type": "error"
    }
   ],
   "source": [
    "# cool_list1= copy.deepcopy(cool_list)\n",
    "cool_list[-1]"
   ]
  },
  {
   "cell_type": "code",
   "execution_count": 14,
   "metadata": {},
   "outputs": [],
   "source": [
    "# import matplotlib.pyplot as plt\n",
    "# plt.plot(cool_list[15][-2], marker='x')"
   ]
  },
  {
   "cell_type": "code",
   "execution_count": 15,
   "metadata": {},
   "outputs": [],
   "source": [
    "# plt.plot(cool_list[19][-2], marker='x')"
   ]
  },
  {
   "cell_type": "code",
   "execution_count": null,
   "metadata": {},
   "outputs": [],
   "source": []
  },
  {
   "cell_type": "code",
   "execution_count": null,
   "metadata": {},
   "outputs": [],
   "source": []
  },
  {
   "cell_type": "code",
   "execution_count": 16,
   "metadata": {},
   "outputs": [],
   "source": [
    "from sklearn.decomposition import PCA"
   ]
  },
  {
   "cell_type": "code",
   "execution_count": null,
   "metadata": {},
   "outputs": [],
   "source": [
    "pca = PCA(n_components=2)\n",
    "X = pca.fit_transform([ting[1] for ting in cool_list])"
   ]
  },
  {
   "cell_type": "code",
   "execution_count": null,
   "metadata": {},
   "outputs": [],
   "source": [
    "from bokeh.plotting import figure, show\n",
    "import matplotlib.pyplot as plt"
   ]
  },
  {
   "cell_type": "code",
   "execution_count": null,
   "metadata": {},
   "outputs": [],
   "source": [
    "embed_dim = cool_list[0][1].shape[0]\n"
   ]
  },
  {
   "cell_type": "code",
   "execution_count": null,
   "metadata": {},
   "outputs": [],
   "source": [
    "from bokeh.plotting import figure, output_file, show, ColumnDataSource\n",
    "from bokeh.models import HoverTool, Arrow, OpenHead\n",
    "\n",
    "hover = HoverTool(tooltips=[(\"true action\",\"@desc\"), (\"prediction\", \"@pred\"),\n",
    "                            (\"not_skip_gate\", \"@not_skip\")],names=['circle'])\n",
    "p = figure( tools=[hover])\n",
    "\n",
    "for i in range(1, len(X)):\n",
    "    p.add_layout(Arrow(end=OpenHead(line_color=\"firebrick\", size=10, line_width=2),\n",
    "                       x_start=X[i-1,0], y_start=X[i-1,1],\n",
    "                       x_end=X[i,0], y_end=X[i,1], line_color='gray'))\n",
    "\n",
    "source = ColumnDataSource(data=dict(\n",
    "    x=X[:,0],\n",
    "    y=X[:,1],\n",
    "    desc=[ting[0] for ting in cool_list],\n",
    "    pred = [ting[2][0] for ting in cool_list],\n",
    "    not_skip = [ting[3][-1] for ting in cool_list]\n",
    "))\n",
    "p.circle('x','y', source=source, size=10, name='circle')\n",
    "# p.line(X[:,0], X[:,1])\n",
    "\n",
    "X1 = pca.transform([ting[4] for ting in cool_list])\n",
    "source = ColumnDataSource(data=dict(\n",
    "    x=X1[:,0],\n",
    "    y=X1[:,1],\n",
    "    desc=[ting[0] for ting in cool_list],\n",
    "    pred = [ting[2][0] for ting in cool_list],\n",
    "    not_skip = [ting[3][-1] for ting in cool_list]\n",
    "))\n",
    "p.circle('x','y', source=source, size=5, color='green', name='circle')\n",
    "\n",
    "X2 = pca.transform([ting[5] for ting in cool_list])\n",
    "source = ColumnDataSource(data=dict(\n",
    "    x=X2[:,0],\n",
    "    y=X2[:,1],\n",
    "    desc=[ting[0] for ting in cool_list],\n",
    "    pred = [ting[2][0] for ting in cool_list],\n",
    "    not_skip = [ting[3][-1] for ting in cool_list]\n",
    "))\n",
    "p.circle('x','y', source=source, size=5, color='red', name='circle')\n",
    "\n",
    "x = pca.transform(np.zeros((1,embed_dim)))\n",
    "p.circle(x[0,0], x[0,1], size=5, color='magenta')\n",
    "p.circle(X[0,0], X[0,1], size=10, color='green')\n",
    "p.circle(X[-1,0], X[-1,1], size=10, color='red')\n"
   ]
  },
  {
   "cell_type": "code",
   "execution_count": 2,
   "metadata": {
    "scrolled": false
   },
   "outputs": [
    {
     "ename": "NameError",
     "evalue": "name 'show' is not defined",
     "traceback": [
      "\u001b[0;31m---------------------------------------------------------------------------\u001b[0m",
      "\u001b[0;31mNameError\u001b[0m                                 Traceback (most recent call last)",
      "\u001b[0;32m<ipython-input-2-309bc1fe1bea>\u001b[0m in \u001b[0;36m<module>\u001b[0;34m\u001b[0m\n\u001b[0;32m----> 1\u001b[0;31m \u001b[0mshow\u001b[0m\u001b[0;34m(\u001b[0m\u001b[0mp\u001b[0m\u001b[0;34m)\u001b[0m\u001b[0;34m\u001b[0m\u001b[0m\n\u001b[0m",
      "\u001b[0;31mNameError\u001b[0m: name 'show' is not defined"
     ],
     "output_type": "error"
    }
   ],
   "source": [
    "show(p)"
   ]
  },
  {
   "cell_type": "code",
   "execution_count": null,
   "metadata": {},
   "outputs": [],
   "source": []
  },
  {
   "cell_type": "code",
   "execution_count": 18,
   "metadata": {},
   "outputs": [
    {
     "name": "stdout",
     "output_type": "stream",
     "text": [
      "utter_ask_price --> 6\n",
      "utter_ask_details --> 28\n",
      "utter_ask_people --> 4\n",
      "utter_explain_details_hotel --> 14\n",
      "utter_explain_people_hotel --> 19\n",
      "utter_explain_price_hotel --> 21\n",
      "utter_ask_location --> 5\n",
      "utter_explain_location_hotel --> 17\n",
      "utter_ask_startdate --> 7\n",
      "utter_suggest_hotel --> 12\n",
      "action_search_hotel --> 42\n",
      "action_listen --> 0\n"
     ]
    }
   ],
   "source": [
    "print('utter_ask_price', '-->', domain.index_for_action('utter_ask_price'))\n",
    "print('utter_ask_details', '-->', domain.index_for_action('utter_ask_details'))\n",
    "print('utter_ask_people', '-->', domain.index_for_action('utter_ask_people'))\n",
    "print('utter_explain_details_hotel', '-->', domain.index_for_action('utter_explain_details_hotel'))\n",
    "print('utter_explain_people_hotel', '-->', domain.index_for_action('utter_explain_people_hotel'))\n",
    "print('utter_explain_price_hotel', '-->', domain.index_for_action('utter_explain_price_hotel'))\n",
    "print('utter_ask_location', '-->', domain.index_for_action('utter_ask_location'))\n",
    "print('utter_explain_location_hotel', '-->', domain.index_for_action('utter_explain_location_hotel'))\n",
    "print('utter_ask_startdate', '-->', domain.index_for_action('utter_ask_startdate'))\n",
    "print('utter_suggest_hotel', '-->', domain.index_for_action('utter_suggest_hotel'))\n",
    "print('action_search_hotel', '-->', domain.index_for_action('action_search_hotel'))\n",
    "print('action_listen', '-->', domain.index_for_action('action_listen'))"
   ]
  },
  {
   "cell_type": "code",
   "execution_count": 19,
   "metadata": {},
   "outputs": [
    {
     "data": {
      "text/plain": [
       "(20,)"
      ]
     },
     "execution_count": 19,
     "metadata": {},
     "output_type": "execute_result"
    }
   ],
   "source": [
    "utter_price = embedding_from_tracker(\"#generate story\\n{}\".format(story_block), bot=True)[0,-1,5,:]\n",
    "utter_price.shape"
   ]
  },
  {
   "cell_type": "code",
   "execution_count": 20,
   "metadata": {},
   "outputs": [
    {
     "name": "stdout",
     "output_type": "stream",
     "text": [
      "(20,)\n"
     ]
    },
    {
     "data": {
      "text/html": [
       "<div style=\"display: table;\"><div style=\"display: table-row;\"><div style=\"display: table-cell;\"><b title=\"bokeh.models.renderers.GlyphRenderer\">GlyphRenderer</b>(</div><div style=\"display: table-cell;\">id&nbsp;=&nbsp;'1db745d9-cfee-44a7-8a51-a238a358f252', <span id=\"39a24e62-01d3-478d-97b4-067e18601781\" style=\"cursor: pointer;\">&hellip;)</span></div></div><div class=\"cb057124-66eb-4d3b-8bd8-dddcd76cabb6\" style=\"display: none;\"><div style=\"display: table-cell;\"></div><div style=\"display: table-cell;\">data_source&nbsp;=&nbsp;ColumnDataSource(id='f011c53f-e8a7-4c7c-9830-ff8fdc912a23', ...),</div></div><div class=\"cb057124-66eb-4d3b-8bd8-dddcd76cabb6\" style=\"display: none;\"><div style=\"display: table-cell;\"></div><div style=\"display: table-cell;\">glyph&nbsp;=&nbsp;Circle(id='dc8dc1af-cea4-493b-8c6c-d8fcbf8d1706', ...),</div></div><div class=\"cb057124-66eb-4d3b-8bd8-dddcd76cabb6\" style=\"display: none;\"><div style=\"display: table-cell;\"></div><div style=\"display: table-cell;\">hover_glyph&nbsp;=&nbsp;None,</div></div><div class=\"cb057124-66eb-4d3b-8bd8-dddcd76cabb6\" style=\"display: none;\"><div style=\"display: table-cell;\"></div><div style=\"display: table-cell;\">js_event_callbacks&nbsp;=&nbsp;{},</div></div><div class=\"cb057124-66eb-4d3b-8bd8-dddcd76cabb6\" style=\"display: none;\"><div style=\"display: table-cell;\"></div><div style=\"display: table-cell;\">js_property_callbacks&nbsp;=&nbsp;{},</div></div><div class=\"cb057124-66eb-4d3b-8bd8-dddcd76cabb6\" style=\"display: none;\"><div style=\"display: table-cell;\"></div><div style=\"display: table-cell;\">level&nbsp;=&nbsp;'glyph',</div></div><div class=\"cb057124-66eb-4d3b-8bd8-dddcd76cabb6\" style=\"display: none;\"><div style=\"display: table-cell;\"></div><div style=\"display: table-cell;\">muted&nbsp;=&nbsp;False,</div></div><div class=\"cb057124-66eb-4d3b-8bd8-dddcd76cabb6\" style=\"display: none;\"><div style=\"display: table-cell;\"></div><div style=\"display: table-cell;\">muted_glyph&nbsp;=&nbsp;None,</div></div><div class=\"cb057124-66eb-4d3b-8bd8-dddcd76cabb6\" style=\"display: none;\"><div style=\"display: table-cell;\"></div><div style=\"display: table-cell;\">name&nbsp;=&nbsp;None,</div></div><div class=\"cb057124-66eb-4d3b-8bd8-dddcd76cabb6\" style=\"display: none;\"><div style=\"display: table-cell;\"></div><div style=\"display: table-cell;\">nonselection_glyph&nbsp;=&nbsp;Circle(id='00d5c32d-1a28-4324-b511-c6c84bae9453', ...),</div></div><div class=\"cb057124-66eb-4d3b-8bd8-dddcd76cabb6\" style=\"display: none;\"><div style=\"display: table-cell;\"></div><div style=\"display: table-cell;\">selection_glyph&nbsp;=&nbsp;None,</div></div><div class=\"cb057124-66eb-4d3b-8bd8-dddcd76cabb6\" style=\"display: none;\"><div style=\"display: table-cell;\"></div><div style=\"display: table-cell;\">subscribed_events&nbsp;=&nbsp;[],</div></div><div class=\"cb057124-66eb-4d3b-8bd8-dddcd76cabb6\" style=\"display: none;\"><div style=\"display: table-cell;\"></div><div style=\"display: table-cell;\">tags&nbsp;=&nbsp;[],</div></div><div class=\"cb057124-66eb-4d3b-8bd8-dddcd76cabb6\" style=\"display: none;\"><div style=\"display: table-cell;\"></div><div style=\"display: table-cell;\">view&nbsp;=&nbsp;CDSView(id='ed67240e-ca62-4683-b5a8-428e01fd79d3', ...),</div></div><div class=\"cb057124-66eb-4d3b-8bd8-dddcd76cabb6\" style=\"display: none;\"><div style=\"display: table-cell;\"></div><div style=\"display: table-cell;\">visible&nbsp;=&nbsp;True,</div></div><div class=\"cb057124-66eb-4d3b-8bd8-dddcd76cabb6\" style=\"display: none;\"><div style=\"display: table-cell;\"></div><div style=\"display: table-cell;\">x_range_name&nbsp;=&nbsp;'default',</div></div><div class=\"cb057124-66eb-4d3b-8bd8-dddcd76cabb6\" style=\"display: none;\"><div style=\"display: table-cell;\"></div><div style=\"display: table-cell;\">y_range_name&nbsp;=&nbsp;'default')</div></div></div>\n",
       "<script>\n",
       "(function() {\n",
       "  var expanded = false;\n",
       "  var ellipsis = document.getElementById(\"39a24e62-01d3-478d-97b4-067e18601781\");\n",
       "  ellipsis.addEventListener(\"click\", function() {\n",
       "    var rows = document.getElementsByClassName(\"cb057124-66eb-4d3b-8bd8-dddcd76cabb6\");\n",
       "    for (var i = 0; i < rows.length; i++) {\n",
       "      var el = rows[i];\n",
       "      el.style.display = expanded ? \"none\" : \"table-row\";\n",
       "    }\n",
       "    ellipsis.innerHTML = expanded ? \"&hellip;)\" : \"&lsaquo;&lsaquo;&lsaquo;\";\n",
       "    expanded = !expanded;\n",
       "  });\n",
       "})();\n",
       "</script>\n"
      ],
      "text/plain": [
       "GlyphRenderer(id='1db745d9-cfee-44a7-8a51-a238a358f252', ...)"
      ]
     },
     "execution_count": 20,
     "metadata": {},
     "output_type": "execute_result"
    }
   ],
   "source": [
    "print(utter_price.shape)\n",
    "x = pca.transform(utter_price.reshape(1,-1))\n",
    "p.circle(x[0][0], x[0][1], color='black')"
   ]
  },
  {
   "cell_type": "code",
   "execution_count": 21,
   "metadata": {},
   "outputs": [
    {
     "data": {
      "text/html": [
       "\n",
       "<div class=\"bk-root\">\n",
       "    <div class=\"bk-plotdiv\" id=\"e38ee173-28d2-4a73-a4d0-aa968c67dc81\"></div>\n",
       "</div>"
      ]
     },
     "metadata": {},
     "output_type": "execute_result"
    },
    {
     "data": {},
     "metadata": {
      "application/vnd.bokehjs_exec.v0+json": {
       "id": "347ab833-a443-4459-b311-0c8692793c11"
      }
     },
     "output_type": "display_data"
    }
   ],
   "source": [
    "show(p)"
   ]
  },
  {
   "cell_type": "code",
   "execution_count": 22,
   "metadata": {},
   "outputs": [],
   "source": [
    "from collections import namedtuple"
   ]
  },
  {
   "cell_type": "code",
   "execution_count": 23,
   "metadata": {},
   "outputs": [
    {
     "data": {
      "text/plain": [
       "OrderedDict([('x', 11), ('y', 22)])"
      ]
     },
     "execution_count": 23,
     "metadata": {},
     "output_type": "execute_result"
    }
   ],
   "source": [
    "Point = namedtuple('Point', ['x', 'y'])\n",
    "p = Point(11, y=22)\n",
    "p._asdict()"
   ]
  },
  {
   "cell_type": "code",
   "execution_count": 24,
   "metadata": {},
   "outputs": [],
   "source": [
    "Point3D = namedtuple('Point3D', Point._fields + ('z',))"
   ]
  },
  {
   "cell_type": "code",
   "execution_count": 25,
   "metadata": {},
   "outputs": [
    {
     "data": {
      "text/plain": [
       "OrderedDict([('x', 11), ('y', 22), ('z', 3)])"
      ]
     },
     "execution_count": 25,
     "metadata": {},
     "output_type": "execute_result"
    }
   ],
   "source": [
    "p_asdict = p._asdict()\n",
    "p_asdict['z'] = 3\n",
    "p_asdict"
   ]
  },
  {
   "cell_type": "code",
   "execution_count": 26,
   "metadata": {},
   "outputs": [
    {
     "data": {
      "text/plain": [
       "Point3D(x=11, y=22, z=3)"
      ]
     },
     "execution_count": 26,
     "metadata": {},
     "output_type": "execute_result"
    }
   ],
   "source": [
    "p3D = Point3D(**p_asdict)\n",
    "p3D"
   ]
  },
  {
   "cell_type": "code",
   "execution_count": 27,
   "metadata": {},
   "outputs": [],
   "source": [
    "x ={\n",
    "        \"day\": \"20\",\n",
    "        \"month\": \"06\",\n",
    "        \"year\": \"2018\"\n",
    "    }"
   ]
  },
  {
   "cell_type": "code",
   "execution_count": 28,
   "metadata": {},
   "outputs": [
    {
     "data": {
      "text/plain": [
       "{'day': '20', 'month': '06', 'year': '2018'}"
      ]
     },
     "execution_count": 28,
     "metadata": {},
     "output_type": "execute_result"
    }
   ],
   "source": [
    "x"
   ]
  },
  {
   "cell_type": "code",
   "execution_count": 29,
   "metadata": {},
   "outputs": [
    {
     "data": {
      "text/plain": [
       "{'touched': True, 'value': {'value1': '20', 'value2': '06', 'value3': '2018'}}"
      ]
     },
     "execution_count": 29,
     "metadata": {},
     "output_type": "execute_result"
    }
   ],
   "source": [
    "def value_touched_dict(value):\n",
    "    if isinstance(value, dict) and value.get(\"day\"):\n",
    "        value[\"value1\"] = value.pop(\"day\")\n",
    "        value[\"value2\"] = value.pop(\"month\")\n",
    "        value[\"value3\"] = value.pop(\"year\")\n",
    "    return {\"value\": value,\n",
    "            \"touched\": True}\n",
    "value_touched_dict(x)"
   ]
  },
  {
   "cell_type": "code",
   "execution_count": 30,
   "metadata": {},
   "outputs": [
    {
     "data": {
      "text/plain": [
       "{'touched': True, 'value': 'x'}"
      ]
     },
     "execution_count": 30,
     "metadata": {},
     "output_type": "execute_result"
    }
   ],
   "source": [
    "value_touched_dict('x')"
   ]
  },
  {
   "cell_type": "code",
   "execution_count": null,
   "metadata": {},
   "outputs": [],
   "source": []
  }
 ],
 "metadata": {
  "kernelspec": {
   "display_name": "Python 3",
   "language": "python",
   "name": "python3"
  },
  "language_info": {
   "codemirror_mode": {
    "name": "ipython",
    "version": 3
   },
   "file_extension": ".py",
   "mimetype": "text/x-python",
   "name": "python",
   "nbconvert_exporter": "python",
   "pygments_lexer": "ipython3",
   "version": "3.6.5"
  }
 },
 "nbformat": 4,
 "nbformat_minor": 2
}
