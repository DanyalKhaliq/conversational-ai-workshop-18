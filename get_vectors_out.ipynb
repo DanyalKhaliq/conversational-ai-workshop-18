{
 "cells": [
  {
   "cell_type": "code",
   "execution_count": 82,
   "metadata": {},
   "outputs": [
    {
     "name": "stderr",
     "output_type": "stream",
     "text": [
      "/usr/local/lib/python3.6/site-packages/pykwalify/core.py:99: UnsafeLoaderWarning: \n",
      "The default 'Loader' for 'load(stream)' without further arguments can be unsafe.\n",
      "Use 'load(stream, Loader=ruamel.yaml.Loader)' explicitly if that is OK.\n",
      "Alternatively include the following in your code:\n",
      "\n",
      "  import warnings\n",
      "  warnings.simplefilter('ignore', ruamel.yaml.error.UnsafeLoaderWarning)\n",
      "\n",
      "In most other cases you should consider using 'safe_load(stream)'\n",
      "  data = yaml.load(stream)\n"
     ]
    },
    {
     "name": "stdout",
     "output_type": "stream",
     "text": [
      "INFO:tensorflow:Restoring parameters from models/dialogue_embed/policy_0_EmbeddingPolicy/tensorflow_embedding.ckpt\n"
     ]
    },
    {
     "data": {
      "text/html": [
       "\n",
       "    <div class=\"bk-root\">\n",
       "        <a href=\"https://bokeh.pydata.org\" target=\"_blank\" class=\"bk-logo bk-logo-small bk-logo-notebook\"></a>\n",
       "        <span id=\"ece8786c-8db5-461f-b7d1-4cd61202042a\">Loading BokehJS ...</span>\n",
       "    </div>"
      ]
     },
     "metadata": {},
     "output_type": "display_data"
    },
    {
     "data": {
      "application/javascript": [
       "\n",
       "(function(root) {\n",
       "  function now() {\n",
       "    return new Date();\n",
       "  }\n",
       "\n",
       "  var force = true;\n",
       "\n",
       "  if (typeof (root._bokeh_onload_callbacks) === \"undefined\" || force === true) {\n",
       "    root._bokeh_onload_callbacks = [];\n",
       "    root._bokeh_is_loading = undefined;\n",
       "  }\n",
       "\n",
       "  var JS_MIME_TYPE = 'application/javascript';\n",
       "  var HTML_MIME_TYPE = 'text/html';\n",
       "  var EXEC_MIME_TYPE = 'application/vnd.bokehjs_exec.v0+json';\n",
       "  var CLASS_NAME = 'output_bokeh rendered_html';\n",
       "\n",
       "  /**\n",
       "   * Render data to the DOM node\n",
       "   */\n",
       "  function render(props, node) {\n",
       "    var script = document.createElement(\"script\");\n",
       "    node.appendChild(script);\n",
       "  }\n",
       "\n",
       "  /**\n",
       "   * Handle when an output is cleared or removed\n",
       "   */\n",
       "  function handleClearOutput(event, handle) {\n",
       "    var cell = handle.cell;\n",
       "\n",
       "    var id = cell.output_area._bokeh_element_id;\n",
       "    var server_id = cell.output_area._bokeh_server_id;\n",
       "    // Clean up Bokeh references\n",
       "    if (id != null && id in Bokeh.index) {\n",
       "      Bokeh.index[id].model.document.clear();\n",
       "      delete Bokeh.index[id];\n",
       "    }\n",
       "\n",
       "    if (server_id !== undefined) {\n",
       "      // Clean up Bokeh references\n",
       "      var cmd = \"from bokeh.io.state import curstate; print(curstate().uuid_to_server['\" + server_id + \"'].get_sessions()[0].document.roots[0]._id)\";\n",
       "      cell.notebook.kernel.execute(cmd, {\n",
       "        iopub: {\n",
       "          output: function(msg) {\n",
       "            var id = msg.content.text.trim();\n",
       "            if (id in Bokeh.index) {\n",
       "              Bokeh.index[id].model.document.clear();\n",
       "              delete Bokeh.index[id];\n",
       "            }\n",
       "          }\n",
       "        }\n",
       "      });\n",
       "      // Destroy server and session\n",
       "      var cmd = \"import bokeh.io.notebook as ion; ion.destroy_server('\" + server_id + \"')\";\n",
       "      cell.notebook.kernel.execute(cmd);\n",
       "    }\n",
       "  }\n",
       "\n",
       "  /**\n",
       "   * Handle when a new output is added\n",
       "   */\n",
       "  function handleAddOutput(event, handle) {\n",
       "    var output_area = handle.output_area;\n",
       "    var output = handle.output;\n",
       "\n",
       "    // limit handleAddOutput to display_data with EXEC_MIME_TYPE content only\n",
       "    if ((output.output_type != \"display_data\") || (!output.data.hasOwnProperty(EXEC_MIME_TYPE))) {\n",
       "      return\n",
       "    }\n",
       "\n",
       "    var toinsert = output_area.element.find(\".\" + CLASS_NAME.split(' ')[0]);\n",
       "\n",
       "    if (output.metadata[EXEC_MIME_TYPE][\"id\"] !== undefined) {\n",
       "      toinsert[toinsert.length - 1].firstChild.textContent = output.data[JS_MIME_TYPE];\n",
       "      // store reference to embed id on output_area\n",
       "      output_area._bokeh_element_id = output.metadata[EXEC_MIME_TYPE][\"id\"];\n",
       "    }\n",
       "    if (output.metadata[EXEC_MIME_TYPE][\"server_id\"] !== undefined) {\n",
       "      var bk_div = document.createElement(\"div\");\n",
       "      bk_div.innerHTML = output.data[HTML_MIME_TYPE];\n",
       "      var script_attrs = bk_div.children[0].attributes;\n",
       "      for (var i = 0; i < script_attrs.length; i++) {\n",
       "        toinsert[toinsert.length - 1].firstChild.setAttribute(script_attrs[i].name, script_attrs[i].value);\n",
       "      }\n",
       "      // store reference to server id on output_area\n",
       "      output_area._bokeh_server_id = output.metadata[EXEC_MIME_TYPE][\"server_id\"];\n",
       "    }\n",
       "  }\n",
       "\n",
       "  function register_renderer(events, OutputArea) {\n",
       "\n",
       "    function append_mime(data, metadata, element) {\n",
       "      // create a DOM node to render to\n",
       "      var toinsert = this.create_output_subarea(\n",
       "        metadata,\n",
       "        CLASS_NAME,\n",
       "        EXEC_MIME_TYPE\n",
       "      );\n",
       "      this.keyboard_manager.register_events(toinsert);\n",
       "      // Render to node\n",
       "      var props = {data: data, metadata: metadata[EXEC_MIME_TYPE]};\n",
       "      render(props, toinsert[toinsert.length - 1]);\n",
       "      element.append(toinsert);\n",
       "      return toinsert\n",
       "    }\n",
       "\n",
       "    /* Handle when an output is cleared or removed */\n",
       "    events.on('clear_output.CodeCell', handleClearOutput);\n",
       "    events.on('delete.Cell', handleClearOutput);\n",
       "\n",
       "    /* Handle when a new output is added */\n",
       "    events.on('output_added.OutputArea', handleAddOutput);\n",
       "\n",
       "    /**\n",
       "     * Register the mime type and append_mime function with output_area\n",
       "     */\n",
       "    OutputArea.prototype.register_mime_type(EXEC_MIME_TYPE, append_mime, {\n",
       "      /* Is output safe? */\n",
       "      safe: true,\n",
       "      /* Index of renderer in `output_area.display_order` */\n",
       "      index: 0\n",
       "    });\n",
       "  }\n",
       "\n",
       "  // register the mime type if in Jupyter Notebook environment and previously unregistered\n",
       "  if (root.Jupyter !== undefined) {\n",
       "    var events = require('base/js/events');\n",
       "    var OutputArea = require('notebook/js/outputarea').OutputArea;\n",
       "\n",
       "    if (OutputArea.prototype.mime_types().indexOf(EXEC_MIME_TYPE) == -1) {\n",
       "      register_renderer(events, OutputArea);\n",
       "    }\n",
       "  }\n",
       "\n",
       "  \n",
       "  if (typeof (root._bokeh_timeout) === \"undefined\" || force === true) {\n",
       "    root._bokeh_timeout = Date.now() + 5000;\n",
       "    root._bokeh_failed_load = false;\n",
       "  }\n",
       "\n",
       "  var NB_LOAD_WARNING = {'data': {'text/html':\n",
       "     \"<div style='background-color: #fdd'>\\n\"+\n",
       "     \"<p>\\n\"+\n",
       "     \"BokehJS does not appear to have successfully loaded. If loading BokehJS from CDN, this \\n\"+\n",
       "     \"may be due to a slow or bad network connection. Possible fixes:\\n\"+\n",
       "     \"</p>\\n\"+\n",
       "     \"<ul>\\n\"+\n",
       "     \"<li>re-rerun `output_notebook()` to attempt to load from CDN again, or</li>\\n\"+\n",
       "     \"<li>use INLINE resources instead, as so:</li>\\n\"+\n",
       "     \"</ul>\\n\"+\n",
       "     \"<code>\\n\"+\n",
       "     \"from bokeh.resources import INLINE\\n\"+\n",
       "     \"output_notebook(resources=INLINE)\\n\"+\n",
       "     \"</code>\\n\"+\n",
       "     \"</div>\"}};\n",
       "\n",
       "  function display_loaded() {\n",
       "    var el = document.getElementById(\"ece8786c-8db5-461f-b7d1-4cd61202042a\");\n",
       "    if (el != null) {\n",
       "      el.textContent = \"BokehJS is loading...\";\n",
       "    }\n",
       "    if (root.Bokeh !== undefined) {\n",
       "      if (el != null) {\n",
       "        el.textContent = \"BokehJS \" + root.Bokeh.version + \" successfully loaded.\";\n",
       "      }\n",
       "    } else if (Date.now() < root._bokeh_timeout) {\n",
       "      setTimeout(display_loaded, 100)\n",
       "    }\n",
       "  }\n",
       "\n",
       "\n",
       "  function run_callbacks() {\n",
       "    try {\n",
       "      root._bokeh_onload_callbacks.forEach(function(callback) { callback() });\n",
       "    }\n",
       "    finally {\n",
       "      delete root._bokeh_onload_callbacks\n",
       "    }\n",
       "    console.info(\"Bokeh: all callbacks have finished\");\n",
       "  }\n",
       "\n",
       "  function load_libs(js_urls, callback) {\n",
       "    root._bokeh_onload_callbacks.push(callback);\n",
       "    if (root._bokeh_is_loading > 0) {\n",
       "      console.log(\"Bokeh: BokehJS is being loaded, scheduling callback at\", now());\n",
       "      return null;\n",
       "    }\n",
       "    if (js_urls == null || js_urls.length === 0) {\n",
       "      run_callbacks();\n",
       "      return null;\n",
       "    }\n",
       "    console.log(\"Bokeh: BokehJS not loaded, scheduling load and callback at\", now());\n",
       "    root._bokeh_is_loading = js_urls.length;\n",
       "    for (var i = 0; i < js_urls.length; i++) {\n",
       "      var url = js_urls[i];\n",
       "      var s = document.createElement('script');\n",
       "      s.src = url;\n",
       "      s.async = false;\n",
       "      s.onreadystatechange = s.onload = function() {\n",
       "        root._bokeh_is_loading--;\n",
       "        if (root._bokeh_is_loading === 0) {\n",
       "          console.log(\"Bokeh: all BokehJS libraries loaded\");\n",
       "          run_callbacks()\n",
       "        }\n",
       "      };\n",
       "      s.onerror = function() {\n",
       "        console.warn(\"failed to load library \" + url);\n",
       "      };\n",
       "      console.log(\"Bokeh: injecting script tag for BokehJS library: \", url);\n",
       "      document.getElementsByTagName(\"head\")[0].appendChild(s);\n",
       "    }\n",
       "  };var element = document.getElementById(\"ece8786c-8db5-461f-b7d1-4cd61202042a\");\n",
       "  if (element == null) {\n",
       "    console.log(\"Bokeh: ERROR: autoload.js configured with elementid 'ece8786c-8db5-461f-b7d1-4cd61202042a' but no matching script tag was found. \")\n",
       "    return false;\n",
       "  }\n",
       "\n",
       "  var js_urls = [\"https://cdn.pydata.org/bokeh/release/bokeh-0.13.0.min.js\", \"https://cdn.pydata.org/bokeh/release/bokeh-widgets-0.13.0.min.js\", \"https://cdn.pydata.org/bokeh/release/bokeh-tables-0.13.0.min.js\", \"https://cdn.pydata.org/bokeh/release/bokeh-gl-0.13.0.min.js\"];\n",
       "\n",
       "  var inline_js = [\n",
       "    function(Bokeh) {\n",
       "      Bokeh.set_log_level(\"info\");\n",
       "    },\n",
       "    \n",
       "    function(Bokeh) {\n",
       "      \n",
       "    },\n",
       "    function(Bokeh) {\n",
       "      console.log(\"Bokeh: injecting CSS: https://cdn.pydata.org/bokeh/release/bokeh-0.13.0.min.css\");\n",
       "      Bokeh.embed.inject_css(\"https://cdn.pydata.org/bokeh/release/bokeh-0.13.0.min.css\");\n",
       "      console.log(\"Bokeh: injecting CSS: https://cdn.pydata.org/bokeh/release/bokeh-widgets-0.13.0.min.css\");\n",
       "      Bokeh.embed.inject_css(\"https://cdn.pydata.org/bokeh/release/bokeh-widgets-0.13.0.min.css\");\n",
       "      console.log(\"Bokeh: injecting CSS: https://cdn.pydata.org/bokeh/release/bokeh-tables-0.13.0.min.css\");\n",
       "      Bokeh.embed.inject_css(\"https://cdn.pydata.org/bokeh/release/bokeh-tables-0.13.0.min.css\");\n",
       "    }\n",
       "  ];\n",
       "\n",
       "  function run_inline_js() {\n",
       "    \n",
       "    if ((root.Bokeh !== undefined) || (force === true)) {\n",
       "      for (var i = 0; i < inline_js.length; i++) {\n",
       "        inline_js[i].call(root, root.Bokeh);\n",
       "      }if (force === true) {\n",
       "        display_loaded();\n",
       "      }} else if (Date.now() < root._bokeh_timeout) {\n",
       "      setTimeout(run_inline_js, 100);\n",
       "    } else if (!root._bokeh_failed_load) {\n",
       "      console.log(\"Bokeh: BokehJS failed to load within specified timeout.\");\n",
       "      root._bokeh_failed_load = true;\n",
       "    } else if (force !== true) {\n",
       "      var cell = $(document.getElementById(\"ece8786c-8db5-461f-b7d1-4cd61202042a\")).parents('.cell').data().cell;\n",
       "      cell.output_area.append_execute_result(NB_LOAD_WARNING)\n",
       "    }\n",
       "\n",
       "  }\n",
       "\n",
       "  if (root._bokeh_is_loading === 0) {\n",
       "    console.log(\"Bokeh: BokehJS loaded, going straight to plotting\");\n",
       "    run_inline_js();\n",
       "  } else {\n",
       "    load_libs(js_urls, function() {\n",
       "      console.log(\"Bokeh: BokehJS plotting callback run at\", now());\n",
       "      run_inline_js();\n",
       "    });\n",
       "  }\n",
       "}(window));"
      ],
      "application/vnd.bokehjs_load.v0+json": "\n(function(root) {\n  function now() {\n    return new Date();\n  }\n\n  var force = true;\n\n  if (typeof (root._bokeh_onload_callbacks) === \"undefined\" || force === true) {\n    root._bokeh_onload_callbacks = [];\n    root._bokeh_is_loading = undefined;\n  }\n\n  \n\n  \n  if (typeof (root._bokeh_timeout) === \"undefined\" || force === true) {\n    root._bokeh_timeout = Date.now() + 5000;\n    root._bokeh_failed_load = false;\n  }\n\n  var NB_LOAD_WARNING = {'data': {'text/html':\n     \"<div style='background-color: #fdd'>\\n\"+\n     \"<p>\\n\"+\n     \"BokehJS does not appear to have successfully loaded. If loading BokehJS from CDN, this \\n\"+\n     \"may be due to a slow or bad network connection. Possible fixes:\\n\"+\n     \"</p>\\n\"+\n     \"<ul>\\n\"+\n     \"<li>re-rerun `output_notebook()` to attempt to load from CDN again, or</li>\\n\"+\n     \"<li>use INLINE resources instead, as so:</li>\\n\"+\n     \"</ul>\\n\"+\n     \"<code>\\n\"+\n     \"from bokeh.resources import INLINE\\n\"+\n     \"output_notebook(resources=INLINE)\\n\"+\n     \"</code>\\n\"+\n     \"</div>\"}};\n\n  function display_loaded() {\n    var el = document.getElementById(\"ece8786c-8db5-461f-b7d1-4cd61202042a\");\n    if (el != null) {\n      el.textContent = \"BokehJS is loading...\";\n    }\n    if (root.Bokeh !== undefined) {\n      if (el != null) {\n        el.textContent = \"BokehJS \" + root.Bokeh.version + \" successfully loaded.\";\n      }\n    } else if (Date.now() < root._bokeh_timeout) {\n      setTimeout(display_loaded, 100)\n    }\n  }\n\n\n  function run_callbacks() {\n    try {\n      root._bokeh_onload_callbacks.forEach(function(callback) { callback() });\n    }\n    finally {\n      delete root._bokeh_onload_callbacks\n    }\n    console.info(\"Bokeh: all callbacks have finished\");\n  }\n\n  function load_libs(js_urls, callback) {\n    root._bokeh_onload_callbacks.push(callback);\n    if (root._bokeh_is_loading > 0) {\n      console.log(\"Bokeh: BokehJS is being loaded, scheduling callback at\", now());\n      return null;\n    }\n    if (js_urls == null || js_urls.length === 0) {\n      run_callbacks();\n      return null;\n    }\n    console.log(\"Bokeh: BokehJS not loaded, scheduling load and callback at\", now());\n    root._bokeh_is_loading = js_urls.length;\n    for (var i = 0; i < js_urls.length; i++) {\n      var url = js_urls[i];\n      var s = document.createElement('script');\n      s.src = url;\n      s.async = false;\n      s.onreadystatechange = s.onload = function() {\n        root._bokeh_is_loading--;\n        if (root._bokeh_is_loading === 0) {\n          console.log(\"Bokeh: all BokehJS libraries loaded\");\n          run_callbacks()\n        }\n      };\n      s.onerror = function() {\n        console.warn(\"failed to load library \" + url);\n      };\n      console.log(\"Bokeh: injecting script tag for BokehJS library: \", url);\n      document.getElementsByTagName(\"head\")[0].appendChild(s);\n    }\n  };var element = document.getElementById(\"ece8786c-8db5-461f-b7d1-4cd61202042a\");\n  if (element == null) {\n    console.log(\"Bokeh: ERROR: autoload.js configured with elementid 'ece8786c-8db5-461f-b7d1-4cd61202042a' but no matching script tag was found. \")\n    return false;\n  }\n\n  var js_urls = [\"https://cdn.pydata.org/bokeh/release/bokeh-0.13.0.min.js\", \"https://cdn.pydata.org/bokeh/release/bokeh-widgets-0.13.0.min.js\", \"https://cdn.pydata.org/bokeh/release/bokeh-tables-0.13.0.min.js\", \"https://cdn.pydata.org/bokeh/release/bokeh-gl-0.13.0.min.js\"];\n\n  var inline_js = [\n    function(Bokeh) {\n      Bokeh.set_log_level(\"info\");\n    },\n    \n    function(Bokeh) {\n      \n    },\n    function(Bokeh) {\n      console.log(\"Bokeh: injecting CSS: https://cdn.pydata.org/bokeh/release/bokeh-0.13.0.min.css\");\n      Bokeh.embed.inject_css(\"https://cdn.pydata.org/bokeh/release/bokeh-0.13.0.min.css\");\n      console.log(\"Bokeh: injecting CSS: https://cdn.pydata.org/bokeh/release/bokeh-widgets-0.13.0.min.css\");\n      Bokeh.embed.inject_css(\"https://cdn.pydata.org/bokeh/release/bokeh-widgets-0.13.0.min.css\");\n      console.log(\"Bokeh: injecting CSS: https://cdn.pydata.org/bokeh/release/bokeh-tables-0.13.0.min.css\");\n      Bokeh.embed.inject_css(\"https://cdn.pydata.org/bokeh/release/bokeh-tables-0.13.0.min.css\");\n    }\n  ];\n\n  function run_inline_js() {\n    \n    if ((root.Bokeh !== undefined) || (force === true)) {\n      for (var i = 0; i < inline_js.length; i++) {\n        inline_js[i].call(root, root.Bokeh);\n      }if (force === true) {\n        display_loaded();\n      }} else if (Date.now() < root._bokeh_timeout) {\n      setTimeout(run_inline_js, 100);\n    } else if (!root._bokeh_failed_load) {\n      console.log(\"Bokeh: BokehJS failed to load within specified timeout.\");\n      root._bokeh_failed_load = true;\n    } else if (force !== true) {\n      var cell = $(document.getElementById(\"ece8786c-8db5-461f-b7d1-4cd61202042a\")).parents('.cell').data().cell;\n      cell.output_area.append_execute_result(NB_LOAD_WARNING)\n    }\n\n  }\n\n  if (root._bokeh_is_loading === 0) {\n    console.log(\"Bokeh: BokehJS loaded, going straight to plotting\");\n    run_inline_js();\n  } else {\n    load_libs(js_urls, function() {\n      console.log(\"Bokeh: BokehJS plotting callback run at\", now());\n      run_inline_js();\n    });\n  }\n}(window));"
     },
     "metadata": {},
     "output_type": "display_data"
    }
   ],
   "source": [
    "import rasa_core\n",
    "from rasa_core.agent import Agent\n",
    "from bokeh.io import output_notebook\n",
    "agent = Agent.load(\"models/dialogue_embed\")\n",
    "# agent = Agent.load(\"models/dialogue_embed_before_norm_loss\")\n",
    "output_notebook()"
   ]
  },
  {
   "cell_type": "code",
   "execution_count": 83,
   "metadata": {},
   "outputs": [
    {
     "data": {
      "text/plain": [
       "'0.13.0a3'"
      ]
     },
     "execution_count": 83,
     "metadata": {},
     "output_type": "execute_result"
    }
   ],
   "source": [
    "rasa_core.__version__"
   ]
  },
  {
   "cell_type": "code",
   "execution_count": 84,
   "metadata": {},
   "outputs": [
    {
     "name": "stdout",
     "output_type": "stream",
     "text": [
      "False\n"
     ]
    }
   ],
   "source": [
    "policy = agent.policy_ensemble.policies[0]\n",
    "interpreter = agent.interpreter\n",
    "print(policy.sparse_attention)"
   ]
  },
  {
   "cell_type": "code",
   "execution_count": 85,
   "metadata": {},
   "outputs": [],
   "source": [
    "domain = agent.domain\n"
   ]
  },
  {
   "cell_type": "code",
   "execution_count": 86,
   "metadata": {},
   "outputs": [],
   "source": [
    "from rasa_core.training.structures import StoryGraph\n",
    "from rasa_core.training.dsl import StoryFileReader\n",
    "from rasa_core.trackers import DialogueStateTracker\n",
    "from rasa_core.channels import UserMessage\n",
    "import numpy as np\n",
    "np.set_printoptions(precision=3, suppress=True)\n",
    "\n",
    "def embedding_from_tracker(story, bot=False, predict_only=False):\n",
    "    reader = StoryFileReader(domain, interpreter)\n",
    "    story = story.split('\\n')\n",
    "    story_steps = reader.process_lines(story)\n",
    "#     story_graph = StoryGraph(story_steps)\n",
    "    tracker = DialogueStateTracker(\n",
    "            1,\n",
    "            domain.slots\n",
    "    )\n",
    "    tracker._reset()\n",
    "    for step in story_steps:\n",
    "        events = step.explicit_events(domain)\n",
    "        for event in events[:-1]:\n",
    "            tracker.update(event)\n",
    "\n",
    "    if predict_only:\n",
    "        return policy.predict_action_probabilities(tracker, domain)\n",
    "\n",
    "    data_X = policy.featurizer.create_X([tracker], domain)\n",
    "    session_data = policy._create_tf_session_data(domain, data_X)\n",
    "    all_Y_d_x = np.stack([session_data.all_Y_d for _ in range(session_data.X.shape[0])])\n",
    "    feed_dict={policy.a_in: session_data.X,\n",
    "               policy.b_in: all_Y_d_x,\n",
    "               policy.c_in: session_data.slots,\n",
    "               policy.b_prev_in: session_data.previous_actions,\n",
    "               policy._dialogue_len: session_data.X.shape[1],\n",
    "               policy._x_for_no_intent_in: session_data.x_for_no_intent,\n",
    "               policy._y_for_no_action_in: session_data.y_for_no_action,\n",
    "               policy._y_for_action_listen_in: session_data.y_for_action_listen}\n",
    "\n",
    "    dial_vec = policy.session.run(policy.dial_embed, feed_dict=feed_dict)\n",
    "    bot_vec = policy.session.run(policy.bot_embed, feed_dict=feed_dict)\n",
    "\n",
    "    no_skip_gate = policy.session.run(policy.copy_attn_debug, feed_dict=feed_dict)\n",
    "    attn_embed = policy.session.run(policy.attn_embed, feed_dict=feed_dict)\n",
    "    rnn_embed = policy.session.run(policy.rnn_embed, feed_dict=feed_dict)\n",
    "    probs = policy.session.run(policy.alignment_history, feed_dict=feed_dict)\n",
    "    time_mask = policy.session.run(policy.all_time_masks, feed_dict=feed_dict)\n",
    "    topics = policy.session.run(policy.topics, feed_dict=feed_dict)\n",
    "    cell_state = policy.session.run(policy.cell_state, feed_dict=feed_dict)\n",
    "    if probs.shape[2] == 2 * probs.shape[1]:\n",
    "        user_probs = probs[0, -1, :int(probs.shape[2]/2)]\n",
    "        bot_probs = probs[0, -1, int(probs.shape[2]/2):]\n",
    "    else:\n",
    "        user_probs = probs[0, -1, :]\n",
    "        bot_probs = []\n",
    "\n",
    "    sims = policy.session.run(policy.sim_op, feed_dict=feed_dict)\n",
    "    if bot is False:\n",
    "        sims1 = policy.predict_action_probabilities(tracker, domain)\n",
    "\n",
    "    del tracker\n",
    "#     print(np.shape(dial_vec))\n",
    "\n",
    "    if bot is False:\n",
    "        return (dial_vec[0,-1,:],\n",
    "                no_skip_gate[0,-1,:],\n",
    "                attn_embed[0,-1,:],\n",
    "                rnn_embed[0,-1,:],\n",
    "                [user_probs, bot_probs, time_mask[0,-1,:]],\n",
    "                sims[0,-1,:],\n",
    "                sims1,\n",
    "                topics[0],\n",
    "                cell_state[0]\n",
    "               )\n",
    "    else:\n",
    "        return (dial_vec[0,-1,:],\n",
    "                sims[0,-1,:],\n",
    "                bot_vec[0,-1,:,:])\n",
    "    \n",
    "def make_prediction(story):\n",
    "    dial, sim0, bot = embedding_from_tracker(story, bot=True)\n",
    "    abs_vals = np.array([np.absolute(vec) for vec in bot])\n",
    "    norms = np.apply_along_axis(np.linalg.norm, 1, bot)\n",
    "    sims = np.dot(bot, dial)/norms\n",
    "#     name = domain.action_for_index(np.argmax(sims)).name()\n",
    "#     print(name)\n",
    "    name = domain.action_names[np.argmax(sim0)]\n",
    "#     print(name)\n",
    "#     print('---')\n",
    "#     ids = sim0.argsort()[::-1]\n",
    "#     print(ids)\n",
    "#     print(sims[ids])\n",
    "    return '- ' + name, np.max(sim0)\n",
    "#     print(dial.shape, bot.shape)"
   ]
  },
  {
   "cell_type": "code",
   "execution_count": 87,
   "metadata": {},
   "outputs": [],
   "source": [
    "# print(domain.intents)\n",
    "story_block = \"\"\"* request_hotel\n",
    "    - utter_ask_details\n",
    "* chitchat\n",
    "    - utter_chitchat\n",
    "    - utter_ask_details\n",
    "* inform{\"enddate\": \"May 26th\"}\n",
    "    - slot{\"enddate\": \"May 26th\"}\n",
    "    - utter_ask_startdate\n",
    "* inform{\"startdate\": \"next week\"}\n",
    "    - slot{\"startdate\": \"next week\"}\n",
    "    - utter_ask_location\n",
    "* correct{\"startdate\": \"next week\"}\n",
    "    - slot{\"startdate\": \"next week\"}\n",
    "    - utter_correct_startdate_hotel\n",
    "    - utter_ask_location\n",
    "* explain\n",
    "    - utter_explain_location_hotel\n",
    "    - utter_ask_location\n",
    "* inform{\"location\": \"rome\"}\n",
    "    - slot{\"location\": \"rome\"}\n",
    "    - utter_ask_price\n",
    "* chitchat\n",
    "    - utter_chitchat\n",
    "    - utter_ask_price\n",
    "* chitchat\n",
    "    - utter_chitchat\n",
    "    - utter_ask_price\n",
    "* chitchat\n",
    "    - utter_chitchat\n",
    "    - utter_ask_price\n",
    "* chitchat\n",
    "    - utter_chitchat\n",
    "    - utter_ask_price\n",
    "* explain\n",
    "    - utter_explain_price_hotel\n",
    "    - utter_ask_price\n",
    "* inform{\"price\": \"expensive\"}\n",
    "    - utter_ask_people\n",
    "* inform{\"people\": \"4\"}\n",
    "    - utter_filled_slots\n",
    "    - action_search_hotel\n",
    "    - slot{\"hotel\": \"hotel\"}\n",
    "    - utter_suggest_hotel\n",
    "* chitchat\n",
    "    - utter_chitchat\n",
    "    - utter_suggest_hotel\n",
    "* affirm\n",
    "    - utter_happy\"\"\""
   ]
  },
  {
   "cell_type": "code",
   "execution_count": 88,
   "metadata": {},
   "outputs": [],
   "source": [
    "# story_block = \"\"\"* request_hotel\n",
    "#     - utter_ask_details\n",
    "# * inform{\"people\": \"4\"}\n",
    "#     - slot{\"people\": \"4\"}\n",
    "#     - utter_ask_location\n",
    "# * correct{\"people\": \"2\"}\n",
    "#     - slot{\"people\": \"2\"}\n",
    "#     - utter_correct_people_hotel\n",
    "#     - utter_ask_location\n",
    "# * chitchat\n",
    "#     - utter_chitchat\n",
    "#     - utter_ask_location\n",
    "# * inform{\"location\": \"rome\"}\n",
    "#     - slot{\"location\": \"rome\"}\n",
    "#     - utter_ask_price\n",
    "# * inform{\"price\": \"expensive\"}\n",
    "#     - slot{\"price\": \"expensive\"}\n",
    "#     - utter_ask_startdate\n",
    "# * inform{\"startdate\": \"next week\", \"enddate\": \"tomorrow\"}\n",
    "#     - slot{\"startdate\": \"next week\"}\n",
    "#     - slot{\"enddate\": \"tomorrow\"}\n",
    "#     - utter_filled_slots\n",
    "#     - utter_search_hotel\n",
    "#     - slot{\"hotel\": \"hotel\"}\n",
    "#     - utter_suggest_hotel\n",
    "# * correct{\"enddate\": \"May 26th\"}\n",
    "#     - slot{\"enddate\": \"May 26th\"}\n",
    "#     - utter_correct_enddate_hotel\n",
    "#     - utter_search_hotel\n",
    "#     - slot{\"hotel\": \"hotel\"}\n",
    "#     - utter_suggest_hotel\n",
    "# * correct{\"location\": \"rome\"}\n",
    "#     - slot{\"location\": \"rome\"}\n",
    "#     - utter_correct_location_hotel\n",
    "#     - utter_search_hotel\n",
    "#     - slot{\"hotel\": \"hotel\"}\n",
    "#     - utter_suggest_hotel\n",
    "# * did_that_work\n",
    "#     - utter_worked_hotel\n",
    "#     - utter_suggest_hotel\n",
    "# * affirm\n",
    "#     - utter_happy\n",
    "# * chitchat\"\"\""
   ]
  },
  {
   "cell_type": "code",
   "execution_count": 89,
   "metadata": {},
   "outputs": [],
   "source": [
    "# story_block = \"\"\"* request_hotel\n",
    "#     - utter_ask_details\n",
    "# * inform{\"people\": \"2\"}\n",
    "#     - slot{\"people\": \"2\"}\n",
    "#     - utter_ask_location\n",
    "# * correct{\"people\": \"2\"}\n",
    "#     - slot{\"people\": \"2\"}\n",
    "#     - utter_correct_people_hotel\n",
    "#     - utter_ask_location\n",
    "# * explain\n",
    "#     - utter_explain_location_hotel\n",
    "#     - utter_ask_location\n",
    "# * inform{\"location\": \"paris\"}\n",
    "#     - utter_ask_price\n",
    "# * inform{\"price\": \"expensive\"}\n",
    "#     - utter_ask_startdate\n",
    "# * inform{\"startdate\": \"10.03.2018\"}\n",
    "#     - utter_ask_enddate\n",
    "# * explain\n",
    "#     - utter_explain_enddate_hotel\n",
    "#     - utter_ask_enddate\n",
    "# * explain\n",
    "#     - utter_explain_enddate_hotel\n",
    "#     - utter_ask_enddate\n",
    "# * explain\n",
    "#     - utter_explain_enddate_hotel\n",
    "#     - utter_ask_enddate\n",
    "# * explain\n",
    "#     - utter_explain_enddate_hotel\n",
    "#     - utter_ask_enddate\n",
    "# * did_that_work\n",
    "#     - utter_more_info_hotel\n",
    "#     - utter_ask_enddate\n",
    "# * inform{\"enddate\": \"10.03.2018\"}\n",
    "#     - utter_filled_slots\n",
    "#     - utter_search_hotel\n",
    "#     - slot{\"hotel\": \"hotel\"}\n",
    "#     - utter_suggest_hotel\n",
    "# * did_that_work\n",
    "#     - utter_worked_hotel\n",
    "#     - utter_suggest_hotel\n",
    "# * affirm\n",
    "#     - utter_happy\n",
    "# \"\"\""
   ]
  },
  {
   "cell_type": "code",
   "execution_count": 90,
   "metadata": {},
   "outputs": [
    {
     "name": "stdout",
     "output_type": "stream",
     "text": [
      "48\n",
      "27\n"
     ]
    }
   ],
   "source": [
    "print(len(story_block.split('\\n')))\n",
    "cool_list = []\n",
    "lines = story_block.split('\\n')\n",
    "for idx, line in enumerate(lines):\n",
    "    if idx == len(lines)-1:\n",
    "        continue\n",
    "    if '*' in lines[idx+1] or 'slot{' in lines[idx+1]:\n",
    "#     if 'slot{' in lines[idx+1]:\n",
    "        continue\n",
    "    sub_story = '\\n'.join(lines[:idx+1])\n",
    "    (dial, not_skip, attn, rnn, probs, sims, sims1, topic, cell_state\n",
    "    ) = embedding_from_tracker(\"#generate story\\n{}\".format(sub_story))\n",
    "#     print(np.max(sims), np.max(sims1))\n",
    "\n",
    "    pred, sim = make_prediction(\"#generate story\\n{}\".format(sub_story))\n",
    "    cool_list.append((lines[idx+1].strip(), dial, (pred, sim, sims), not_skip, attn[-20:], rnn,\n",
    "                      probs, topic, cell_state))\n",
    "#     embedding_from_tracker(\"#generate story\\n{}\".format(sub_story), predict_only=True)\n",
    "\n",
    "print(len(cool_list))\n",
    "# print(cool_list[0][4].shape)\n",
    "#     break\n",
    "# dial = embedding_from_tracker(\"#generate story\\n{}\".format(story_block)\n",
    "# )\n",
    "# print(dial.shape)\n",
    "# print(len(story_block.split('\\n')))\n",
    "# print(probs[0, 6, :])"
   ]
  },
  {
   "cell_type": "code",
   "execution_count": 91,
   "metadata": {},
   "outputs": [
    {
     "data": {
      "text/plain": [
       "('- utter_ask_details',\n",
       " array([-0.094,  0.075,  0.059,  0.007, -0.057,  0.03 ,  0.031, -0.093,\n",
       "         0.091, -0.033,  0.014, -0.016,  0.128,  0.032, -0.021, -0.101,\n",
       "         0.021, -0.134,  0.   ,  0.065], dtype=float32),\n",
       " ('- utter_ask_details',\n",
       "  0.97534156,\n",
       "  array([-0.092, -0.08 , -0.085, -0.01 , -0.109, -0.053, -0.031, -0.135,\n",
       "          0.154, -0.028, -0.061,  0.03 ,  0.021, -0.08 , -0.04 , -0.031,\n",
       "          0.03 , -0.028, -0.075, -0.071, -0.341, -0.372, -0.226, -0.28 ,\n",
       "         -0.179, -0.357, -0.226, -0.332, -0.211, -0.046, -0.058, -0.035,\n",
       "          0.975, -0.025, -0.106, -0.087, -0.091, -0.107, -0.09 , -0.012,\n",
       "         -0.038, -0.074, -0.079,  0.048, -0.022, -0.061, -0.042],\n",
       "        dtype=float32)),\n",
       " array([1.   , 0.975, 0.   , 1.   , 0.   ], dtype=float32),\n",
       " array([-0.088,  0.069,  0.044, -0.01 , -0.044,  0.045,  0.044, -0.097,\n",
       "         0.068, -0.004,  0.008, -0.026,  0.132,  0.019,  0.006, -0.087,\n",
       "         0.048, -0.131, -0.001,  0.065], dtype=float32),\n",
       " array([-0.006,  0.005,  0.015,  0.018, -0.013, -0.015, -0.013,  0.004,\n",
       "         0.023, -0.028,  0.006,  0.01 , -0.004,  0.013, -0.028, -0.014,\n",
       "        -0.026, -0.002,  0.001,  0.   ], dtype=float32),\n",
       " [array([0.   , 0.211, 0.   , 0.099, 0.69 ], dtype=float32),\n",
       "  array([0.  , 0.  , 0.97, 0.  , 0.03], dtype=float32),\n",
       "  array([1, 1, 1, 1, 0], dtype=int32)],\n",
       " array([[0.999, 0.   , 0.   , 0.   , 0.   ],\n",
       "        [0.999, 0.   , 0.   , 0.   , 0.   ],\n",
       "        [0.999, 0.   , 0.   , 0.   , 0.   ],\n",
       "        [0.014, 0.98 , 0.004, 0.001, 0.002],\n",
       "        [0.002, 0.996, 0.001, 0.   , 0.001]], dtype=float32),\n",
       " array([[ 0.025,  0.34 , -0.048, -0.039, -0.   ,  0.055, -0.285, -0.478,\n",
       "         -0.658,  0.001, -0.677, -0.526, -0.609,  0.019,  1.868,  0.3  ,\n",
       "          0.586, -0.052, -0.325,  0.775,  0.038, -0.098,  0.352,  0.01 ,\n",
       "          0.161,  0.253, -0.298, -0.354,  0.612,  0.017, -0.932, -0.006,\n",
       "          0.261,  1.088, -1.121,  0.609,  0.198,  0.17 ,  0.417, -0.211,\n",
       "         -0.832,  0.2  , -1.063,  0.095,  0.026, -0.208,  0.045, -0.108,\n",
       "         -0.964,  0.547,  0.008, -0.084,  0.281, -0.284,  0.111, -0.073,\n",
       "          0.262,  0.067, -0.027, -0.062,  0.071,  0.087,  0.089,  0.547],\n",
       "        [ 0.008,  0.104,  0.796,  0.336,  0.03 , -0.004,  0.054, -0.014,\n",
       "         -0.087, -0.111, -0.038,  0.028, -0.013, -0.013,  0.654,  0.05 ,\n",
       "          0.406,  0.024, -0.008,  0.099,  0.155, -0.177,  0.194, -0.099,\n",
       "          0.113,  0.086, -0.371, -0.9  , -0.099,  0.006, -0.463, -0.081,\n",
       "          0.148, -0.039, -0.052, -0.082,  0.276, -0.003,  0.031, -0.055,\n",
       "          0.15 ,  0.059, -0.227,  0.078,  0.028,  0.035,  0.119, -0.684,\n",
       "         -0.478,  0.145,  0.033, -0.075, -0.22 ,  0.363,  0.103, -0.051,\n",
       "         -0.023,  0.092, -0.031,  0.017,  0.114, -0.077, -0.037,  0.116],\n",
       "        [ 0.   ,  0.   ,  0.   ,  0.   ,  0.   ,  0.   ,  0.   ,  0.   ,\n",
       "          0.   ,  0.   ,  0.   ,  0.   ,  0.   ,  0.   ,  0.   ,  0.   ,\n",
       "          0.   ,  0.   ,  0.   ,  0.   ,  0.   ,  0.   ,  0.   ,  0.   ,\n",
       "          0.   ,  0.   ,  0.   ,  0.   ,  0.   ,  0.   ,  0.   ,  0.   ,\n",
       "          0.   ,  0.   ,  0.   ,  0.   ,  0.   ,  0.   ,  0.   ,  0.   ,\n",
       "          0.   ,  0.   ,  0.   ,  0.   ,  0.   ,  0.   ,  0.   ,  0.   ,\n",
       "          0.   ,  0.   ,  0.   ,  0.   ,  0.   ,  0.   ,  0.   ,  0.   ,\n",
       "          0.   ,  0.   ,  0.   ,  0.   ,  0.   ,  0.   ,  0.   ,  0.   ],\n",
       "        [ 0.   ,  0.   ,  0.   ,  0.   ,  0.   ,  0.   ,  0.   ,  0.   ,\n",
       "          0.   ,  0.   ,  0.   ,  0.   ,  0.   ,  0.   ,  0.   ,  0.   ,\n",
       "          0.   ,  0.   ,  0.   ,  0.   ,  0.   ,  0.   ,  0.   ,  0.   ,\n",
       "          0.   ,  0.   ,  0.   ,  0.   ,  0.   ,  0.   ,  0.   ,  0.   ,\n",
       "          0.   ,  0.   ,  0.   ,  0.   ,  0.   ,  0.   ,  0.   ,  0.   ,\n",
       "          0.   ,  0.   ,  0.   ,  0.   ,  0.   ,  0.   ,  0.   ,  0.   ,\n",
       "          0.   ,  0.   ,  0.   ,  0.   ,  0.   ,  0.   ,  0.   ,  0.   ,\n",
       "          0.   ,  0.   ,  0.   ,  0.   ,  0.   ,  0.   ,  0.   ,  0.   ],\n",
       "        [ 0.   ,  0.   ,  0.   ,  0.   ,  0.   ,  0.   ,  0.   ,  0.   ,\n",
       "          0.   ,  0.   ,  0.   ,  0.   ,  0.   ,  0.   ,  0.   ,  0.   ,\n",
       "          0.   ,  0.   ,  0.   ,  0.   ,  0.   ,  0.   ,  0.   ,  0.   ,\n",
       "          0.   ,  0.   ,  0.   ,  0.   ,  0.   ,  0.   ,  0.   ,  0.   ,\n",
       "          0.   ,  0.   ,  0.   ,  0.   ,  0.   ,  0.   ,  0.   ,  0.   ,\n",
       "          0.   ,  0.   ,  0.   ,  0.   ,  0.   ,  0.   ,  0.   ,  0.   ,\n",
       "          0.   ,  0.   ,  0.   ,  0.   ,  0.   ,  0.   ,  0.   ,  0.   ,\n",
       "          0.   ,  0.   ,  0.   ,  0.   ,  0.   ,  0.   ,  0.   ,  0.   ]],\n",
       "       dtype=float32))"
      ]
     },
     "execution_count": 91,
     "metadata": {},
     "output_type": "execute_result"
    }
   ],
   "source": [
    "import copy\n",
    "\n",
    "# cool_list0 = copy.deepcopy(cool_list)\n",
    "cool_list[2]"
   ]
  },
  {
   "cell_type": "code",
   "execution_count": 92,
   "metadata": {},
   "outputs": [
    {
     "data": {
      "text/plain": [
       "('- utter_happy',\n",
       " array([ 0.264,  0.229,  0.015, -0.374, -0.04 , -0.145, -0.123, -0.037,\n",
       "         0.152,  0.042,  0.196,  0.113, -0.021, -0.014, -0.129, -0.217,\n",
       "         0.246,  0.203, -0.214,  0.171], dtype=float32),\n",
       " ('- utter_happy',\n",
       "  0.91036105,\n",
       "  array([-0.195, -0.103, -0.058, -0.215, -0.07 , -0.115, -0.091, -0.146,\n",
       "          0.173, -0.023,  0.102, -0.038,  0.005,  0.041,  0.006,  0.069,\n",
       "         -0.123,  0.91 , -0.146, -0.   , -0.165, -0.184, -0.013, -0.087,\n",
       "          0.036, -0.127,  0.012, -0.18 , -0.03 ,  0.056,  0.133, -0.06 ,\n",
       "          0.046,  0.02 , -0.073,  0.051,  0.025, -0.019,  0.076,  0.029,\n",
       "          0.103, -0.073, -0.056, -0.151,  0.05 ,  0.037, -0.183],\n",
       "        dtype=float32)),\n",
       " array([1., 1., 0., 0., 1.], dtype=float32),\n",
       " array([-0.081,  0.089,  0.082,  0.005,  0.001, -0.104, -0.066,  0.004,\n",
       "        -0.061, -0.026, -0.051,  0.071,  0.003,  0.004,  0.02 , -0.034,\n",
       "        -0.027,  0.105,  0.059,  0.016], dtype=float32),\n",
       " array([ 0.344,  0.141, -0.066, -0.379, -0.041, -0.042, -0.057, -0.041,\n",
       "         0.213,  0.068,  0.247,  0.042, -0.024, -0.018, -0.149, -0.182,\n",
       "         0.273,  0.098, -0.272,  0.154], dtype=float32),\n",
       " [array([0.   , 0.17 , 0.   , 0.   , 0.   , 0.   , 0.161, 0.   , 0.145,\n",
       "         0.   , 0.   , 0.   , 0.   , 0.   , 0.   , 0.   , 0.142, 0.   ,\n",
       "         0.   , 0.   , 0.   , 0.   , 0.   , 0.   , 0.   , 0.   , 0.   ,\n",
       "         0.   , 0.   , 0.   , 0.   , 0.   , 0.   , 0.172, 0.   , 0.149,\n",
       "         0.   , 0.   , 0.   , 0.   , 0.   , 0.   , 0.061], dtype=float32),\n",
       "  array([0.   , 0.   , 0.   , 0.   , 0.   , 0.   , 0.   , 0.   , 0.   ,\n",
       "         0.   , 0.   , 0.   , 0.   , 0.   , 0.   , 0.01 , 0.   , 0.   ,\n",
       "         0.   , 0.   , 0.   , 0.   , 0.   , 0.   , 0.   , 0.   , 0.   ,\n",
       "         0.   , 0.   , 0.   , 0.   , 0.073, 0.151, 0.   , 0.365, 0.   ,\n",
       "         0.319, 0.042, 0.   , 0.   , 0.   , 0.035, 0.004], dtype=float32),\n",
       "  array([1, 1, 0, 0, 0, 1, 1, 1, 1, 0, 0, 0, 0, 0, 1, 1, 1, 0, 0, 0, 0, 0,\n",
       "         0, 0, 0, 0, 0, 0, 0, 0, 0, 1, 1, 1, 1, 1, 1, 1, 0, 0, 0, 1, 0],\n",
       "        dtype=int32)],\n",
       " array([[0.999, 0.   , 0.   , 0.   , 0.   ],\n",
       "        [0.999, 0.   , 0.   , 0.   , 0.   ],\n",
       "        [0.999, 0.   , 0.   , 0.   , 0.   ],\n",
       "        [0.014, 0.98 , 0.004, 0.001, 0.002],\n",
       "        [0.002, 0.996, 0.001, 0.   , 0.001],\n",
       "        [0.003, 0.994, 0.001, 0.001, 0.001],\n",
       "        [0.999, 0.001, 0.   , 0.   , 0.   ],\n",
       "        [0.998, 0.001, 0.   , 0.   , 0.   ],\n",
       "        [1.   , 0.   , 0.   , 0.   , 0.   ],\n",
       "        [0.999, 0.   , 0.   , 0.   , 0.   ],\n",
       "        [0.005, 0.001, 0.001, 0.001, 0.991],\n",
       "        [0.001, 0.   , 0.   , 0.   , 0.998],\n",
       "        [0.001, 0.   , 0.001, 0.001, 0.997],\n",
       "        [0.004, 0.003, 0.988, 0.001, 0.004],\n",
       "        [0.002, 0.001, 0.996, 0.   , 0.   ],\n",
       "        [0.004, 0.002, 0.993, 0.001, 0.   ],\n",
       "        [0.998, 0.   , 0.001, 0.   , 0.   ],\n",
       "        [0.999, 0.   , 0.001, 0.   , 0.   ],\n",
       "        [0.005, 0.99 , 0.004, 0.   , 0.001],\n",
       "        [0.001, 0.997, 0.001, 0.   , 0.   ],\n",
       "        [0.003, 0.994, 0.001, 0.001, 0.001],\n",
       "        [0.002, 0.996, 0.002, 0.   , 0.   ],\n",
       "        [0.001, 0.998, 0.001, 0.   , 0.   ],\n",
       "        [0.003, 0.995, 0.001, 0.001, 0.001],\n",
       "        [0.002, 0.996, 0.001, 0.   , 0.   ],\n",
       "        [0.001, 0.998, 0.001, 0.   , 0.   ],\n",
       "        [0.003, 0.995, 0.001, 0.001, 0.001],\n",
       "        [0.002, 0.996, 0.001, 0.   , 0.   ],\n",
       "        [0.001, 0.998, 0.001, 0.   , 0.   ],\n",
       "        [0.003, 0.995, 0.001, 0.001, 0.001],\n",
       "        [0.003, 0.008, 0.988, 0.001, 0.001],\n",
       "        [0.002, 0.002, 0.995, 0.   , 0.   ],\n",
       "        [0.005, 0.004, 0.99 , 0.001, 0.   ],\n",
       "        [0.998, 0.   , 0.001, 0.   , 0.   ],\n",
       "        [0.998, 0.001, 0.001, 0.   , 0.   ],\n",
       "        [1.   , 0.   , 0.   , 0.   , 0.   ],\n",
       "        [1.   , 0.   , 0.   , 0.   , 0.   ],\n",
       "        [1.   , 0.   , 0.   , 0.   , 0.   ],\n",
       "        [0.999, 0.   , 0.   , 0.   , 0.   ],\n",
       "        [0.004, 0.994, 0.002, 0.   , 0.001],\n",
       "        [0.001, 0.997, 0.001, 0.   , 0.   ],\n",
       "        [0.001, 0.997, 0.001, 0.   , 0.   ],\n",
       "        [0.999, 0.001, 0.   , 0.   , 0.   ]], dtype=float32),\n",
       " array([[-0.043, -0.559, -0.237,  0.734, -0.003,  0.291,  0.52 ,  0.865,\n",
       "          0.126, -0.177, -0.042, -0.082,  0.055,  0.288,  0.524, -0.965,\n",
       "          1.243, -0.474,  0.512, -0.179, -0.293,  0.809,  0.09 , -0.518,\n",
       "          0.461, -0.021, -0.254, -0.499,  0.322,  1.704, -0.204,  1.099,\n",
       "         -0.329, -0.085,  0.134,  0.705,  0.056,  0.27 , -0.609, -0.16 ,\n",
       "          0.275,  0.748, -0.058, -0.633, -0.288, -0.021,  0.868, -0.116,\n",
       "         -0.885, -0.341, -0.174, -0.163, -0.2  , -0.585,  0.375, -0.226,\n",
       "         -0.149,  0.406, -0.128,  0.012, -0.162, -1.133,  0.073,  0.029],\n",
       "        [-0.158, -0.599, -0.028,  1.366, -0.48 ,  0.098, -0.361,  0.669,\n",
       "          0.341,  0.048, -0.147, -0.142,  0.013,  0.11 ,  0.406, -0.099,\n",
       "          2.523, -0.489,  0.075, -0.159,  0.006,  0.256,  0.349, -0.267,\n",
       "          0.405,  0.064, -0.288, -1.878,  0.285,  1.179, -0.065, -0.792,\n",
       "         -0.249, -0.135,  0.075,  1.066,  0.495,  0.277, -0.254, -0.168,\n",
       "         -0.543,  0.402, -0.066,  0.048, -0.173,  0.087,  2.484, -0.025,\n",
       "         -1.563, -0.017,  0.133,  0.023, -0.018, -0.348,  0.367, -0.423,\n",
       "         -0.008,  0.115, -0.183,  0.054, -0.357, -0.815,  0.061, -0.219],\n",
       "        [-0.198, -0.058,  0.119,  0.204, -0.013, -0.079, -0.208, -0.296,\n",
       "          0.385,  0.424,  0.193, -0.858,  0.066, -0.545, -0.08 , -0.09 ,\n",
       "          0.357, -0.27 , -0.055, -0.154, -0.089, -0.064,  0.181, -0.073,\n",
       "          0.364,  0.127, -0.438, -0.227,  0.187, -0.053, -0.676,  0.026,\n",
       "         -0.054,  0.112,  0.147,  0.221,  0.121,  0.001,  0.188,  0.402,\n",
       "         -0.787, -0.43 ,  0.31 , -0.237,  0.095,  0.08 ,  1.416,  0.981,\n",
       "         -2.398, -0.447,  0.375, -0.095, -0.047,  0.539,  0.166, -0.124,\n",
       "         -0.362,  0.355, -0.18 ,  0.262, -0.343, -0.47 ,  0.303,  0.391],\n",
       "        [ 0.   ,  0.   ,  0.   ,  0.   ,  0.   ,  0.   ,  0.   ,  0.   ,\n",
       "          0.   ,  0.   ,  0.   ,  0.   ,  0.   ,  0.   ,  0.   ,  0.   ,\n",
       "          0.   ,  0.   ,  0.   ,  0.   ,  0.   ,  0.   ,  0.   ,  0.   ,\n",
       "          0.   ,  0.   ,  0.   ,  0.   ,  0.   ,  0.   ,  0.   ,  0.   ,\n",
       "          0.   ,  0.   ,  0.   ,  0.   ,  0.   ,  0.   ,  0.   ,  0.   ,\n",
       "          0.   ,  0.   ,  0.   ,  0.   ,  0.   ,  0.   ,  0.   ,  0.   ,\n",
       "          0.   ,  0.   ,  0.   ,  0.   ,  0.   ,  0.   ,  0.   ,  0.   ,\n",
       "          0.   ,  0.   ,  0.   ,  0.   ,  0.   ,  0.   ,  0.   ,  0.   ],\n",
       "        [ 0.023,  0.244,  0.03 , -0.014,  0.118, -0.064, -0.729, -0.481,\n",
       "         -0.27 ,  0.133,  0.127, -0.854,  0.034, -0.209,  0.234, -0.031,\n",
       "          0.141, -0.022, -0.18 ,  0.02 , -0.261, -0.293,  0.1  , -0.057,\n",
       "          0.097,  0.058, -0.409, -0.221,  0.331,  0.042, -0.051, -0.071,\n",
       "          0.112,  0.526,  0.23 ,  0.082,  0.68 , -0.053,  0.131,  0.254,\n",
       "         -0.701,  0.165,  0.793, -0.115, -0.029,  0.101,  0.605, -0.159,\n",
       "          0.054, -0.298,  0.466, -0.078,  0.269,  0.495, -0.18 , -0.022,\n",
       "         -0.089,  0.195,  0.053,  0.14 , -0.208, -0.223,  0.161, -0.43 ]],\n",
       "       dtype=float32))"
      ]
     },
     "execution_count": 92,
     "metadata": {},
     "output_type": "execute_result"
    }
   ],
   "source": [
    "# cool_list1= copy.deepcopy(cool_list)\n",
    "cool_list[-1]"
   ]
  },
  {
   "cell_type": "code",
   "execution_count": 93,
   "metadata": {},
   "outputs": [],
   "source": [
    "# import matplotlib.pyplot as plt\n",
    "# plt.plot(cool_list[15][-2], marker='x')"
   ]
  },
  {
   "cell_type": "code",
   "execution_count": 94,
   "metadata": {},
   "outputs": [],
   "source": [
    "# plt.plot(cool_list[19][-2], marker='x')"
   ]
  },
  {
   "cell_type": "code",
   "execution_count": null,
   "metadata": {},
   "outputs": [],
   "source": []
  },
  {
   "cell_type": "code",
   "execution_count": null,
   "metadata": {},
   "outputs": [],
   "source": []
  },
  {
   "cell_type": "code",
   "execution_count": 95,
   "metadata": {},
   "outputs": [],
   "source": [
    "from sklearn.decomposition import PCA"
   ]
  },
  {
   "cell_type": "code",
   "execution_count": 96,
   "metadata": {},
   "outputs": [],
   "source": [
    "pca = PCA(n_components=2)\n",
    "X = pca.fit_transform([ting[1] for ting in cool_list])"
   ]
  },
  {
   "cell_type": "code",
   "execution_count": 97,
   "metadata": {},
   "outputs": [],
   "source": [
    "from bokeh.plotting import figure, show\n",
    "import matplotlib.pyplot as plt"
   ]
  },
  {
   "cell_type": "code",
   "execution_count": 98,
   "metadata": {},
   "outputs": [],
   "source": [
    "embed_dim = cool_list[0][1].shape[0]\n"
   ]
  },
  {
   "cell_type": "code",
   "execution_count": 99,
   "metadata": {},
   "outputs": [
    {
     "data": {
      "text/html": [
       "<div style=\"display: table;\"><div style=\"display: table-row;\"><div style=\"display: table-cell;\"><b title=\"bokeh.models.renderers.GlyphRenderer\">GlyphRenderer</b>(</div><div style=\"display: table-cell;\">id&nbsp;=&nbsp;'8d0b200c-a2b3-42e3-928b-bf13c032aaf1', <span id=\"7b0f0d0b-07fd-4851-9959-39dc355844d8\" style=\"cursor: pointer;\">&hellip;)</span></div></div><div class=\"421bebb9-2677-4ebd-a268-2b9820e7a7a1\" style=\"display: none;\"><div style=\"display: table-cell;\"></div><div style=\"display: table-cell;\">data_source&nbsp;=&nbsp;ColumnDataSource(id='2e0f588b-8ee7-4c5c-a9b8-3351e79f0e0c', ...),</div></div><div class=\"421bebb9-2677-4ebd-a268-2b9820e7a7a1\" style=\"display: none;\"><div style=\"display: table-cell;\"></div><div style=\"display: table-cell;\">glyph&nbsp;=&nbsp;Circle(id='7a28b3a6-ea2f-4953-8817-a97a84244cee', ...),</div></div><div class=\"421bebb9-2677-4ebd-a268-2b9820e7a7a1\" style=\"display: none;\"><div style=\"display: table-cell;\"></div><div style=\"display: table-cell;\">hover_glyph&nbsp;=&nbsp;None,</div></div><div class=\"421bebb9-2677-4ebd-a268-2b9820e7a7a1\" style=\"display: none;\"><div style=\"display: table-cell;\"></div><div style=\"display: table-cell;\">js_event_callbacks&nbsp;=&nbsp;{},</div></div><div class=\"421bebb9-2677-4ebd-a268-2b9820e7a7a1\" style=\"display: none;\"><div style=\"display: table-cell;\"></div><div style=\"display: table-cell;\">js_property_callbacks&nbsp;=&nbsp;{},</div></div><div class=\"421bebb9-2677-4ebd-a268-2b9820e7a7a1\" style=\"display: none;\"><div style=\"display: table-cell;\"></div><div style=\"display: table-cell;\">level&nbsp;=&nbsp;'glyph',</div></div><div class=\"421bebb9-2677-4ebd-a268-2b9820e7a7a1\" style=\"display: none;\"><div style=\"display: table-cell;\"></div><div style=\"display: table-cell;\">muted&nbsp;=&nbsp;False,</div></div><div class=\"421bebb9-2677-4ebd-a268-2b9820e7a7a1\" style=\"display: none;\"><div style=\"display: table-cell;\"></div><div style=\"display: table-cell;\">muted_glyph&nbsp;=&nbsp;None,</div></div><div class=\"421bebb9-2677-4ebd-a268-2b9820e7a7a1\" style=\"display: none;\"><div style=\"display: table-cell;\"></div><div style=\"display: table-cell;\">name&nbsp;=&nbsp;None,</div></div><div class=\"421bebb9-2677-4ebd-a268-2b9820e7a7a1\" style=\"display: none;\"><div style=\"display: table-cell;\"></div><div style=\"display: table-cell;\">nonselection_glyph&nbsp;=&nbsp;Circle(id='64a71536-46d4-47a1-8857-075ca399b6f2', ...),</div></div><div class=\"421bebb9-2677-4ebd-a268-2b9820e7a7a1\" style=\"display: none;\"><div style=\"display: table-cell;\"></div><div style=\"display: table-cell;\">selection_glyph&nbsp;=&nbsp;None,</div></div><div class=\"421bebb9-2677-4ebd-a268-2b9820e7a7a1\" style=\"display: none;\"><div style=\"display: table-cell;\"></div><div style=\"display: table-cell;\">subscribed_events&nbsp;=&nbsp;[],</div></div><div class=\"421bebb9-2677-4ebd-a268-2b9820e7a7a1\" style=\"display: none;\"><div style=\"display: table-cell;\"></div><div style=\"display: table-cell;\">tags&nbsp;=&nbsp;[],</div></div><div class=\"421bebb9-2677-4ebd-a268-2b9820e7a7a1\" style=\"display: none;\"><div style=\"display: table-cell;\"></div><div style=\"display: table-cell;\">view&nbsp;=&nbsp;CDSView(id='50e2dba7-ba3a-4969-ab38-4eb259394773', ...),</div></div><div class=\"421bebb9-2677-4ebd-a268-2b9820e7a7a1\" style=\"display: none;\"><div style=\"display: table-cell;\"></div><div style=\"display: table-cell;\">visible&nbsp;=&nbsp;True,</div></div><div class=\"421bebb9-2677-4ebd-a268-2b9820e7a7a1\" style=\"display: none;\"><div style=\"display: table-cell;\"></div><div style=\"display: table-cell;\">x_range_name&nbsp;=&nbsp;'default',</div></div><div class=\"421bebb9-2677-4ebd-a268-2b9820e7a7a1\" style=\"display: none;\"><div style=\"display: table-cell;\"></div><div style=\"display: table-cell;\">y_range_name&nbsp;=&nbsp;'default')</div></div></div>\n",
       "<script>\n",
       "(function() {\n",
       "  var expanded = false;\n",
       "  var ellipsis = document.getElementById(\"7b0f0d0b-07fd-4851-9959-39dc355844d8\");\n",
       "  ellipsis.addEventListener(\"click\", function() {\n",
       "    var rows = document.getElementsByClassName(\"421bebb9-2677-4ebd-a268-2b9820e7a7a1\");\n",
       "    for (var i = 0; i < rows.length; i++) {\n",
       "      var el = rows[i];\n",
       "      el.style.display = expanded ? \"none\" : \"table-row\";\n",
       "    }\n",
       "    ellipsis.innerHTML = expanded ? \"&hellip;)\" : \"&lsaquo;&lsaquo;&lsaquo;\";\n",
       "    expanded = !expanded;\n",
       "  });\n",
       "})();\n",
       "</script>\n"
      ],
      "text/plain": [
       "bokeh.models.renderers.GlyphRenderer(\n",
       "    id='8d0b200c-a2b3-42e3-928b-bf13c032aaf1',\n",
       "    data_source=bokeh.models.sources.ColumnDataSource(\n",
       "        id='2e0f588b-8ee7-4c5c-a9b8-3351e79f0e0c',\n",
       "        callback=None,\n",
       "        data={},\n",
       "        js_event_callbacks={},\n",
       "        js_property_callbacks={},\n",
       "        name=None,\n",
       "        selected=bokeh.models.selections.Selection(\n",
       "            id='c17dfdcc-5908-4cd3-bdca-3e5fa448eb06',\n",
       "            indices=[],\n",
       "            js_event_callbacks={},\n",
       "            js_property_callbacks={},\n",
       "            line_indices=[],\n",
       "            multiline_indices={},\n",
       "            name=None,\n",
       "            subscribed_events=[],\n",
       "            tags=[]),\n",
       "        selection_policy=bokeh.models.selections.UnionRenderers(\n",
       "            id='f7eb3949-fe95-4d43-a25b-fdbbe27ee0ae',\n",
       "            js_event_callbacks={},\n",
       "            js_property_callbacks={},\n",
       "            name=None,\n",
       "            subscribed_events=[],\n",
       "            tags=[]),\n",
       "        subscribed_events=[],\n",
       "        tags=[]),\n",
       "    glyph=bokeh.models.markers.Circle(\n",
       "        id='7a28b3a6-ea2f-4953-8817-a97a84244cee',\n",
       "        angle={'value': 0.0, 'units': 'rad'},\n",
       "        fill_alpha={'value': 1.0},\n",
       "        fill_color={'value': 'red'},\n",
       "        js_event_callbacks={},\n",
       "        js_property_callbacks={},\n",
       "        line_alpha={'value': 1.0},\n",
       "        line_cap='butt',\n",
       "        line_color={'value': 'red'},\n",
       "        line_dash=[],\n",
       "        line_dash_offset=0,\n",
       "        line_join='bevel',\n",
       "        line_width={'value': 1},\n",
       "        name=None,\n",
       "        radius=None,\n",
       "        radius_dimension='x',\n",
       "        size={'value': 10, 'units': 'screen'},\n",
       "        subscribed_events=[],\n",
       "        tags=[],\n",
       "        x={'value': -0.21638337067881894},\n",
       "        y={'value': -0.012598691870014252}),\n",
       "    hover_glyph=None,\n",
       "    js_event_callbacks={},\n",
       "    js_property_callbacks={},\n",
       "    level='glyph',\n",
       "    muted=False,\n",
       "    muted_glyph=None,\n",
       "    name=None,\n",
       "    nonselection_glyph=bokeh.models.markers.Circle(\n",
       "        id='64a71536-46d4-47a1-8857-075ca399b6f2',\n",
       "        angle={'value': 0.0, 'units': 'rad'},\n",
       "        fill_alpha={'value': 0.1},\n",
       "        fill_color={'value': '#1f77b4'},\n",
       "        js_event_callbacks={},\n",
       "        js_property_callbacks={},\n",
       "        line_alpha={'value': 0.1},\n",
       "        line_cap='butt',\n",
       "        line_color={'value': '#1f77b4'},\n",
       "        line_dash=[],\n",
       "        line_dash_offset=0,\n",
       "        line_join='bevel',\n",
       "        line_width={'value': 1},\n",
       "        name=None,\n",
       "        radius=None,\n",
       "        radius_dimension='x',\n",
       "        size={'value': 10, 'units': 'screen'},\n",
       "        subscribed_events=[],\n",
       "        tags=[],\n",
       "        x={'value': -0.21638337067881894},\n",
       "        y={'value': -0.012598691870014252}),\n",
       "    selection_glyph=None,\n",
       "    subscribed_events=[],\n",
       "    tags=[],\n",
       "    view=bokeh.models.sources.CDSView(\n",
       "        id='50e2dba7-ba3a-4969-ab38-4eb259394773',\n",
       "        filters=[],\n",
       "        js_event_callbacks={},\n",
       "        js_property_callbacks={},\n",
       "        name=None,\n",
       "        source=bokeh.models.sources.ColumnDataSource(\n",
       "            id='2e0f588b-8ee7-4c5c-a9b8-3351e79f0e0c',\n",
       "            callback=None,\n",
       "            data={},\n",
       "            js_event_callbacks={},\n",
       "            js_property_callbacks={},\n",
       "            name=None,\n",
       "            selected=bokeh.models.selections.Selection(\n",
       "                id='c17dfdcc-5908-4cd3-bdca-3e5fa448eb06',\n",
       "                indices=[],\n",
       "                js_event_callbacks={},\n",
       "                js_property_callbacks={},\n",
       "                line_indices=[],\n",
       "                multiline_indices={},\n",
       "                name=None,\n",
       "                subscribed_events=[],\n",
       "                tags=[]),\n",
       "            selection_policy=bokeh.models.selections.UnionRenderers(\n",
       "                id='f7eb3949-fe95-4d43-a25b-fdbbe27ee0ae',\n",
       "                js_event_callbacks={},\n",
       "                js_property_callbacks={},\n",
       "                name=None,\n",
       "                subscribed_events=[],\n",
       "                tags=[]),\n",
       "            subscribed_events=[],\n",
       "            tags=[]),\n",
       "        subscribed_events=[],\n",
       "        tags=[]),\n",
       "    visible=True,\n",
       "    x_range_name='default',\n",
       "    y_range_name='default')"
      ]
     },
     "execution_count": 99,
     "metadata": {},
     "output_type": "execute_result"
    }
   ],
   "source": [
    "from bokeh.plotting import figure, output_file, show, ColumnDataSource\n",
    "from bokeh.models import HoverTool, Arrow, OpenHead\n",
    "\n",
    "hover = HoverTool(tooltips=[(\"true action\",\"@desc\"), (\"prediction\", \"@pred\"),\n",
    "                            (\"not_skip_gate\", \"@not_skip\")],names=['circle'])\n",
    "p = figure( tools=[hover])\n",
    "\n",
    "for i in range(1, len(X)):\n",
    "    p.add_layout(Arrow(end=OpenHead(line_color=\"firebrick\", size=10, line_width=2),\n",
    "                       x_start=X[i-1,0], y_start=X[i-1,1],\n",
    "                       x_end=X[i,0], y_end=X[i,1], line_color='gray'))\n",
    "\n",
    "source = ColumnDataSource(data=dict(\n",
    "    x=X[:,0],\n",
    "    y=X[:,1],\n",
    "    desc=[ting[0] for ting in cool_list],\n",
    "    pred = [ting[2][0] for ting in cool_list],\n",
    "    not_skip = [ting[3][-1] for ting in cool_list]\n",
    "))\n",
    "p.circle('x','y', source=source, size=10, name='circle')\n",
    "# p.line(X[:,0], X[:,1])\n",
    "\n",
    "X1 = pca.transform([ting[4] for ting in cool_list])\n",
    "source = ColumnDataSource(data=dict(\n",
    "    x=X1[:,0],\n",
    "    y=X1[:,1],\n",
    "    desc=[ting[0] for ting in cool_list],\n",
    "    pred = [ting[2][0] for ting in cool_list],\n",
    "    not_skip = [ting[3][-1] for ting in cool_list]\n",
    "))\n",
    "p.circle('x','y', source=source, size=5, color='green', name='circle')\n",
    "\n",
    "X2 = pca.transform([ting[5] for ting in cool_list])\n",
    "source = ColumnDataSource(data=dict(\n",
    "    x=X2[:,0],\n",
    "    y=X2[:,1],\n",
    "    desc=[ting[0] for ting in cool_list],\n",
    "    pred = [ting[2][0] for ting in cool_list],\n",
    "    not_skip = [ting[3][-1] for ting in cool_list]\n",
    "))\n",
    "p.circle('x','y', source=source, size=5, color='red', name='circle')\n",
    "\n",
    "x = pca.transform(np.zeros((1,embed_dim)))\n",
    "p.circle(x[0,0], x[0,1], size=5, color='magenta')\n",
    "p.circle(X[0,0], X[0,1], size=10, color='green')\n",
    "p.circle(X[-1,0], X[-1,1], size=10, color='red')\n"
   ]
  },
  {
   "cell_type": "code",
   "execution_count": 100,
   "metadata": {
    "scrolled": false
   },
   "outputs": [
    {
     "data": {
      "text/html": [
       "\n",
       "\n",
       "\n",
       "\n",
       "\n",
       "\n",
       "  <div class=\"bk-root\" id=\"3dabb128-b850-4cc5-82e4-84a53fb869c3\"></div>\n"
      ]
     },
     "metadata": {},
     "output_type": "display_data"
    },
    {
     "data": {
      "application/javascript": [
       "(function(root) {\n",
       "  function embed_document(root) {\n",
       "    \n",
       "  var docs_json = {\"cc53f1a8-e3e7-45ef-a6cd-44a544636b57\":{\"roots\":{\"references\":[{\"attributes\":{\"fill_color\":{\"value\":\"green\"},\"line_color\":{\"value\":\"green\"},\"size\":{\"units\":\"screen\",\"value\":5},\"x\":{\"field\":\"x\"},\"y\":{\"field\":\"y\"}},\"id\":\"d24ecdaa-43d3-4962-bedb-83b2e0e08c12\",\"type\":\"Circle\"},{\"attributes\":{\"fill_color\":{\"value\":\"red\"},\"line_color\":{\"value\":\"red\"},\"size\":{\"units\":\"screen\",\"value\":10},\"x\":{\"value\":-0.21638337067881894},\"y\":{\"value\":-0.012598691870014252}},\"id\":\"7a28b3a6-ea2f-4953-8817-a97a84244cee\",\"type\":\"Circle\"},{\"attributes\":{\"line_color\":{\"value\":\"firebrick\"},\"line_width\":{\"value\":2},\"plot\":null,\"size\":10},\"id\":\"fed1224e-b91c-40fa-9dc2-a73a89178386\",\"type\":\"OpenHead\"},{\"attributes\":{\"end\":{\"id\":\"8eafac79-ce5d-42be-a962-4cade39576f4\",\"type\":\"OpenHead\"},\"line_color\":{\"value\":\"gray\"},\"plot\":{\"id\":\"506bf2dd-c1fa-48d1-beeb-de70920a2021\",\"subtype\":\"Figure\",\"type\":\"Plot\"},\"source\":null,\"start\":null,\"x_end\":{\"value\":-0.22260822493486912},\"x_start\":{\"value\":-0.31345484267939006},\"y_end\":{\"value\":-0.3065563783179581},\"y_start\":{\"value\":-0.30455062422760293}},\"id\":\"3723bffe-887f-4796-b0a0-c75435badd78\",\"type\":\"Arrow\"},{\"attributes\":{\"fill_alpha\":{\"value\":0.1},\"fill_color\":{\"value\":\"#1f77b4\"},\"line_alpha\":{\"value\":0.1},\"line_color\":{\"value\":\"#1f77b4\"},\"size\":{\"units\":\"screen\",\"value\":10},\"x\":{\"value\":-0.21638337067881894},\"y\":{\"value\":-0.012598691870014252}},\"id\":\"64a71536-46d4-47a1-8857-075ca399b6f2\",\"type\":\"Circle\"},{\"attributes\":{},\"id\":\"f0b8ea71-02e7-4a60-b3a3-bce20413726c\",\"type\":\"Selection\"},{\"attributes\":{\"data_source\":{\"id\":\"2e0f588b-8ee7-4c5c-a9b8-3351e79f0e0c\",\"type\":\"ColumnDataSource\"},\"glyph\":{\"id\":\"7a28b3a6-ea2f-4953-8817-a97a84244cee\",\"type\":\"Circle\"},\"hover_glyph\":null,\"muted_glyph\":null,\"nonselection_glyph\":{\"id\":\"64a71536-46d4-47a1-8857-075ca399b6f2\",\"type\":\"Circle\"},\"selection_glyph\":null,\"view\":{\"id\":\"50e2dba7-ba3a-4969-ab38-4eb259394773\",\"type\":\"CDSView\"}},\"id\":\"8d0b200c-a2b3-42e3-928b-bf13c032aaf1\",\"type\":\"GlyphRenderer\"},{\"attributes\":{\"line_color\":{\"value\":\"firebrick\"},\"line_width\":{\"value\":2},\"plot\":null,\"size\":10},\"id\":\"c1bf4e12-af4a-4a19-942b-c5eecab07fde\",\"type\":\"OpenHead\"},{\"attributes\":{\"end\":{\"id\":\"fed1224e-b91c-40fa-9dc2-a73a89178386\",\"type\":\"OpenHead\"},\"line_color\":{\"value\":\"gray\"},\"plot\":{\"id\":\"506bf2dd-c1fa-48d1-beeb-de70920a2021\",\"subtype\":\"Figure\",\"type\":\"Plot\"},\"source\":null,\"start\":null,\"x_end\":{\"value\":-0.2568071520920238},\"x_start\":{\"value\":-0.22260822493486912},\"y_end\":{\"value\":-0.1950702546237571},\"y_start\":{\"value\":-0.3065563783179581}},\"id\":\"e8451a50-9e48-49d9-ab76-7d8acc32ce37\",\"type\":\"Arrow\"},{\"attributes\":{\"source\":{\"id\":\"2e0f588b-8ee7-4c5c-a9b8-3351e79f0e0c\",\"type\":\"ColumnDataSource\"}},\"id\":\"50e2dba7-ba3a-4969-ab38-4eb259394773\",\"type\":\"CDSView\"},{\"attributes\":{},\"id\":\"a1cdc9ea-cd16-463b-99a2-f93075157a67\",\"type\":\"UnionRenderers\"},{\"attributes\":{\"line_color\":{\"value\":\"firebrick\"},\"line_width\":{\"value\":2},\"plot\":null,\"size\":10},\"id\":\"5304a9d6-13e2-43ec-a748-24cd3b39a7ee\",\"type\":\"OpenHead\"},{\"attributes\":{\"end\":{\"id\":\"c1bf4e12-af4a-4a19-942b-c5eecab07fde\",\"type\":\"OpenHead\"},\"line_color\":{\"value\":\"gray\"},\"plot\":{\"id\":\"506bf2dd-c1fa-48d1-beeb-de70920a2021\",\"subtype\":\"Figure\",\"type\":\"Plot\"},\"source\":null,\"start\":null,\"x_end\":{\"value\":-0.20431953298504674},\"x_start\":{\"value\":-0.2568071520920238},\"y_end\":{\"value\":-0.17468599263223192},\"y_start\":{\"value\":-0.1950702546237571}},\"id\":\"e674e2ad-dddf-4631-87cd-a9fa80aa3d42\",\"type\":\"Arrow\"},{\"attributes\":{\"line_color\":{\"value\":\"firebrick\"},\"line_width\":{\"value\":2},\"plot\":null,\"size\":10},\"id\":\"7a2e4353-f7c0-4a75-9820-e16f310cdb8a\",\"type\":\"OpenHead\"},{\"attributes\":{\"end\":{\"id\":\"5304a9d6-13e2-43ec-a748-24cd3b39a7ee\",\"type\":\"OpenHead\"},\"line_color\":{\"value\":\"gray\"},\"plot\":{\"id\":\"506bf2dd-c1fa-48d1-beeb-de70920a2021\",\"subtype\":\"Figure\",\"type\":\"Plot\"},\"source\":null,\"start\":null,\"x_end\":{\"value\":-0.2943741714264287},\"x_start\":{\"value\":-0.20431953298504674},\"y_end\":{\"value\":-0.19731134040677273},\"y_start\":{\"value\":-0.17468599263223192}},\"id\":\"0a98732c-f462-4dde-b5a6-d5c35f4d1042\",\"type\":\"Arrow\"},{\"attributes\":{},\"id\":\"705c3931-15d8-46e6-8e56-cc99ed610286\",\"type\":\"UnionRenderers\"},{\"attributes\":{\"line_color\":{\"value\":\"firebrick\"},\"line_width\":{\"value\":2},\"plot\":null,\"size\":10},\"id\":\"1c5bce53-0587-45ac-acdb-bd1a7a90c568\",\"type\":\"OpenHead\"},{\"attributes\":{\"end\":{\"id\":\"7a2e4353-f7c0-4a75-9820-e16f310cdb8a\",\"type\":\"OpenHead\"},\"line_color\":{\"value\":\"gray\"},\"plot\":{\"id\":\"506bf2dd-c1fa-48d1-beeb-de70920a2021\",\"subtype\":\"Figure\",\"type\":\"Plot\"},\"source\":null,\"start\":null,\"x_end\":{\"value\":-0.17794829541662227},\"x_start\":{\"value\":-0.2943741714264287},\"y_end\":{\"value\":0.6832148271940991},\"y_start\":{\"value\":-0.19731134040677273}},\"id\":\"58c5a9f2-f933-4e0b-a50c-7893a6b0290e\",\"type\":\"Arrow\"},{\"attributes\":{},\"id\":\"dc82c89b-b4be-486a-87d8-d683dc1a899c\",\"type\":\"Selection\"},{\"attributes\":{\"line_color\":{\"value\":\"firebrick\"},\"line_width\":{\"value\":2},\"plot\":null,\"size\":10},\"id\":\"6b2a77a5-1906-4bda-a200-9209180e42eb\",\"type\":\"OpenHead\"},{\"attributes\":{\"end\":{\"id\":\"1c5bce53-0587-45ac-acdb-bd1a7a90c568\",\"type\":\"OpenHead\"},\"line_color\":{\"value\":\"gray\"},\"plot\":{\"id\":\"506bf2dd-c1fa-48d1-beeb-de70920a2021\",\"subtype\":\"Figure\",\"type\":\"Plot\"},\"source\":null,\"start\":null,\"x_end\":{\"value\":0.8576920207326393},\"x_start\":{\"value\":-0.17794829541662227},\"y_end\":{\"value\":0.01900933447350078},\"y_start\":{\"value\":0.6832148271940991}},\"id\":\"f9cc0410-971a-4e42-8db2-b2f8f9c2d238\",\"type\":\"Arrow\"},{\"attributes\":{\"line_color\":{\"value\":\"firebrick\"},\"line_width\":{\"value\":2},\"plot\":null,\"size\":10},\"id\":\"72986ca4-0910-4558-a63d-c6c59d4106b5\",\"type\":\"OpenHead\"},{\"attributes\":{\"end\":{\"id\":\"6b2a77a5-1906-4bda-a200-9209180e42eb\",\"type\":\"OpenHead\"},\"line_color\":{\"value\":\"gray\"},\"plot\":{\"id\":\"506bf2dd-c1fa-48d1-beeb-de70920a2021\",\"subtype\":\"Figure\",\"type\":\"Plot\"},\"source\":null,\"start\":null,\"x_end\":{\"value\":-0.12909417958145966},\"x_start\":{\"value\":0.8576920207326393},\"y_end\":{\"value\":0.26490501600626776},\"y_start\":{\"value\":0.01900933447350078}},\"id\":\"f0f6251a-1628-4e26-a9e4-49f00a30337b\",\"type\":\"Arrow\"},{\"attributes\":{\"indices\":[],\"line_indices\":[]},\"id\":\"c17dfdcc-5908-4cd3-bdca-3e5fa448eb06\",\"type\":\"Selection\"},{\"attributes\":{\"plot\":null,\"text\":\"\"},\"id\":\"18d17053-b625-45d7-85df-f4d3058de40f\",\"type\":\"Title\"},{\"attributes\":{\"line_color\":{\"value\":\"firebrick\"},\"line_width\":{\"value\":2},\"plot\":null,\"size\":10},\"id\":\"8bee26a3-38b6-4cb0-a09f-3eb1d8d52cfe\",\"type\":\"OpenHead\"},{\"attributes\":{\"end\":{\"id\":\"72986ca4-0910-4558-a63d-c6c59d4106b5\",\"type\":\"OpenHead\"},\"line_color\":{\"value\":\"gray\"},\"plot\":{\"id\":\"506bf2dd-c1fa-48d1-beeb-de70920a2021\",\"subtype\":\"Figure\",\"type\":\"Plot\"},\"source\":null,\"start\":null,\"x_end\":{\"value\":0.840542201376419},\"x_start\":{\"value\":-0.12909417958145966},\"y_end\":{\"value\":0.03441597981292606},\"y_start\":{\"value\":0.26490501600626776}},\"id\":\"4708f316-5417-4317-8843-162bb6e6f3d7\",\"type\":\"Arrow\"},{\"attributes\":{},\"id\":\"f7eb3949-fe95-4d43-a25b-fdbbe27ee0ae\",\"type\":\"UnionRenderers\"},{\"attributes\":{\"line_color\":{\"value\":\"firebrick\"},\"line_width\":{\"value\":2},\"plot\":null,\"size\":10},\"id\":\"812d2947-4e37-476f-80ed-d5c013417506\",\"type\":\"OpenHead\"},{\"attributes\":{\"end\":{\"id\":\"8bee26a3-38b6-4cb0-a09f-3eb1d8d52cfe\",\"type\":\"OpenHead\"},\"line_color\":{\"value\":\"gray\"},\"plot\":{\"id\":\"506bf2dd-c1fa-48d1-beeb-de70920a2021\",\"subtype\":\"Figure\",\"type\":\"Plot\"},\"source\":null,\"start\":null,\"x_end\":{\"value\":-0.14166641407555378},\"x_start\":{\"value\":0.840542201376419},\"y_end\":{\"value\":0.2588057175831266},\"y_start\":{\"value\":0.03441597981292606}},\"id\":\"643d3d6c-0a21-4212-ab93-9cb3794e07ce\",\"type\":\"Arrow\"},{\"attributes\":{\"line_color\":{\"value\":\"firebrick\"},\"line_width\":{\"value\":2},\"plot\":null,\"size\":10},\"id\":\"d82c8eba-2d47-4366-8b09-69864b852630\",\"type\":\"OpenHead\"},{\"attributes\":{\"end\":{\"id\":\"812d2947-4e37-476f-80ed-d5c013417506\",\"type\":\"OpenHead\"},\"line_color\":{\"value\":\"gray\"},\"plot\":{\"id\":\"506bf2dd-c1fa-48d1-beeb-de70920a2021\",\"subtype\":\"Figure\",\"type\":\"Plot\"},\"source\":null,\"start\":null,\"x_end\":{\"value\":0.8304854983183341},\"x_start\":{\"value\":-0.14166641407555378},\"y_end\":{\"value\":0.013129290287685166},\"y_start\":{\"value\":0.2588057175831266}},\"id\":\"18dcda50-1cef-44ea-958d-7da953002afb\",\"type\":\"Arrow\"},{\"attributes\":{\"line_color\":{\"value\":\"firebrick\"},\"line_width\":{\"value\":2},\"plot\":null,\"size\":10},\"id\":\"c5f7b3c6-d1d4-4287-8b0e-6b0f4a22035e\",\"type\":\"OpenHead\"},{\"attributes\":{\"end\":{\"id\":\"d82c8eba-2d47-4366-8b09-69864b852630\",\"type\":\"OpenHead\"},\"line_color\":{\"value\":\"gray\"},\"plot\":{\"id\":\"506bf2dd-c1fa-48d1-beeb-de70920a2021\",\"subtype\":\"Figure\",\"type\":\"Plot\"},\"source\":null,\"start\":null,\"x_end\":{\"value\":-0.15285150903095238},\"x_start\":{\"value\":0.8304854983183341},\"y_end\":{\"value\":0.23730430023642674},\"y_start\":{\"value\":0.013129290287685166}},\"id\":\"01fc6b81-96c3-486a-93f1-c8b0df65127f\",\"type\":\"Arrow\"},{\"attributes\":{\"line_color\":{\"value\":\"firebrick\"},\"line_width\":{\"value\":2},\"plot\":null,\"size\":10},\"id\":\"082e3886-6451-452f-81e9-b839c62c3264\",\"type\":\"OpenHead\"},{\"attributes\":{},\"id\":\"1f97ad74-12a5-4fc5-b980-d3e8bd475862\",\"type\":\"UnionRenderers\"},{\"attributes\":{\"end\":{\"id\":\"c5f7b3c6-d1d4-4287-8b0e-6b0f4a22035e\",\"type\":\"OpenHead\"},\"line_color\":{\"value\":\"gray\"},\"plot\":{\"id\":\"506bf2dd-c1fa-48d1-beeb-de70920a2021\",\"subtype\":\"Figure\",\"type\":\"Plot\"},\"source\":null,\"start\":null,\"x_end\":{\"value\":0.8202603507491331},\"x_start\":{\"value\":-0.15285150903095238},\"y_end\":{\"value\":-0.017939964007739496},\"y_start\":{\"value\":0.23730430023642674}},\"id\":\"6cd39d31-3ad0-407e-8c39-0acd2533f135\",\"type\":\"Arrow\"},{\"attributes\":{\"line_color\":{\"value\":\"firebrick\"},\"line_width\":{\"value\":2},\"plot\":null,\"size\":10},\"id\":\"4a633f92-8777-4d10-9d2a-6d7a5bf1bf52\",\"type\":\"OpenHead\"},{\"attributes\":{\"end\":{\"id\":\"a5d4b20f-93c9-486d-97f0-63757ad1ea82\",\"type\":\"OpenHead\"},\"line_color\":{\"value\":\"gray\"},\"plot\":{\"id\":\"506bf2dd-c1fa-48d1-beeb-de70920a2021\",\"subtype\":\"Figure\",\"type\":\"Plot\"},\"source\":null,\"start\":null,\"x_end\":{\"value\":-0.20862525118478437},\"x_start\":{\"value\":-0.2190955223316084},\"y_end\":{\"value\":-0.13109464213313085},\"y_start\":{\"value\":-0.15907569897966822}},\"id\":\"95bc9828-b833-4e05-b575-581e6ef41975\",\"type\":\"Arrow\"},{\"attributes\":{\"end\":{\"id\":\"082e3886-6451-452f-81e9-b839c62c3264\",\"type\":\"OpenHead\"},\"line_color\":{\"value\":\"gray\"},\"plot\":{\"id\":\"506bf2dd-c1fa-48d1-beeb-de70920a2021\",\"subtype\":\"Figure\",\"type\":\"Plot\"},\"source\":null,\"start\":null,\"x_end\":{\"value\":-0.16855701125172048},\"x_start\":{\"value\":0.8202603507491331},\"y_end\":{\"value\":0.211750868491136},\"y_start\":{\"value\":-0.017939964007739496}},\"id\":\"f49acadc-ead9-48d5-b6b4-1870de881ce0\",\"type\":\"Arrow\"},{\"attributes\":{\"line_color\":{\"value\":\"firebrick\"},\"line_width\":{\"value\":2},\"plot\":null,\"size\":10},\"id\":\"e1b1aa1e-4980-456e-8091-33aa1ea83e41\",\"type\":\"OpenHead\"},{\"attributes\":{\"end\":{\"id\":\"4a633f92-8777-4d10-9d2a-6d7a5bf1bf52\",\"type\":\"OpenHead\"},\"line_color\":{\"value\":\"gray\"},\"plot\":{\"id\":\"506bf2dd-c1fa-48d1-beeb-de70920a2021\",\"subtype\":\"Figure\",\"type\":\"Plot\"},\"source\":null,\"start\":null,\"x_end\":{\"value\":-0.2113948958630734},\"x_start\":{\"value\":-0.16855701125172048},\"y_end\":{\"value\":0.23636538581359165},\"y_start\":{\"value\":0.211750868491136}},\"id\":\"3cbdd15a-5d10-48a7-b24f-86910952f1da\",\"type\":\"Arrow\"},{\"attributes\":{\"line_color\":{\"value\":\"firebrick\"},\"line_width\":{\"value\":2},\"plot\":null,\"size\":10},\"id\":\"618be857-8163-4a56-9930-637aa9c7afc3\",\"type\":\"OpenHead\"},{\"attributes\":{},\"id\":\"2596756e-6dd5-4878-8f47-4bb03eecbe56\",\"type\":\"Selection\"},{\"attributes\":{\"end\":{\"id\":\"e1b1aa1e-4980-456e-8091-33aa1ea83e41\",\"type\":\"OpenHead\"},\"line_color\":{\"value\":\"gray\"},\"plot\":{\"id\":\"506bf2dd-c1fa-48d1-beeb-de70920a2021\",\"subtype\":\"Figure\",\"type\":\"Plot\"},\"source\":null,\"start\":null,\"x_end\":{\"value\":-0.20920616225875394},\"x_start\":{\"value\":-0.2113948958630734},\"y_end\":{\"value\":0.5887679410926475},\"y_start\":{\"value\":0.23636538581359165}},\"id\":\"57fab555-5f9b-444a-8f72-fcd8d3d7d0ed\",\"type\":\"Arrow\"},{\"attributes\":{\"line_color\":{\"value\":\"firebrick\"},\"line_width\":{\"value\":2},\"plot\":null,\"size\":10},\"id\":\"a5d4b20f-93c9-486d-97f0-63757ad1ea82\",\"type\":\"OpenHead\"},{\"attributes\":{\"line_color\":{\"value\":\"firebrick\"},\"line_width\":{\"value\":2},\"plot\":null,\"size\":10},\"id\":\"ea8c1e01-4d6f-48ba-8baf-9eab3f4608b0\",\"type\":\"OpenHead\"},{\"attributes\":{\"end\":{\"id\":\"4baebc37-c369-462e-9f17-fac255b78cc2\",\"type\":\"OpenHead\"},\"line_color\":{\"value\":\"gray\"},\"plot\":{\"id\":\"506bf2dd-c1fa-48d1-beeb-de70920a2021\",\"subtype\":\"Figure\",\"type\":\"Plot\"},\"source\":null,\"start\":null,\"x_end\":{\"value\":-0.31345484267939006},\"x_start\":{\"value\":-0.20862525118478437},\"y_end\":{\"value\":-0.30455062422760293},\"y_start\":{\"value\":-0.13109464213313085}},\"id\":\"b01e8b13-170c-4629-8787-1a7d8e805d8d\",\"type\":\"Arrow\"},{\"attributes\":{\"end\":{\"id\":\"618be857-8163-4a56-9930-637aa9c7afc3\",\"type\":\"OpenHead\"},\"line_color\":{\"value\":\"gray\"},\"plot\":{\"id\":\"506bf2dd-c1fa-48d1-beeb-de70920a2021\",\"subtype\":\"Figure\",\"type\":\"Plot\"},\"source\":null,\"start\":null,\"x_end\":{\"value\":-0.1950064791773719},\"x_start\":{\"value\":-0.20920616225875394},\"y_end\":{\"value\":0.011030133578568786},\"y_start\":{\"value\":0.5887679410926475}},\"id\":\"1021f51f-c8b1-4b3d-9bb7-b29525f2d11f\",\"type\":\"Arrow\"},{\"attributes\":{\"line_color\":{\"value\":\"firebrick\"},\"line_width\":{\"value\":2},\"plot\":null,\"size\":10},\"id\":\"d5c5f577-6504-40e2-9978-a3ef7faf64c2\",\"type\":\"OpenHead\"},{\"attributes\":{\"end\":{\"id\":\"ea8c1e01-4d6f-48ba-8baf-9eab3f4608b0\",\"type\":\"OpenHead\"},\"line_color\":{\"value\":\"gray\"},\"plot\":{\"id\":\"506bf2dd-c1fa-48d1-beeb-de70920a2021\",\"subtype\":\"Figure\",\"type\":\"Plot\"},\"source\":null,\"start\":null,\"x_end\":{\"value\":-0.2093851930524444},\"x_start\":{\"value\":-0.1950064791773719},\"y_end\":{\"value\":-0.21025456996885508},\"y_start\":{\"value\":0.011030133578568786}},\"id\":\"80949b0b-e024-4f57-9028-47ffd7fd9093\",\"type\":\"Arrow\"},{\"attributes\":{\"line_color\":{\"value\":\"firebrick\"},\"line_width\":{\"value\":2},\"plot\":null,\"size\":10},\"id\":\"c2a9ed46-a249-4e34-a961-a4a6876e9f9c\",\"type\":\"OpenHead\"},{\"attributes\":{},\"id\":\"6151f38f-15c7-434c-8c2d-7d918ba7d60e\",\"type\":\"BasicTickFormatter\"},{\"attributes\":{},\"id\":\"dc2f68c5-0a06-4840-8616-528d540965d0\",\"type\":\"Selection\"},{\"attributes\":{\"end\":{\"id\":\"d5c5f577-6504-40e2-9978-a3ef7faf64c2\",\"type\":\"OpenHead\"},\"line_color\":{\"value\":\"gray\"},\"plot\":{\"id\":\"506bf2dd-c1fa-48d1-beeb-de70920a2021\",\"subtype\":\"Figure\",\"type\":\"Plot\"},\"source\":null,\"start\":null,\"x_end\":{\"value\":-0.5172608279500528},\"x_start\":{\"value\":-0.2093851930524444},\"y_end\":{\"value\":0.07238662202154826},\"y_start\":{\"value\":-0.21025456996885508}},\"id\":\"d478e8bf-d8bb-40d2-8322-36e7ebcf7947\",\"type\":\"Arrow\"},{\"attributes\":{},\"id\":\"f76d9ec2-eed0-4ead-8834-5f68bedd0c71\",\"type\":\"BasicTickFormatter\"},{\"attributes\":{\"line_color\":{\"value\":\"firebrick\"},\"line_width\":{\"value\":2},\"plot\":null,\"size\":10},\"id\":\"047983ae-8928-4bec-b1fc-c9c9c96a0ac1\",\"type\":\"OpenHead\"},{\"attributes\":{\"end\":{\"id\":\"c2a9ed46-a249-4e34-a961-a4a6876e9f9c\",\"type\":\"OpenHead\"},\"line_color\":{\"value\":\"gray\"},\"plot\":{\"id\":\"506bf2dd-c1fa-48d1-beeb-de70920a2021\",\"subtype\":\"Figure\",\"type\":\"Plot\"},\"source\":null,\"start\":null,\"x_end\":{\"value\":-0.28828722794992323},\"x_start\":{\"value\":-0.5172608279500528},\"y_end\":{\"value\":-0.23602653212834215},\"y_start\":{\"value\":0.07238662202154826}},\"id\":\"d73376f4-75b9-4504-834d-6ca0f5661c40\",\"type\":\"Arrow\"},{\"attributes\":{\"line_color\":{\"value\":\"firebrick\"},\"line_width\":{\"value\":2},\"plot\":null,\"size\":10},\"id\":\"610849a1-6bad-4442-8182-6bb9505681ba\",\"type\":\"OpenHead\"},{\"attributes\":{\"end\":{\"id\":\"047983ae-8928-4bec-b1fc-c9c9c96a0ac1\",\"type\":\"OpenHead\"},\"line_color\":{\"value\":\"gray\"},\"plot\":{\"id\":\"506bf2dd-c1fa-48d1-beeb-de70920a2021\",\"subtype\":\"Figure\",\"type\":\"Plot\"},\"source\":null,\"start\":null,\"x_end\":{\"value\":0.9229274639540538},\"x_start\":{\"value\":-0.28828722794992323},\"y_end\":{\"value\":-0.053344972949768275},\"y_start\":{\"value\":-0.23602653212834215}},\"id\":\"84e4ca68-9820-447c-9803-23109a19a454\",\"type\":\"Arrow\"},{\"attributes\":{\"line_color\":{\"value\":\"firebrick\"},\"line_width\":{\"value\":2},\"plot\":null,\"size\":10},\"id\":\"1d50799c-c9fb-4e99-bc83-cdb4bd37bf5f\",\"type\":\"OpenHead\"},{\"attributes\":{\"end\":{\"id\":\"610849a1-6bad-4442-8182-6bb9505681ba\",\"type\":\"OpenHead\"},\"line_color\":{\"value\":\"gray\"},\"plot\":{\"id\":\"506bf2dd-c1fa-48d1-beeb-de70920a2021\",\"subtype\":\"Figure\",\"type\":\"Plot\"},\"source\":null,\"start\":null,\"x_end\":{\"value\":-0.2772158056727258},\"x_start\":{\"value\":0.9229274639540538},\"y_end\":{\"value\":-0.29314566400044134},\"y_start\":{\"value\":-0.053344972949768275}},\"id\":\"b7a14042-a1bc-4bb3-b933-e4c2b87f979b\",\"type\":\"Arrow\"},{\"attributes\":{},\"id\":\"b83861ef-690b-462c-a4ab-6b2825f42a21\",\"type\":\"Selection\"},{\"attributes\":{\"fill_color\":{\"value\":\"#1f77b4\"},\"line_color\":{\"value\":\"#1f77b4\"},\"size\":{\"units\":\"screen\",\"value\":10},\"x\":{\"field\":\"x\"},\"y\":{\"field\":\"y\"}},\"id\":\"9fcfd100-871f-4228-90f8-15ba5b71d4e8\",\"type\":\"Circle\"},{\"attributes\":{\"end\":{\"id\":\"1d50799c-c9fb-4e99-bc83-cdb4bd37bf5f\",\"type\":\"OpenHead\"},\"line_color\":{\"value\":\"gray\"},\"plot\":{\"id\":\"506bf2dd-c1fa-48d1-beeb-de70920a2021\",\"subtype\":\"Figure\",\"type\":\"Plot\"},\"source\":null,\"start\":null,\"x_end\":{\"value\":-0.21638337067881894},\"x_start\":{\"value\":-0.2772158056727258},\"y_end\":{\"value\":-0.012598691870014252},\"y_start\":{\"value\":-0.29314566400044134}},\"id\":\"6ed86785-0e43-4077-9048-9ffa9f935cac\",\"type\":\"Arrow\"},{\"attributes\":{\"fill_alpha\":{\"value\":0.1},\"fill_color\":{\"value\":\"#1f77b4\"},\"line_alpha\":{\"value\":0.1},\"line_color\":{\"value\":\"#1f77b4\"},\"size\":{\"units\":\"screen\",\"value\":10},\"x\":{\"field\":\"x\"},\"y\":{\"field\":\"y\"}},\"id\":\"20d24496-0024-41a6-9d53-1ac32e8225d9\",\"type\":\"Circle\"},{\"attributes\":{\"data_source\":{\"id\":\"58f305d3-4e01-4318-a951-4ac3b911f121\",\"type\":\"ColumnDataSource\"},\"glyph\":{\"id\":\"9fcfd100-871f-4228-90f8-15ba5b71d4e8\",\"type\":\"Circle\"},\"hover_glyph\":null,\"muted_glyph\":null,\"name\":\"circle\",\"nonselection_glyph\":{\"id\":\"20d24496-0024-41a6-9d53-1ac32e8225d9\",\"type\":\"Circle\"},\"selection_glyph\":null,\"view\":{\"id\":\"22ee90dd-40d6-42c4-9b01-f64591ceb807\",\"type\":\"CDSView\"}},\"id\":\"6085868e-ee30-4f8e-aeeb-fbbb8785d61e\",\"type\":\"GlyphRenderer\"},{\"attributes\":{\"fill_color\":{\"value\":\"red\"},\"line_color\":{\"value\":\"red\"},\"size\":{\"units\":\"screen\",\"value\":5},\"x\":{\"field\":\"x\"},\"y\":{\"field\":\"y\"}},\"id\":\"748cea54-93ce-471e-9e52-6e9cbcf08f3f\",\"type\":\"Circle\"},{\"attributes\":{\"source\":{\"id\":\"58f305d3-4e01-4318-a951-4ac3b911f121\",\"type\":\"ColumnDataSource\"}},\"id\":\"22ee90dd-40d6-42c4-9b01-f64591ceb807\",\"type\":\"CDSView\"},{\"attributes\":{\"below\":[{\"id\":\"8bb7372c-e170-4725-8944-6ffc85e7cf72\",\"type\":\"LinearAxis\"}],\"left\":[{\"id\":\"6f8026ef-edf7-4fed-8e33-9e0ff4d5b792\",\"type\":\"LinearAxis\"}],\"renderers\":[{\"id\":\"8bb7372c-e170-4725-8944-6ffc85e7cf72\",\"type\":\"LinearAxis\"},{\"id\":\"53a12c8b-9122-42a6-a92c-567671d43684\",\"type\":\"Grid\"},{\"id\":\"6f8026ef-edf7-4fed-8e33-9e0ff4d5b792\",\"type\":\"LinearAxis\"},{\"id\":\"f2fec250-66e7-49bf-883b-62361b348d29\",\"type\":\"Grid\"},{\"id\":\"316b41ef-9a33-43b1-b2b0-38c6dd0f4933\",\"type\":\"Arrow\"},{\"id\":\"692a505f-2633-45e5-bd2a-cdeb81adc33e\",\"type\":\"Arrow\"},{\"id\":\"95bc9828-b833-4e05-b575-581e6ef41975\",\"type\":\"Arrow\"},{\"id\":\"b01e8b13-170c-4629-8787-1a7d8e805d8d\",\"type\":\"Arrow\"},{\"id\":\"3723bffe-887f-4796-b0a0-c75435badd78\",\"type\":\"Arrow\"},{\"id\":\"e8451a50-9e48-49d9-ab76-7d8acc32ce37\",\"type\":\"Arrow\"},{\"id\":\"e674e2ad-dddf-4631-87cd-a9fa80aa3d42\",\"type\":\"Arrow\"},{\"id\":\"0a98732c-f462-4dde-b5a6-d5c35f4d1042\",\"type\":\"Arrow\"},{\"id\":\"58c5a9f2-f933-4e0b-a50c-7893a6b0290e\",\"type\":\"Arrow\"},{\"id\":\"f9cc0410-971a-4e42-8db2-b2f8f9c2d238\",\"type\":\"Arrow\"},{\"id\":\"f0f6251a-1628-4e26-a9e4-49f00a30337b\",\"type\":\"Arrow\"},{\"id\":\"4708f316-5417-4317-8843-162bb6e6f3d7\",\"type\":\"Arrow\"},{\"id\":\"643d3d6c-0a21-4212-ab93-9cb3794e07ce\",\"type\":\"Arrow\"},{\"id\":\"18dcda50-1cef-44ea-958d-7da953002afb\",\"type\":\"Arrow\"},{\"id\":\"01fc6b81-96c3-486a-93f1-c8b0df65127f\",\"type\":\"Arrow\"},{\"id\":\"6cd39d31-3ad0-407e-8c39-0acd2533f135\",\"type\":\"Arrow\"},{\"id\":\"f49acadc-ead9-48d5-b6b4-1870de881ce0\",\"type\":\"Arrow\"},{\"id\":\"3cbdd15a-5d10-48a7-b24f-86910952f1da\",\"type\":\"Arrow\"},{\"id\":\"57fab555-5f9b-444a-8f72-fcd8d3d7d0ed\",\"type\":\"Arrow\"},{\"id\":\"1021f51f-c8b1-4b3d-9bb7-b29525f2d11f\",\"type\":\"Arrow\"},{\"id\":\"80949b0b-e024-4f57-9028-47ffd7fd9093\",\"type\":\"Arrow\"},{\"id\":\"d478e8bf-d8bb-40d2-8322-36e7ebcf7947\",\"type\":\"Arrow\"},{\"id\":\"d73376f4-75b9-4504-834d-6ca0f5661c40\",\"type\":\"Arrow\"},{\"id\":\"84e4ca68-9820-447c-9803-23109a19a454\",\"type\":\"Arrow\"},{\"id\":\"b7a14042-a1bc-4bb3-b933-e4c2b87f979b\",\"type\":\"Arrow\"},{\"id\":\"6ed86785-0e43-4077-9048-9ffa9f935cac\",\"type\":\"Arrow\"},{\"id\":\"6085868e-ee30-4f8e-aeeb-fbbb8785d61e\",\"type\":\"GlyphRenderer\"},{\"id\":\"22cf10cb-9e9d-42ef-8981-b98cf3585b8b\",\"type\":\"GlyphRenderer\"},{\"id\":\"82a907dc-47dc-48fc-a31f-22a00aab0b8d\",\"type\":\"GlyphRenderer\"},{\"id\":\"bc2dc256-b2ac-4493-b925-5e59aef5985e\",\"type\":\"GlyphRenderer\"},{\"id\":\"ee8cac4d-d98f-4435-aead-23d0c3d5f677\",\"type\":\"GlyphRenderer\"},{\"id\":\"8d0b200c-a2b3-42e3-928b-bf13c032aaf1\",\"type\":\"GlyphRenderer\"}],\"title\":{\"id\":\"18d17053-b625-45d7-85df-f4d3058de40f\",\"type\":\"Title\"},\"toolbar\":{\"id\":\"c298cdcd-8847-472f-a70c-e982df92d324\",\"type\":\"Toolbar\"},\"x_range\":{\"id\":\"dc9e7b72-3bf5-439a-b27e-e9cf6581dbfa\",\"type\":\"DataRange1d\"},\"x_scale\":{\"id\":\"d85c8618-f403-4201-9151-9757446e3b6b\",\"type\":\"LinearScale\"},\"y_range\":{\"id\":\"f39083dd-b248-4484-8a45-8a0e61731182\",\"type\":\"DataRange1d\"},\"y_scale\":{\"id\":\"e502301e-ebe4-4e90-8862-5da45b4e5f01\",\"type\":\"LinearScale\"}},\"id\":\"506bf2dd-c1fa-48d1-beeb-de70920a2021\",\"subtype\":\"Figure\",\"type\":\"Plot\"},{\"attributes\":{\"source\":{\"id\":\"6d46ccd8-43a4-4451-bcc0-4d120f9fc596\",\"type\":\"ColumnDataSource\"}},\"id\":\"33d09572-ad8b-490a-8839-cca2b87767da\",\"type\":\"CDSView\"},{\"attributes\":{\"callback\":null,\"names\":[\"circle\"],\"renderers\":\"auto\",\"tooltips\":[[\"true action\",\"@desc\"],[\"prediction\",\"@pred\"],[\"not_skip_gate\",\"@not_skip\"]]},\"id\":\"d45edaca-ae44-44dc-9660-de838a789e32\",\"type\":\"HoverTool\"},{\"attributes\":{\"data_source\":{\"id\":\"6d46ccd8-43a4-4451-bcc0-4d120f9fc596\",\"type\":\"ColumnDataSource\"},\"glyph\":{\"id\":\"d24ecdaa-43d3-4962-bedb-83b2e0e08c12\",\"type\":\"Circle\"},\"hover_glyph\":null,\"muted_glyph\":null,\"name\":\"circle\",\"nonselection_glyph\":{\"id\":\"6695c074-b059-480a-9643-b3daa36d27b3\",\"type\":\"Circle\"},\"selection_glyph\":null,\"view\":{\"id\":\"33d09572-ad8b-490a-8839-cca2b87767da\",\"type\":\"CDSView\"}},\"id\":\"22cf10cb-9e9d-42ef-8981-b98cf3585b8b\",\"type\":\"GlyphRenderer\"},{\"attributes\":{\"line_color\":{\"value\":\"firebrick\"},\"line_width\":{\"value\":2},\"plot\":null,\"size\":10},\"id\":\"763e2e79-7766-4b10-a085-4f5f5e9a57f2\",\"type\":\"OpenHead\"},{\"attributes\":{\"callback\":null,\"data\":{\"desc\":[\"- utter_ask_details\",\"- utter_chitchat\",\"- utter_ask_details\",\"- utter_ask_startdate\",\"- utter_ask_location\",\"- utter_correct_startdate_hotel\",\"- utter_ask_location\",\"- utter_explain_location_hotel\",\"- utter_ask_location\",\"- utter_ask_price\",\"- utter_chitchat\",\"- utter_ask_price\",\"- utter_chitchat\",\"- utter_ask_price\",\"- utter_chitchat\",\"- utter_ask_price\",\"- utter_chitchat\",\"- utter_ask_price\",\"- utter_explain_price_hotel\",\"- utter_ask_price\",\"- utter_ask_people\",\"- utter_filled_slots\",\"- action_search_hotel\",\"- utter_suggest_hotel\",\"- utter_chitchat\",\"- utter_suggest_hotel\",\"- utter_happy\"],\"not_skip\":[1.0,1.0,0.0,1.0,1.0,1.0,0.0,0.0,1.0,1.0,1.0,0.0,1.0,0.0,1.0,0.0,1.0,0.0,0.0,1.0,1.0,1.0,1.0,1.0,1.0,0.0,1.0],\"pred\":[\"- utter_ask_details\",\"- utter_chitchat\",\"- utter_ask_details\",\"- utter_ask_startdate\",\"- utter_ask_location\",\"- utter_correct_startdate_hotel\",\"- utter_ask_location\",\"- utter_explain_location_hotel\",\"- utter_ask_location\",\"- utter_ask_price\",\"- utter_chitchat\",\"- utter_ask_price\",\"- utter_chitchat\",\"- utter_ask_price\",\"- utter_chitchat\",\"- utter_ask_price\",\"- utter_chitchat\",\"- utter_ask_price\",\"- utter_ask_price\",\"- utter_ask_price\",\"- utter_ask_people\",\"- utter_filled_slots\",\"- action_search_hotel\",\"- utter_suggest_hotel\",\"- utter_chitchat\",\"- utter_suggest_hotel\",\"- utter_happy\"],\"x\":{\"__ndarray__\":\"Hux8yaLZxb9lYX6WXizGv2aZm3jljcq/eN0mhjbwxb8jd5gFxPjFv9eIgaxSxsa//BiU6xBEz78xeOvXowrHv4Xp2LQ9tse/yDW5/Up0xr/pXTAhI2zFv1w04SoJa8S/CC31tJd5xb8U5OONnYPEv8OWj1TKdsW/xJcDHkKMxL+mtswmmXjFv534TWo0jcS/PvU7uHudxb8g3CoCxWvKvy3f9EeUF8W/hQmV54/hxb+OZKLY/4PEv745jfY9RMa/CEMHQzCTxL8LZmID0VrNv9n/VXA16sW/\",\"dtype\":\"float64\",\"shape\":[27]},\"y\":{\"__ndarray__\":\"Zgj4vIOBu79WCRT6mSO8vzfgT4RqXMK/l2LGEL+tu79VJ9jgEF28v53vh1gAY72/elQrbk6Ox79tRZX6VAO+v69SI2jMG8S/KHmbXqC6vL9UX6QCbDl6P+NJihzLm8k/qOcDmX3rhr/SGXsKDyPIP8dcvbMgIIq/E6GrGnuuxz+Kkl5sVK2Lv1QtCgDot8c/Ntfno0U0qL/St3/irCzGvyPwqUjcPH4/VnmNiajMub+OTScy6U+hv+o4SP7tSLW/xN7w9AX6dL+/+RZ5gHTLvwONJ82MfK6/\",\"dtype\":\"float64\",\"shape\":[27]}},\"selected\":{\"id\":\"f0b8ea71-02e7-4a60-b3a3-bce20413726c\",\"type\":\"Selection\"},\"selection_policy\":{\"id\":\"ebc65a34-1485-4b47-862a-a1c32da9b878\",\"type\":\"UnionRenderers\"}},\"id\":\"6d46ccd8-43a4-4451-bcc0-4d120f9fc596\",\"type\":\"ColumnDataSource\"},{\"attributes\":{\"line_color\":{\"value\":\"firebrick\"},\"line_width\":{\"value\":2},\"plot\":null,\"size\":10},\"id\":\"a404022f-9f19-42f5-a3cd-7a8ff1b8e79e\",\"type\":\"OpenHead\"},{\"attributes\":{\"fill_alpha\":{\"value\":0.1},\"fill_color\":{\"value\":\"#1f77b4\"},\"line_alpha\":{\"value\":0.1},\"line_color\":{\"value\":\"#1f77b4\"},\"size\":{\"units\":\"screen\",\"value\":5},\"x\":{\"field\":\"x\"},\"y\":{\"field\":\"y\"}},\"id\":\"6695c074-b059-480a-9643-b3daa36d27b3\",\"type\":\"Circle\"},{\"attributes\":{\"callback\":null,\"data\":{\"desc\":[\"- utter_ask_details\",\"- utter_chitchat\",\"- utter_ask_details\",\"- utter_ask_startdate\",\"- utter_ask_location\",\"- utter_correct_startdate_hotel\",\"- utter_ask_location\",\"- utter_explain_location_hotel\",\"- utter_ask_location\",\"- utter_ask_price\",\"- utter_chitchat\",\"- utter_ask_price\",\"- utter_chitchat\",\"- utter_ask_price\",\"- utter_chitchat\",\"- utter_ask_price\",\"- utter_chitchat\",\"- utter_ask_price\",\"- utter_explain_price_hotel\",\"- utter_ask_price\",\"- utter_ask_people\",\"- utter_filled_slots\",\"- action_search_hotel\",\"- utter_suggest_hotel\",\"- utter_chitchat\",\"- utter_suggest_hotel\",\"- utter_happy\"],\"not_skip\":[1.0,1.0,0.0,1.0,1.0,1.0,0.0,0.0,1.0,1.0,1.0,0.0,1.0,0.0,1.0,0.0,1.0,0.0,0.0,1.0,1.0,1.0,1.0,1.0,1.0,0.0,1.0],\"pred\":[\"- utter_ask_details\",\"- utter_chitchat\",\"- utter_ask_details\",\"- utter_ask_startdate\",\"- utter_ask_location\",\"- utter_correct_startdate_hotel\",\"- utter_ask_location\",\"- utter_explain_location_hotel\",\"- utter_ask_location\",\"- utter_ask_price\",\"- utter_chitchat\",\"- utter_ask_price\",\"- utter_chitchat\",\"- utter_ask_price\",\"- utter_chitchat\",\"- utter_ask_price\",\"- utter_chitchat\",\"- utter_ask_price\",\"- utter_ask_price\",\"- utter_ask_price\",\"- utter_ask_people\",\"- utter_filled_slots\",\"- action_search_hotel\",\"- utter_suggest_hotel\",\"- utter_chitchat\",\"- utter_suggest_hotel\",\"- utter_happy\"],\"x\":{\"__ndarray__\":\"tO71F88c0b/8dREYE33jPz6hjnNSC8y/+K16czu0yr/qK4XmpA/Uv2E79SJtfsy/E07nQ4dv0L8SaQ14JCfKvysSxMMG19K/WL+YfgLHxr9kx2KJNnLrP00CtHcohsC/4jk6wrjl6j9Ts7IDICLCv1SL4lJWk+o/+VE3ZKOQw79YiZWikj/qP+c3a7FGk8W/Efki6vwOy78+8oJ8RMfKv+SWSen49ci/gKQ2TiLNyr/4g3GUZo3gvw6Q+UVMc9K/g2lILZ+I7T8PHdNc573Rv+dcO0Zzssu/\",\"dtype\":\"float64\",\"shape\":[27]},\"y\":{\"__ndarray__\":\"XQNGfM1gwr8J0GF8pBHJv7heWq6XXMS/ZUFSkLXHwL8SLMLmwX3Tv5Rf0KSentO/4gUE5g/4yL+nXbZQHFzGv1aoFn1/Qcm/PRxeV+Xc5T/PlofXLneTPwvFEis09NA/ijuDp/ieoT/LY0LbRZDQP/4MPoOH44o/XplbwPxfzj/tkdGa2l6Sv9jViAenGss/9+b8kDhBzj87o33dL9fiP5d47Hf3loY/PebsKp/pyr9bHkD+7YeyPwFhPQ4eNs6/M1VzRAhQq7+BJvYH5sLSv/HHbsxXzYm/\",\"dtype\":\"float64\",\"shape\":[27]}},\"selected\":{\"id\":\"dc82c89b-b4be-486a-87d8-d683dc1a899c\",\"type\":\"Selection\"},\"selection_policy\":{\"id\":\"a1cdc9ea-cd16-463b-99a2-f93075157a67\",\"type\":\"UnionRenderers\"}},\"id\":\"58f305d3-4e01-4318-a951-4ac3b911f121\",\"type\":\"ColumnDataSource\"},{\"attributes\":{\"active_drag\":\"auto\",\"active_inspect\":\"auto\",\"active_multi\":null,\"active_scroll\":\"auto\",\"active_tap\":\"auto\",\"tools\":[{\"id\":\"d45edaca-ae44-44dc-9660-de838a789e32\",\"type\":\"HoverTool\"}]},\"id\":\"c298cdcd-8847-472f-a70c-e982df92d324\",\"type\":\"Toolbar\"},{\"attributes\":{\"callback\":null},\"id\":\"dc9e7b72-3bf5-439a-b27e-e9cf6581dbfa\",\"type\":\"DataRange1d\"},{\"attributes\":{\"source\":{\"id\":\"a2eca206-7f10-4296-ab53-3d232eb3bc18\",\"type\":\"ColumnDataSource\"}},\"id\":\"02c8677a-cc95-475e-85ef-70a408442d3e\",\"type\":\"CDSView\"},{\"attributes\":{\"source\":{\"id\":\"7aaeef28-d28b-4140-987d-6782141ab7cd\",\"type\":\"ColumnDataSource\"}},\"id\":\"49f80d4c-9a85-46fc-8033-5d28827eb584\",\"type\":\"CDSView\"},{\"attributes\":{\"end\":{\"id\":\"763e2e79-7766-4b10-a085-4f5f5e9a57f2\",\"type\":\"OpenHead\"},\"line_color\":{\"value\":\"gray\"},\"plot\":{\"id\":\"506bf2dd-c1fa-48d1-beeb-de70920a2021\",\"subtype\":\"Figure\",\"type\":\"Plot\"},\"source\":null,\"start\":null,\"x_end\":{\"value\":0.609017893799034},\"x_start\":{\"value\":-0.2673833593359902},\"y_end\":{\"value\":-0.1958509070715311},\"y_start\":{\"value\":-0.1435791832737107}},\"id\":\"316b41ef-9a33-43b1-b2b0-38c6dd0f4933\",\"type\":\"Arrow\"},{\"attributes\":{\"data_source\":{\"id\":\"a2eca206-7f10-4296-ab53-3d232eb3bc18\",\"type\":\"ColumnDataSource\"},\"glyph\":{\"id\":\"748cea54-93ce-471e-9e52-6e9cbcf08f3f\",\"type\":\"Circle\"},\"hover_glyph\":null,\"muted_glyph\":null,\"name\":\"circle\",\"nonselection_glyph\":{\"id\":\"b01cef0c-b2e0-475a-9446-8b2302d6f2ad\",\"type\":\"Circle\"},\"selection_glyph\":null,\"view\":{\"id\":\"02c8677a-cc95-475e-85ef-70a408442d3e\",\"type\":\"CDSView\"}},\"id\":\"82a907dc-47dc-48fc-a31f-22a00aab0b8d\",\"type\":\"GlyphRenderer\"},{\"attributes\":{\"callback\":null},\"id\":\"f39083dd-b248-4484-8a45-8a0e61731182\",\"type\":\"DataRange1d\"},{\"attributes\":{\"callback\":null,\"data\":{\"desc\":[\"- utter_ask_details\",\"- utter_chitchat\",\"- utter_ask_details\",\"- utter_ask_startdate\",\"- utter_ask_location\",\"- utter_correct_startdate_hotel\",\"- utter_ask_location\",\"- utter_explain_location_hotel\",\"- utter_ask_location\",\"- utter_ask_price\",\"- utter_chitchat\",\"- utter_ask_price\",\"- utter_chitchat\",\"- utter_ask_price\",\"- utter_chitchat\",\"- utter_ask_price\",\"- utter_chitchat\",\"- utter_ask_price\",\"- utter_explain_price_hotel\",\"- utter_ask_price\",\"- utter_ask_people\",\"- utter_filled_slots\",\"- action_search_hotel\",\"- utter_suggest_hotel\",\"- utter_chitchat\",\"- utter_suggest_hotel\",\"- utter_happy\"],\"not_skip\":[1.0,1.0,0.0,1.0,1.0,1.0,0.0,0.0,1.0,1.0,1.0,0.0,1.0,0.0,1.0,0.0,1.0,0.0,0.0,1.0,1.0,1.0,1.0,1.0,1.0,0.0,1.0],\"pred\":[\"- utter_ask_details\",\"- utter_chitchat\",\"- utter_ask_details\",\"- utter_ask_startdate\",\"- utter_ask_location\",\"- utter_correct_startdate_hotel\",\"- utter_ask_location\",\"- utter_explain_location_hotel\",\"- utter_ask_location\",\"- utter_ask_price\",\"- utter_chitchat\",\"- utter_ask_price\",\"- utter_chitchat\",\"- utter_ask_price\",\"- utter_chitchat\",\"- utter_ask_price\",\"- utter_chitchat\",\"- utter_ask_price\",\"- utter_ask_price\",\"- utter_ask_price\",\"- utter_ask_people\",\"- utter_filled_slots\",\"- action_search_hotel\",\"- utter_suggest_hotel\",\"- utter_chitchat\",\"- utter_suggest_hotel\",\"- utter_happy\"],\"x\":{\"__ndarray__\":\"qu71F88c0b8hiOAOwpHjPzCrAsIPV8e/K1Wwsqedyr/GdexKFADUv8gCjTi9kcu/hYbPZKB0x78NN7piI/bIv2z8U1C56NG/nLX8TFosxr/HSXSd1lbrP8UD6hbC9MG/PHgQ/7XN6j+/xYg1JXjDv7MFwzmgeuo/hf4nCwTexL9x9SU+UCfqP9zKhhS138a/0CxT/CNLy7/geXc2IjXGv/L9E2cHuMm/Mtb/ODXFyr8L0UJOz+Lgv/xfGqj+PdK/rem3iwI37T8kCgOGoPrLv1UHnZvgocu/\",\"dtype\":\"float64\",\"shape\":[27]},\"y\":{\"__ndarray__\":\"FQNGfM1gwr/gNsVZmcDIv9eacBPegb+/773P7JexwL+OxzeW3kbTvzY8N4E/JtO/No1QiwZVvr/IqAKoMxvFv5+IHwN15sK/nGFg7ggE5j/jw2vwTke4vzwvsneS0KW/Sq67iy+pr79OcpahFA2jv4z0ObcO4bS/y5uP8gA9rL+9ZTPkj6O8v1CPHqIFvLS/yquhF4iNxj+CIXSjKvLkPyeQNZ1ykrq/QfihxwzEy7+q+HNmSGhUv2y/iHM0qdC/T44oxfPsw79LJtF3DdLHv12xAoXQ+a6/\",\"dtype\":\"float64\",\"shape\":[27]}},\"selected\":{\"id\":\"dc2f68c5-0a06-4840-8616-528d540965d0\",\"type\":\"Selection\"},\"selection_policy\":{\"id\":\"705c3931-15d8-46e6-8e56-cc99ed610286\",\"type\":\"UnionRenderers\"}},\"id\":\"a2eca206-7f10-4296-ab53-3d232eb3bc18\",\"type\":\"ColumnDataSource\"},{\"attributes\":{},\"id\":\"d85c8618-f403-4201-9151-9757446e3b6b\",\"type\":\"LinearScale\"},{\"attributes\":{\"fill_alpha\":{\"value\":0.1},\"fill_color\":{\"value\":\"#1f77b4\"},\"line_alpha\":{\"value\":0.1},\"line_color\":{\"value\":\"#1f77b4\"},\"size\":{\"units\":\"screen\",\"value\":5},\"x\":{\"field\":\"x\"},\"y\":{\"field\":\"y\"}},\"id\":\"b01cef0c-b2e0-475a-9446-8b2302d6f2ad\",\"type\":\"Circle\"},{\"attributes\":{},\"id\":\"e502301e-ebe4-4e90-8862-5da45b4e5f01\",\"type\":\"LinearScale\"},{\"attributes\":{\"plot\":{\"id\":\"506bf2dd-c1fa-48d1-beeb-de70920a2021\",\"subtype\":\"Figure\",\"type\":\"Plot\"},\"ticker\":{\"id\":\"90d77415-dc1e-4ab5-9b22-76a56780e2bf\",\"type\":\"BasicTicker\"}},\"id\":\"53a12c8b-9122-42a6-a92c-567671d43684\",\"type\":\"Grid\"},{\"attributes\":{\"callback\":null,\"data\":{},\"selected\":{\"id\":\"b83861ef-690b-462c-a4ab-6b2825f42a21\",\"type\":\"Selection\"},\"selection_policy\":{\"id\":\"1f97ad74-12a5-4fc5-b980-d3e8bd475862\",\"type\":\"UnionRenderers\"}},\"id\":\"7aaeef28-d28b-4140-987d-6782141ab7cd\",\"type\":\"ColumnDataSource\"},{\"attributes\":{\"formatter\":{\"id\":\"6151f38f-15c7-434c-8c2d-7d918ba7d60e\",\"type\":\"BasicTickFormatter\"},\"plot\":{\"id\":\"506bf2dd-c1fa-48d1-beeb-de70920a2021\",\"subtype\":\"Figure\",\"type\":\"Plot\"},\"ticker\":{\"id\":\"90d77415-dc1e-4ab5-9b22-76a56780e2bf\",\"type\":\"BasicTicker\"}},\"id\":\"8bb7372c-e170-4725-8944-6ffc85e7cf72\",\"type\":\"LinearAxis\"},{\"attributes\":{\"callback\":null,\"data\":{},\"selected\":{\"id\":\"2596756e-6dd5-4878-8f47-4bb03eecbe56\",\"type\":\"Selection\"},\"selection_policy\":{\"id\":\"b8b92287-7a4f-4fdc-ac45-a14fb0ca550a\",\"type\":\"UnionRenderers\"}},\"id\":\"769957a8-1eba-4418-9536-44852b994fbc\",\"type\":\"ColumnDataSource\"},{\"attributes\":{},\"id\":\"90d77415-dc1e-4ab5-9b22-76a56780e2bf\",\"type\":\"BasicTicker\"},{\"attributes\":{\"fill_color\":{\"value\":\"magenta\"},\"line_color\":{\"value\":\"magenta\"},\"size\":{\"units\":\"screen\",\"value\":5},\"x\":{\"value\":-0.17070422018318337},\"y\":{\"value\":-0.10744498599527362}},\"id\":\"b9c2a06a-e6d3-4ef2-af4d-a00ce01f5316\",\"type\":\"Circle\"},{\"attributes\":{\"formatter\":{\"id\":\"f76d9ec2-eed0-4ead-8834-5f68bedd0c71\",\"type\":\"BasicTickFormatter\"},\"plot\":{\"id\":\"506bf2dd-c1fa-48d1-beeb-de70920a2021\",\"subtype\":\"Figure\",\"type\":\"Plot\"},\"ticker\":{\"id\":\"397d11ca-af07-4a33-ae8f-c0ff123caa9f\",\"type\":\"BasicTicker\"}},\"id\":\"6f8026ef-edf7-4fed-8e33-9e0ff4d5b792\",\"type\":\"LinearAxis\"},{\"attributes\":{\"fill_alpha\":{\"value\":0.1},\"fill_color\":{\"value\":\"#1f77b4\"},\"line_alpha\":{\"value\":0.1},\"line_color\":{\"value\":\"#1f77b4\"},\"size\":{\"units\":\"screen\",\"value\":5},\"x\":{\"value\":-0.17070422018318337},\"y\":{\"value\":-0.10744498599527362}},\"id\":\"fedff08d-784f-49d7-816c-2627776ee36d\",\"type\":\"Circle\"},{\"attributes\":{},\"id\":\"397d11ca-af07-4a33-ae8f-c0ff123caa9f\",\"type\":\"BasicTicker\"},{\"attributes\":{},\"id\":\"b8b92287-7a4f-4fdc-ac45-a14fb0ca550a\",\"type\":\"UnionRenderers\"},{\"attributes\":{\"data_source\":{\"id\":\"769957a8-1eba-4418-9536-44852b994fbc\",\"type\":\"ColumnDataSource\"},\"glyph\":{\"id\":\"b9c2a06a-e6d3-4ef2-af4d-a00ce01f5316\",\"type\":\"Circle\"},\"hover_glyph\":null,\"muted_glyph\":null,\"nonselection_glyph\":{\"id\":\"fedff08d-784f-49d7-816c-2627776ee36d\",\"type\":\"Circle\"},\"selection_glyph\":null,\"view\":{\"id\":\"50ad9c5b-cde3-46bd-9fda-9f4ec816b7dd\",\"type\":\"CDSView\"}},\"id\":\"bc2dc256-b2ac-4493-b925-5e59aef5985e\",\"type\":\"GlyphRenderer\"},{\"attributes\":{\"dimension\":1,\"plot\":{\"id\":\"506bf2dd-c1fa-48d1-beeb-de70920a2021\",\"subtype\":\"Figure\",\"type\":\"Plot\"},\"ticker\":{\"id\":\"397d11ca-af07-4a33-ae8f-c0ff123caa9f\",\"type\":\"BasicTicker\"}},\"id\":\"f2fec250-66e7-49bf-883b-62361b348d29\",\"type\":\"Grid\"},{\"attributes\":{\"source\":{\"id\":\"769957a8-1eba-4418-9536-44852b994fbc\",\"type\":\"ColumnDataSource\"}},\"id\":\"50ad9c5b-cde3-46bd-9fda-9f4ec816b7dd\",\"type\":\"CDSView\"},{\"attributes\":{\"line_color\":{\"value\":\"firebrick\"},\"line_width\":{\"value\":2},\"plot\":null,\"size\":10},\"id\":\"8eafac79-ce5d-42be-a962-4cade39576f4\",\"type\":\"OpenHead\"},{\"attributes\":{\"callback\":null,\"data\":{},\"selected\":{\"id\":\"c17dfdcc-5908-4cd3-bdca-3e5fa448eb06\",\"type\":\"Selection\"},\"selection_policy\":{\"id\":\"f7eb3949-fe95-4d43-a25b-fdbbe27ee0ae\",\"type\":\"UnionRenderers\"}},\"id\":\"2e0f588b-8ee7-4c5c-a9b8-3351e79f0e0c\",\"type\":\"ColumnDataSource\"},{\"attributes\":{},\"id\":\"ebc65a34-1485-4b47-862a-a1c32da9b878\",\"type\":\"UnionRenderers\"},{\"attributes\":{\"fill_color\":{\"value\":\"green\"},\"line_color\":{\"value\":\"green\"},\"size\":{\"units\":\"screen\",\"value\":10},\"x\":{\"value\":-0.2673833593359902},\"y\":{\"value\":-0.1435791832737107}},\"id\":\"bbb968b4-9160-4cad-acce-3a21e41bd450\",\"type\":\"Circle\"},{\"attributes\":{\"fill_alpha\":{\"value\":0.1},\"fill_color\":{\"value\":\"#1f77b4\"},\"line_alpha\":{\"value\":0.1},\"line_color\":{\"value\":\"#1f77b4\"},\"size\":{\"units\":\"screen\",\"value\":10},\"x\":{\"value\":-0.2673833593359902},\"y\":{\"value\":-0.1435791832737107}},\"id\":\"ef958e65-7952-4d8f-b6f8-f7f12af07833\",\"type\":\"Circle\"},{\"attributes\":{\"line_color\":{\"value\":\"firebrick\"},\"line_width\":{\"value\":2},\"plot\":null,\"size\":10},\"id\":\"4baebc37-c369-462e-9f17-fac255b78cc2\",\"type\":\"OpenHead\"},{\"attributes\":{\"data_source\":{\"id\":\"7aaeef28-d28b-4140-987d-6782141ab7cd\",\"type\":\"ColumnDataSource\"},\"glyph\":{\"id\":\"bbb968b4-9160-4cad-acce-3a21e41bd450\",\"type\":\"Circle\"},\"hover_glyph\":null,\"muted_glyph\":null,\"nonselection_glyph\":{\"id\":\"ef958e65-7952-4d8f-b6f8-f7f12af07833\",\"type\":\"Circle\"},\"selection_glyph\":null,\"view\":{\"id\":\"49f80d4c-9a85-46fc-8033-5d28827eb584\",\"type\":\"CDSView\"}},\"id\":\"ee8cac4d-d98f-4435-aead-23d0c3d5f677\",\"type\":\"GlyphRenderer\"},{\"attributes\":{\"end\":{\"id\":\"a404022f-9f19-42f5-a3cd-7a8ff1b8e79e\",\"type\":\"OpenHead\"},\"line_color\":{\"value\":\"gray\"},\"plot\":{\"id\":\"506bf2dd-c1fa-48d1-beeb-de70920a2021\",\"subtype\":\"Figure\",\"type\":\"Plot\"},\"source\":null,\"start\":null,\"x_end\":{\"value\":-0.2190955223316084},\"x_start\":{\"value\":0.609017893799034},\"y_end\":{\"value\":-0.15907569897966822},\"y_start\":{\"value\":-0.1958509070715311}},\"id\":\"692a505f-2633-45e5-bd2a-cdeb81adc33e\",\"type\":\"Arrow\"}],\"root_ids\":[\"506bf2dd-c1fa-48d1-beeb-de70920a2021\"]},\"title\":\"Bokeh Application\",\"version\":\"0.13.0\"}};\n",
       "  var render_items = [{\"docid\":\"cc53f1a8-e3e7-45ef-a6cd-44a544636b57\",\"roots\":{\"506bf2dd-c1fa-48d1-beeb-de70920a2021\":\"3dabb128-b850-4cc5-82e4-84a53fb869c3\"}}];\n",
       "  root.Bokeh.embed.embed_items_notebook(docs_json, render_items);\n",
       "\n",
       "  }\n",
       "  if (root.Bokeh !== undefined) {\n",
       "    embed_document(root);\n",
       "  } else {\n",
       "    var attempts = 0;\n",
       "    var timer = setInterval(function(root) {\n",
       "      if (root.Bokeh !== undefined) {\n",
       "        embed_document(root);\n",
       "        clearInterval(timer);\n",
       "      }\n",
       "      attempts++;\n",
       "      if (attempts > 100) {\n",
       "        console.log(\"Bokeh: ERROR: Unable to run BokehJS code because BokehJS library is missing\")\n",
       "        clearInterval(timer);\n",
       "      }\n",
       "    }, 10, root)\n",
       "  }\n",
       "})(window);"
      ],
      "application/vnd.bokehjs_exec.v0+json": ""
     },
     "metadata": {
      "application/vnd.bokehjs_exec.v0+json": {
       "id": "506bf2dd-c1fa-48d1-beeb-de70920a2021"
      }
     },
     "output_type": "display_data"
    }
   ],
   "source": [
    "show(p)"
   ]
  },
  {
   "cell_type": "code",
   "execution_count": null,
   "metadata": {},
   "outputs": [],
   "source": []
  },
  {
   "cell_type": "code",
   "execution_count": 18,
   "metadata": {},
   "outputs": [
    {
     "name": "stdout",
     "output_type": "stream",
     "text": [
      "utter_ask_price --> 6\n",
      "utter_ask_details --> 28\n",
      "utter_ask_people --> 4\n",
      "utter_explain_details_hotel --> 14\n",
      "utter_explain_people_hotel --> 19\n",
      "utter_explain_price_hotel --> 21\n",
      "utter_ask_location --> 5\n",
      "utter_explain_location_hotel --> 17\n",
      "utter_ask_startdate --> 7\n",
      "utter_suggest_hotel --> 12\n",
      "action_search_hotel --> 42\n",
      "action_listen --> 0\n"
     ]
    }
   ],
   "source": [
    "print('utter_ask_price', '-->', domain.index_for_action('utter_ask_price'))\n",
    "print('utter_ask_details', '-->', domain.index_for_action('utter_ask_details'))\n",
    "print('utter_ask_people', '-->', domain.index_for_action('utter_ask_people'))\n",
    "print('utter_explain_details_hotel', '-->', domain.index_for_action('utter_explain_details_hotel'))\n",
    "print('utter_explain_people_hotel', '-->', domain.index_for_action('utter_explain_people_hotel'))\n",
    "print('utter_explain_price_hotel', '-->', domain.index_for_action('utter_explain_price_hotel'))\n",
    "print('utter_ask_location', '-->', domain.index_for_action('utter_ask_location'))\n",
    "print('utter_explain_location_hotel', '-->', domain.index_for_action('utter_explain_location_hotel'))\n",
    "print('utter_ask_startdate', '-->', domain.index_for_action('utter_ask_startdate'))\n",
    "print('utter_suggest_hotel', '-->', domain.index_for_action('utter_suggest_hotel'))\n",
    "print('action_search_hotel', '-->', domain.index_for_action('action_search_hotel'))\n",
    "print('action_listen', '-->', domain.index_for_action('action_listen'))"
   ]
  },
  {
   "cell_type": "code",
   "execution_count": 19,
   "metadata": {},
   "outputs": [
    {
     "data": {
      "text/plain": [
       "(20,)"
      ]
     },
     "execution_count": 19,
     "metadata": {},
     "output_type": "execute_result"
    }
   ],
   "source": [
    "utter_price = embedding_from_tracker(\"#generate story\\n{}\".format(story_block), bot=True)[0,-1,5,:]\n",
    "utter_price.shape"
   ]
  },
  {
   "cell_type": "code",
   "execution_count": 20,
   "metadata": {},
   "outputs": [
    {
     "name": "stdout",
     "output_type": "stream",
     "text": [
      "(20,)\n"
     ]
    },
    {
     "data": {
      "text/html": [
       "<div style=\"display: table;\"><div style=\"display: table-row;\"><div style=\"display: table-cell;\"><b title=\"bokeh.models.renderers.GlyphRenderer\">GlyphRenderer</b>(</div><div style=\"display: table-cell;\">id&nbsp;=&nbsp;'1db745d9-cfee-44a7-8a51-a238a358f252', <span id=\"39a24e62-01d3-478d-97b4-067e18601781\" style=\"cursor: pointer;\">&hellip;)</span></div></div><div class=\"cb057124-66eb-4d3b-8bd8-dddcd76cabb6\" style=\"display: none;\"><div style=\"display: table-cell;\"></div><div style=\"display: table-cell;\">data_source&nbsp;=&nbsp;ColumnDataSource(id='f011c53f-e8a7-4c7c-9830-ff8fdc912a23', ...),</div></div><div class=\"cb057124-66eb-4d3b-8bd8-dddcd76cabb6\" style=\"display: none;\"><div style=\"display: table-cell;\"></div><div style=\"display: table-cell;\">glyph&nbsp;=&nbsp;Circle(id='dc8dc1af-cea4-493b-8c6c-d8fcbf8d1706', ...),</div></div><div class=\"cb057124-66eb-4d3b-8bd8-dddcd76cabb6\" style=\"display: none;\"><div style=\"display: table-cell;\"></div><div style=\"display: table-cell;\">hover_glyph&nbsp;=&nbsp;None,</div></div><div class=\"cb057124-66eb-4d3b-8bd8-dddcd76cabb6\" style=\"display: none;\"><div style=\"display: table-cell;\"></div><div style=\"display: table-cell;\">js_event_callbacks&nbsp;=&nbsp;{},</div></div><div class=\"cb057124-66eb-4d3b-8bd8-dddcd76cabb6\" style=\"display: none;\"><div style=\"display: table-cell;\"></div><div style=\"display: table-cell;\">js_property_callbacks&nbsp;=&nbsp;{},</div></div><div class=\"cb057124-66eb-4d3b-8bd8-dddcd76cabb6\" style=\"display: none;\"><div style=\"display: table-cell;\"></div><div style=\"display: table-cell;\">level&nbsp;=&nbsp;'glyph',</div></div><div class=\"cb057124-66eb-4d3b-8bd8-dddcd76cabb6\" style=\"display: none;\"><div style=\"display: table-cell;\"></div><div style=\"display: table-cell;\">muted&nbsp;=&nbsp;False,</div></div><div class=\"cb057124-66eb-4d3b-8bd8-dddcd76cabb6\" style=\"display: none;\"><div style=\"display: table-cell;\"></div><div style=\"display: table-cell;\">muted_glyph&nbsp;=&nbsp;None,</div></div><div class=\"cb057124-66eb-4d3b-8bd8-dddcd76cabb6\" style=\"display: none;\"><div style=\"display: table-cell;\"></div><div style=\"display: table-cell;\">name&nbsp;=&nbsp;None,</div></div><div class=\"cb057124-66eb-4d3b-8bd8-dddcd76cabb6\" style=\"display: none;\"><div style=\"display: table-cell;\"></div><div style=\"display: table-cell;\">nonselection_glyph&nbsp;=&nbsp;Circle(id='00d5c32d-1a28-4324-b511-c6c84bae9453', ...),</div></div><div class=\"cb057124-66eb-4d3b-8bd8-dddcd76cabb6\" style=\"display: none;\"><div style=\"display: table-cell;\"></div><div style=\"display: table-cell;\">selection_glyph&nbsp;=&nbsp;None,</div></div><div class=\"cb057124-66eb-4d3b-8bd8-dddcd76cabb6\" style=\"display: none;\"><div style=\"display: table-cell;\"></div><div style=\"display: table-cell;\">subscribed_events&nbsp;=&nbsp;[],</div></div><div class=\"cb057124-66eb-4d3b-8bd8-dddcd76cabb6\" style=\"display: none;\"><div style=\"display: table-cell;\"></div><div style=\"display: table-cell;\">tags&nbsp;=&nbsp;[],</div></div><div class=\"cb057124-66eb-4d3b-8bd8-dddcd76cabb6\" style=\"display: none;\"><div style=\"display: table-cell;\"></div><div style=\"display: table-cell;\">view&nbsp;=&nbsp;CDSView(id='ed67240e-ca62-4683-b5a8-428e01fd79d3', ...),</div></div><div class=\"cb057124-66eb-4d3b-8bd8-dddcd76cabb6\" style=\"display: none;\"><div style=\"display: table-cell;\"></div><div style=\"display: table-cell;\">visible&nbsp;=&nbsp;True,</div></div><div class=\"cb057124-66eb-4d3b-8bd8-dddcd76cabb6\" style=\"display: none;\"><div style=\"display: table-cell;\"></div><div style=\"display: table-cell;\">x_range_name&nbsp;=&nbsp;'default',</div></div><div class=\"cb057124-66eb-4d3b-8bd8-dddcd76cabb6\" style=\"display: none;\"><div style=\"display: table-cell;\"></div><div style=\"display: table-cell;\">y_range_name&nbsp;=&nbsp;'default')</div></div></div>\n",
       "<script>\n",
       "(function() {\n",
       "  var expanded = false;\n",
       "  var ellipsis = document.getElementById(\"39a24e62-01d3-478d-97b4-067e18601781\");\n",
       "  ellipsis.addEventListener(\"click\", function() {\n",
       "    var rows = document.getElementsByClassName(\"cb057124-66eb-4d3b-8bd8-dddcd76cabb6\");\n",
       "    for (var i = 0; i < rows.length; i++) {\n",
       "      var el = rows[i];\n",
       "      el.style.display = expanded ? \"none\" : \"table-row\";\n",
       "    }\n",
       "    ellipsis.innerHTML = expanded ? \"&hellip;)\" : \"&lsaquo;&lsaquo;&lsaquo;\";\n",
       "    expanded = !expanded;\n",
       "  });\n",
       "})();\n",
       "</script>\n"
      ],
      "text/plain": [
       "GlyphRenderer(id='1db745d9-cfee-44a7-8a51-a238a358f252', ...)"
      ]
     },
     "execution_count": 20,
     "metadata": {},
     "output_type": "execute_result"
    }
   ],
   "source": [
    "print(utter_price.shape)\n",
    "x = pca.transform(utter_price.reshape(1,-1))\n",
    "p.circle(x[0][0], x[0][1], color='black')"
   ]
  },
  {
   "cell_type": "code",
   "execution_count": 21,
   "metadata": {},
   "outputs": [
    {
     "data": {
      "text/html": [
       "\n",
       "<div class=\"bk-root\">\n",
       "    <div class=\"bk-plotdiv\" id=\"e38ee173-28d2-4a73-a4d0-aa968c67dc81\"></div>\n",
       "</div>"
      ]
     },
     "metadata": {},
     "output_type": "execute_result"
    },
    {
     "data": {},
     "metadata": {
      "application/vnd.bokehjs_exec.v0+json": {
       "id": "347ab833-a443-4459-b311-0c8692793c11"
      }
     },
     "output_type": "display_data"
    }
   ],
   "source": [
    "show(p)"
   ]
  },
  {
   "cell_type": "code",
   "execution_count": 22,
   "metadata": {},
   "outputs": [],
   "source": [
    "from collections import namedtuple"
   ]
  },
  {
   "cell_type": "code",
   "execution_count": 23,
   "metadata": {},
   "outputs": [
    {
     "data": {
      "text/plain": [
       "OrderedDict([('x', 11), ('y', 22)])"
      ]
     },
     "execution_count": 23,
     "metadata": {},
     "output_type": "execute_result"
    }
   ],
   "source": [
    "Point = namedtuple('Point', ['x', 'y'])\n",
    "p = Point(11, y=22)\n",
    "p._asdict()"
   ]
  },
  {
   "cell_type": "code",
   "execution_count": 24,
   "metadata": {},
   "outputs": [],
   "source": [
    "Point3D = namedtuple('Point3D', Point._fields + ('z',))"
   ]
  },
  {
   "cell_type": "code",
   "execution_count": 25,
   "metadata": {},
   "outputs": [
    {
     "data": {
      "text/plain": [
       "OrderedDict([('x', 11), ('y', 22), ('z', 3)])"
      ]
     },
     "execution_count": 25,
     "metadata": {},
     "output_type": "execute_result"
    }
   ],
   "source": [
    "p_asdict = p._asdict()\n",
    "p_asdict['z'] = 3\n",
    "p_asdict"
   ]
  },
  {
   "cell_type": "code",
   "execution_count": 26,
   "metadata": {},
   "outputs": [
    {
     "data": {
      "text/plain": [
       "Point3D(x=11, y=22, z=3)"
      ]
     },
     "execution_count": 26,
     "metadata": {},
     "output_type": "execute_result"
    }
   ],
   "source": [
    "p3D = Point3D(**p_asdict)\n",
    "p3D"
   ]
  },
  {
   "cell_type": "code",
   "execution_count": 27,
   "metadata": {},
   "outputs": [],
   "source": [
    "x ={\n",
    "        \"day\": \"20\",\n",
    "        \"month\": \"06\",\n",
    "        \"year\": \"2018\"\n",
    "    }"
   ]
  },
  {
   "cell_type": "code",
   "execution_count": 28,
   "metadata": {},
   "outputs": [
    {
     "data": {
      "text/plain": [
       "{'day': '20', 'month': '06', 'year': '2018'}"
      ]
     },
     "execution_count": 28,
     "metadata": {},
     "output_type": "execute_result"
    }
   ],
   "source": [
    "x"
   ]
  },
  {
   "cell_type": "code",
   "execution_count": 29,
   "metadata": {},
   "outputs": [
    {
     "data": {
      "text/plain": [
       "{'touched': True, 'value': {'value1': '20', 'value2': '06', 'value3': '2018'}}"
      ]
     },
     "execution_count": 29,
     "metadata": {},
     "output_type": "execute_result"
    }
   ],
   "source": [
    "def value_touched_dict(value):\n",
    "    if isinstance(value, dict) and value.get(\"day\"):\n",
    "        value[\"value1\"] = value.pop(\"day\")\n",
    "        value[\"value2\"] = value.pop(\"month\")\n",
    "        value[\"value3\"] = value.pop(\"year\")\n",
    "    return {\"value\": value,\n",
    "            \"touched\": True}\n",
    "value_touched_dict(x)"
   ]
  },
  {
   "cell_type": "code",
   "execution_count": 30,
   "metadata": {},
   "outputs": [
    {
     "data": {
      "text/plain": [
       "{'touched': True, 'value': 'x'}"
      ]
     },
     "execution_count": 30,
     "metadata": {},
     "output_type": "execute_result"
    }
   ],
   "source": [
    "value_touched_dict('x')"
   ]
  },
  {
   "cell_type": "code",
   "execution_count": null,
   "metadata": {},
   "outputs": [],
   "source": []
  }
 ],
 "metadata": {
  "kernelspec": {
   "display_name": "Python 3",
   "language": "python",
   "name": "python3"
  },
  "language_info": {
   "codemirror_mode": {
    "name": "ipython",
    "version": 3
   },
   "file_extension": ".py",
   "mimetype": "text/x-python",
   "name": "python",
   "nbconvert_exporter": "python",
   "pygments_lexer": "ipython3",
   "version": "3.6.5"
  }
 },
 "nbformat": 4,
 "nbformat_minor": 2
}
