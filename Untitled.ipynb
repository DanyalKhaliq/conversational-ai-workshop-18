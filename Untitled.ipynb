{
 "cells": [
  {
   "cell_type": "code",
   "execution_count": 1,
   "metadata": {},
   "outputs": [],
   "source": [
    "try:\n",
    "    import cPickle as pickle\n",
    "except ImportError:\n",
    "    import pickle\n",
    "import numpy as np\n",
    "import re\n",
    "import matplotlib.pyplot as plt"
   ]
  },
  {
   "cell_type": "code",
   "execution_count": 2,
   "metadata": {},
   "outputs": [],
   "source": [
    "with open('attention_weights.pkl', \"rb\") as f:\n",
    "    attention_weights = pickle.load(f)"
   ]
  },
  {
   "cell_type": "code",
   "execution_count": 3,
   "metadata": {},
   "outputs": [
    {
     "data": {
      "text/plain": [
       "(2, 1, 4, 48, 48)"
      ]
     },
     "execution_count": 3,
     "metadata": {},
     "output_type": "execute_result"
    }
   ],
   "source": [
    "attention_weights.shape"
   ]
  },
  {
   "cell_type": "code",
   "execution_count": 4,
   "metadata": {},
   "outputs": [
    {
     "name": "stdout",
     "output_type": "stream",
     "text": [
      "(2, 4, 48, 48)\n"
     ]
    }
   ],
   "source": [
    "# strip last action listen\n",
    "attention_weights = attention_weights[:,0,:,:,:]\n",
    "# attention_weights = attention_weights[np.newaxis,:,:-1,:-1]\n",
    "# attention_weights = attention_weights[np.newaxis,:,:,:]\n",
    "# attention_weights = attention_weights[np.newaxis,np.newaxis,:-1,:-1]\n",
    "# attention_weights = attention_weights[np.newaxis,np.newaxis,:,:]\n",
    "\n",
    "print(attention_weights.shape)"
   ]
  },
  {
   "cell_type": "code",
   "execution_count": 7,
   "metadata": {},
   "outputs": [
    {
     "name": "stdout",
     "output_type": "stream",
     "text": [
      "## Generated Story -3053018598832044299\n",
      "* request_hotel\n",
      "    - utter_ask_details\n",
      "* inform{\"enddate\": \"May 26th\", \"people\": \"2\"}\n",
      "    - utter_ask_location\n",
      "* chitchat\n",
      "    - utter_chitchat\n",
      "    - utter_ask_location\n",
      "* chitchat\n",
      "    - utter_chitchat\n",
      "    - utter_ask_location\n",
      "* chitchat\n",
      "    - utter_chitchat\n",
      "    - utter_ask_location\n",
      "* explain\n",
      "    - utter_explain_location_hotel\n",
      "    - utter_ask_location\n",
      "* inform{\"location\": \"paris\"}\n",
      "    - utter_ask_startdate\n",
      "* did_that_work\n",
      "    - utter_more_info_hotel\n",
      "    - utter_ask_startdate\n",
      "* inform{\"startdate\": \"May 25th\"}\n",
      "    - utter_ask_price\n",
      "* explain\n",
      "    - utter_explain_price_hotel\n",
      "    - utter_ask_price\n",
      "* did_that_work\n",
      "    - utter_more_info_hotel   <!-- predicted: utter_worked_hotel -->\n",
      "    - utter_ask_price\n",
      "* inform{\"price\": \"cheap\"}\n",
      "    - utter_filled_slots\n",
      "    - action_search_hotel\n",
      "    - utter_suggest_hotel\n",
      "* affirm\n",
      "    - utter_happy\n"
     ]
    }
   ],
   "source": [
    "with open('results/failed_stories.md', \"r\") as f:\n",
    "# with open('data/core/test/hotel_test.md', \"r\") as f:\n",
    "    story = f.read()\n",
    "story = story.strip()\n",
    "# print(story)\n",
    "story = re.sub(r'    - slot{[^}]+}\\n', '', story)\n",
    "story = re.sub(r'    - action_listen[^(\\n)]+\\n', '', story)\n",
    "print(story)\n",
    "story = story.split('\\n')[1:]\n",
    "# print(story)"
   ]
  },
  {
   "cell_type": "code",
   "execution_count": 8,
   "metadata": {},
   "outputs": [
    {
     "name": "stdout",
     "output_type": "stream",
     "text": [
      "* request_hotel\n",
      "[1. 0. 0. 0. 0. 0. 0. 0. 0. 0. 0. 0. 0. 0. 0. 0. 0. 0. 0. 0. 0. 0. 0. 0.\n",
      " 0. 0. 0. 0. 0. 0. 0. 0. 0. 0. 0. 0. 0. 0. 0. 0. 0. 0. 0. 0. 0. 0. 0. 0.]\n",
      "    - utter_ask_details\n",
      "[0.339 0.661 0.    0.    0.    0.    0.    0.    0.    0.    0.    0.\n",
      " 0.    0.    0.    0.    0.    0.    0.    0.    0.    0.    0.    0.\n",
      " 0.    0.    0.    0.    0.    0.    0.    0.    0.    0.    0.    0.\n",
      " 0.    0.    0.    0.    0.    0.    0.    0.    0.    0.    0.    0.   ]\n",
      "* inform{\"enddate\": \"May 26th\", \"people\": \"2\"}\n",
      "[0.001 0.999 0.    0.    0.    0.    0.    0.    0.    0.    0.    0.\n",
      " 0.    0.    0.    0.    0.    0.    0.    0.    0.    0.    0.    0.\n",
      " 0.    0.    0.    0.    0.    0.    0.    0.    0.    0.    0.    0.\n",
      " 0.    0.    0.    0.    0.    0.    0.    0.    0.    0.    0.    0.   ]\n",
      "    - utter_ask_location\n",
      "[0.011 0.001 0.987 0.001 0.    0.    0.    0.    0.    0.    0.    0.\n",
      " 0.    0.    0.    0.    0.    0.    0.    0.    0.    0.    0.    0.\n",
      " 0.    0.    0.    0.    0.    0.    0.    0.    0.    0.    0.    0.\n",
      " 0.    0.    0.    0.    0.    0.    0.    0.    0.    0.    0.    0.   ]\n",
      "* chitchat\n",
      "[0.439 0.485 0.006 0.055 0.015 0.    0.    0.    0.    0.    0.    0.\n",
      " 0.    0.    0.    0.    0.    0.    0.    0.    0.    0.    0.    0.\n",
      " 0.    0.    0.    0.    0.    0.    0.    0.    0.    0.    0.    0.\n",
      " 0.    0.    0.    0.    0.    0.    0.    0.    0.    0.    0.    0.   ]\n",
      "    - utter_chitchat\n",
      "[0.001 0.872 0.    0.118 0.009 0.    0.    0.    0.    0.    0.    0.\n",
      " 0.    0.    0.    0.    0.    0.    0.    0.    0.    0.    0.    0.\n",
      " 0.    0.    0.    0.    0.    0.    0.    0.    0.    0.    0.    0.\n",
      " 0.    0.    0.    0.    0.    0.    0.    0.    0.    0.    0.    0.   ]\n",
      "    - utter_ask_location\n",
      "[0.134 0.792 0.001 0.058 0.007 0.001 0.007 0.    0.    0.    0.    0.\n",
      " 0.    0.    0.    0.    0.    0.    0.    0.    0.    0.    0.    0.\n",
      " 0.    0.    0.    0.    0.    0.    0.    0.    0.    0.    0.    0.\n",
      " 0.    0.    0.    0.    0.    0.    0.    0.    0.    0.    0.    0.   ]\n",
      "* chitchat\n",
      "[0.003 0.857 0.    0.125 0.01  0.    0.006 0.    0.    0.    0.    0.\n",
      " 0.    0.    0.    0.    0.    0.    0.    0.    0.    0.    0.    0.\n",
      " 0.    0.    0.    0.    0.    0.    0.    0.    0.    0.    0.    0.\n",
      " 0.    0.    0.    0.    0.    0.    0.    0.    0.    0.    0.    0.   ]\n",
      "    - utter_chitchat\n",
      "[0.    0.004 0.    0.001 0.    0.    0.001 0.    0.994 0.    0.    0.\n",
      " 0.    0.    0.    0.    0.    0.    0.    0.    0.    0.    0.    0.\n",
      " 0.    0.    0.    0.    0.    0.    0.    0.    0.    0.    0.    0.\n",
      " 0.    0.    0.    0.    0.    0.    0.    0.    0.    0.    0.    0.   ]\n",
      "    - utter_ask_location\n",
      "[0.    0.507 0.    0.083 0.01  0.    0.007 0.    0.393 0.    0.    0.\n",
      " 0.    0.    0.    0.    0.    0.    0.    0.    0.    0.    0.    0.\n",
      " 0.    0.    0.    0.    0.    0.    0.    0.    0.    0.    0.    0.\n",
      " 0.    0.    0.    0.    0.    0.    0.    0.    0.    0.    0.    0.   ]\n",
      "* chitchat\n",
      "[0.    0.    0.173 0.002 0.016 0.34  0.032 0.142 0.013 0.277 0.003 0.\n",
      " 0.    0.    0.    0.    0.    0.    0.    0.    0.    0.    0.    0.\n",
      " 0.    0.    0.    0.    0.    0.    0.    0.    0.    0.    0.    0.\n",
      " 0.    0.    0.    0.    0.    0.    0.    0.    0.    0.    0.    0.   ]\n",
      "    - utter_chitchat\n",
      "[0.    0.045 0.    0.001 0.    0.    0.002 0.    0.877 0.    0.059 0.015\n",
      " 0.    0.    0.    0.    0.    0.    0.    0.    0.    0.    0.    0.\n",
      " 0.    0.    0.    0.    0.    0.    0.    0.    0.    0.    0.    0.\n",
      " 0.    0.    0.    0.    0.    0.    0.    0.    0.    0.    0.    0.   ]\n",
      "    - utter_ask_location\n",
      "[0.    0.489 0.    0.059 0.009 0.    0.006 0.    0.273 0.    0.131 0.032\n",
      " 0.    0.    0.    0.    0.    0.    0.    0.    0.    0.    0.    0.\n",
      " 0.    0.    0.    0.    0.    0.    0.    0.    0.    0.    0.    0.\n",
      " 0.    0.    0.    0.    0.    0.    0.    0.    0.    0.    0.    0.   ]\n",
      "* explain\n",
      "[0.002 0.031 0.    0.006 0.01  0.    0.01  0.    0.61  0.    0.226 0.094\n",
      " 0.    0.01  0.    0.    0.    0.    0.    0.    0.    0.    0.    0.\n",
      " 0.    0.    0.    0.    0.    0.    0.    0.    0.    0.    0.    0.\n",
      " 0.    0.    0.    0.    0.    0.    0.    0.    0.    0.    0.    0.   ]\n",
      "    - utter_explain_location_hotel\n",
      "[0.    0.037 0.    0.001 0.    0.    0.001 0.    0.872 0.    0.08  0.006\n",
      " 0.    0.001 0.002 0.    0.    0.    0.    0.    0.    0.    0.    0.\n",
      " 0.    0.    0.    0.    0.    0.    0.    0.    0.    0.    0.    0.\n",
      " 0.    0.    0.    0.    0.    0.    0.    0.    0.    0.    0.    0.   ]\n",
      "    - utter_ask_location\n",
      "[0.    0.585 0.    0.105 0.01  0.    0.005 0.    0.151 0.    0.089 0.021\n",
      " 0.    0.027 0.006 0.    0.    0.    0.    0.    0.    0.    0.    0.\n",
      " 0.    0.    0.    0.    0.    0.    0.    0.    0.    0.    0.    0.\n",
      " 0.    0.    0.    0.    0.    0.    0.    0.    0.    0.    0.    0.   ]\n",
      "* inform{\"location\": \"paris\"}\n",
      "[0.117 0.006 0.067 0.003 0.006 0.073 0.002 0.46  0.012 0.097 0.035 0.008\n",
      " 0.053 0.007 0.007 0.047 0.    0.    0.    0.    0.    0.    0.    0.\n",
      " 0.    0.    0.    0.    0.    0.    0.    0.    0.    0.    0.    0.\n",
      " 0.    0.    0.    0.    0.    0.    0.    0.    0.    0.    0.    0.   ]\n",
      "    - utter_ask_startdate\n",
      "[0.013 0.298 0.002 0.189 0.121 0.001 0.016 0.003 0.016 0.001 0.091 0.072\n",
      " 0.001 0.121 0.029 0.001 0.024 0.001 0.    0.    0.    0.    0.    0.\n",
      " 0.    0.    0.    0.    0.    0.    0.    0.    0.    0.    0.    0.\n",
      " 0.    0.    0.    0.    0.    0.    0.    0.    0.    0.    0.    0.   ]\n",
      "* did_that_work\n",
      "[0.001 0.    0.229 0.    0.001 0.243 0.    0.167 0.    0.14  0.    0.\n",
      " 0.1   0.    0.001 0.1   0.    0.018 0.    0.    0.    0.    0.    0.\n",
      " 0.    0.    0.    0.    0.    0.    0.    0.    0.    0.    0.    0.\n",
      " 0.    0.    0.    0.    0.    0.    0.    0.    0.    0.    0.    0.   ]\n",
      "    - utter_more_info_hotel\n",
      "[0.123 0.072 0.037 0.024 0.047 0.048 0.021 0.103 0.172 0.041 0.175 0.045\n",
      " 0.022 0.021 0.025 0.017 0.001 0.002 0.002 0.001 0.    0.    0.    0.\n",
      " 0.    0.    0.    0.    0.    0.    0.    0.    0.    0.    0.    0.\n",
      " 0.    0.    0.    0.    0.    0.    0.    0.    0.    0.    0.    0.   ]\n",
      "    - utter_ask_startdate\n",
      "[0.008 0.322 0.001 0.161 0.101 0.001 0.017 0.001 0.021 0.    0.084 0.059\n",
      " 0.    0.105 0.024 0.    0.018 0.    0.047 0.028 0.001 0.    0.    0.\n",
      " 0.    0.    0.    0.    0.    0.    0.    0.    0.    0.    0.    0.\n",
      " 0.    0.    0.    0.    0.    0.    0.    0.    0.    0.    0.    0.   ]\n",
      "* inform{\"startdate\": \"May 25th\"}\n",
      "[0.    0.    0.187 0.    0.001 0.21  0.    0.144 0.    0.162 0.    0.\n",
      " 0.122 0.    0.001 0.126 0.    0.023 0.    0.    0.023 0.    0.    0.\n",
      " 0.    0.    0.    0.    0.    0.    0.    0.    0.    0.    0.    0.\n",
      " 0.    0.    0.    0.    0.    0.    0.    0.    0.    0.    0.    0.   ]\n",
      "    - utter_ask_price\n",
      "[0.093 0.086 0.023 0.03  0.035 0.029 0.026 0.06  0.266 0.035 0.133 0.055\n",
      " 0.021 0.028 0.033 0.018 0.003 0.003 0.005 0.003 0.003 0.007 0.005 0.\n",
      " 0.    0.    0.    0.    0.    0.    0.    0.    0.    0.    0.    0.\n",
      " 0.    0.    0.    0.    0.    0.    0.    0.    0.    0.    0.    0.   ]\n",
      "* explain\n",
      "[0.006 0.264 0.001 0.133 0.066 0.    0.015 0.001 0.021 0.    0.057 0.069\n",
      " 0.    0.087 0.026 0.    0.034 0.    0.073 0.049 0.001 0.074 0.022 0.\n",
      " 0.    0.    0.    0.    0.    0.    0.    0.    0.    0.    0.    0.\n",
      " 0.    0.    0.    0.    0.    0.    0.    0.    0.    0.    0.    0.   ]\n",
      "    - utter_explain_price_hotel\n",
      "[0.001 0.    0.193 0.    0.001 0.192 0.    0.144 0.    0.157 0.    0.\n",
      " 0.115 0.    0.001 0.118 0.    0.023 0.    0.001 0.025 0.    0.001 0.026\n",
      " 0.    0.    0.    0.    0.    0.    0.    0.    0.    0.    0.    0.\n",
      " 0.    0.    0.    0.    0.    0.    0.    0.    0.    0.    0.    0.   ]\n",
      "    - utter_ask_price\n",
      "[0.083 0.069 0.007 0.015 0.02  0.009 0.017 0.026 0.457 0.013 0.141 0.073\n",
      " 0.006 0.014 0.028 0.005 0.001 0.001 0.002 0.001 0.001 0.003 0.002 0.001\n",
      " 0.003 0.002 0.    0.    0.    0.    0.    0.    0.    0.    0.    0.\n",
      " 0.    0.    0.    0.    0.    0.    0.    0.    0.    0.    0.    0.   ]\n",
      "* did_that_work\n",
      "[0.006 0.313 0.    0.108 0.055 0.    0.013 0.    0.041 0.    0.075 0.083\n",
      " 0.    0.074 0.026 0.    0.022 0.    0.046 0.029 0.    0.05  0.014 0.\n",
      " 0.029 0.014 0.    0.    0.    0.    0.    0.    0.    0.    0.    0.\n",
      " 0.    0.    0.    0.    0.    0.    0.    0.    0.    0.    0.    0.   ]\n",
      "    - utter_more_info_hotel   <!-- predicted: utter_worked_hotel -->\n",
      "[0.001 0.    0.148 0.    0.001 0.168 0.    0.156 0.    0.193 0.    0.\n",
      " 0.13  0.001 0.002 0.129 0.    0.018 0.    0.001 0.019 0.    0.001 0.021\n",
      " 0.    0.    0.01  0.    0.    0.    0.    0.    0.    0.    0.    0.\n",
      " 0.    0.    0.    0.    0.    0.    0.    0.    0.    0.    0.    0.   ]\n",
      "    - utter_ask_price\n",
      "[0.056 0.062 0.006 0.012 0.016 0.009 0.019 0.026 0.52  0.017 0.124 0.054\n",
      " 0.009 0.014 0.028 0.007 0.001 0.001 0.002 0.001 0.001 0.003 0.002 0.001\n",
      " 0.003 0.002 0.001 0.002 0.002 0.    0.    0.    0.    0.    0.    0.\n",
      " 0.    0.    0.    0.    0.    0.    0.    0.    0.    0.    0.    0.   ]\n",
      "* inform{\"price\": \"cheap\"}\n",
      "[0.005 0.307 0.    0.092 0.051 0.    0.016 0.001 0.042 0.    0.076 0.081\n",
      " 0.    0.068 0.027 0.    0.019 0.    0.037 0.023 0.    0.04  0.013 0.\n",
      " 0.026 0.013 0.    0.042 0.018 0.    0.    0.    0.    0.    0.    0.\n",
      " 0.    0.    0.    0.    0.    0.    0.    0.    0.    0.    0.    0.   ]\n",
      "    - utter_filled_slots\n",
      "[0.106 0.019 0.023 0.007 0.077 0.027 0.031 0.062 0.086 0.013 0.124 0.175\n",
      " 0.007 0.023 0.085 0.006 0.002 0.003 0.002 0.011 0.004 0.004 0.029 0.005\n",
      " 0.004 0.021 0.004 0.004 0.022 0.005 0.009 0.    0.    0.    0.    0.\n",
      " 0.    0.    0.    0.    0.    0.    0.    0.    0.    0.    0.    0.   ]\n",
      "    - action_search_hotel\n",
      "[0.063 0.077 0.004 0.005 0.008 0.005 0.013 0.028 0.37  0.012 0.192 0.119\n",
      " 0.006 0.015 0.034 0.005 0.002 0.001 0.002 0.002 0.001 0.003 0.004 0.001\n",
      " 0.003 0.004 0.001 0.003 0.004 0.001 0.003 0.008 0.    0.    0.    0.\n",
      " 0.    0.    0.    0.    0.    0.    0.    0.    0.    0.    0.    0.   ]\n",
      "    - utter_suggest_hotel\n",
      "[0.003 0.38  0.    0.089 0.045 0.    0.014 0.    0.035 0.    0.066 0.07\n",
      " 0.    0.048 0.017 0.    0.014 0.    0.026 0.013 0.    0.027 0.007 0.\n",
      " 0.019 0.009 0.    0.033 0.011 0.    0.046 0.027 0.    0.    0.    0.\n",
      " 0.    0.    0.    0.    0.    0.    0.    0.    0.    0.    0.    0.   ]\n",
      "* affirm\n",
      "[0.454 0.036 0.009 0.    0.    0.007 0.005 0.026 0.133 0.095 0.016 0.036\n",
      " 0.071 0.006 0.008 0.039 0.001 0.002 0.001 0.001 0.004 0.001 0.002 0.007\n",
      " 0.002 0.004 0.009 0.001 0.001 0.004 0.002 0.001 0.007 0.006 0.    0.\n",
      " 0.    0.    0.    0.    0.    0.    0.    0.    0.    0.    0.    0.   ]\n",
      "    - utter_happy\n",
      "[0.014 0.382 0.001 0.029 0.01  0.    0.012 0.    0.052 0.    0.038 0.099\n",
      " 0.    0.031 0.018 0.    0.033 0.    0.028 0.021 0.    0.026 0.009 0.\n",
      " 0.024 0.018 0.    0.034 0.013 0.    0.038 0.013 0.    0.055 0.    0.\n",
      " 0.    0.    0.    0.    0.    0.    0.    0.    0.    0.    0.    0.   ]\n"
     ]
    }
   ],
   "source": [
    "for i in range(len(story)):\n",
    "    print(story[i])\n",
    "    print(np.round(attention_weights[0,0, i], 3))\n"
   ]
  },
  {
   "cell_type": "code",
   "execution_count": 9,
   "metadata": {},
   "outputs": [
    {
     "data": {
      "text/plain": [
       "<matplotlib.image.AxesImage at 0x10ea6b0f0>"
      ]
     },
     "execution_count": 9,
     "metadata": {},
     "output_type": "execute_result"
    },
    {
     "data": {
      "image/png": "[encoded data removed]",
      "text/plain": [
       "<Figure size 1440x720 with 4 Axes>"
      ]
     },
     "metadata": {
      "needs_background": "light"
     },
     "output_type": "display_data"
    }
   ],
   "source": [
    "plt.rcParams['figure.figsize'] = [20, 10]\n",
    "plt.subplot(1,4,1)\n",
    "plt.imshow(attention_weights[0,0])\n",
    "plt.subplot(1,4,2)\n",
    "plt.imshow(attention_weights[0,1])\n",
    "plt.subplot(1,4,3)\n",
    "plt.imshow(attention_weights[0,2])\n",
    "plt.subplot(1,4,4)\n",
    "plt.imshow(attention_weights[0,3])"
   ]
  },
  {
   "cell_type": "code",
   "execution_count": 10,
   "metadata": {},
   "outputs": [
    {
     "data": {
      "image/png": "[encoded data removed]",
      "text/plain": [
       "<Figure size 1440x720 with 4 Axes>"
      ]
     },
     "metadata": {
      "needs_background": "light"
     },
     "output_type": "display_data"
    }
   ],
   "source": [
    "plt.subplot(1,4,1)\n",
    "plt.imshow(attention_weights[1,0])\n",
    "plt.subplot(1,4,2)\n",
    "plt.imshow(attention_weights[1,1])\n",
    "plt.subplot(1,4,3)\n",
    "plt.imshow(attention_weights[1,2])\n",
    "plt.subplot(1,4,4)\n",
    "plt.imshow(attention_weights[1,3])\n",
    "plt.savefig('core.png')"
   ]
  },
  {
   "cell_type": "code",
   "execution_count": null,
   "metadata": {},
   "outputs": [],
   "source": []
  },
  {
   "cell_type": "code",
   "execution_count": null,
   "metadata": {},
   "outputs": [],
   "source": []
  }
 ],
 "metadata": {
  "kernelspec": {
   "display_name": "Python 3",
   "language": "python",
   "name": "python3"
  },
  "language_info": {
   "codemirror_mode": {
    "name": "ipython",
    "version": 3
   },
   "file_extension": ".py",
   "mimetype": "text/x-python",
   "name": "python",
   "nbconvert_exporter": "python",
   "pygments_lexer": "ipython3",
   "version": "3.7.3"
  }
 },
 "nbformat": 4,
 "nbformat_minor": 2
}
