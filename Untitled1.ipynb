{
 "cells": [
  {
   "cell_type": "code",
   "execution_count": 1,
   "metadata": {},
   "outputs": [],
   "source": [
    "from rasa.core.test import _generate_trackers, collect_story_predictions\n",
    "from rasa.core.agent import Agent\n",
    "from rasa.model import get_model\n",
    "from rasa.core.trackers import DialogueStateTracker\n",
    "from rasa.core.events import ActionExecuted, UserUttered\n",
    "import numpy as np\n",
    "import matplotlib.pyplot as plt\n",
    "%matplotlib inline"
   ]
  },
  {
   "cell_type": "code",
   "execution_count": 2,
   "metadata": {},
   "outputs": [
    {
     "name": "stdout",
     "output_type": "stream",
     "text": [
      "WARNING:tensorflow:\n",
      "The TensorFlow contrib module will not be included in TensorFlow 2.0.\n",
      "For more information, please see:\n",
      "  * https://github.com/tensorflow/community/blob/master/rfcs/20180907-contrib-sunset.md\n",
      "  * https://github.com/tensorflow/addons\n",
      "  * https://github.com/tensorflow/io (for I/O related ops)\n",
      "If you depend on functionality not listed there, please file an issue.\n",
      "\n",
      "WARNING:tensorflow:From /Users/ghost/Documents/rasa/tensor2tensor/tensor2tensor/utils/adafactor.py:27: The name tf.train.Optimizer is deprecated. Please use tf.compat.v1.train.Optimizer instead.\n",
      "\n",
      "WARNING:tensorflow:From /Users/ghost/Documents/rasa/tensor2tensor/tensor2tensor/utils/multistep_optimizer.py:32: The name tf.train.AdamOptimizer is deprecated. Please use tf.compat.v1.train.AdamOptimizer instead.\n",
      "\n",
      "WARNING:tensorflow:From /usr/local/lib/python3.7/site-packages/mesh_tensorflow/ops.py:4237: The name tf.train.CheckpointSaverListener is deprecated. Please use tf.estimator.CheckpointSaverListener instead.\n",
      "\n",
      "WARNING:tensorflow:From /usr/local/lib/python3.7/site-packages/mesh_tensorflow/ops.py:4260: The name tf.train.SessionRunHook is deprecated. Please use tf.estimator.SessionRunHook instead.\n",
      "\n",
      "WARNING:tensorflow:From /Users/ghost/Documents/rasa/tensor2tensor/tensor2tensor/models/research/neural_stack.py:51: The name tf.nn.rnn_cell.RNNCell is deprecated. Please use tf.compat.v1.nn.rnn_cell.RNNCell instead.\n",
      "\n",
      "WARNING:tensorflow:From /Users/ghost/Documents/rasa/tensor2tensor/tensor2tensor/utils/trainer_lib.py:111: The name tf.OptimizerOptions is deprecated. Please use tf.compat.v1.OptimizerOptions instead.\n",
      "\n"
     ]
    },
    {
     "name": "stderr",
     "output_type": "stream",
     "text": [
      "WARNING:tensorflow:From /Users/ghost/Documents/rasa/tensor2tensor/tensor2tensor/utils/trainer_lib.py:111: The name tf.OptimizerOptions is deprecated. Please use tf.compat.v1.OptimizerOptions instead.\n",
      "\n"
     ]
    },
    {
     "name": "stdout",
     "output_type": "stream",
     "text": [
      "WARNING:tensorflow:From /usr/local/lib/python3.7/site-packages/tensorflow_gan/python/contrib_utils.py:305: The name tf.estimator.tpu.TPUEstimator is deprecated. Please use tf.compat.v1.estimator.tpu.TPUEstimator instead.\n",
      "\n"
     ]
    },
    {
     "name": "stderr",
     "output_type": "stream",
     "text": [
      "WARNING:tensorflow:From /usr/local/lib/python3.7/site-packages/tensorflow_gan/python/contrib_utils.py:305: The name tf.estimator.tpu.TPUEstimator is deprecated. Please use tf.compat.v1.estimator.tpu.TPUEstimator instead.\n",
      "\n"
     ]
    },
    {
     "name": "stdout",
     "output_type": "stream",
     "text": [
      "WARNING:tensorflow:From /usr/local/lib/python3.7/site-packages/tensorflow_gan/python/contrib_utils.py:310: The name tf.estimator.tpu.TPUEstimatorSpec is deprecated. Please use tf.compat.v1.estimator.tpu.TPUEstimatorSpec instead.\n",
      "\n"
     ]
    },
    {
     "name": "stderr",
     "output_type": "stream",
     "text": [
      "WARNING:tensorflow:From /usr/local/lib/python3.7/site-packages/tensorflow_gan/python/contrib_utils.py:310: The name tf.estimator.tpu.TPUEstimatorSpec is deprecated. Please use tf.compat.v1.estimator.tpu.TPUEstimatorSpec instead.\n",
      "\n"
     ]
    },
    {
     "name": "stdout",
     "output_type": "stream",
     "text": [
      "WARNING:tensorflow:From /Users/ghost/Documents/rasa/rasa/rasa/core/policies/embedding_policy.py:674: The name tf.Session is deprecated. Please use tf.compat.v1.Session instead.\n",
      "\n"
     ]
    },
    {
     "name": "stderr",
     "output_type": "stream",
     "text": [
      "WARNING:tensorflow:From /Users/ghost/Documents/rasa/rasa/rasa/core/policies/embedding_policy.py:674: The name tf.Session is deprecated. Please use tf.compat.v1.Session instead.\n",
      "\n"
     ]
    },
    {
     "name": "stdout",
     "output_type": "stream",
     "text": [
      "WARNING:tensorflow:From /Users/ghost/Documents/rasa/rasa/rasa/core/policies/embedding_policy.py:675: The name tf.train.import_meta_graph is deprecated. Please use tf.compat.v1.train.import_meta_graph instead.\n",
      "\n"
     ]
    },
    {
     "name": "stderr",
     "output_type": "stream",
     "text": [
      "WARNING:tensorflow:From /Users/ghost/Documents/rasa/rasa/rasa/core/policies/embedding_policy.py:675: The name tf.train.import_meta_graph is deprecated. Please use tf.compat.v1.train.import_meta_graph instead.\n",
      "\n"
     ]
    },
    {
     "name": "stdout",
     "output_type": "stream",
     "text": [
      "WARNING:tensorflow:From /usr/local/lib/python3.7/site-packages/tensorflow/python/training/saver.py:1276: checkpoint_exists (from tensorflow.python.training.checkpoint_management) is deprecated and will be removed in a future version.\n",
      "Instructions for updating:\n",
      "Use standard file APIs to check for files with this prefix.\n"
     ]
    },
    {
     "name": "stderr",
     "output_type": "stream",
     "text": [
      "WARNING:tensorflow:From /usr/local/lib/python3.7/site-packages/tensorflow/python/training/saver.py:1276: checkpoint_exists (from tensorflow.python.training.checkpoint_management) is deprecated and will be removed in a future version.\n",
      "Instructions for updating:\n",
      "Use standard file APIs to check for files with this prefix.\n"
     ]
    },
    {
     "name": "stdout",
     "output_type": "stream",
     "text": [
      "INFO:tensorflow:Restoring parameters from /var/folders/k6/6hbz34d90fl1s5ywp6srmsg80000gn/T/tmpgwyde61e/core/policy_0_EmbeddingPolicy/tensorflow_embedding.ckpt\n"
     ]
    },
    {
     "name": "stderr",
     "output_type": "stream",
     "text": [
      "INFO:tensorflow:Restoring parameters from /var/folders/k6/6hbz34d90fl1s5ywp6srmsg80000gn/T/tmpgwyde61e/core/policy_0_EmbeddingPolicy/tensorflow_embedding.ckpt\n"
     ]
    },
    {
     "name": "stdout",
     "output_type": "stream",
     "text": [
      "WARNING:tensorflow:From /Users/ghost/Documents/rasa/rasa/rasa/utils/train_utils.py:1131: The name tf.get_collection is deprecated. Please use tf.compat.v1.get_collection instead.\n",
      "\n"
     ]
    },
    {
     "name": "stderr",
     "output_type": "stream",
     "text": [
      "WARNING:tensorflow:From /Users/ghost/Documents/rasa/rasa/rasa/utils/train_utils.py:1131: The name tf.get_collection is deprecated. Please use tf.compat.v1.get_collection instead.\n",
      "\n"
     ]
    }
   ],
   "source": [
    "model = \"models/transformer.tar.gz\"\n",
    "# model = \"models/transformer.tar.gz\"\n",
    "agent = Agent.load(get_model(model))"
   ]
  },
  {
   "cell_type": "code",
   "execution_count": 10,
   "metadata": {},
   "outputs": [],
   "source": [
    "# stories = \"data/core/test/simulated_hotel_test2.md\"\n",
    "stories = \"results/failed_stories.md\""
   ]
  },
  {
   "cell_type": "code",
   "execution_count": 11,
   "metadata": {},
   "outputs": [
    {
     "name": "stderr",
     "output_type": "stream",
     "text": [
      "Processed Story Blocks: 100%|██████████| 1/1 [00:00<00:00, 254.31it/s, # trackers=1]\n"
     ]
    }
   ],
   "source": [
    "completed_trackers = await _generate_trackers(stories, agent)"
   ]
  },
  {
   "cell_type": "code",
   "execution_count": 12,
   "metadata": {},
   "outputs": [
    {
     "name": "stderr",
     "output_type": "stream",
     "text": [
      "100%|██████████| 1/1 [00:05<00:00,  5.31s/it]\n"
     ]
    }
   ],
   "source": [
    "story_evaluation, _ = collect_story_predictions(completed_trackers, agent)"
   ]
  },
  {
   "cell_type": "code",
   "execution_count": 13,
   "metadata": {},
   "outputs": [
    {
     "name": "stdout",
     "output_type": "stream",
     "text": [
      "## Generated Story -1624530263152194104\n",
      "* request_hotel\n",
      "    - utter_ask_details\n",
      "* inform{\"price\": \"mid-range\"}\n",
      "    - slot{\"price\": \"mid-range\"}\n",
      "    - slot{\"price\": \"mid-range\"}\n",
      "    - slot{\"price\": \"mid-range\"}\n",
      "    - utter_ask_people\n",
      "* did_that_work\n",
      "    - utter_more_info_hotel\n",
      "    - utter_ask_people\n",
      "* correct{\"price\": \"expensive\"}\n",
      "    - slot{\"price\": \"expensive\"}\n",
      "    - slot{\"price\": \"expensive\"}\n",
      "    - slot{\"price\": \"expensive\"}\n",
      "    - utter_correct_price_hotel\n",
      "    - utter_ask_people\n",
      "* inform{\"people\": \"4\"}\n",
      "    - slot{\"people\": \"4\"}\n",
      "    - slot{\"people\": \"4\"}\n",
      "    - utter_ask_startdate\n",
      "* inform{\"startdate\": \"10.03.2018\"}\n",
      "    - slot{\"startdate\": \"10.03.2018\"}\n",
      "    - slot{\"startdate\": \"10.03.2018\"}\n",
      "    - utter_ask_enddate\n",
      "* inform{\"enddate\": \"10.03.2018\"}\n",
      "    - slot{\"enddate\": \"10.03.2018\"}\n",
      "    - slot{\"enddate\": \"10.03.2018\"}\n",
      "    - utter_ask_location\n",
      "* correct{\"price\": \"expensive\"}\n",
      "    - slot{\"price\": \"expensive\"}\n",
      "    - slot{\"price\": \"expensive\"}\n",
      "    - slot{\"price\": \"expensive\"}\n",
      "    - utter_correct_price_hotel\n",
      "    - utter_ask_location\n",
      "* correct{\"price\": \"expensive\"}\n",
      "    - slot{\"price\": \"expensive\"}\n",
      "    - slot{\"price\": \"expensive\"}\n",
      "    - slot{\"price\": \"expensive\"}\n",
      "    - utter_correct_price_hotel\n",
      "    - utter_ask_location\n",
      "* correct{\"price\": \"expensive\"}\n",
      "    - slot{\"price\": \"expensive\"}\n",
      "    - slot{\"price\": \"expensive\"}\n",
      "    - slot{\"price\": \"expensive\"}\n",
      "    - utter_correct_price_hotel   <!-- predicted: utter_correct_startdate_hotel -->\n",
      "    - utter_ask_location\n",
      "* inform{\"location\": \"paris\"}\n",
      "    - slot{\"location\": \"paris\"}\n",
      "    - slot{\"location\": \"paris\"}\n",
      "    - utter_filled_slots\n",
      "    - action_search_hotel\n",
      "    - slot{\"hotel\": \"hotel\"}\n",
      "    - utter_suggest_hotel\n",
      "* did_that_work\n",
      "    - utter_worked_hotel\n",
      "    - utter_suggest_hotel\n",
      "* affirm\n",
      "    - utter_happy\n",
      "\n"
     ]
    }
   ],
   "source": [
    "try:\n",
    "    print(story_evaluation.failed_stories[0].export_stories())\n",
    "except:\n",
    "    pass"
   ]
  },
  {
   "cell_type": "code",
   "execution_count": 14,
   "metadata": {},
   "outputs": [],
   "source": [
    "def plot_attention_weights(attention_weights, dial):\n",
    "    plt.rcParams['figure.figsize'] = [16, 16]\n",
    "    plt.set_cmap('Purples')\n",
    "#     plt.subplot(1,4,1)\n",
    "    plt.imshow(attention_weights[0,0])\n",
    "#     plt.subplot(1,4,2)\n",
    "#     plt.imshow(attention_weights[0,1])\n",
    "#     plt.subplot(1,4,3)\n",
    "#     plt.imshow(attention_weights[0,2])\n",
    "#     plt.subplot(1,4,4)\n",
    "#     plt.imshow(attention_weights[0,3])\n",
    "    axis = np.arange(0, len(dial), 1)\n",
    "    plt.yticks(axis, dial, horizontalalignment='left', position=(-0.2,0))\n",
    "    plt.xticks(axis, dial, rotation='vertical', verticalalignment='bottom', position=(0,-0.2))\n",
    "    plt.savefig('attn.pdf', format='pdf', bbox_inches='tight')\n",
    "    plt.show()"
   ]
  },
  {
   "cell_type": "code",
   "execution_count": 15,
   "metadata": {},
   "outputs": [],
   "source": [
    "tracker = completed_trackers[0]\n",
    "events = list(tracker.events)\n",
    "processor = agent.create_processor()\n",
    "policy = processor.policy_ensemble.policies[0]"
   ]
  },
  {
   "cell_type": "code",
   "execution_count": 16,
   "metadata": {},
   "outputs": [
    {
     "name": "stdout",
     "output_type": "stream",
     "text": [
      "---\n",
      "utter_ask_details 0.87\n",
      "utter_ask_details 0.87 0.187 0.187\n",
      "utter_ask_details 0.97\n",
      "{'utter_ask_details': 97, 'utter_correct_cuisine_restaurant': 1, 'utter_correct_people_restaurant': 1, 'utter_correct_price_restaurant': 1}\n",
      "2 utter_ask_details     predicted: utter_ask_details\n",
      "---\n",
      "action_listen 0.999\n",
      "action_listen 0.999 0.002 0.002\n",
      "action_listen 1.0\n",
      "{'action_listen': 100}\n",
      "3 action_listen     predicted: action_listen\n",
      "---\n",
      "utter_ask_people 0.95\n",
      "utter_ask_people 0.95 0.058 0.058\n",
      "utter_ask_people 1.0\n",
      "{'utter_ask_people': 100}\n",
      "4 utter_ask_people     predicted: utter_ask_people\n",
      "---\n",
      "action_listen 0.998\n",
      "action_listen 0.998 0.005 0.005\n",
      "action_listen 1.0\n",
      "{'action_listen': 100}\n",
      "5 action_listen     predicted: action_listen\n",
      "---\n",
      "utter_more_info_hotel 0.954\n",
      "utter_more_info_hotel 0.954 0.111 0.111\n",
      "utter_more_info_hotel 0.98\n",
      "{'utter_ask_details': 1, 'utter_chitchat': 1, 'utter_more_info_hotel': 98}\n",
      "6 utter_more_info_hotel     predicted: utter_more_info_hotel\n",
      "---\n",
      "utter_ask_people 0.95\n",
      "utter_ask_people 0.95 0.056 0.056\n",
      "utter_ask_people 1.0\n",
      "{'utter_ask_people': 100}\n",
      "7 utter_ask_people     predicted: utter_ask_people\n",
      "---\n",
      "action_listen 0.999\n",
      "action_listen 0.999 0.002 0.002\n",
      "action_listen 1.0\n",
      "{'action_listen': 100}\n",
      "8 action_listen     predicted: action_listen\n",
      "---\n",
      "utter_correct_price_hotel 0.876\n",
      "utter_correct_price_hotel 0.876 0.186 0.186\n",
      "utter_correct_price_hotel 0.95\n",
      "{'utter_correct_enddate_hotel': 1, 'utter_correct_location_hotel': 1, 'utter_correct_price_hotel': 95, 'utter_correct_startdate_hotel': 2, 'utter_filled_slots': 1}\n",
      "9 utter_correct_price_hotel     predicted: utter_correct_price_hotel\n",
      "---\n",
      "utter_ask_people 0.952\n",
      "utter_ask_people 0.952 0.042 0.042\n",
      "utter_ask_people 1.0\n",
      "{'utter_ask_people': 100}\n",
      "10 utter_ask_people     predicted: utter_ask_people\n",
      "---\n",
      "action_listen 0.998\n",
      "action_listen 0.998 0.011 0.011\n",
      "action_listen 1.0\n",
      "{'action_listen': 100}\n",
      "11 action_listen     predicted: action_listen\n",
      "---\n",
      "utter_ask_startdate 0.87\n",
      "utter_ask_startdate 0.87 0.101 0.101\n",
      "utter_ask_startdate 1.0\n",
      "{'utter_ask_startdate': 100}\n",
      "12 utter_ask_startdate     predicted: utter_ask_startdate\n",
      "---\n",
      "action_listen 0.999\n",
      "action_listen 0.999 0.003 0.003\n",
      "action_listen 1.0\n",
      "{'action_listen': 100}\n",
      "13 action_listen     predicted: action_listen\n",
      "---\n",
      "utter_ask_enddate 0.961\n",
      "utter_ask_enddate 0.961 0.056 0.056\n",
      "utter_ask_enddate 1.0\n",
      "{'utter_ask_enddate': 100}\n",
      "14 utter_ask_enddate     predicted: utter_ask_enddate\n",
      "---\n",
      "action_listen 0.998\n",
      "action_listen 0.998 0.006 0.006\n",
      "action_listen 1.0\n",
      "{'action_listen': 100}\n",
      "15 action_listen     predicted: action_listen\n",
      "---\n",
      "utter_ask_location 0.957\n",
      "utter_ask_location 0.957 0.068 0.068\n",
      "utter_ask_location 1.0\n",
      "{'utter_ask_location': 100}\n",
      "16 utter_ask_location     predicted: utter_ask_location\n",
      "---\n",
      "action_listen 0.998\n",
      "action_listen 0.998 0.003 0.003\n",
      "action_listen 1.0\n",
      "{'action_listen': 100}\n",
      "17 action_listen     predicted: action_listen\n",
      "---\n",
      "utter_correct_price_hotel 0.903\n",
      "utter_correct_price_hotel 0.903 0.155 0.155\n",
      "utter_correct_price_hotel 0.98\n",
      "{'utter_correct_enddate_hotel': 1, 'utter_correct_price_hotel': 98, 'utter_correct_price_restaurant': 1}\n",
      "18 utter_correct_price_hotel     predicted: utter_correct_price_hotel\n",
      "---\n",
      "utter_ask_location 0.968\n",
      "utter_ask_location 0.968 0.041 0.041\n",
      "utter_ask_location 1.0\n",
      "{'utter_ask_location': 100}\n",
      "19 utter_ask_location     predicted: utter_ask_location\n",
      "---\n",
      "action_listen 0.999\n",
      "action_listen 0.999 0.003 0.003\n",
      "action_listen 1.0\n",
      "{'action_listen': 100}\n",
      "20 action_listen     predicted: action_listen\n",
      "---\n",
      "utter_correct_price_hotel 0.899\n",
      "utter_correct_price_hotel 0.899 0.154 0.154\n",
      "utter_correct_price_hotel 0.97\n",
      "{'utter_correct_people_hotel': 2, 'utter_correct_price_hotel': 97, 'utter_correct_startdate_hotel': 1}\n",
      "21 utter_correct_price_hotel     predicted: utter_correct_price_hotel\n",
      "---\n",
      "utter_ask_location 0.963\n",
      "utter_ask_location 0.963 0.077 0.077\n",
      "utter_ask_location 0.99\n",
      "{'utter_ask_location': 99, 'utter_correct_location_restaurant': 1}\n",
      "22 utter_ask_location     predicted: utter_ask_location\n",
      "---\n",
      "action_listen 0.999\n",
      "action_listen 0.999 0.003 0.003\n",
      "action_listen 1.0\n",
      "{'action_listen': 100}\n",
      "23 action_listen     predicted: action_listen\n",
      "---\n",
      "utter_correct_startdate_hotel 0.602\n",
      "utter_correct_startdate_hotel 0.602 0.324 0.324\n",
      "utter_correct_startdate_hotel 0.69\n",
      "{'action_listen': 1, 'utter_ask_cuisine': 1, 'utter_correct_cuisine_restaurant': 3, 'utter_correct_location_hotel': 9, 'utter_correct_location_restaurant': 1, 'utter_correct_people_hotel': 1, 'utter_correct_price_hotel': 15, 'utter_correct_startdate_hotel': 69}\n",
      "24 utter_correct_price_hotel     predicted: utter_correct_startdate_hotel\n",
      "---\n",
      "utter_ask_location 0.971\n",
      "utter_ask_location 0.971 0.044 0.044\n",
      "utter_ask_location 1.0\n",
      "{'utter_ask_location': 100}\n",
      "25 utter_ask_location     predicted: utter_ask_location\n",
      "---\n",
      "action_listen 0.999\n",
      "action_listen 0.999 0.007 0.007\n",
      "action_listen 1.0\n",
      "{'action_listen': 100}\n",
      "26 action_listen     predicted: action_listen\n",
      "---\n",
      "utter_filled_slots 0.995\n",
      "utter_filled_slots 0.995 0.015 0.015\n",
      "utter_filled_slots 1.0\n",
      "{'utter_filled_slots': 100}\n",
      "27 utter_filled_slots     predicted: utter_filled_slots\n",
      "---\n",
      "action_search_hotel 0.966\n",
      "action_search_hotel 0.966 0.108 0.108\n",
      "action_search_hotel 0.99\n",
      "{'action_search_hotel': 99, 'utter_explain_people_hotel': 1}\n",
      "28 action_search_hotel     predicted: action_search_hotel\n",
      "---\n",
      "utter_suggest_hotel 0.971\n",
      "utter_suggest_hotel 0.971 0.052 0.052\n",
      "utter_suggest_hotel 1.0\n",
      "{'utter_suggest_hotel': 100}\n",
      "29 utter_suggest_hotel     predicted: utter_suggest_hotel\n",
      "---\n",
      "action_listen 0.999\n",
      "action_listen 0.999 0.004 0.004\n",
      "action_listen 1.0\n",
      "{'action_listen': 100}\n",
      "30 action_listen     predicted: action_listen\n",
      "---\n",
      "utter_worked_hotel 0.949\n",
      "utter_worked_hotel 0.949 0.122 0.122\n",
      "utter_worked_hotel 0.99\n",
      "{'utter_explain_price_hotel': 1, 'utter_worked_hotel': 99}\n",
      "31 utter_worked_hotel     predicted: utter_worked_hotel\n",
      "---\n",
      "utter_suggest_hotel 0.968\n",
      "utter_suggest_hotel 0.968 0.052 0.052\n",
      "utter_suggest_hotel 1.0\n",
      "{'utter_suggest_hotel': 100}\n",
      "32 utter_suggest_hotel     predicted: utter_suggest_hotel\n",
      "---\n",
      "action_listen 0.998\n",
      "action_listen 0.998 0.005 0.005\n",
      "action_listen 1.0\n",
      "{'action_listen': 100}\n",
      "33 action_listen     predicted: action_listen\n",
      "---\n",
      "utter_happy 0.978\n",
      "utter_happy 0.978 0.076 0.076\n",
      "utter_happy 1.0\n",
      "{'utter_happy': 100}\n",
      "34 utter_happy     predicted: utter_happy\n",
      "---\n",
      "action_listen 0.999\n",
      "action_listen 0.999 0.002 0.002\n",
      "action_listen 1.0\n",
      "{'action_listen': 100}\n",
      "35 action_listen     predicted: action_listen\n",
      "34\n",
      "35\n",
      "2\n",
      "(1, 4, 38, 38)\n"
     ]
    },
    {
     "data": {
      "image/png": "[encoded data removed]",
      "text/plain": [
       "<Figure size 1152x1152 with 1 Axes>"
      ]
     },
     "metadata": {
      "needs_background": "light"
     },
     "output_type": "display_data"
    }
   ],
   "source": [
    "partial_tracker = DialogueStateTracker.from_events(tracker.sender_id, events[:1], agent.domain.slots)\n",
    "\n",
    "prev_action_index = 1\n",
    "attention_weights = None\n",
    "not_listen_ids = []\n",
    "dial = []\n",
    "for event in events[1:]:\n",
    "    if isinstance(event, ActionExecuted):\n",
    "        prev_action_index += 1\n",
    "        attention_weights = policy.session.run(policy.attention_weights,\n",
    "                                               feed_dict=policy.tf_feed_dict_for_prediction(partial_tracker, processor.domain))\n",
    "#         print(event.action_name, attention_weights.shape)\n",
    "#         plot_attention_weights(attention_weights[:,0,:,:,:]) # remove batch\n",
    "#         for head in range(4):\n",
    "#             print(np.round(attention_weights[0,0,head,-1,-prev_action_index:], 3))\n",
    "        if event.action_name != 'action_listen':\n",
    "            dial.append('    - ' + event.as_story_string())\n",
    "            not_listen_ids.append(prev_action_index)\n",
    "#             print(attention_weights[:,0,:,:,:].shape)\n",
    "#             attention_weights_no_listen.append(attention_weights[:,0,:,-1:,:])\n",
    "        action_confidences = policy.predict_action_probabilities(partial_tracker, processor.domain)\n",
    "        mean = policy.mean\n",
    "        stds = policy.stds\n",
    "#         print(action_confidences)\n",
    "#         print(np.max(action_confidences))\n",
    "        max_confidence_index = int(np.argmax(action_confidences))\n",
    "        action = processor.domain.action_for_index(max_confidence_index, processor.action_endpoint)\n",
    "        max_mean_confidence_index = int(np.argmax(mean))\n",
    "        mean_action = processor.domain.action_for_index(max_mean_confidence_index, processor.action_endpoint)\n",
    "        i_max_mean = policy.i_max_mean\n",
    "        i_max_mean_action = processor.domain.action_for_index(i_max_mean, processor.action_endpoint)\n",
    "        i_max_actions = [processor.domain.action_for_index(i, processor.action_endpoint).name() for i in policy.i_max]\n",
    "        i_max_actions_u, i_max_actions_c = np.unique(i_max_actions, return_counts=True)\n",
    "        i_max_actions = dict(zip(i_max_actions_u, i_max_actions_c))\n",
    "        i_max_err = policy.i_max_err\n",
    "#         if action.name() != event.action_name:\n",
    "        print(\"---\")\n",
    "        print(action.name(), np.round(np.max(action_confidences), 3))\n",
    "        print(mean_action.name(), np.round(np.max(mean), 3), np.round(stds[max_mean_confidence_index], 3), np.round(np.max(stds), 3))\n",
    "        print(i_max_mean_action.name(), np.round(i_max_err, 3))\n",
    "        print(i_max_actions)\n",
    "        print(prev_action_index, event.action_name, \"    predicted:\", action.name())\n",
    "#         else:\n",
    "#             print(prev_action_index, event.action_name)\n",
    "        partial_tracker.update(event)\n",
    "        \n",
    "    else:\n",
    "        if isinstance(event, UserUttered):\n",
    "            dial.append('* ' + event.as_story_string())\n",
    "        partial_tracker.update(event)\n",
    "\n",
    "print(len(dial))\n",
    "print(prev_action_index)\n",
    "print(not_listen_ids[0])\n",
    "print(attention_weights[:,0,:,:,:].shape)\n",
    "# print(not_listen_ids)\n",
    "new_attention_weights = np.zeros_like(attention_weights[:,:,:,:,:])\n",
    "for i in not_listen_ids:\n",
    "    new_attention_weights[:,:,:,i-1:i,:] = attention_weights[:,:,:,i-1:i,:]\n",
    "\n",
    "plot_attention_weights(attention_weights[:,0,:,:-1,1:], dial) # remove batch\n",
    "# print(attn_no_listen.shape)\n",
    "# plot_attention_weights(attn_no_listen) # remove batch"
   ]
  },
  {
   "cell_type": "code",
   "execution_count": null,
   "metadata": {},
   "outputs": [],
   "source": []
  },
  {
   "cell_type": "code",
   "execution_count": null,
   "metadata": {},
   "outputs": [],
   "source": []
  }
 ],
 "metadata": {
  "kernelspec": {
   "display_name": "Python 3",
   "language": "python",
   "name": "python3"
  },
  "language_info": {
   "codemirror_mode": {
    "name": "ipython",
    "version": 3
   },
   "file_extension": ".py",
   "mimetype": "text/x-python",
   "name": "python",
   "nbconvert_exporter": "python",
   "pygments_lexer": "ipython3",
   "version": "3.7.3"
  }
 },
 "nbformat": 4,
 "nbformat_minor": 2
}
