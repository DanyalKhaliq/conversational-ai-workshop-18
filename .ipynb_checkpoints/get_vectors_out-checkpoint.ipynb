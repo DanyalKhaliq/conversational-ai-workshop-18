{
 "cells": [
  {
   "cell_type": "code",
   "execution_count": 1,
   "metadata": {},
   "outputs": [
    {
     "name": "stderr",
     "output_type": "stream",
     "text": [
      "/usr/local/lib/python3.6/site-packages/pykwalify/core.py:99: UnsafeLoaderWarning: \n",
      "The default 'Loader' for 'load(stream)' without further arguments can be unsafe.\n",
      "Use 'load(stream, Loader=ruamel.yaml.Loader)' explicitly if that is OK.\n",
      "Alternatively include the following in your code:\n",
      "\n",
      "  import warnings\n",
      "  warnings.simplefilter('ignore', ruamel.yaml.error.UnsafeLoaderWarning)\n",
      "\n",
      "In most other cases you should consider using 'safe_load(stream)'\n",
      "  data = yaml.load(stream)\n"
     ]
    },
    {
     "name": "stdout",
     "output_type": "stream",
     "text": [
      "INFO:tensorflow:Restoring parameters from models/dialogue_embed/policy_0_EmbeddingPolicy/tensorflow_embedding.ckpt\n"
     ]
    },
    {
     "data": {
      "text/html": [
       "\n",
       "    <div class=\"bk-root\">\n",
       "        <a href=\"https://bokeh.pydata.org\" target=\"_blank\" class=\"bk-logo bk-logo-small bk-logo-notebook\"></a>\n",
       "        <span id=\"062b9937-0701-46d6-9c7a-36f844ba5866\">Loading BokehJS ...</span>\n",
       "    </div>"
      ]
     },
     "metadata": {},
     "output_type": "display_data"
    },
    {
     "data": {
      "application/javascript": [
       "\n",
       "(function(root) {\n",
       "  function now() {\n",
       "    return new Date();\n",
       "  }\n",
       "\n",
       "  var force = true;\n",
       "\n",
       "  if (typeof (root._bokeh_onload_callbacks) === \"undefined\" || force === true) {\n",
       "    root._bokeh_onload_callbacks = [];\n",
       "    root._bokeh_is_loading = undefined;\n",
       "  }\n",
       "\n",
       "  var JS_MIME_TYPE = 'application/javascript';\n",
       "  var HTML_MIME_TYPE = 'text/html';\n",
       "  var EXEC_MIME_TYPE = 'application/vnd.bokehjs_exec.v0+json';\n",
       "  var CLASS_NAME = 'output_bokeh rendered_html';\n",
       "\n",
       "  /**\n",
       "   * Render data to the DOM node\n",
       "   */\n",
       "  function render(props, node) {\n",
       "    var script = document.createElement(\"script\");\n",
       "    node.appendChild(script);\n",
       "  }\n",
       "\n",
       "  /**\n",
       "   * Handle when an output is cleared or removed\n",
       "   */\n",
       "  function handleClearOutput(event, handle) {\n",
       "    var cell = handle.cell;\n",
       "\n",
       "    var id = cell.output_area._bokeh_element_id;\n",
       "    var server_id = cell.output_area._bokeh_server_id;\n",
       "    // Clean up Bokeh references\n",
       "    if (id != null && id in Bokeh.index) {\n",
       "      Bokeh.index[id].model.document.clear();\n",
       "      delete Bokeh.index[id];\n",
       "    }\n",
       "\n",
       "    if (server_id !== undefined) {\n",
       "      // Clean up Bokeh references\n",
       "      var cmd = \"from bokeh.io.state import curstate; print(curstate().uuid_to_server['\" + server_id + \"'].get_sessions()[0].document.roots[0]._id)\";\n",
       "      cell.notebook.kernel.execute(cmd, {\n",
       "        iopub: {\n",
       "          output: function(msg) {\n",
       "            var id = msg.content.text.trim();\n",
       "            if (id in Bokeh.index) {\n",
       "              Bokeh.index[id].model.document.clear();\n",
       "              delete Bokeh.index[id];\n",
       "            }\n",
       "          }\n",
       "        }\n",
       "      });\n",
       "      // Destroy server and session\n",
       "      var cmd = \"import bokeh.io.notebook as ion; ion.destroy_server('\" + server_id + \"')\";\n",
       "      cell.notebook.kernel.execute(cmd);\n",
       "    }\n",
       "  }\n",
       "\n",
       "  /**\n",
       "   * Handle when a new output is added\n",
       "   */\n",
       "  function handleAddOutput(event, handle) {\n",
       "    var output_area = handle.output_area;\n",
       "    var output = handle.output;\n",
       "\n",
       "    // limit handleAddOutput to display_data with EXEC_MIME_TYPE content only\n",
       "    if ((output.output_type != \"display_data\") || (!output.data.hasOwnProperty(EXEC_MIME_TYPE))) {\n",
       "      return\n",
       "    }\n",
       "\n",
       "    var toinsert = output_area.element.find(\".\" + CLASS_NAME.split(' ')[0]);\n",
       "\n",
       "    if (output.metadata[EXEC_MIME_TYPE][\"id\"] !== undefined) {\n",
       "      toinsert[toinsert.length - 1].firstChild.textContent = output.data[JS_MIME_TYPE];\n",
       "      // store reference to embed id on output_area\n",
       "      output_area._bokeh_element_id = output.metadata[EXEC_MIME_TYPE][\"id\"];\n",
       "    }\n",
       "    if (output.metadata[EXEC_MIME_TYPE][\"server_id\"] !== undefined) {\n",
       "      var bk_div = document.createElement(\"div\");\n",
       "      bk_div.innerHTML = output.data[HTML_MIME_TYPE];\n",
       "      var script_attrs = bk_div.children[0].attributes;\n",
       "      for (var i = 0; i < script_attrs.length; i++) {\n",
       "        toinsert[toinsert.length - 1].firstChild.setAttribute(script_attrs[i].name, script_attrs[i].value);\n",
       "      }\n",
       "      // store reference to server id on output_area\n",
       "      output_area._bokeh_server_id = output.metadata[EXEC_MIME_TYPE][\"server_id\"];\n",
       "    }\n",
       "  }\n",
       "\n",
       "  function register_renderer(events, OutputArea) {\n",
       "\n",
       "    function append_mime(data, metadata, element) {\n",
       "      // create a DOM node to render to\n",
       "      var toinsert = this.create_output_subarea(\n",
       "        metadata,\n",
       "        CLASS_NAME,\n",
       "        EXEC_MIME_TYPE\n",
       "      );\n",
       "      this.keyboard_manager.register_events(toinsert);\n",
       "      // Render to node\n",
       "      var props = {data: data, metadata: metadata[EXEC_MIME_TYPE]};\n",
       "      render(props, toinsert[toinsert.length - 1]);\n",
       "      element.append(toinsert);\n",
       "      return toinsert\n",
       "    }\n",
       "\n",
       "    /* Handle when an output is cleared or removed */\n",
       "    events.on('clear_output.CodeCell', handleClearOutput);\n",
       "    events.on('delete.Cell', handleClearOutput);\n",
       "\n",
       "    /* Handle when a new output is added */\n",
       "    events.on('output_added.OutputArea', handleAddOutput);\n",
       "\n",
       "    /**\n",
       "     * Register the mime type and append_mime function with output_area\n",
       "     */\n",
       "    OutputArea.prototype.register_mime_type(EXEC_MIME_TYPE, append_mime, {\n",
       "      /* Is output safe? */\n",
       "      safe: true,\n",
       "      /* Index of renderer in `output_area.display_order` */\n",
       "      index: 0\n",
       "    });\n",
       "  }\n",
       "\n",
       "  // register the mime type if in Jupyter Notebook environment and previously unregistered\n",
       "  if (root.Jupyter !== undefined) {\n",
       "    var events = require('base/js/events');\n",
       "    var OutputArea = require('notebook/js/outputarea').OutputArea;\n",
       "\n",
       "    if (OutputArea.prototype.mime_types().indexOf(EXEC_MIME_TYPE) == -1) {\n",
       "      register_renderer(events, OutputArea);\n",
       "    }\n",
       "  }\n",
       "\n",
       "  \n",
       "  if (typeof (root._bokeh_timeout) === \"undefined\" || force === true) {\n",
       "    root._bokeh_timeout = Date.now() + 5000;\n",
       "    root._bokeh_failed_load = false;\n",
       "  }\n",
       "\n",
       "  var NB_LOAD_WARNING = {'data': {'text/html':\n",
       "     \"<div style='background-color: #fdd'>\\n\"+\n",
       "     \"<p>\\n\"+\n",
       "     \"BokehJS does not appear to have successfully loaded. If loading BokehJS from CDN, this \\n\"+\n",
       "     \"may be due to a slow or bad network connection. Possible fixes:\\n\"+\n",
       "     \"</p>\\n\"+\n",
       "     \"<ul>\\n\"+\n",
       "     \"<li>re-rerun `output_notebook()` to attempt to load from CDN again, or</li>\\n\"+\n",
       "     \"<li>use INLINE resources instead, as so:</li>\\n\"+\n",
       "     \"</ul>\\n\"+\n",
       "     \"<code>\\n\"+\n",
       "     \"from bokeh.resources import INLINE\\n\"+\n",
       "     \"output_notebook(resources=INLINE)\\n\"+\n",
       "     \"</code>\\n\"+\n",
       "     \"</div>\"}};\n",
       "\n",
       "  function display_loaded() {\n",
       "    var el = document.getElementById(\"062b9937-0701-46d6-9c7a-36f844ba5866\");\n",
       "    if (el != null) {\n",
       "      el.textContent = \"BokehJS is loading...\";\n",
       "    }\n",
       "    if (root.Bokeh !== undefined) {\n",
       "      if (el != null) {\n",
       "        el.textContent = \"BokehJS \" + root.Bokeh.version + \" successfully loaded.\";\n",
       "      }\n",
       "    } else if (Date.now() < root._bokeh_timeout) {\n",
       "      setTimeout(display_loaded, 100)\n",
       "    }\n",
       "  }\n",
       "\n",
       "\n",
       "  function run_callbacks() {\n",
       "    try {\n",
       "      root._bokeh_onload_callbacks.forEach(function(callback) { callback() });\n",
       "    }\n",
       "    finally {\n",
       "      delete root._bokeh_onload_callbacks\n",
       "    }\n",
       "    console.info(\"Bokeh: all callbacks have finished\");\n",
       "  }\n",
       "\n",
       "  function load_libs(js_urls, callback) {\n",
       "    root._bokeh_onload_callbacks.push(callback);\n",
       "    if (root._bokeh_is_loading > 0) {\n",
       "      console.log(\"Bokeh: BokehJS is being loaded, scheduling callback at\", now());\n",
       "      return null;\n",
       "    }\n",
       "    if (js_urls == null || js_urls.length === 0) {\n",
       "      run_callbacks();\n",
       "      return null;\n",
       "    }\n",
       "    console.log(\"Bokeh: BokehJS not loaded, scheduling load and callback at\", now());\n",
       "    root._bokeh_is_loading = js_urls.length;\n",
       "    for (var i = 0; i < js_urls.length; i++) {\n",
       "      var url = js_urls[i];\n",
       "      var s = document.createElement('script');\n",
       "      s.src = url;\n",
       "      s.async = false;\n",
       "      s.onreadystatechange = s.onload = function() {\n",
       "        root._bokeh_is_loading--;\n",
       "        if (root._bokeh_is_loading === 0) {\n",
       "          console.log(\"Bokeh: all BokehJS libraries loaded\");\n",
       "          run_callbacks()\n",
       "        }\n",
       "      };\n",
       "      s.onerror = function() {\n",
       "        console.warn(\"failed to load library \" + url);\n",
       "      };\n",
       "      console.log(\"Bokeh: injecting script tag for BokehJS library: \", url);\n",
       "      document.getElementsByTagName(\"head\")[0].appendChild(s);\n",
       "    }\n",
       "  };var element = document.getElementById(\"062b9937-0701-46d6-9c7a-36f844ba5866\");\n",
       "  if (element == null) {\n",
       "    console.log(\"Bokeh: ERROR: autoload.js configured with elementid '062b9937-0701-46d6-9c7a-36f844ba5866' but no matching script tag was found. \")\n",
       "    return false;\n",
       "  }\n",
       "\n",
       "  var js_urls = [\"https://cdn.pydata.org/bokeh/release/bokeh-0.13.0.min.js\", \"https://cdn.pydata.org/bokeh/release/bokeh-widgets-0.13.0.min.js\", \"https://cdn.pydata.org/bokeh/release/bokeh-tables-0.13.0.min.js\", \"https://cdn.pydata.org/bokeh/release/bokeh-gl-0.13.0.min.js\"];\n",
       "\n",
       "  var inline_js = [\n",
       "    function(Bokeh) {\n",
       "      Bokeh.set_log_level(\"info\");\n",
       "    },\n",
       "    \n",
       "    function(Bokeh) {\n",
       "      \n",
       "    },\n",
       "    function(Bokeh) {\n",
       "      console.log(\"Bokeh: injecting CSS: https://cdn.pydata.org/bokeh/release/bokeh-0.13.0.min.css\");\n",
       "      Bokeh.embed.inject_css(\"https://cdn.pydata.org/bokeh/release/bokeh-0.13.0.min.css\");\n",
       "      console.log(\"Bokeh: injecting CSS: https://cdn.pydata.org/bokeh/release/bokeh-widgets-0.13.0.min.css\");\n",
       "      Bokeh.embed.inject_css(\"https://cdn.pydata.org/bokeh/release/bokeh-widgets-0.13.0.min.css\");\n",
       "      console.log(\"Bokeh: injecting CSS: https://cdn.pydata.org/bokeh/release/bokeh-tables-0.13.0.min.css\");\n",
       "      Bokeh.embed.inject_css(\"https://cdn.pydata.org/bokeh/release/bokeh-tables-0.13.0.min.css\");\n",
       "    }\n",
       "  ];\n",
       "\n",
       "  function run_inline_js() {\n",
       "    \n",
       "    if ((root.Bokeh !== undefined) || (force === true)) {\n",
       "      for (var i = 0; i < inline_js.length; i++) {\n",
       "        inline_js[i].call(root, root.Bokeh);\n",
       "      }if (force === true) {\n",
       "        display_loaded();\n",
       "      }} else if (Date.now() < root._bokeh_timeout) {\n",
       "      setTimeout(run_inline_js, 100);\n",
       "    } else if (!root._bokeh_failed_load) {\n",
       "      console.log(\"Bokeh: BokehJS failed to load within specified timeout.\");\n",
       "      root._bokeh_failed_load = true;\n",
       "    } else if (force !== true) {\n",
       "      var cell = $(document.getElementById(\"062b9937-0701-46d6-9c7a-36f844ba5866\")).parents('.cell').data().cell;\n",
       "      cell.output_area.append_execute_result(NB_LOAD_WARNING)\n",
       "    }\n",
       "\n",
       "  }\n",
       "\n",
       "  if (root._bokeh_is_loading === 0) {\n",
       "    console.log(\"Bokeh: BokehJS loaded, going straight to plotting\");\n",
       "    run_inline_js();\n",
       "  } else {\n",
       "    load_libs(js_urls, function() {\n",
       "      console.log(\"Bokeh: BokehJS plotting callback run at\", now());\n",
       "      run_inline_js();\n",
       "    });\n",
       "  }\n",
       "}(window));"
      ],
      "application/vnd.bokehjs_load.v0+json": "\n(function(root) {\n  function now() {\n    return new Date();\n  }\n\n  var force = true;\n\n  if (typeof (root._bokeh_onload_callbacks) === \"undefined\" || force === true) {\n    root._bokeh_onload_callbacks = [];\n    root._bokeh_is_loading = undefined;\n  }\n\n  \n\n  \n  if (typeof (root._bokeh_timeout) === \"undefined\" || force === true) {\n    root._bokeh_timeout = Date.now() + 5000;\n    root._bokeh_failed_load = false;\n  }\n\n  var NB_LOAD_WARNING = {'data': {'text/html':\n     \"<div style='background-color: #fdd'>\\n\"+\n     \"<p>\\n\"+\n     \"BokehJS does not appear to have successfully loaded. If loading BokehJS from CDN, this \\n\"+\n     \"may be due to a slow or bad network connection. Possible fixes:\\n\"+\n     \"</p>\\n\"+\n     \"<ul>\\n\"+\n     \"<li>re-rerun `output_notebook()` to attempt to load from CDN again, or</li>\\n\"+\n     \"<li>use INLINE resources instead, as so:</li>\\n\"+\n     \"</ul>\\n\"+\n     \"<code>\\n\"+\n     \"from bokeh.resources import INLINE\\n\"+\n     \"output_notebook(resources=INLINE)\\n\"+\n     \"</code>\\n\"+\n     \"</div>\"}};\n\n  function display_loaded() {\n    var el = document.getElementById(\"062b9937-0701-46d6-9c7a-36f844ba5866\");\n    if (el != null) {\n      el.textContent = \"BokehJS is loading...\";\n    }\n    if (root.Bokeh !== undefined) {\n      if (el != null) {\n        el.textContent = \"BokehJS \" + root.Bokeh.version + \" successfully loaded.\";\n      }\n    } else if (Date.now() < root._bokeh_timeout) {\n      setTimeout(display_loaded, 100)\n    }\n  }\n\n\n  function run_callbacks() {\n    try {\n      root._bokeh_onload_callbacks.forEach(function(callback) { callback() });\n    }\n    finally {\n      delete root._bokeh_onload_callbacks\n    }\n    console.info(\"Bokeh: all callbacks have finished\");\n  }\n\n  function load_libs(js_urls, callback) {\n    root._bokeh_onload_callbacks.push(callback);\n    if (root._bokeh_is_loading > 0) {\n      console.log(\"Bokeh: BokehJS is being loaded, scheduling callback at\", now());\n      return null;\n    }\n    if (js_urls == null || js_urls.length === 0) {\n      run_callbacks();\n      return null;\n    }\n    console.log(\"Bokeh: BokehJS not loaded, scheduling load and callback at\", now());\n    root._bokeh_is_loading = js_urls.length;\n    for (var i = 0; i < js_urls.length; i++) {\n      var url = js_urls[i];\n      var s = document.createElement('script');\n      s.src = url;\n      s.async = false;\n      s.onreadystatechange = s.onload = function() {\n        root._bokeh_is_loading--;\n        if (root._bokeh_is_loading === 0) {\n          console.log(\"Bokeh: all BokehJS libraries loaded\");\n          run_callbacks()\n        }\n      };\n      s.onerror = function() {\n        console.warn(\"failed to load library \" + url);\n      };\n      console.log(\"Bokeh: injecting script tag for BokehJS library: \", url);\n      document.getElementsByTagName(\"head\")[0].appendChild(s);\n    }\n  };var element = document.getElementById(\"062b9937-0701-46d6-9c7a-36f844ba5866\");\n  if (element == null) {\n    console.log(\"Bokeh: ERROR: autoload.js configured with elementid '062b9937-0701-46d6-9c7a-36f844ba5866' but no matching script tag was found. \")\n    return false;\n  }\n\n  var js_urls = [\"https://cdn.pydata.org/bokeh/release/bokeh-0.13.0.min.js\", \"https://cdn.pydata.org/bokeh/release/bokeh-widgets-0.13.0.min.js\", \"https://cdn.pydata.org/bokeh/release/bokeh-tables-0.13.0.min.js\", \"https://cdn.pydata.org/bokeh/release/bokeh-gl-0.13.0.min.js\"];\n\n  var inline_js = [\n    function(Bokeh) {\n      Bokeh.set_log_level(\"info\");\n    },\n    \n    function(Bokeh) {\n      \n    },\n    function(Bokeh) {\n      console.log(\"Bokeh: injecting CSS: https://cdn.pydata.org/bokeh/release/bokeh-0.13.0.min.css\");\n      Bokeh.embed.inject_css(\"https://cdn.pydata.org/bokeh/release/bokeh-0.13.0.min.css\");\n      console.log(\"Bokeh: injecting CSS: https://cdn.pydata.org/bokeh/release/bokeh-widgets-0.13.0.min.css\");\n      Bokeh.embed.inject_css(\"https://cdn.pydata.org/bokeh/release/bokeh-widgets-0.13.0.min.css\");\n      console.log(\"Bokeh: injecting CSS: https://cdn.pydata.org/bokeh/release/bokeh-tables-0.13.0.min.css\");\n      Bokeh.embed.inject_css(\"https://cdn.pydata.org/bokeh/release/bokeh-tables-0.13.0.min.css\");\n    }\n  ];\n\n  function run_inline_js() {\n    \n    if ((root.Bokeh !== undefined) || (force === true)) {\n      for (var i = 0; i < inline_js.length; i++) {\n        inline_js[i].call(root, root.Bokeh);\n      }if (force === true) {\n        display_loaded();\n      }} else if (Date.now() < root._bokeh_timeout) {\n      setTimeout(run_inline_js, 100);\n    } else if (!root._bokeh_failed_load) {\n      console.log(\"Bokeh: BokehJS failed to load within specified timeout.\");\n      root._bokeh_failed_load = true;\n    } else if (force !== true) {\n      var cell = $(document.getElementById(\"062b9937-0701-46d6-9c7a-36f844ba5866\")).parents('.cell').data().cell;\n      cell.output_area.append_execute_result(NB_LOAD_WARNING)\n    }\n\n  }\n\n  if (root._bokeh_is_loading === 0) {\n    console.log(\"Bokeh: BokehJS loaded, going straight to plotting\");\n    run_inline_js();\n  } else {\n    load_libs(js_urls, function() {\n      console.log(\"Bokeh: BokehJS plotting callback run at\", now());\n      run_inline_js();\n    });\n  }\n}(window));"
     },
     "metadata": {},
     "output_type": "display_data"
    }
   ],
   "source": [
    "import rasa_core\n",
    "from rasa_core.agent import Agent\n",
    "from bokeh.io import output_notebook\n",
    "agent = Agent.load(\"models/dialogue_embed\")\n",
    "# agent = Agent.load(\"models/dialogue_embed_before_norm_loss\")\n",
    "output_notebook()"
   ]
  },
  {
   "cell_type": "code",
   "execution_count": 2,
   "metadata": {},
   "outputs": [
    {
     "data": {
      "text/plain": [
       "'0.11.3'"
      ]
     },
     "execution_count": 2,
     "metadata": {},
     "output_type": "execute_result"
    }
   ],
   "source": [
    "rasa_core.__version__"
   ]
  },
  {
   "cell_type": "code",
   "execution_count": 3,
   "metadata": {},
   "outputs": [
    {
     "name": "stdout",
     "output_type": "stream",
     "text": [
      "False\n"
     ]
    }
   ],
   "source": [
    "policy = agent.policy_ensemble.policies[0]\n",
    "interpreter = agent.interpreter\n",
    "print(policy.sparse_attention)"
   ]
  },
  {
   "cell_type": "code",
   "execution_count": 4,
   "metadata": {},
   "outputs": [],
   "source": [
    "domain = agent.domain\n"
   ]
  },
  {
   "cell_type": "code",
   "execution_count": 5,
   "metadata": {},
   "outputs": [],
   "source": [
    "from rasa_core.training.structures import StoryGraph\n",
    "from rasa_core.training.dsl import StoryFileReader\n",
    "from rasa_core.trackers import DialogueStateTracker\n",
    "from rasa_core.channels import UserMessage\n",
    "import numpy as np\n",
    "np.set_printoptions(precision=3, suppress=True)\n",
    "\n",
    "def embedding_from_tracker(story, bot=False, predict_only=False):\n",
    "    reader = StoryFileReader(domain, interpreter)\n",
    "    story = story.split('\\n')\n",
    "    story_steps = reader.process_lines(story)\n",
    "#     story_graph = StoryGraph(story_steps)\n",
    "    tracker = DialogueStateTracker(\n",
    "            1,\n",
    "            domain.slots\n",
    "    )\n",
    "    tracker._reset()\n",
    "    for step in story_steps:\n",
    "        events = step.explicit_events(domain)\n",
    "        for event in events[:-1]:\n",
    "            tracker.update(event)\n",
    "\n",
    "    if predict_only:\n",
    "        return policy.predict_action_probabilities(tracker, domain)\n",
    "\n",
    "    data_X = policy.featurizer.create_X([tracker], domain)\n",
    "    session_data = policy._create_tf_session_data(domain, data_X)\n",
    "    all_Y_d_x = np.stack([session_data.all_Y_d for _ in range(session_data.X.shape[0])])\n",
    "    feed_dict={policy.a_in: session_data.X,\n",
    "               policy.b_in: all_Y_d_x,\n",
    "               policy.c_in: session_data.slots,\n",
    "               policy.b_prev_in: session_data.previous_actions,\n",
    "               policy._dialogue_len: session_data.X.shape[1],\n",
    "               policy._x_for_no_intent_in: session_data.x_for_no_intent,\n",
    "               policy._y_for_no_action_in: session_data.y_for_no_action,\n",
    "               policy._y_for_action_listen_in: session_data.y_for_action_listen}\n",
    "\n",
    "    dial_vec = policy.session.run(policy.dial_embed, feed_dict=feed_dict)\n",
    "    bot_vec = policy.session.run(policy.bot_embed, feed_dict=feed_dict)\n",
    "\n",
    "    no_skip_gate = policy.session.run(policy.copy_attn_debug, feed_dict=feed_dict)\n",
    "    attn_embed = policy.session.run(policy.attn_embed, feed_dict=feed_dict)\n",
    "    rnn_embed = policy.session.run(policy.rnn_embed, feed_dict=feed_dict)\n",
    "    probs = policy.session.run(policy.alignment_history, feed_dict=feed_dict)\n",
    "    time_mask = policy.session.run(policy.all_time_masks, feed_dict=feed_dict)\n",
    "    if probs.shape[2] == 2 * probs.shape[1]:\n",
    "        user_probs = probs[0, -1, :int(probs.shape[2]/2)]\n",
    "        bot_probs = probs[0, -1, int(probs.shape[2]/2):]\n",
    "    else:\n",
    "        user_probs = probs[0, -1, :]\n",
    "        bot_probs = []\n",
    "\n",
    "    sims = policy.session.run(policy.sim_op, feed_dict=feed_dict)\n",
    "    if bot is False:\n",
    "        sims1 = policy.predict_action_probabilities(tracker, domain)\n",
    "\n",
    "    del tracker\n",
    "#     print(np.shape(dial_vec))\n",
    "\n",
    "    if bot is False:\n",
    "        return (dial_vec[0,-1,:],\n",
    "                no_skip_gate[0,-1,:],\n",
    "                attn_embed[0,-1,:],\n",
    "                rnn_embed[0,-1,:],\n",
    "                [user_probs, bot_probs, time_mask[0,-1,:]],\n",
    "                sims[0,-1,:],\n",
    "                sims1)\n",
    "    else:\n",
    "        return (dial_vec[0,-1,:],\n",
    "                sims[0,-1,:],\n",
    "                bot_vec[0,-1,:,:])\n",
    "    \n",
    "def make_prediction(story):\n",
    "    dial, sim0, bot = embedding_from_tracker(story, bot=True)\n",
    "    abs_vals = np.array([np.absolute(vec) for vec in bot])\n",
    "    norms = np.apply_along_axis(np.linalg.norm, 1, bot)\n",
    "    sims = np.dot(bot, dial)/norms\n",
    "#     name = domain.action_for_index(np.argmax(sims)).name()\n",
    "#     print(name)\n",
    "    name = domain.action_names[np.argmax(sim0)]\n",
    "#     print(name)\n",
    "#     print('---')\n",
    "#     ids = sim0.argsort()[::-1]\n",
    "#     print(ids)\n",
    "#     print(sims[ids])\n",
    "    return '- ' + name, np.max(sim0)\n",
    "#     print(dial.shape, bot.shape)"
   ]
  },
  {
   "cell_type": "code",
   "execution_count": 6,
   "metadata": {},
   "outputs": [],
   "source": [
    "# print(domain.intents)\n",
    "story_block = \"\"\"* request_hotel\n",
    "    - utter_ask_details\n",
    "* explain\n",
    "    - utter_explain_details_hotel\n",
    "    - utter_ask_details\n",
    "* chitchat\n",
    "    - utter_chitchat\n",
    "    - utter_ask_details\n",
    "* inform{\"enddate\": \"May 26th\"}\n",
    "    - slot{\"enddate\": \"May 26th\"}\n",
    "    - utter_ask_startdate\n",
    "* inform{\"startdate\": \"next week\"}\n",
    "    - slot{\"startdate\": \"next week\"}\n",
    "    - utter_ask_location\n",
    "* correct{\"startdate\": \"next week\"}\n",
    "    - slot{\"startdate\": \"next week\"}\n",
    "    - utter_correct_startdate_hotel\n",
    "    - utter_ask_location\n",
    "* explain\n",
    "    - utter_explain_location_hotel\n",
    "    - utter_ask_location\n",
    "* inform{\"location\": \"rome\"}\n",
    "    - slot{\"location\": \"rome\"}\n",
    "    - utter_ask_price\n",
    "* chitchat\n",
    "    - utter_chitchat\n",
    "    - utter_ask_price\n",
    "* chitchat\n",
    "    - utter_chitchat\n",
    "    - utter_ask_price\n",
    "* chitchat\n",
    "    - utter_chitchat\n",
    "    - utter_ask_price\n",
    "* chitchat\n",
    "    - utter_chitchat\n",
    "    - utter_ask_price\n",
    "* explain\n",
    "    - utter_explain_price_hotel\n",
    "    - utter_ask_price\n",
    "* inform{\"price\": \"expensive\"}\n",
    "    - utter_ask_people\n",
    "* inform{\"people\": \"4\"}\n",
    "    - utter_filled_slots\n",
    "    - utter_search_hotel\n",
    "    - slot{\"hotel\": \"hotel\"}\n",
    "    - utter_suggest_hotel\n",
    "* chitchat\n",
    "    - utter_chitchat\n",
    "    - utter_suggest_hotel\n",
    "* affirm\n",
    "    - utter_happy\"\"\""
   ]
  },
  {
   "cell_type": "code",
   "execution_count": 7,
   "metadata": {},
   "outputs": [],
   "source": [
    "# story_block = \"\"\"* request_hotel\n",
    "#     - utter_ask_details\n",
    "# * inform{\"people\": \"4\"}\n",
    "#     - slot{\"people\": \"4\"}\n",
    "#     - utter_ask_location\n",
    "# * correct{\"people\": \"2\"}\n",
    "#     - slot{\"people\": \"2\"}\n",
    "#     - utter_correct_people_hotel\n",
    "#     - utter_ask_location\n",
    "# * chitchat\n",
    "#     - utter_chitchat\n",
    "#     - utter_ask_location\n",
    "# * inform{\"location\": \"rome\"}\n",
    "#     - slot{\"location\": \"rome\"}\n",
    "#     - utter_ask_price\n",
    "# * inform{\"price\": \"expensive\"}\n",
    "#     - slot{\"price\": \"expensive\"}\n",
    "#     - utter_ask_startdate\n",
    "# * inform{\"startdate\": \"next week\", \"enddate\": \"tomorrow\"}\n",
    "#     - slot{\"startdate\": \"next week\"}\n",
    "#     - slot{\"enddate\": \"tomorrow\"}\n",
    "#     - utter_filled_slots\n",
    "#     - utter_search_hotel\n",
    "#     - slot{\"hotel\": \"hotel\"}\n",
    "#     - utter_suggest_hotel\n",
    "# * correct{\"enddate\": \"May 26th\"}\n",
    "#     - slot{\"enddate\": \"May 26th\"}\n",
    "#     - utter_correct_enddate_hotel\n",
    "#     - utter_search_hotel\n",
    "#     - slot{\"hotel\": \"hotel\"}\n",
    "#     - utter_suggest_hotel\n",
    "# * correct{\"location\": \"rome\"}\n",
    "#     - slot{\"location\": \"rome\"}\n",
    "#     - utter_correct_location_hotel\n",
    "#     - utter_search_hotel\n",
    "#     - slot{\"hotel\": \"hotel\"}\n",
    "#     - utter_suggest_hotel\n",
    "# * did_that_work\n",
    "#     - utter_worked_hotel\n",
    "#     - utter_suggest_hotel\n",
    "# * affirm\n",
    "#     - utter_happy\n",
    "# * chitchat\"\"\""
   ]
  },
  {
   "cell_type": "code",
   "execution_count": 8,
   "metadata": {},
   "outputs": [],
   "source": [
    "# story_block = \"\"\"* request_hotel\n",
    "#     - utter_ask_details\n",
    "# * inform{\"people\": \"2\"}\n",
    "#     - slot{\"people\": \"2\"}\n",
    "#     - utter_ask_location\n",
    "# * did_that_work\n",
    "#     - utter_more_info_hotel\n",
    "#     - utter_ask_location\n",
    "# * chitchat\n",
    "#     - utter_chitchat\n",
    "#     - utter_ask_location\n",
    "# * did_that_work\n",
    "#     - utter_more_info_hotel\n",
    "#     - utter_ask_location\n",
    "# * inform{\"location\": \"paris\"}\n",
    "#     - utter_ask_price\n",
    "# * inform{\"price\": \"expensive\"}\n",
    "#     - utter_ask_startdate\n",
    "# * inform{\"startdate\": \"10.03.2018\"}\n",
    "#     - utter_ask_enddate\n",
    "# * explain\n",
    "#     - utter_explain_enddate_hotel\n",
    "#     - utter_ask_enddate\n",
    "# * chitchat\n",
    "#     - utter_chitchat\n",
    "#     - utter_ask_enddate\n",
    "# * explain\n",
    "#     - utter_explain_enddate_hotel\n",
    "#     - utter_ask_enddate\n",
    "# * inform{\"enddate\": \"10.03.2018\"}\n",
    "#     - utter_filled_slots\n",
    "#     - action_search_hotel\n",
    "#     - slot{\"hotel\": \"hotel\"}\n",
    "#     - utter_suggest_hotel\n",
    "# * affirm\n",
    "#     - utter_happy\n",
    "# \"\"\""
   ]
  },
  {
   "cell_type": "code",
   "execution_count": 9,
   "metadata": {},
   "outputs": [
    {
     "name": "stdout",
     "output_type": "stream",
     "text": [
      "51\n",
      "29\n"
     ]
    }
   ],
   "source": [
    "print(len(story_block.split('\\n')))\n",
    "cool_list = []\n",
    "lines = story_block.split('\\n')\n",
    "for idx, line in enumerate(lines):\n",
    "    if idx == len(lines)-1:\n",
    "        continue\n",
    "    if '*' in lines[idx+1] or 'slot{' in lines[idx+1]:\n",
    "#     if 'slot{' in lines[idx+1]:\n",
    "        continue\n",
    "    sub_story = '\\n'.join(lines[:idx+1])\n",
    "    (dial, not_skip, attn, rnn, probs, sims, sims1\n",
    "    ) = embedding_from_tracker(\"#generate story\\n{}\".format(sub_story))\n",
    "#     print(np.max(sims), np.max(sims1))\n",
    "\n",
    "    pred, sim = make_prediction(\"#generate story\\n{}\".format(sub_story))\n",
    "    cool_list.append((lines[idx+1].strip(), dial, (pred, sim, sims), not_skip, attn[-20:], rnn,\n",
    "                      probs))\n",
    "#     embedding_from_tracker(\"#generate story\\n{}\".format(sub_story), predict_only=True)\n",
    "\n",
    "print(len(cool_list))\n",
    "# print(cool_list[0][4].shape)\n",
    "#     break\n",
    "# dial = embedding_from_tracker(\"#generate story\\n{}\".format(story_block)\n",
    "# )\n",
    "# print(dial.shape)\n",
    "# print(len(story_block.split('\\n')))\n",
    "# print(probs[0, 6, :])"
   ]
  },
  {
   "cell_type": "code",
   "execution_count": 10,
   "metadata": {},
   "outputs": [
    {
     "data": {
      "text/plain": [
       "('- utter_ask_price',\n",
       " array([ 0.171, -0.129,  0.025, -0.216,  0.115, -0.184, -0.108,  0.001,\n",
       "        -0.144,  0.123, -0.047,  0.064,  0.005, -0.066, -0.039,  0.024,\n",
       "        -0.118,  0.108, -0.345, -0.032], dtype=float32),\n",
       " ('- utter_ask_price',\n",
       "  0.95111907,\n",
       "  array([-0.143, -0.201, -0.317, -0.075,  0.223, -0.037,  0.951, -0.031,\n",
       "          0.08 ,  0.007, -0.169, -0.001,  0.096,  0.034, -0.446, -0.308,\n",
       "         -0.41 , -0.453, -0.313, -0.352, -0.248, -0.069, -0.067, -0.451,\n",
       "         -0.282,  0.054, -0.018,  0.074, -0.019, -0.014, -0.587, -0.377,\n",
       "         -0.334, -0.116, -0.096, -0.463, -0.302, -0.583, -0.535, -0.082,\n",
       "         -0.071, -0.043, -0.018], dtype=float32)),\n",
       " array([0.999, 0.951, 0.   , 1.   , 0.   ], dtype=float32),\n",
       " array([ 0.145, -0.111, -0.006, -0.111,  0.031, -0.143, -0.112,  0.008,\n",
       "        -0.169,  0.058,  0.011,  0.014,  0.034, -0.028, -0.003, -0.005,\n",
       "        -0.072,  0.099, -0.289, -0.001], dtype=float32),\n",
       " array([ 0.026, -0.018,  0.031, -0.105,  0.084, -0.04 ,  0.004, -0.007,\n",
       "         0.025,  0.065, -0.058,  0.049, -0.029, -0.038, -0.036,  0.029,\n",
       "        -0.046,  0.009, -0.055, -0.031], dtype=float32),\n",
       " [array([0.   , 0.177, 0.   , 0.   , 0.   , 0.   , 0.091, 0.   , 0.   ,\n",
       "         0.112, 0.   , 0.116, 0.   , 0.   , 0.   , 0.   , 0.   , 0.   ,\n",
       "         0.   , 0.117, 0.   , 0.082, 0.306], dtype=float32),\n",
       "  array([0.   , 0.   , 0.   , 0.   , 0.   , 0.013, 0.   , 0.016, 0.007,\n",
       "         0.   , 0.006, 0.   , 0.   , 0.   , 0.   , 0.   , 0.   , 0.   ,\n",
       "         0.022, 0.   , 0.899, 0.   , 0.037], dtype=float32),\n",
       "  array([1, 1, 0, 0, 0, 1, 1, 1, 1, 1, 1, 1, 0, 0, 0, 0, 0, 0, 1, 1, 1, 1,\n",
       "         0], dtype=int32)])"
      ]
     },
     "execution_count": 10,
     "metadata": {},
     "output_type": "execute_result"
    }
   ],
   "source": [
    "import copy\n",
    "\n",
    "# cool_list0 = copy.deepcopy(cool_list)\n",
    "cool_list[13]"
   ]
  },
  {
   "cell_type": "code",
   "execution_count": 21,
   "metadata": {},
   "outputs": [
    {
     "data": {
      "text/plain": [
       "('- utter_ask_price',\n",
       " array([ 0.147, -0.108,  0.025, -0.199,  0.112, -0.171, -0.1  ,  0.001,\n",
       "        -0.133,  0.114, -0.057,  0.069,  0.012, -0.062, -0.048,  0.031,\n",
       "        -0.114,  0.094, -0.313, -0.031], dtype=float32),\n",
       " ('- utter_ask_price',\n",
       "  0.93896997,\n",
       "  array([-0.155, -0.222, -0.335, -0.077,  0.251, -0.007,  0.939, -0.017,\n",
       "          0.095,  0.004, -0.185, -0.003,  0.109,  0.043, -0.475, -0.331,\n",
       "         -0.435, -0.473, -0.33 , -0.372, -0.265, -0.105, -0.095, -0.477,\n",
       "         -0.304,  0.054, -0.025,  0.089, -0.013, -0.02 , -0.611, -0.396,\n",
       "         -0.359, -0.16 , -0.127, -0.488, -0.322, -0.615, -0.566, -0.088,\n",
       "         -0.081, -0.051, -0.019], dtype=float32)),\n",
       " array([0.995, 0.939, 0.   , 1.   , 0.   ], dtype=float32),\n",
       " array([ 0.118, -0.091, -0.007, -0.091,  0.022, -0.131, -0.108,  0.007,\n",
       "        -0.159,  0.048,  0.003,  0.017,  0.041, -0.02 , -0.011, -0.   ,\n",
       "        -0.068,  0.084, -0.255, -0.001], dtype=float32),\n",
       " array([ 0.029, -0.017,  0.031, -0.108,  0.09 , -0.041,  0.008, -0.006,\n",
       "         0.026,  0.066, -0.06 ,  0.051, -0.029, -0.042, -0.037,  0.031,\n",
       "        -0.045,  0.01 , -0.058, -0.031], dtype=float32),\n",
       " [array([0.   , 0.181, 0.   , 0.   , 0.   , 0.   , 0.092, 0.   , 0.   ,\n",
       "         0.114, 0.   , 0.117, 0.   , 0.   , 0.   , 0.   , 0.   , 0.   ,\n",
       "         0.   , 0.127, 0.   , 0.   , 0.   , 0.   , 0.   , 0.   , 0.   ,\n",
       "         0.   , 0.   , 0.   , 0.078, 0.29 ], dtype=float32),\n",
       "  array([0.   , 0.   , 0.   , 0.   , 0.   , 0.02 , 0.   , 0.024, 0.011,\n",
       "         0.   , 0.031, 0.   , 0.   , 0.   , 0.   , 0.   , 0.   , 0.   ,\n",
       "         0.063, 0.   , 0.   , 0.   , 0.   , 0.   , 0.   , 0.   , 0.   ,\n",
       "         0.   , 0.   , 0.792, 0.   , 0.059], dtype=float32),\n",
       "  array([1, 1, 0, 0, 0, 1, 1, 1, 1, 1, 1, 1, 0, 0, 0, 0, 0, 0, 1, 1, 0, 0,\n",
       "         0, 0, 0, 0, 0, 0, 0, 1, 1, 0], dtype=int32)])"
      ]
     },
     "execution_count": 21,
     "metadata": {},
     "output_type": "execute_result"
    }
   ],
   "source": [
    "# cool_list1= copy.deepcopy(cool_list)\n",
    "cool_list[19]"
   ]
  },
  {
   "cell_type": "code",
   "execution_count": 12,
   "metadata": {},
   "outputs": [
    {
     "data": {
      "text/plain": [
       "[<matplotlib.lines.Line2D at 0x11e1121d0>]"
      ]
     },
     "execution_count": 12,
     "metadata": {},
     "output_type": "execute_result"
    }
   ],
   "source": [
    "import matplotlib.pyplot as plt\n",
    "plt.plot(cool_list[15][-2], marker='x')"
   ]
  },
  {
   "cell_type": "code",
   "execution_count": 13,
   "metadata": {},
   "outputs": [
    {
     "data": {
      "text/plain": [
       "[<matplotlib.lines.Line2D at 0x122473ac8>]"
      ]
     },
     "execution_count": 13,
     "metadata": {},
     "output_type": "execute_result"
    },
    {
     "data": {
      "image/png": "[encoded data removed]",
      "text/plain": [
       "<matplotlib.figure.Figure at 0x11e2cdbe0>"
      ]
     },
     "metadata": {},
     "output_type": "display_data"
    }
   ],
   "source": [
    "plt.plot(cool_list[19][-2], marker='x')"
   ]
  },
  {
   "cell_type": "code",
   "execution_count": null,
   "metadata": {},
   "outputs": [],
   "source": []
  },
  {
   "cell_type": "code",
   "execution_count": null,
   "metadata": {},
   "outputs": [],
   "source": []
  },
  {
   "cell_type": "code",
   "execution_count": 14,
   "metadata": {},
   "outputs": [],
   "source": [
    "from sklearn.decomposition import PCA"
   ]
  },
  {
   "cell_type": "code",
   "execution_count": 15,
   "metadata": {},
   "outputs": [],
   "source": [
    "pca = PCA(n_components=2)\n",
    "X = pca.fit_transform([ting[1] for ting in cool_list])"
   ]
  },
  {
   "cell_type": "code",
   "execution_count": 16,
   "metadata": {},
   "outputs": [],
   "source": [
    "from bokeh.plotting import figure, show\n",
    "import matplotlib.pyplot as plt"
   ]
  },
  {
   "cell_type": "code",
   "execution_count": 17,
   "metadata": {},
   "outputs": [],
   "source": [
    "embed_dim = cool_list[0][1].shape[0]\n"
   ]
  },
  {
   "cell_type": "code",
   "execution_count": 18,
   "metadata": {},
   "outputs": [
    {
     "data": {
      "text/html": [
       "<div style=\"display: table;\"><div style=\"display: table-row;\"><div style=\"display: table-cell;\"><b title=\"bokeh.models.renderers.GlyphRenderer\">GlyphRenderer</b>(</div><div style=\"display: table-cell;\">id&nbsp;=&nbsp;'a7d7fe13-6cae-4406-927c-f133c8e6eae4', <span id=\"db0377b2-b9fd-4725-b446-140e2d9cc594\" style=\"cursor: pointer;\">&hellip;)</span></div></div><div class=\"ffa43881-8c26-4cd0-b43d-a0e7e3339435\" style=\"display: none;\"><div style=\"display: table-cell;\"></div><div style=\"display: table-cell;\">data_source&nbsp;=&nbsp;ColumnDataSource(id='cf97c692-5603-4b30-88ec-8e499c31f3ac', ...),</div></div><div class=\"ffa43881-8c26-4cd0-b43d-a0e7e3339435\" style=\"display: none;\"><div style=\"display: table-cell;\"></div><div style=\"display: table-cell;\">glyph&nbsp;=&nbsp;Circle(id='72e63c0c-b6fd-40aa-b3a9-139b3dda23e4', ...),</div></div><div class=\"ffa43881-8c26-4cd0-b43d-a0e7e3339435\" style=\"display: none;\"><div style=\"display: table-cell;\"></div><div style=\"display: table-cell;\">hover_glyph&nbsp;=&nbsp;None,</div></div><div class=\"ffa43881-8c26-4cd0-b43d-a0e7e3339435\" style=\"display: none;\"><div style=\"display: table-cell;\"></div><div style=\"display: table-cell;\">js_event_callbacks&nbsp;=&nbsp;{},</div></div><div class=\"ffa43881-8c26-4cd0-b43d-a0e7e3339435\" style=\"display: none;\"><div style=\"display: table-cell;\"></div><div style=\"display: table-cell;\">js_property_callbacks&nbsp;=&nbsp;{},</div></div><div class=\"ffa43881-8c26-4cd0-b43d-a0e7e3339435\" style=\"display: none;\"><div style=\"display: table-cell;\"></div><div style=\"display: table-cell;\">level&nbsp;=&nbsp;'glyph',</div></div><div class=\"ffa43881-8c26-4cd0-b43d-a0e7e3339435\" style=\"display: none;\"><div style=\"display: table-cell;\"></div><div style=\"display: table-cell;\">muted&nbsp;=&nbsp;False,</div></div><div class=\"ffa43881-8c26-4cd0-b43d-a0e7e3339435\" style=\"display: none;\"><div style=\"display: table-cell;\"></div><div style=\"display: table-cell;\">muted_glyph&nbsp;=&nbsp;None,</div></div><div class=\"ffa43881-8c26-4cd0-b43d-a0e7e3339435\" style=\"display: none;\"><div style=\"display: table-cell;\"></div><div style=\"display: table-cell;\">name&nbsp;=&nbsp;None,</div></div><div class=\"ffa43881-8c26-4cd0-b43d-a0e7e3339435\" style=\"display: none;\"><div style=\"display: table-cell;\"></div><div style=\"display: table-cell;\">nonselection_glyph&nbsp;=&nbsp;Circle(id='6d292f4a-e9d7-486c-8f1a-28947a632edc', ...),</div></div><div class=\"ffa43881-8c26-4cd0-b43d-a0e7e3339435\" style=\"display: none;\"><div style=\"display: table-cell;\"></div><div style=\"display: table-cell;\">selection_glyph&nbsp;=&nbsp;None,</div></div><div class=\"ffa43881-8c26-4cd0-b43d-a0e7e3339435\" style=\"display: none;\"><div style=\"display: table-cell;\"></div><div style=\"display: table-cell;\">subscribed_events&nbsp;=&nbsp;[],</div></div><div class=\"ffa43881-8c26-4cd0-b43d-a0e7e3339435\" style=\"display: none;\"><div style=\"display: table-cell;\"></div><div style=\"display: table-cell;\">tags&nbsp;=&nbsp;[],</div></div><div class=\"ffa43881-8c26-4cd0-b43d-a0e7e3339435\" style=\"display: none;\"><div style=\"display: table-cell;\"></div><div style=\"display: table-cell;\">view&nbsp;=&nbsp;CDSView(id='24482137-1341-4ca6-9187-487a426ee263', ...),</div></div><div class=\"ffa43881-8c26-4cd0-b43d-a0e7e3339435\" style=\"display: none;\"><div style=\"display: table-cell;\"></div><div style=\"display: table-cell;\">visible&nbsp;=&nbsp;True,</div></div><div class=\"ffa43881-8c26-4cd0-b43d-a0e7e3339435\" style=\"display: none;\"><div style=\"display: table-cell;\"></div><div style=\"display: table-cell;\">x_range_name&nbsp;=&nbsp;'default',</div></div><div class=\"ffa43881-8c26-4cd0-b43d-a0e7e3339435\" style=\"display: none;\"><div style=\"display: table-cell;\"></div><div style=\"display: table-cell;\">y_range_name&nbsp;=&nbsp;'default')</div></div></div>\n",
       "<script>\n",
       "(function() {\n",
       "  var expanded = false;\n",
       "  var ellipsis = document.getElementById(\"db0377b2-b9fd-4725-b446-140e2d9cc594\");\n",
       "  ellipsis.addEventListener(\"click\", function() {\n",
       "    var rows = document.getElementsByClassName(\"ffa43881-8c26-4cd0-b43d-a0e7e3339435\");\n",
       "    for (var i = 0; i < rows.length; i++) {\n",
       "      var el = rows[i];\n",
       "      el.style.display = expanded ? \"none\" : \"table-row\";\n",
       "    }\n",
       "    ellipsis.innerHTML = expanded ? \"&hellip;)\" : \"&lsaquo;&lsaquo;&lsaquo;\";\n",
       "    expanded = !expanded;\n",
       "  });\n",
       "})();\n",
       "</script>\n"
      ],
      "text/plain": [
       "bokeh.models.renderers.GlyphRenderer(\n",
       "    id='a7d7fe13-6cae-4406-927c-f133c8e6eae4',\n",
       "    data_source=bokeh.models.sources.ColumnDataSource(\n",
       "        id='cf97c692-5603-4b30-88ec-8e499c31f3ac',\n",
       "        callback=None,\n",
       "        data={},\n",
       "        js_event_callbacks={},\n",
       "        js_property_callbacks={},\n",
       "        name=None,\n",
       "        selected=bokeh.models.selections.Selection(\n",
       "            id='2f88d655-04c5-4c7d-8e13-60d45045b822',\n",
       "            indices=[],\n",
       "            js_event_callbacks={},\n",
       "            js_property_callbacks={},\n",
       "            line_indices=[],\n",
       "            multiline_indices={},\n",
       "            name=None,\n",
       "            subscribed_events=[],\n",
       "            tags=[]),\n",
       "        selection_policy=bokeh.models.selections.UnionRenderers(\n",
       "            id='d73c1446-bd23-495b-ad1a-fe2a9b20000e',\n",
       "            js_event_callbacks={},\n",
       "            js_property_callbacks={},\n",
       "            name=None,\n",
       "            subscribed_events=[],\n",
       "            tags=[]),\n",
       "        subscribed_events=[],\n",
       "        tags=[]),\n",
       "    glyph=bokeh.models.markers.Circle(\n",
       "        id='72e63c0c-b6fd-40aa-b3a9-139b3dda23e4',\n",
       "        angle={'value': 0.0, 'units': 'rad'},\n",
       "        fill_alpha={'value': 1.0},\n",
       "        fill_color={'value': 'red'},\n",
       "        js_event_callbacks={},\n",
       "        js_property_callbacks={},\n",
       "        line_alpha={'value': 1.0},\n",
       "        line_cap='butt',\n",
       "        line_color={'value': 'red'},\n",
       "        line_dash=[],\n",
       "        line_dash_offset=0,\n",
       "        line_join='bevel',\n",
       "        line_width={'value': 1},\n",
       "        name=None,\n",
       "        radius=None,\n",
       "        radius_dimension='x',\n",
       "        size={'value': 10, 'units': 'screen'},\n",
       "        subscribed_events=[],\n",
       "        tags=[],\n",
       "        x={'value': -0.28975597642256795},\n",
       "        y={'value': 0.2083244060637697}),\n",
       "    hover_glyph=None,\n",
       "    js_event_callbacks={},\n",
       "    js_property_callbacks={},\n",
       "    level='glyph',\n",
       "    muted=False,\n",
       "    muted_glyph=None,\n",
       "    name=None,\n",
       "    nonselection_glyph=bokeh.models.markers.Circle(\n",
       "        id='6d292f4a-e9d7-486c-8f1a-28947a632edc',\n",
       "        angle={'value': 0.0, 'units': 'rad'},\n",
       "        fill_alpha={'value': 0.1},\n",
       "        fill_color={'value': '#1f77b4'},\n",
       "        js_event_callbacks={},\n",
       "        js_property_callbacks={},\n",
       "        line_alpha={'value': 0.1},\n",
       "        line_cap='butt',\n",
       "        line_color={'value': '#1f77b4'},\n",
       "        line_dash=[],\n",
       "        line_dash_offset=0,\n",
       "        line_join='bevel',\n",
       "        line_width={'value': 1},\n",
       "        name=None,\n",
       "        radius=None,\n",
       "        radius_dimension='x',\n",
       "        size={'value': 10, 'units': 'screen'},\n",
       "        subscribed_events=[],\n",
       "        tags=[],\n",
       "        x={'value': -0.28975597642256795},\n",
       "        y={'value': 0.2083244060637697}),\n",
       "    selection_glyph=None,\n",
       "    subscribed_events=[],\n",
       "    tags=[],\n",
       "    view=bokeh.models.sources.CDSView(\n",
       "        id='24482137-1341-4ca6-9187-487a426ee263',\n",
       "        filters=[],\n",
       "        js_event_callbacks={},\n",
       "        js_property_callbacks={},\n",
       "        name=None,\n",
       "        source=bokeh.models.sources.ColumnDataSource(\n",
       "            id='cf97c692-5603-4b30-88ec-8e499c31f3ac',\n",
       "            callback=None,\n",
       "            data={},\n",
       "            js_event_callbacks={},\n",
       "            js_property_callbacks={},\n",
       "            name=None,\n",
       "            selected=bokeh.models.selections.Selection(\n",
       "                id='2f88d655-04c5-4c7d-8e13-60d45045b822',\n",
       "                indices=[],\n",
       "                js_event_callbacks={},\n",
       "                js_property_callbacks={},\n",
       "                line_indices=[],\n",
       "                multiline_indices={},\n",
       "                name=None,\n",
       "                subscribed_events=[],\n",
       "                tags=[]),\n",
       "            selection_policy=bokeh.models.selections.UnionRenderers(\n",
       "                id='d73c1446-bd23-495b-ad1a-fe2a9b20000e',\n",
       "                js_event_callbacks={},\n",
       "                js_property_callbacks={},\n",
       "                name=None,\n",
       "                subscribed_events=[],\n",
       "                tags=[]),\n",
       "            subscribed_events=[],\n",
       "            tags=[]),\n",
       "        subscribed_events=[],\n",
       "        tags=[]),\n",
       "    visible=True,\n",
       "    x_range_name='default',\n",
       "    y_range_name='default')"
      ]
     },
     "execution_count": 18,
     "metadata": {},
     "output_type": "execute_result"
    }
   ],
   "source": [
    "from bokeh.plotting import figure, output_file, show, ColumnDataSource\n",
    "from bokeh.models import HoverTool, Arrow, OpenHead\n",
    "\n",
    "hover = HoverTool(tooltips=[(\"true action\",\"@desc\"), (\"prediction\", \"@pred\"),\n",
    "                            (\"not_skip_gate\", \"@not_skip\")],names=['circle'])\n",
    "p = figure( tools=[hover])\n",
    "\n",
    "for i in range(1, len(X)):\n",
    "    p.add_layout(Arrow(end=OpenHead(line_color=\"firebrick\", size=10, line_width=2),\n",
    "                       x_start=X[i-1,0], y_start=X[i-1,1],\n",
    "                       x_end=X[i,0], y_end=X[i,1], line_color='gray'))\n",
    "\n",
    "source = ColumnDataSource(data=dict(\n",
    "    x=X[:,0],\n",
    "    y=X[:,1],\n",
    "    desc=[ting[0] for ting in cool_list],\n",
    "    pred = [ting[2][0] for ting in cool_list],\n",
    "    not_skip = [ting[3][-1] for ting in cool_list]\n",
    "))\n",
    "p.circle('x','y', source=source, size=10, name='circle')\n",
    "# p.line(X[:,0], X[:,1])\n",
    "\n",
    "X1 = pca.transform([ting[4] for ting in cool_list])\n",
    "source = ColumnDataSource(data=dict(\n",
    "    x=X1[:,0],\n",
    "    y=X1[:,1],\n",
    "    desc=[ting[0] for ting in cool_list],\n",
    "    pred = [ting[2][0] for ting in cool_list],\n",
    "    not_skip = [ting[3][-1] for ting in cool_list]\n",
    "))\n",
    "p.circle('x','y', source=source, size=5, color='green', name='circle')\n",
    "\n",
    "X2 = pca.transform([ting[5] for ting in cool_list])\n",
    "source = ColumnDataSource(data=dict(\n",
    "    x=X2[:,0],\n",
    "    y=X2[:,1],\n",
    "    desc=[ting[0] for ting in cool_list],\n",
    "    pred = [ting[2][0] for ting in cool_list],\n",
    "    not_skip = [ting[3][-1] for ting in cool_list]\n",
    "))\n",
    "p.circle('x','y', source=source, size=5, color='red', name='circle')\n",
    "\n",
    "x = pca.transform(np.zeros((1,embed_dim)))\n",
    "p.circle(x[0,0], x[0,1], size=5, color='magenta')\n",
    "p.circle(X[0,0], X[0,1], size=10, color='green')\n",
    "p.circle(X[-1,0], X[-1,1], size=10, color='red')\n"
   ]
  },
  {
   "cell_type": "code",
   "execution_count": 19,
   "metadata": {
    "scrolled": false
   },
   "outputs": [
    {
     "data": {
      "text/html": [
       "\n",
       "\n",
       "\n",
       "\n",
       "\n",
       "\n",
       "  <div class=\"bk-root\" id=\"dd6d67ba-40f8-4ee6-841e-ed60c496ab4b\"></div>\n"
      ]
     },
     "metadata": {},
     "output_type": "display_data"
    },
    {
     "data": {
      "application/javascript": [
       "(function(root) {\n",
       "  function embed_document(root) {\n",
       "    \n",
       "  var docs_json = {\"9b584815-f6fa-4312-be58-7ee7030ff6f7\":{\"roots\":{\"references\":[{\"attributes\":{\"source\":{\"id\":\"85eab8eb-3490-4ed6-8b2d-4ba4405fcf5f\",\"type\":\"ColumnDataSource\"}},\"id\":\"fe780507-9718-4e6d-8bae-661e98c46660\",\"type\":\"CDSView\"},{\"attributes\":{\"line_color\":{\"value\":\"firebrick\"},\"line_width\":{\"value\":2},\"plot\":null,\"size\":10},\"id\":\"e092d82d-df68-42a8-ac86-1213e816fad7\",\"type\":\"OpenHead\"},{\"attributes\":{\"end\":{\"id\":\"f36304f0-5af5-4060-be2c-4f37a2051c9a\",\"type\":\"OpenHead\"},\"line_color\":{\"value\":\"gray\"},\"plot\":{\"id\":\"718b73a6-e959-47d8-bef3-fee3a3897c87\",\"subtype\":\"Figure\",\"type\":\"Plot\"},\"source\":null,\"start\":null,\"x_end\":{\"value\":-0.19589859859292613},\"x_start\":{\"value\":0.14022383811193914},\"y_end\":{\"value\":-0.3412676042142254},\"y_start\":{\"value\":-0.10654165281331039}},\"id\":\"65bb2afd-f359-48fb-8ab0-99ab2eedcbb4\",\"type\":\"Arrow\"},{\"attributes\":{\"line_color\":{\"value\":\"firebrick\"},\"line_width\":{\"value\":2},\"plot\":null,\"size\":10},\"id\":\"62e20113-e356-450b-ad0d-988483cc985f\",\"type\":\"OpenHead\"},{\"attributes\":{\"end\":{\"id\":\"e092d82d-df68-42a8-ac86-1213e816fad7\",\"type\":\"OpenHead\"},\"line_color\":{\"value\":\"gray\"},\"plot\":{\"id\":\"718b73a6-e959-47d8-bef3-fee3a3897c87\",\"subtype\":\"Figure\",\"type\":\"Plot\"},\"source\":null,\"start\":null,\"x_end\":{\"value\":-0.10999691800901533},\"x_start\":{\"value\":-0.19589859859292613},\"y_end\":{\"value\":0.1182976252908857},\"y_start\":{\"value\":-0.3412676042142254}},\"id\":\"5de53236-2487-4bfb-86a1-d284730d8c56\",\"type\":\"Arrow\"},{\"attributes\":{\"line_color\":{\"value\":\"firebrick\"},\"line_width\":{\"value\":2},\"plot\":null,\"size\":10},\"id\":\"05dd6c7a-7b8a-4e04-ab23-5e3f4f230c99\",\"type\":\"OpenHead\"},{\"attributes\":{\"end\":{\"id\":\"62e20113-e356-450b-ad0d-988483cc985f\",\"type\":\"OpenHead\"},\"line_color\":{\"value\":\"gray\"},\"plot\":{\"id\":\"718b73a6-e959-47d8-bef3-fee3a3897c87\",\"subtype\":\"Figure\",\"type\":\"Plot\"},\"source\":null,\"start\":null,\"x_end\":{\"value\":0.0721306252817036},\"x_start\":{\"value\":-0.10999691800901533},\"y_end\":{\"value\":0.22222131199994158},\"y_start\":{\"value\":0.1182976252908857}},\"id\":\"32879a67-9d33-404b-8b53-cee7c6d4bb76\",\"type\":\"Arrow\"},{\"attributes\":{\"line_color\":{\"value\":\"firebrick\"},\"line_width\":{\"value\":2},\"plot\":null,\"size\":10},\"id\":\"61238b1e-b247-4aa2-98c8-9b3d1a1d734a\",\"type\":\"OpenHead\"},{\"attributes\":{\"end\":{\"id\":\"05dd6c7a-7b8a-4e04-ab23-5e3f4f230c99\",\"type\":\"OpenHead\"},\"line_color\":{\"value\":\"gray\"},\"plot\":{\"id\":\"718b73a6-e959-47d8-bef3-fee3a3897c87\",\"subtype\":\"Figure\",\"type\":\"Plot\"},\"source\":null,\"start\":null,\"x_end\":{\"value\":-0.28717705950588585},\"x_start\":{\"value\":0.0721306252817036},\"y_end\":{\"value\":0.36993399974524643},\"y_start\":{\"value\":0.22222131199994158}},\"id\":\"008455b9-29e4-41b4-8a96-dcd9ce345240\",\"type\":\"Arrow\"},{\"attributes\":{\"line_color\":{\"value\":\"firebrick\"},\"line_width\":{\"value\":2},\"plot\":null,\"size\":10},\"id\":\"ecfbbf73-ca5b-465e-bd5c-f9d83fb1dfee\",\"type\":\"OpenHead\"},{\"attributes\":{\"end\":{\"id\":\"61238b1e-b247-4aa2-98c8-9b3d1a1d734a\",\"type\":\"OpenHead\"},\"line_color\":{\"value\":\"gray\"},\"plot\":{\"id\":\"718b73a6-e959-47d8-bef3-fee3a3897c87\",\"subtype\":\"Figure\",\"type\":\"Plot\"},\"source\":null,\"start\":null,\"x_end\":{\"value\":-0.12751847746120315},\"x_start\":{\"value\":-0.28717705950588585},\"y_end\":{\"value\":-0.05482325842308112},\"y_start\":{\"value\":0.36993399974524643}},\"id\":\"99dba544-d557-444f-9363-2db8cb97194d\",\"type\":\"Arrow\"},{\"attributes\":{\"line_color\":{\"value\":\"firebrick\"},\"line_width\":{\"value\":2},\"plot\":null,\"size\":10},\"id\":\"32626977-50ed-4caa-acd1-aab93c1ae712\",\"type\":\"OpenHead\"},{\"attributes\":{\"end\":{\"id\":\"ecfbbf73-ca5b-465e-bd5c-f9d83fb1dfee\",\"type\":\"OpenHead\"},\"line_color\":{\"value\":\"gray\"},\"plot\":{\"id\":\"718b73a6-e959-47d8-bef3-fee3a3897c87\",\"subtype\":\"Figure\",\"type\":\"Plot\"},\"source\":null,\"start\":null,\"x_end\":{\"value\":0.38011872425945326},\"x_start\":{\"value\":-0.12751847746120315},\"y_end\":{\"value\":0.035850619725125786},\"y_start\":{\"value\":-0.05482325842308112}},\"id\":\"0d2b591f-8365-44cf-8ec8-59b27b5d7efd\",\"type\":\"Arrow\"},{\"attributes\":{\"line_color\":{\"value\":\"firebrick\"},\"line_width\":{\"value\":2},\"plot\":null,\"size\":10},\"id\":\"bef8e3cb-158d-47d5-bb7e-77af052b2bfe\",\"type\":\"OpenHead\"},{\"attributes\":{\"end\":{\"id\":\"32626977-50ed-4caa-acd1-aab93c1ae712\",\"type\":\"OpenHead\"},\"line_color\":{\"value\":\"gray\"},\"plot\":{\"id\":\"718b73a6-e959-47d8-bef3-fee3a3897c87\",\"subtype\":\"Figure\",\"type\":\"Plot\"},\"source\":null,\"start\":null,\"x_end\":{\"value\":-0.13102178426846353},\"x_start\":{\"value\":0.38011872425945326},\"y_end\":{\"value\":0.16254215533363534},\"y_start\":{\"value\":0.035850619725125786}},\"id\":\"4fd1b8e7-2ef1-40fe-ac90-01ae1b457b4c\",\"type\":\"Arrow\"},{\"attributes\":{\"source\":{\"id\":\"ef135c1f-1b35-4c41-aa96-5f449a8a2114\",\"type\":\"ColumnDataSource\"}},\"id\":\"9d270bcf-8706-485a-ba56-68097a08e569\",\"type\":\"CDSView\"},{\"attributes\":{\"below\":[{\"id\":\"0ad1c839-0107-46fe-b8cd-3c20d0d94003\",\"type\":\"LinearAxis\"}],\"left\":[{\"id\":\"2141524c-25dc-4c63-966d-2fdd6e3db7b0\",\"type\":\"LinearAxis\"}],\"renderers\":[{\"id\":\"0ad1c839-0107-46fe-b8cd-3c20d0d94003\",\"type\":\"LinearAxis\"},{\"id\":\"5127c43e-ec9a-44d6-bc8c-c05f9e9f59c4\",\"type\":\"Grid\"},{\"id\":\"2141524c-25dc-4c63-966d-2fdd6e3db7b0\",\"type\":\"LinearAxis\"},{\"id\":\"105ff836-ba0c-4a19-9095-f261ee89b225\",\"type\":\"Grid\"},{\"id\":\"ec4742d6-f5bf-4428-9d18-bd469b902600\",\"type\":\"Arrow\"},{\"id\":\"5d664bf7-9292-4848-9889-f937dea93c18\",\"type\":\"Arrow\"},{\"id\":\"dd9a4e53-95f2-494a-abc7-3aee44f7cd29\",\"type\":\"Arrow\"},{\"id\":\"3125659d-8e9a-4995-9982-107fcf0b923a\",\"type\":\"Arrow\"},{\"id\":\"1752420d-7aa3-4c4a-908f-6ef340d2ba15\",\"type\":\"Arrow\"},{\"id\":\"7dc67263-eed6-421a-9e11-f2aee8048f00\",\"type\":\"Arrow\"},{\"id\":\"492060ab-bb93-40f4-b721-e90db12ea887\",\"type\":\"Arrow\"},{\"id\":\"d105db95-4cbb-4fb6-8628-8fc1b57130f6\",\"type\":\"Arrow\"},{\"id\":\"683f8031-20e4-4c5f-927f-36118fa32c17\",\"type\":\"Arrow\"},{\"id\":\"36a6ecef-61f0-42d0-b5a7-c5436d74309e\",\"type\":\"Arrow\"},{\"id\":\"9264d4e4-3f27-478c-9850-500ca18f5732\",\"type\":\"Arrow\"},{\"id\":\"cf6c982b-955c-4621-9b75-46fc607690f3\",\"type\":\"Arrow\"},{\"id\":\"252e298a-e848-41b8-9425-0610ba1ee768\",\"type\":\"Arrow\"},{\"id\":\"d6f2d62d-4c8e-4055-ad96-365de4fce038\",\"type\":\"Arrow\"},{\"id\":\"6ad26d43-c409-4d0b-a782-606a6d6aee35\",\"type\":\"Arrow\"},{\"id\":\"dcbc9d97-69d3-4025-81f8-4cbfe1191395\",\"type\":\"Arrow\"},{\"id\":\"94aeacf4-c584-409c-8892-dceb48e1c9c7\",\"type\":\"Arrow\"},{\"id\":\"b22c446a-ec0d-4473-801a-5e47c4a81912\",\"type\":\"Arrow\"},{\"id\":\"38ab61da-1937-4f4d-be09-b1a2fcb4dd37\",\"type\":\"Arrow\"},{\"id\":\"4a72be13-4253-4f0c-8f84-04070f4f884e\",\"type\":\"Arrow\"},{\"id\":\"65bb2afd-f359-48fb-8ab0-99ab2eedcbb4\",\"type\":\"Arrow\"},{\"id\":\"5de53236-2487-4bfb-86a1-d284730d8c56\",\"type\":\"Arrow\"},{\"id\":\"32879a67-9d33-404b-8b53-cee7c6d4bb76\",\"type\":\"Arrow\"},{\"id\":\"008455b9-29e4-41b4-8a96-dcd9ce345240\",\"type\":\"Arrow\"},{\"id\":\"99dba544-d557-444f-9363-2db8cb97194d\",\"type\":\"Arrow\"},{\"id\":\"0d2b591f-8365-44cf-8ec8-59b27b5d7efd\",\"type\":\"Arrow\"},{\"id\":\"4fd1b8e7-2ef1-40fe-ac90-01ae1b457b4c\",\"type\":\"Arrow\"},{\"id\":\"05a9c524-a59d-4590-9abb-0c2be3944138\",\"type\":\"Arrow\"},{\"id\":\"21d58f0b-652e-41b5-a17e-27fed90a49d5\",\"type\":\"GlyphRenderer\"},{\"id\":\"9ba7229b-e78f-4180-ae1e-977a08d00082\",\"type\":\"GlyphRenderer\"},{\"id\":\"c2ee998e-85ad-433b-9375-20bffc644869\",\"type\":\"GlyphRenderer\"},{\"id\":\"65488864-271f-48fa-ad96-03d01c3ffdef\",\"type\":\"GlyphRenderer\"},{\"id\":\"2a96d772-65bc-41e5-a70a-4fb3bb3318e9\",\"type\":\"GlyphRenderer\"},{\"id\":\"a7d7fe13-6cae-4406-927c-f133c8e6eae4\",\"type\":\"GlyphRenderer\"}],\"title\":{\"id\":\"87f99f98-b53a-4549-96d6-e316cd761eaa\",\"type\":\"Title\"},\"toolbar\":{\"id\":\"ae56f766-5b0f-495b-92b7-c4b202c5571c\",\"type\":\"Toolbar\"},\"x_range\":{\"id\":\"03a26fbb-d3e1-4919-acce-c87eb8c7bc21\",\"type\":\"DataRange1d\"},\"x_scale\":{\"id\":\"594907bc-0be3-4eb8-9d01-7e17f176b846\",\"type\":\"LinearScale\"},\"y_range\":{\"id\":\"f8bff0a9-aa90-49e4-bb56-e3e6fc0c0a9c\",\"type\":\"DataRange1d\"},\"y_scale\":{\"id\":\"d0811eb3-53d5-46bf-b3aa-766a541da3bd\",\"type\":\"LinearScale\"}},\"id\":\"718b73a6-e959-47d8-bef3-fee3a3897c87\",\"subtype\":\"Figure\",\"type\":\"Plot\"},{\"attributes\":{\"end\":{\"id\":\"bef8e3cb-158d-47d5-bb7e-77af052b2bfe\",\"type\":\"OpenHead\"},\"line_color\":{\"value\":\"gray\"},\"plot\":{\"id\":\"718b73a6-e959-47d8-bef3-fee3a3897c87\",\"subtype\":\"Figure\",\"type\":\"Plot\"},\"source\":null,\"start\":null,\"x_end\":{\"value\":-0.28975597642256795},\"x_start\":{\"value\":-0.13102178426846353},\"y_end\":{\"value\":0.2083244060637697},\"y_start\":{\"value\":0.16254215533363534}},\"id\":\"05a9c524-a59d-4590-9abb-0c2be3944138\",\"type\":\"Arrow\"},{\"attributes\":{\"callback\":null,\"names\":[\"circle\"],\"renderers\":\"auto\",\"tooltips\":[[\"true action\",\"@desc\"],[\"prediction\",\"@pred\"],[\"not_skip_gate\",\"@not_skip\"]]},\"id\":\"bbd8352f-4e60-497c-9164-21928f0e403e\",\"type\":\"HoverTool\"},{\"attributes\":{\"line_color\":{\"value\":\"firebrick\"},\"line_width\":{\"value\":2},\"plot\":null,\"size\":10},\"id\":\"5bb3dd59-f416-4f55-9ce7-73f3d9d1fa38\",\"type\":\"OpenHead\"},{\"attributes\":{\"source\":{\"id\":\"fe9b51ce-cd08-4d1a-9ff9-698aad76b39d\",\"type\":\"ColumnDataSource\"}},\"id\":\"a2adfa02-b54d-406d-987a-b04b31906eee\",\"type\":\"CDSView\"},{\"attributes\":{\"data_source\":{\"id\":\"85eab8eb-3490-4ed6-8b2d-4ba4405fcf5f\",\"type\":\"ColumnDataSource\"},\"glyph\":{\"id\":\"7a745bbf-bc39-4a25-99f7-2d1bdb6495d3\",\"type\":\"Circle\"},\"hover_glyph\":null,\"muted_glyph\":null,\"name\":\"circle\",\"nonselection_glyph\":{\"id\":\"1a6b339b-dc35-4ada-9ace-00a80f91bf7b\",\"type\":\"Circle\"},\"selection_glyph\":null,\"view\":{\"id\":\"fe780507-9718-4e6d-8bae-661e98c46660\",\"type\":\"CDSView\"}},\"id\":\"21d58f0b-652e-41b5-a17e-27fed90a49d5\",\"type\":\"GlyphRenderer\"},{\"attributes\":{\"fill_color\":{\"value\":\"#1f77b4\"},\"line_color\":{\"value\":\"#1f77b4\"},\"size\":{\"units\":\"screen\",\"value\":10},\"x\":{\"field\":\"x\"},\"y\":{\"field\":\"y\"}},\"id\":\"7a745bbf-bc39-4a25-99f7-2d1bdb6495d3\",\"type\":\"Circle\"},{\"attributes\":{\"callback\":null,\"data\":{\"desc\":[\"- utter_ask_details\",\"- utter_explain_details_hotel\",\"- utter_ask_details\",\"- utter_chitchat\",\"- utter_ask_details\",\"- utter_ask_startdate\",\"- utter_ask_location\",\"- utter_correct_startdate_hotel\",\"- utter_ask_location\",\"- utter_explain_location_hotel\",\"- utter_ask_location\",\"- utter_ask_price\",\"- utter_chitchat\",\"- utter_ask_price\",\"- utter_chitchat\",\"- utter_ask_price\",\"- utter_chitchat\",\"- utter_ask_price\",\"- utter_chitchat\",\"- utter_ask_price\",\"- utter_explain_price_hotel\",\"- utter_ask_price\",\"- utter_ask_people\",\"- utter_filled_slots\",\"- utter_search_hotel\",\"- utter_suggest_hotel\",\"- utter_chitchat\",\"- utter_suggest_hotel\",\"- utter_happy\"],\"not_skip\":[1.0,1.0,0.0,1.0,1.0,1.0,1.0,1.0,0.0,1.0,0.0,1.0,1.0,0.0,1.0,0.0,1.0,0.0,1.0,0.0,1.0,0.0,1.0,1.0,1.0,1.0,1.0,0.0,1.0],\"pred\":[\"- utter_ask_details\",\"- utter_explain_people_hotel\",\"- utter_ask_details\",\"- utter_chitchat\",\"- utter_ask_people\",\"- utter_ask_startdate\",\"- utter_ask_location\",\"- utter_correct_startdate_hotel\",\"- utter_ask_location\",\"- utter_explain_price_hotel\",\"- utter_ask_location\",\"- utter_ask_price\",\"- utter_chitchat\",\"- utter_ask_price\",\"- utter_chitchat\",\"- utter_ask_price\",\"- utter_chitchat\",\"- utter_ask_price\",\"- utter_chitchat\",\"- utter_ask_price\",\"- utter_explain_price_hotel\",\"- utter_ask_price\",\"- utter_ask_people\",\"- utter_filled_slots\",\"- utter_search_hotel\",\"- utter_suggest_hotel\",\"- utter_chitchat\",\"- utter_suggest_hotel\",\"- utter_happy\"],\"x\":{\"__ndarray__\":\"ecHj0/hvwr8M3q4DcGaav1e1TvNwo8K/eEvNp1FZ1z8MBbid8F7Dv5OFVYOco72/VC3upd6Lw7/GqG9aWp7DPxx3fYWdctC/qC2Lk04fwT8iK+ZlOmjQv8WGqBOrbcW/OD7dXonr4D8h2bfOXqDIv+hxpfbni+A/Ck9KGl1kyL8s94lI13LgP7c88aeDKsi/MU11wLRn4D8c56ewmwbIv2+6Z8/a8sE/BPkkjTQTyb+Hb4INwii8v5P8nxQnd7I/eU+v4xth0r88cSqFhlLAv3ipUnzdU9g/L5E/Y1LFwL/tjKOmXIvSvw==\",\"dtype\":\"float64\",\"shape\":[29]},\"y\":{\"__ndarray__\":\"ASQuvmch0j/VGFCEyjPTP3DsVjXS99M/UV0l5yIBwj9z9QLBwOzLPwUtXRH6J5Y/EvTITLQcn7+xSU+bj8TgP91f4ockTaS/Uygok60/oL8KCyzz03O0v/AxHFjwjte/iFWoWccju7/2+67IbLfXv06HrGKMJL6/uESuqsOr1r/75rpza8a/v0Zp23KhmNW/eaI8JXhdwL8EeSAIoubUv1e1flJQRru/HjPSE1TX1b/2ndHPwEi+P33JwXm/ccw/RGWlp/+s1z8RfvlLyxGsv7uAhS4DW6I/a42wbC7OxD9pUoDHX6rKPw==\",\"dtype\":\"float64\",\"shape\":[29]}},\"selected\":{\"id\":\"67490d00-81dc-4aa0-adaa-407dd3b9f1c8\",\"type\":\"Selection\"},\"selection_policy\":{\"id\":\"8b70621b-8c6d-4cf7-a7df-177728db75f7\",\"type\":\"UnionRenderers\"}},\"id\":\"85eab8eb-3490-4ed6-8b2d-4ba4405fcf5f\",\"type\":\"ColumnDataSource\"},{\"attributes\":{\"fill_alpha\":{\"value\":0.1},\"fill_color\":{\"value\":\"#1f77b4\"},\"line_alpha\":{\"value\":0.1},\"line_color\":{\"value\":\"#1f77b4\"},\"size\":{\"units\":\"screen\",\"value\":10},\"x\":{\"field\":\"x\"},\"y\":{\"field\":\"y\"}},\"id\":\"1a6b339b-dc35-4ada-9ace-00a80f91bf7b\",\"type\":\"Circle\"},{\"attributes\":{\"data_source\":{\"id\":\"fe9b51ce-cd08-4d1a-9ff9-698aad76b39d\",\"type\":\"ColumnDataSource\"},\"glyph\":{\"id\":\"16dec81f-5437-49d4-a775-1206eaf6b9f4\",\"type\":\"Circle\"},\"hover_glyph\":null,\"muted_glyph\":null,\"name\":\"circle\",\"nonselection_glyph\":{\"id\":\"83f0ea7b-305a-4dae-8178-71341a8ba900\",\"type\":\"Circle\"},\"selection_glyph\":null,\"view\":{\"id\":\"a2adfa02-b54d-406d-987a-b04b31906eee\",\"type\":\"CDSView\"}},\"id\":\"9ba7229b-e78f-4180-ae1e-977a08d00082\",\"type\":\"GlyphRenderer\"},{\"attributes\":{\"active_drag\":\"auto\",\"active_inspect\":\"auto\",\"active_multi\":null,\"active_scroll\":\"auto\",\"active_tap\":\"auto\",\"tools\":[{\"id\":\"bbd8352f-4e60-497c-9164-21928f0e403e\",\"type\":\"HoverTool\"}]},\"id\":\"ae56f766-5b0f-495b-92b7-c4b202c5571c\",\"type\":\"Toolbar\"},{\"attributes\":{\"callback\":null},\"id\":\"03a26fbb-d3e1-4919-acce-c87eb8c7bc21\",\"type\":\"DataRange1d\"},{\"attributes\":{\"callback\":null,\"data\":{\"desc\":[\"- utter_ask_details\",\"- utter_explain_details_hotel\",\"- utter_ask_details\",\"- utter_chitchat\",\"- utter_ask_details\",\"- utter_ask_startdate\",\"- utter_ask_location\",\"- utter_correct_startdate_hotel\",\"- utter_ask_location\",\"- utter_explain_location_hotel\",\"- utter_ask_location\",\"- utter_ask_price\",\"- utter_chitchat\",\"- utter_ask_price\",\"- utter_chitchat\",\"- utter_ask_price\",\"- utter_chitchat\",\"- utter_ask_price\",\"- utter_chitchat\",\"- utter_ask_price\",\"- utter_explain_price_hotel\",\"- utter_ask_price\",\"- utter_ask_people\",\"- utter_filled_slots\",\"- utter_search_hotel\",\"- utter_suggest_hotel\",\"- utter_chitchat\",\"- utter_suggest_hotel\",\"- utter_happy\"],\"not_skip\":[1.0,1.0,0.0,1.0,1.0,1.0,1.0,1.0,0.0,1.0,0.0,1.0,1.0,0.0,1.0,0.0,1.0,0.0,1.0,0.0,1.0,0.0,1.0,1.0,1.0,1.0,1.0,0.0,1.0],\"pred\":[\"- utter_ask_details\",\"- utter_explain_people_hotel\",\"- utter_ask_details\",\"- utter_chitchat\",\"- utter_ask_people\",\"- utter_ask_startdate\",\"- utter_ask_location\",\"- utter_correct_startdate_hotel\",\"- utter_ask_location\",\"- utter_explain_price_hotel\",\"- utter_ask_location\",\"- utter_ask_price\",\"- utter_chitchat\",\"- utter_ask_price\",\"- utter_chitchat\",\"- utter_ask_price\",\"- utter_chitchat\",\"- utter_ask_price\",\"- utter_chitchat\",\"- utter_ask_price\",\"- utter_explain_price_hotel\",\"- utter_ask_price\",\"- utter_ask_people\",\"- utter_filled_slots\",\"- utter_search_hotel\",\"- utter_suggest_hotel\",\"- utter_chitchat\",\"- utter_suggest_hotel\",\"- utter_happy\"],\"x\":{\"__ndarray__\":\"uz2/YdgfvL/MgByvXvm8vy7V15/eCca/GsSTyGhVvL82oxzYhYm9v7Th4Ck0Zr2/2fhUPxuLvL+Uicyg/vu7v+JWPhFhK8+/DO5fnVNlvb8WMZ65G7nNvynq4rL6cr+/w2gray3fvL95qRtI5VrJv3aIiUkeQb2/MJt7xzsByb/kp71GuZq9v9UCzNl5wsi/3eJET5LXvb+0OFfQCJ7Iv9oIp81/+b6/4AwpNBqrx78umN1gc7fAv05yxsBcwsK/icnRmYLlw78+JohrrbzAv2AvmpzpVb6/H9nVaA7mvr9JIESxA2u/vw==\",\"dtype\":\"float64\",\"shape\":[29]},\"y\":{\"__ndarray__\":\"tcnSmBl2wz/ShVDsdEDEP+Wk+fCcJtE/nqrY1u2nwz8r7qHYjsbEP20OmBBxu8U/0+QGlsHqwz8BKgiziKrDP0vBPP9GkLg/ETjkRDJFwz/ywNbBNVS5P8Dz66KE38I/i9coVRsWwz+EtmoQ6hrQvzAyosbCFsI/nLviF1yazb9BhMtEAzbBP7sRDZhLccu/kMRQNK6owD+xTarozBTKv0XWZK3K0bk/W35Yu3n/wr8Snf9UkdOyP6/3WAMnvLk/r+nqrIF1vj/6joq1yUy7PxIUiuCzjMI/Kt4vNEUcuD+/Wqga2+bBPw==\",\"dtype\":\"float64\",\"shape\":[29]}},\"selected\":{\"id\":\"6e05bf31-f01d-4a73-8364-19ea256d3fb0\",\"type\":\"Selection\"},\"selection_policy\":{\"id\":\"da8e74d4-6977-4894-be85-be4a455f6e3b\",\"type\":\"UnionRenderers\"}},\"id\":\"fe9b51ce-cd08-4d1a-9ff9-698aad76b39d\",\"type\":\"ColumnDataSource\"},{\"attributes\":{\"line_color\":{\"value\":\"firebrick\"},\"line_width\":{\"value\":2},\"plot\":null,\"size\":10},\"id\":\"8cf4959a-0950-4af9-b5ad-46ce9d65e2a5\",\"type\":\"OpenHead\"},{\"attributes\":{\"fill_alpha\":{\"value\":0.1},\"fill_color\":{\"value\":\"#1f77b4\"},\"line_alpha\":{\"value\":0.1},\"line_color\":{\"value\":\"#1f77b4\"},\"size\":{\"units\":\"screen\",\"value\":5},\"x\":{\"field\":\"x\"},\"y\":{\"field\":\"y\"}},\"id\":\"83f0ea7b-305a-4dae-8178-71341a8ba900\",\"type\":\"Circle\"},{\"attributes\":{\"callback\":null},\"id\":\"f8bff0a9-aa90-49e4-bb56-e3e6fc0c0a9c\",\"type\":\"DataRange1d\"},{\"attributes\":{},\"id\":\"594907bc-0be3-4eb8-9d01-7e17f176b846\",\"type\":\"LinearScale\"},{\"attributes\":{\"fill_color\":{\"value\":\"green\"},\"line_color\":{\"value\":\"green\"},\"size\":{\"units\":\"screen\",\"value\":5},\"x\":{\"field\":\"x\"},\"y\":{\"field\":\"y\"}},\"id\":\"16dec81f-5437-49d4-a775-1206eaf6b9f4\",\"type\":\"Circle\"},{\"attributes\":{},\"id\":\"d0811eb3-53d5-46bf-b3aa-766a541da3bd\",\"type\":\"LinearScale\"},{\"attributes\":{\"source\":{\"id\":\"9caf621d-b972-4aa9-a193-982a74808e1a\",\"type\":\"ColumnDataSource\"}},\"id\":\"35b30c51-7d2a-4479-94e8-7278307b29e7\",\"type\":\"CDSView\"},{\"attributes\":{\"end\":{\"id\":\"5bb3dd59-f416-4f55-9ce7-73f3d9d1fa38\",\"type\":\"OpenHead\"},\"line_color\":{\"value\":\"gray\"},\"plot\":{\"id\":\"718b73a6-e959-47d8-bef3-fee3a3897c87\",\"subtype\":\"Figure\",\"type\":\"Plot\"},\"source\":null,\"start\":null,\"x_end\":{\"value\":-0.02578139326553068},\"x_start\":{\"value\":-0.14404211374450052},\"y_end\":{\"value\":0.30003607674769955},\"y_start\":{\"value\":0.2832888943890453}},\"id\":\"ec4742d6-f5bf-4428-9d18-bd469b902600\",\"type\":\"Arrow\"},{\"attributes\":{\"formatter\":{\"id\":\"b3b16dd6-665f-4c47-9b63-e561f661583c\",\"type\":\"BasicTickFormatter\"},\"plot\":{\"id\":\"718b73a6-e959-47d8-bef3-fee3a3897c87\",\"subtype\":\"Figure\",\"type\":\"Plot\"},\"ticker\":{\"id\":\"d380e437-a1f1-4922-89fd-d0382f62d52f\",\"type\":\"BasicTicker\"}},\"id\":\"0ad1c839-0107-46fe-b8cd-3c20d0d94003\",\"type\":\"LinearAxis\"},{\"attributes\":{\"callback\":null,\"data\":{\"desc\":[\"- utter_ask_details\",\"- utter_explain_details_hotel\",\"- utter_ask_details\",\"- utter_chitchat\",\"- utter_ask_details\",\"- utter_ask_startdate\",\"- utter_ask_location\",\"- utter_correct_startdate_hotel\",\"- utter_ask_location\",\"- utter_explain_location_hotel\",\"- utter_ask_location\",\"- utter_ask_price\",\"- utter_chitchat\",\"- utter_ask_price\",\"- utter_chitchat\",\"- utter_ask_price\",\"- utter_chitchat\",\"- utter_ask_price\",\"- utter_chitchat\",\"- utter_ask_price\",\"- utter_explain_price_hotel\",\"- utter_ask_price\",\"- utter_ask_people\",\"- utter_filled_slots\",\"- utter_search_hotel\",\"- utter_suggest_hotel\",\"- utter_chitchat\",\"- utter_suggest_hotel\",\"- utter_happy\"],\"not_skip\":[1.0,1.0,0.0,1.0,1.0,1.0,1.0,1.0,0.0,1.0,0.0,1.0,1.0,0.0,1.0,0.0,1.0,0.0,1.0,0.0,1.0,0.0,1.0,1.0,1.0,1.0,1.0,0.0,1.0],\"pred\":[\"- utter_ask_details\",\"- utter_explain_people_hotel\",\"- utter_ask_details\",\"- utter_chitchat\",\"- utter_ask_people\",\"- utter_ask_startdate\",\"- utter_ask_location\",\"- utter_correct_startdate_hotel\",\"- utter_ask_location\",\"- utter_explain_price_hotel\",\"- utter_ask_location\",\"- utter_ask_price\",\"- utter_chitchat\",\"- utter_ask_price\",\"- utter_chitchat\",\"- utter_ask_price\",\"- utter_chitchat\",\"- utter_ask_price\",\"- utter_chitchat\",\"- utter_ask_price\",\"- utter_explain_price_hotel\",\"- utter_ask_price\",\"- utter_ask_people\",\"- utter_filled_slots\",\"- utter_search_hotel\",\"- utter_suggest_hotel\",\"- utter_chitchat\",\"- utter_suggest_hotel\",\"- utter_happy\"],\"x\":{\"__ndarray__\":\"esHj0/hvwr9hKWSwVgCXvzmzNAL9UrW/7lBcyLVm1z+rZ2LjGarCv/F/TMVAXby/WdwZNj1Ww7+RDBN7bYzDP6GFjGaMk7+/EpSYPAzCwT+xp+g/RSfBv4X68OoZxMO/54JfAnQD4T+fAHJzy6q6v5GJ+7AQsOA/KduqAhvmur+DS8JlM6LgP3VdFAXs77q/4HyXAKye4D8CyQce/vC6v8Z+oYCuX8M/D4FqHA3wvr+YM+ips9m2v2V8BCwI3Ls/iEdyX6Hszr/nBCSuiku7v6+1zMth4dg/rYKBw27Evr/87CvLkbjRvw==\",\"dtype\":\"float64\",\"shape\":[29]},\"y\":{\"__ndarray__\":\"ACQuvmch0j9bZBbWnM7SPzfliCWEGMk/XrPWo07PwT87BRt+S5zKPxra5lfy6W8/OewFNPpgob8MhXPRc7fgP/f4v4xn1ZA/mwvNnyD4nr9HylM8Wm+bv6iDtdmlQ9e/zPQlxcpjur88vQSbUPSgPxCzx73eZbu/d68jjXLHnT/rVKXVPka7v9vFSNsRsZ0/Ifw5dxkgu7+rPPNIE+2dP5B4WHzPV6y/m7cjslPkpL9lh29UsTDJP3uxQMfihNE/A6vxDKzK2T/DI8g24UuDv0/eQOGZAKY/jz/SaiU2zD9DGQA/njnMPw==\",\"dtype\":\"float64\",\"shape\":[29]}},\"selected\":{\"id\":\"ffd1a95a-20fe-4e99-8de9-92f38b1e760c\",\"type\":\"Selection\"},\"selection_policy\":{\"id\":\"061eba52-0187-423d-aaa1-cf5fd0f0476e\",\"type\":\"UnionRenderers\"}},\"id\":\"9caf621d-b972-4aa9-a193-982a74808e1a\",\"type\":\"ColumnDataSource\"},{\"attributes\":{\"plot\":null,\"text\":\"\"},\"id\":\"87f99f98-b53a-4549-96d6-e316cd761eaa\",\"type\":\"Title\"},{\"attributes\":{\"data_source\":{\"id\":\"9caf621d-b972-4aa9-a193-982a74808e1a\",\"type\":\"ColumnDataSource\"},\"glyph\":{\"id\":\"a6c89d0d-5e9a-47c5-8c0f-a90cea90dd71\",\"type\":\"Circle\"},\"hover_glyph\":null,\"muted_glyph\":null,\"name\":\"circle\",\"nonselection_glyph\":{\"id\":\"74be94d9-a7c8-4e08-975b-7db9c970a4bc\",\"type\":\"Circle\"},\"selection_glyph\":null,\"view\":{\"id\":\"35b30c51-7d2a-4479-94e8-7278307b29e7\",\"type\":\"CDSView\"}},\"id\":\"c2ee998e-85ad-433b-9375-20bffc644869\",\"type\":\"GlyphRenderer\"},{\"attributes\":{},\"id\":\"d380e437-a1f1-4922-89fd-d0382f62d52f\",\"type\":\"BasicTicker\"},{\"attributes\":{},\"id\":\"3ee57fd9-9400-4b02-aefb-8a6169ee5dd8\",\"type\":\"BasicTickFormatter\"},{\"attributes\":{\"plot\":{\"id\":\"718b73a6-e959-47d8-bef3-fee3a3897c87\",\"subtype\":\"Figure\",\"type\":\"Plot\"},\"ticker\":{\"id\":\"d380e437-a1f1-4922-89fd-d0382f62d52f\",\"type\":\"BasicTicker\"}},\"id\":\"5127c43e-ec9a-44d6-bc8c-c05f9e9f59c4\",\"type\":\"Grid\"},{\"attributes\":{\"fill_alpha\":{\"value\":0.1},\"fill_color\":{\"value\":\"#1f77b4\"},\"line_alpha\":{\"value\":0.1},\"line_color\":{\"value\":\"#1f77b4\"},\"size\":{\"units\":\"screen\",\"value\":5},\"x\":{\"field\":\"x\"},\"y\":{\"field\":\"y\"}},\"id\":\"74be94d9-a7c8-4e08-975b-7db9c970a4bc\",\"type\":\"Circle\"},{\"attributes\":{},\"id\":\"8b70621b-8c6d-4cf7-a7df-177728db75f7\",\"type\":\"UnionRenderers\"},{\"attributes\":{\"formatter\":{\"id\":\"3ee57fd9-9400-4b02-aefb-8a6169ee5dd8\",\"type\":\"BasicTickFormatter\"},\"plot\":{\"id\":\"718b73a6-e959-47d8-bef3-fee3a3897c87\",\"subtype\":\"Figure\",\"type\":\"Plot\"},\"ticker\":{\"id\":\"230083e6-7031-4f52-8f79-143b51668e51\",\"type\":\"BasicTicker\"}},\"id\":\"2141524c-25dc-4c63-966d-2fdd6e3db7b0\",\"type\":\"LinearAxis\"},{\"attributes\":{\"callback\":null,\"data\":{},\"selected\":{\"id\":\"fd5030ae-6178-4969-a3ed-73dda10992a5\",\"type\":\"Selection\"},\"selection_policy\":{\"id\":\"a2ecdfa3-2cf1-4a61-99b8-bbd4c182c5d0\",\"type\":\"UnionRenderers\"}},\"id\":\"ef135c1f-1b35-4c41-aa96-5f449a8a2114\",\"type\":\"ColumnDataSource\"},{\"attributes\":{},\"id\":\"b3b16dd6-665f-4c47-9b63-e561f661583c\",\"type\":\"BasicTickFormatter\"},{\"attributes\":{},\"id\":\"230083e6-7031-4f52-8f79-143b51668e51\",\"type\":\"BasicTicker\"},{\"attributes\":{\"fill_color\":{\"value\":\"red\"},\"line_color\":{\"value\":\"red\"},\"size\":{\"units\":\"screen\",\"value\":5},\"x\":{\"field\":\"x\"},\"y\":{\"field\":\"y\"}},\"id\":\"a6c89d0d-5e9a-47c5-8c0f-a90cea90dd71\",\"type\":\"Circle\"},{\"attributes\":{\"dimension\":1,\"plot\":{\"id\":\"718b73a6-e959-47d8-bef3-fee3a3897c87\",\"subtype\":\"Figure\",\"type\":\"Plot\"},\"ticker\":{\"id\":\"230083e6-7031-4f52-8f79-143b51668e51\",\"type\":\"BasicTicker\"}},\"id\":\"105ff836-ba0c-4a19-9095-f261ee89b225\",\"type\":\"Grid\"},{\"attributes\":{\"callback\":null,\"data\":{},\"selected\":{\"id\":\"dd9d718c-14a0-4415-9557-02a63dcf16a7\",\"type\":\"Selection\"},\"selection_policy\":{\"id\":\"22a303af-a183-4060-a816-83efedc24af6\",\"type\":\"UnionRenderers\"}},\"id\":\"14cc7f49-9b30-4abe-a9bf-5fbfce2f28cb\",\"type\":\"ColumnDataSource\"},{\"attributes\":{\"line_color\":{\"value\":\"firebrick\"},\"line_width\":{\"value\":2},\"plot\":null,\"size\":10},\"id\":\"27a9d199-1b80-4991-84a6-c403de58458c\",\"type\":\"OpenHead\"},{\"attributes\":{\"fill_color\":{\"value\":\"magenta\"},\"line_color\":{\"value\":\"magenta\"},\"size\":{\"units\":\"screen\",\"value\":5},\"x\":{\"value\":-0.10986091982271422},\"y\":{\"value\":0.15204162561492543}},\"id\":\"ef01a800-de69-4f70-b65b-7ccec6fc7a2c\",\"type\":\"Circle\"},{\"attributes\":{\"line_color\":{\"value\":\"firebrick\"},\"line_width\":{\"value\":2},\"plot\":null,\"size\":10},\"id\":\"0b47d589-acb5-4d78-a183-f63d395aff92\",\"type\":\"OpenHead\"},{\"attributes\":{\"fill_alpha\":{\"value\":0.1},\"fill_color\":{\"value\":\"#1f77b4\"},\"line_alpha\":{\"value\":0.1},\"line_color\":{\"value\":\"#1f77b4\"},\"size\":{\"units\":\"screen\",\"value\":5},\"x\":{\"value\":-0.10986091982271422},\"y\":{\"value\":0.15204162561492543}},\"id\":\"347acdc3-ef7a-456f-a9ee-08dae33a63e4\",\"type\":\"Circle\"},{\"attributes\":{},\"id\":\"67490d00-81dc-4aa0-adaa-407dd3b9f1c8\",\"type\":\"Selection\"},{\"attributes\":{\"data_source\":{\"id\":\"14cc7f49-9b30-4abe-a9bf-5fbfce2f28cb\",\"type\":\"ColumnDataSource\"},\"glyph\":{\"id\":\"ef01a800-de69-4f70-b65b-7ccec6fc7a2c\",\"type\":\"Circle\"},\"hover_glyph\":null,\"muted_glyph\":null,\"nonselection_glyph\":{\"id\":\"347acdc3-ef7a-456f-a9ee-08dae33a63e4\",\"type\":\"Circle\"},\"selection_glyph\":null,\"view\":{\"id\":\"61df6a0f-81da-4a77-b96e-2035f9035cc2\",\"type\":\"CDSView\"}},\"id\":\"65488864-271f-48fa-ad96-03d01c3ffdef\",\"type\":\"GlyphRenderer\"},{\"attributes\":{\"line_color\":{\"value\":\"firebrick\"},\"line_width\":{\"value\":2},\"plot\":null,\"size\":10},\"id\":\"f36304f0-5af5-4060-be2c-4f37a2051c9a\",\"type\":\"OpenHead\"},{\"attributes\":{\"end\":{\"id\":\"8cf4959a-0950-4af9-b5ad-46ce9d65e2a5\",\"type\":\"OpenHead\"},\"line_color\":{\"value\":\"gray\"},\"plot\":{\"id\":\"718b73a6-e959-47d8-bef3-fee3a3897c87\",\"subtype\":\"Figure\",\"type\":\"Plot\"},\"source\":null,\"start\":null,\"x_end\":{\"value\":-0.14561282997366717},\"x_start\":{\"value\":-0.02578139326553068},\"y_end\":{\"value\":0.31200080117168394},\"y_start\":{\"value\":0.30003607674769955}},\"id\":\"5d664bf7-9292-4848-9889-f937dea93c18\",\"type\":\"Arrow\"},{\"attributes\":{\"source\":{\"id\":\"14cc7f49-9b30-4abe-a9bf-5fbfce2f28cb\",\"type\":\"ColumnDataSource\"}},\"id\":\"61df6a0f-81da-4a77-b96e-2035f9035cc2\",\"type\":\"CDSView\"},{\"attributes\":{},\"id\":\"6e05bf31-f01d-4a73-8364-19ea256d3fb0\",\"type\":\"Selection\"},{\"attributes\":{\"end\":{\"id\":\"0b47d589-acb5-4d78-a183-f63d395aff92\",\"type\":\"OpenHead\"},\"line_color\":{\"value\":\"gray\"},\"plot\":{\"id\":\"718b73a6-e959-47d8-bef3-fee3a3897c87\",\"subtype\":\"Figure\",\"type\":\"Plot\"},\"source\":null,\"start\":null,\"x_end\":{\"value\":0.3648265970888853},\"x_start\":{\"value\":-0.14561282997366717},\"y_end\":{\"value\":0.14065967832969276},\"y_start\":{\"value\":0.31200080117168394}},\"id\":\"dd9a4e53-95f2-494a-abc7-3aee44f7cd29\",\"type\":\"Arrow\"},{\"attributes\":{\"callback\":null,\"data\":{},\"selected\":{\"id\":\"2f88d655-04c5-4c7d-8e13-60d45045b822\",\"type\":\"Selection\"},\"selection_policy\":{\"id\":\"d73c1446-bd23-495b-ad1a-fe2a9b20000e\",\"type\":\"UnionRenderers\"}},\"id\":\"cf97c692-5603-4b30-88ec-8e499c31f3ac\",\"type\":\"ColumnDataSource\"},{\"attributes\":{},\"id\":\"da8e74d4-6977-4894-be85-be4a455f6e3b\",\"type\":\"UnionRenderers\"},{\"attributes\":{\"line_color\":{\"value\":\"firebrick\"},\"line_width\":{\"value\":2},\"plot\":null,\"size\":10},\"id\":\"01c6df1a-c9e4-4b83-b9d5-636f90abc993\",\"type\":\"OpenHead\"},{\"attributes\":{\"fill_color\":{\"value\":\"green\"},\"line_color\":{\"value\":\"green\"},\"size\":{\"units\":\"screen\",\"value\":10},\"x\":{\"value\":-0.14404211374450052},\"y\":{\"value\":0.2832888943890453}},\"id\":\"f1acd47a-0514-4851-8dee-37124c487d7d\",\"type\":\"Circle\"},{\"attributes\":{},\"id\":\"a2ecdfa3-2cf1-4a61-99b8-bbd4c182c5d0\",\"type\":\"UnionRenderers\"},{\"attributes\":{\"end\":{\"id\":\"27a9d199-1b80-4991-84a6-c403de58458c\",\"type\":\"OpenHead\"},\"line_color\":{\"value\":\"gray\"},\"plot\":{\"id\":\"718b73a6-e959-47d8-bef3-fee3a3897c87\",\"subtype\":\"Figure\",\"type\":\"Plot\"},\"source\":null,\"start\":null,\"x_end\":{\"value\":-0.1513348360167942},\"x_start\":{\"value\":0.3648265970888853},\"y_end\":{\"value\":0.2181626264991042},\"y_start\":{\"value\":0.14065967832969276}},\"id\":\"3125659d-8e9a-4995-9982-107fcf0b923a\",\"type\":\"Arrow\"},{\"attributes\":{\"fill_alpha\":{\"value\":0.1},\"fill_color\":{\"value\":\"#1f77b4\"},\"line_alpha\":{\"value\":0.1},\"line_color\":{\"value\":\"#1f77b4\"},\"size\":{\"units\":\"screen\",\"value\":10},\"x\":{\"value\":-0.14404211374450052},\"y\":{\"value\":0.2832888943890453}},\"id\":\"586b4233-044a-4307-a3f8-35b801abc8bf\",\"type\":\"Circle\"},{\"attributes\":{},\"id\":\"ffd1a95a-20fe-4e99-8de9-92f38b1e760c\",\"type\":\"Selection\"},{\"attributes\":{\"data_source\":{\"id\":\"ef135c1f-1b35-4c41-aa96-5f449a8a2114\",\"type\":\"ColumnDataSource\"},\"glyph\":{\"id\":\"f1acd47a-0514-4851-8dee-37124c487d7d\",\"type\":\"Circle\"},\"hover_glyph\":null,\"muted_glyph\":null,\"nonselection_glyph\":{\"id\":\"586b4233-044a-4307-a3f8-35b801abc8bf\",\"type\":\"Circle\"},\"selection_glyph\":null,\"view\":{\"id\":\"9d270bcf-8706-485a-ba56-68097a08e569\",\"type\":\"CDSView\"}},\"id\":\"2a96d772-65bc-41e5-a70a-4fb3bb3318e9\",\"type\":\"GlyphRenderer\"},{\"attributes\":{\"line_color\":{\"value\":\"firebrick\"},\"line_width\":{\"value\":2},\"plot\":null,\"size\":10},\"id\":\"4de63d7d-daa9-4a6c-a103-a7ee8d38faa1\",\"type\":\"OpenHead\"},{\"attributes\":{},\"id\":\"061eba52-0187-423d-aaa1-cf5fd0f0476e\",\"type\":\"UnionRenderers\"},{\"attributes\":{\"end\":{\"id\":\"01c6df1a-c9e4-4b83-b9d5-636f90abc993\",\"type\":\"OpenHead\"},\"line_color\":{\"value\":\"gray\"},\"plot\":{\"id\":\"718b73a6-e959-47d8-bef3-fee3a3897c87\",\"subtype\":\"Figure\",\"type\":\"Plot\"},\"source\":null,\"start\":null,\"x_end\":{\"value\":-0.11577776152036838},\"x_start\":{\"value\":-0.1513348360167942},\"y_end\":{\"value\":0.02163687449437381},\"y_start\":{\"value\":0.2181626264991042}},\"id\":\"1752420d-7aa3-4c4a-908f-6ef340d2ba15\",\"type\":\"Arrow\"},{\"attributes\":{\"fill_color\":{\"value\":\"red\"},\"line_color\":{\"value\":\"red\"},\"size\":{\"units\":\"screen\",\"value\":10},\"x\":{\"value\":-0.28975597642256795},\"y\":{\"value\":0.2083244060637697}},\"id\":\"72e63c0c-b6fd-40aa-b3a9-139b3dda23e4\",\"type\":\"Circle\"},{\"attributes\":{},\"id\":\"dd9d718c-14a0-4415-9557-02a63dcf16a7\",\"type\":\"Selection\"},{\"attributes\":{\"line_color\":{\"value\":\"firebrick\"},\"line_width\":{\"value\":2},\"plot\":null,\"size\":10},\"id\":\"d8eda152-d2cb-48ff-bc67-0da135c765d8\",\"type\":\"OpenHead\"},{\"attributes\":{\"fill_alpha\":{\"value\":0.1},\"fill_color\":{\"value\":\"#1f77b4\"},\"line_alpha\":{\"value\":0.1},\"line_color\":{\"value\":\"#1f77b4\"},\"size\":{\"units\":\"screen\",\"value\":10},\"x\":{\"value\":-0.28975597642256795},\"y\":{\"value\":0.2083244060637697}},\"id\":\"6d292f4a-e9d7-486c-8f1a-28947a632edc\",\"type\":\"Circle\"},{\"attributes\":{},\"id\":\"22a303af-a183-4060-a816-83efedc24af6\",\"type\":\"UnionRenderers\"},{\"attributes\":{\"end\":{\"id\":\"4de63d7d-daa9-4a6c-a103-a7ee8d38faa1\",\"type\":\"OpenHead\"},\"line_color\":{\"value\":\"gray\"},\"plot\":{\"id\":\"718b73a6-e959-47d8-bef3-fee3a3897c87\",\"subtype\":\"Figure\",\"type\":\"Plot\"},\"source\":null,\"start\":null,\"x_end\":{\"value\":-0.15270598508900923},\"x_start\":{\"value\":-0.11577776152036838},\"y_end\":{\"value\":-0.030382935701926135},\"y_start\":{\"value\":0.02163687449437381}},\"id\":\"7dc67263-eed6-421a-9e11-f2aee8048f00\",\"type\":\"Arrow\"},{\"attributes\":{\"data_source\":{\"id\":\"cf97c692-5603-4b30-88ec-8e499c31f3ac\",\"type\":\"ColumnDataSource\"},\"glyph\":{\"id\":\"72e63c0c-b6fd-40aa-b3a9-139b3dda23e4\",\"type\":\"Circle\"},\"hover_glyph\":null,\"muted_glyph\":null,\"nonselection_glyph\":{\"id\":\"6d292f4a-e9d7-486c-8f1a-28947a632edc\",\"type\":\"Circle\"},\"selection_glyph\":null,\"view\":{\"id\":\"24482137-1341-4ca6-9187-487a426ee263\",\"type\":\"CDSView\"}},\"id\":\"a7d7fe13-6cae-4406-927c-f133c8e6eae4\",\"type\":\"GlyphRenderer\"},{\"attributes\":{\"line_color\":{\"value\":\"firebrick\"},\"line_width\":{\"value\":2},\"plot\":null,\"size\":10},\"id\":\"9dc8f821-8a4b-4612-a657-0f8fe0ead615\",\"type\":\"OpenHead\"},{\"attributes\":{\"source\":{\"id\":\"cf97c692-5603-4b30-88ec-8e499c31f3ac\",\"type\":\"ColumnDataSource\"}},\"id\":\"24482137-1341-4ca6-9187-487a426ee263\",\"type\":\"CDSView\"},{\"attributes\":{},\"id\":\"fd5030ae-6178-4969-a3ed-73dda10992a5\",\"type\":\"Selection\"},{\"attributes\":{\"end\":{\"id\":\"d8eda152-d2cb-48ff-bc67-0da135c765d8\",\"type\":\"OpenHead\"},\"line_color\":{\"value\":\"gray\"},\"plot\":{\"id\":\"718b73a6-e959-47d8-bef3-fee3a3897c87\",\"subtype\":\"Figure\",\"type\":\"Plot\"},\"source\":null,\"start\":null,\"x_end\":{\"value\":0.15327004829243246},\"x_start\":{\"value\":-0.15270598508900923},\"y_end\":{\"value\":0.5239942582505163},\"y_start\":{\"value\":-0.030382935701926135}},\"id\":\"492060ab-bb93-40f4-b721-e90db12ea887\",\"type\":\"Arrow\"},{\"attributes\":{\"line_color\":{\"value\":\"firebrick\"},\"line_width\":{\"value\":2},\"plot\":null,\"size\":10},\"id\":\"905cd6c6-42b8-4e5f-a1ac-6d3f579031ed\",\"type\":\"OpenHead\"},{\"attributes\":{\"end\":{\"id\":\"9dc8f821-8a4b-4612-a657-0f8fe0ead615\",\"type\":\"OpenHead\"},\"line_color\":{\"value\":\"gray\"},\"plot\":{\"id\":\"718b73a6-e959-47d8-bef3-fee3a3897c87\",\"subtype\":\"Figure\",\"type\":\"Plot\"},\"source\":null,\"start\":null,\"x_end\":{\"value\":-0.25699556385176137},\"x_start\":{\"value\":0.15327004829243246},\"y_end\":{\"value\":-0.03965105208152384},\"y_start\":{\"value\":0.5239942582505163}},\"id\":\"d105db95-4cbb-4fb6-8628-8fc1b57130f6\",\"type\":\"Arrow\"},{\"attributes\":{\"line_color\":{\"value\":\"firebrick\"},\"line_width\":{\"value\":2},\"plot\":null,\"size\":10},\"id\":\"9e8bf9b1-0b14-44e4-ac3c-5926ff2ed60b\",\"type\":\"OpenHead\"},{\"attributes\":{\"end\":{\"id\":\"905cd6c6-42b8-4e5f-a1ac-6d3f579031ed\",\"type\":\"OpenHead\"},\"line_color\":{\"value\":\"gray\"},\"plot\":{\"id\":\"718b73a6-e959-47d8-bef3-fee3a3897c87\",\"subtype\":\"Figure\",\"type\":\"Plot\"},\"source\":null,\"start\":null,\"x_end\":{\"value\":0.13376791195183313},\"x_start\":{\"value\":-0.25699556385176137},\"y_end\":{\"value\":-0.031735824788555654},\"y_start\":{\"value\":-0.03965105208152384}},\"id\":\"683f8031-20e4-4c5f-927f-36118fa32c17\",\"type\":\"Arrow\"},{\"attributes\":{\"line_color\":{\"value\":\"firebrick\"},\"line_width\":{\"value\":2},\"plot\":null,\"size\":10},\"id\":\"63e78b09-29f5-42f8-82d8-1e4b778ec3c9\",\"type\":\"OpenHead\"},{\"attributes\":{\"end\":{\"id\":\"9e8bf9b1-0b14-44e4-ac3c-5926ff2ed60b\",\"type\":\"OpenHead\"},\"line_color\":{\"value\":\"gray\"},\"plot\":{\"id\":\"718b73a6-e959-47d8-bef3-fee3a3897c87\",\"subtype\":\"Figure\",\"type\":\"Plot\"},\"source\":null,\"start\":null,\"x_end\":{\"value\":-0.256361579428516},\"x_start\":{\"value\":0.13376791195183313},\"y_end\":{\"value\":-0.0798923939401385},\"y_start\":{\"value\":-0.031735824788555654}},\"id\":\"36a6ecef-61f0-42d0-b5a7-c5436d74309e\",\"type\":\"Arrow\"},{\"attributes\":{\"line_color\":{\"value\":\"firebrick\"},\"line_width\":{\"value\":2},\"plot\":null,\"size\":10},\"id\":\"b23ece66-be52-49ac-a91f-e3b05bd7e19d\",\"type\":\"OpenHead\"},{\"attributes\":{\"end\":{\"id\":\"63e78b09-29f5-42f8-82d8-1e4b778ec3c9\",\"type\":\"OpenHead\"},\"line_color\":{\"value\":\"gray\"},\"plot\":{\"id\":\"718b73a6-e959-47d8-bef3-fee3a3897c87\",\"subtype\":\"Figure\",\"type\":\"Plot\"},\"source\":null,\"start\":null,\"x_end\":{\"value\":-0.16740930995825046},\"x_start\":{\"value\":-0.256361579428516},\"y_end\":{\"value\":-0.368099294705444},\"y_start\":{\"value\":-0.0798923939401385}},\"id\":\"9264d4e4-3f27-478c-9850-500ca18f5732\",\"type\":\"Arrow\"},{\"attributes\":{\"line_color\":{\"value\":\"firebrick\"},\"line_width\":{\"value\":2},\"plot\":null,\"size\":10},\"id\":\"c6d18b90-af31-4c3f-b506-17400825f837\",\"type\":\"OpenHead\"},{\"attributes\":{\"end\":{\"id\":\"b23ece66-be52-49ac-a91f-e3b05bd7e19d\",\"type\":\"OpenHead\"},\"line_color\":{\"value\":\"gray\"},\"plot\":{\"id\":\"718b73a6-e959-47d8-bef3-fee3a3897c87\",\"subtype\":\"Figure\",\"type\":\"Plot\"},\"source\":null,\"start\":null,\"x_end\":{\"value\":0.5287520268265729},\"x_start\":{\"value\":-0.16740930995825046},\"y_end\":{\"value\":-0.10601468981652407},\"y_start\":{\"value\":-0.368099294705444}},\"id\":\"cf6c982b-955c-4621-9b75-46fc607690f3\",\"type\":\"Arrow\"},{\"attributes\":{\"line_color\":{\"value\":\"firebrick\"},\"line_width\":{\"value\":2},\"plot\":null,\"size\":10},\"id\":\"9373f901-b205-4781-beac-2f8573500d1f\",\"type\":\"OpenHead\"},{\"attributes\":{\"end\":{\"id\":\"c6d18b90-af31-4c3f-b506-17400825f837\",\"type\":\"OpenHead\"},\"line_color\":{\"value\":\"gray\"},\"plot\":{\"id\":\"718b73a6-e959-47d8-bef3-fee3a3897c87\",\"subtype\":\"Figure\",\"type\":\"Plot\"},\"source\":null,\"start\":null,\"x_end\":{\"value\":-0.1923941144338608},\"x_start\":{\"value\":0.5287520268265729},\"y_end\":{\"value\":-0.3705703697013968},\"y_start\":{\"value\":-0.10601468981652407}},\"id\":\"252e298a-e848-41b8-9425-0610ba1ee768\",\"type\":\"Arrow\"},{\"attributes\":{\"line_color\":{\"value\":\"firebrick\"},\"line_width\":{\"value\":2},\"plot\":null,\"size\":10},\"id\":\"bb17f61f-6f82-41df-a27d-004a091825fb\",\"type\":\"OpenHead\"},{\"attributes\":{\"indices\":[],\"line_indices\":[]},\"id\":\"2f88d655-04c5-4c7d-8e13-60d45045b822\",\"type\":\"Selection\"},{\"attributes\":{\"end\":{\"id\":\"9373f901-b205-4781-beac-2f8573500d1f\",\"type\":\"OpenHead\"},\"line_color\":{\"value\":\"gray\"},\"plot\":{\"id\":\"718b73a6-e959-47d8-bef3-fee3a3897c87\",\"subtype\":\"Figure\",\"type\":\"Plot\"},\"source\":null,\"start\":null,\"x_end\":{\"value\":0.517078382235522},\"x_start\":{\"value\":-0.1923941144338608},\"y_end\":{\"value\":-0.11774518403083542},\"y_start\":{\"value\":-0.3705703697013968}},\"id\":\"d6f2d62d-4c8e-4055-ad96-365de4fce038\",\"type\":\"Arrow\"},{\"attributes\":{\"line_color\":{\"value\":\"firebrick\"},\"line_width\":{\"value\":2},\"plot\":null,\"size\":10},\"id\":\"92176a4a-bd0c-443f-9094-30d961b336d7\",\"type\":\"OpenHead\"},{\"attributes\":{},\"id\":\"d73c1446-bd23-495b-ad1a-fe2a9b20000e\",\"type\":\"UnionRenderers\"},{\"attributes\":{\"end\":{\"id\":\"bb17f61f-6f82-41df-a27d-004a091825fb\",\"type\":\"OpenHead\"},\"line_color\":{\"value\":\"gray\"},\"plot\":{\"id\":\"718b73a6-e959-47d8-bef3-fee3a3897c87\",\"subtype\":\"Figure\",\"type\":\"Plot\"},\"source\":null,\"start\":null,\"x_end\":{\"value\":-0.19056285651878851},\"x_start\":{\"value\":0.517078382235522},\"y_end\":{\"value\":-0.35423366230049735},\"y_start\":{\"value\":-0.11774518403083542}},\"id\":\"6ad26d43-c409-4d0b-a782-606a6d6aee35\",\"type\":\"Arrow\"},{\"attributes\":{\"line_color\":{\"value\":\"firebrick\"},\"line_width\":{\"value\":2},\"plot\":null,\"size\":10},\"id\":\"93e2cf8c-ba88-415c-b367-3ce7b15d58ed\",\"type\":\"OpenHead\"},{\"attributes\":{\"end\":{\"id\":\"92176a4a-bd0c-443f-9094-30d961b336d7\",\"type\":\"OpenHead\"},\"line_color\":{\"value\":\"gray\"},\"plot\":{\"id\":\"718b73a6-e959-47d8-bef3-fee3a3897c87\",\"subtype\":\"Figure\",\"type\":\"Plot\"},\"source\":null,\"start\":null,\"x_end\":{\"value\":0.5140186707282957},\"x_start\":{\"value\":-0.19056285651878851},\"y_end\":{\"value\":-0.12412139487687661},\"y_start\":{\"value\":-0.35423366230049735}},\"id\":\"dcbc9d97-69d3-4025-81f8-4cbfe1191395\",\"type\":\"Arrow\"},{\"attributes\":{\"line_color\":{\"value\":\"firebrick\"},\"line_width\":{\"value\":2},\"plot\":null,\"size\":10},\"id\":\"f38cdb30-379e-4a13-b65a-6a6116a35d9f\",\"type\":\"OpenHead\"},{\"attributes\":{\"end\":{\"id\":\"93e2cf8c-ba88-415c-b367-3ce7b15d58ed\",\"type\":\"OpenHead\"},\"line_color\":{\"value\":\"gray\"},\"plot\":{\"id\":\"718b73a6-e959-47d8-bef3-fee3a3897c87\",\"subtype\":\"Figure\",\"type\":\"Plot\"},\"source\":null,\"start\":null,\"x_end\":{\"value\":-0.18879743290242398},\"x_start\":{\"value\":0.5140186707282957},\"y_end\":{\"value\":-0.33744083611022224},\"y_start\":{\"value\":-0.12412139487687661}},\"id\":\"94aeacf4-c584-409c-8892-dceb48e1c9c7\",\"type\":\"Arrow\"},{\"attributes\":{\"line_color\":{\"value\":\"firebrick\"},\"line_width\":{\"value\":2},\"plot\":null,\"size\":10},\"id\":\"dd939879-b093-4148-addf-83674a58a397\",\"type\":\"OpenHead\"},{\"attributes\":{\"end\":{\"id\":\"f38cdb30-379e-4a13-b65a-6a6116a35d9f\",\"type\":\"OpenHead\"},\"line_color\":{\"value\":\"gray\"},\"plot\":{\"id\":\"718b73a6-e959-47d8-bef3-fee3a3897c87\",\"subtype\":\"Figure\",\"type\":\"Plot\"},\"source\":null,\"start\":null,\"x_end\":{\"value\":0.5126594313573262},\"x_start\":{\"value\":-0.18879743290242398},\"y_end\":{\"value\":-0.12785245722013253},\"y_start\":{\"value\":-0.33744083611022224}},\"id\":\"b22c446a-ec0d-4473-801a-5e47c4a81912\",\"type\":\"Arrow\"},{\"attributes\":{\"line_color\":{\"value\":\"firebrick\"},\"line_width\":{\"value\":2},\"plot\":null,\"size\":10},\"id\":\"2bb6deb6-6bd1-4221-970c-9b57cf72c70d\",\"type\":\"OpenHead\"},{\"attributes\":{\"end\":{\"id\":\"dd939879-b093-4148-addf-83674a58a397\",\"type\":\"OpenHead\"},\"line_color\":{\"value\":\"gray\"},\"plot\":{\"id\":\"718b73a6-e959-47d8-bef3-fee3a3897c87\",\"subtype\":\"Figure\",\"type\":\"Plot\"},\"source\":null,\"start\":null,\"x_end\":{\"value\":-0.1877016651704303},\"x_start\":{\"value\":0.5126594313573262},\"y_end\":{\"value\":-0.3265767173160301},\"y_start\":{\"value\":-0.12785245722013253}},\"id\":\"38ab61da-1937-4f4d-be09-b1a2fcb4dd37\",\"type\":\"Arrow\"},{\"attributes\":{\"end\":{\"id\":\"2bb6deb6-6bd1-4221-970c-9b57cf72c70d\",\"type\":\"OpenHead\"},\"line_color\":{\"value\":\"gray\"},\"plot\":{\"id\":\"718b73a6-e959-47d8-bef3-fee3a3897c87\",\"subtype\":\"Figure\",\"type\":\"Plot\"},\"source\":null,\"start\":null,\"x_end\":{\"value\":0.14022383811193914},\"x_start\":{\"value\":-0.1877016651704303},\"y_end\":{\"value\":-0.10654165281331039},\"y_start\":{\"value\":-0.3265767173160301}},\"id\":\"4a72be13-4253-4f0c-8f84-04070f4f884e\",\"type\":\"Arrow\"}],\"root_ids\":[\"718b73a6-e959-47d8-bef3-fee3a3897c87\"]},\"title\":\"Bokeh Application\",\"version\":\"0.13.0\"}};\n",
       "  var render_items = [{\"docid\":\"9b584815-f6fa-4312-be58-7ee7030ff6f7\",\"roots\":{\"718b73a6-e959-47d8-bef3-fee3a3897c87\":\"dd6d67ba-40f8-4ee6-841e-ed60c496ab4b\"}}];\n",
       "  root.Bokeh.embed.embed_items_notebook(docs_json, render_items);\n",
       "\n",
       "  }\n",
       "  if (root.Bokeh !== undefined) {\n",
       "    embed_document(root);\n",
       "  } else {\n",
       "    var attempts = 0;\n",
       "    var timer = setInterval(function(root) {\n",
       "      if (root.Bokeh !== undefined) {\n",
       "        embed_document(root);\n",
       "        clearInterval(timer);\n",
       "      }\n",
       "      attempts++;\n",
       "      if (attempts > 100) {\n",
       "        console.log(\"Bokeh: ERROR: Unable to run BokehJS code because BokehJS library is missing\")\n",
       "        clearInterval(timer);\n",
       "      }\n",
       "    }, 10, root)\n",
       "  }\n",
       "})(window);"
      ],
      "application/vnd.bokehjs_exec.v0+json": ""
     },
     "metadata": {
      "application/vnd.bokehjs_exec.v0+json": {
       "id": "718b73a6-e959-47d8-bef3-fee3a3897c87"
      }
     },
     "output_type": "display_data"
    }
   ],
   "source": [
    "show(p)"
   ]
  },
  {
   "cell_type": "code",
   "execution_count": null,
   "metadata": {},
   "outputs": [],
   "source": []
  },
  {
   "cell_type": "code",
   "execution_count": 18,
   "metadata": {},
   "outputs": [
    {
     "name": "stdout",
     "output_type": "stream",
     "text": [
      "utter_ask_price --> 6\n",
      "utter_ask_details --> 28\n",
      "utter_ask_people --> 4\n",
      "utter_explain_details_hotel --> 14\n",
      "utter_explain_people_hotel --> 19\n",
      "utter_explain_price_hotel --> 21\n",
      "utter_ask_location --> 5\n",
      "utter_explain_location_hotel --> 17\n",
      "utter_ask_startdate --> 7\n",
      "utter_suggest_hotel --> 12\n",
      "action_search_hotel --> 42\n",
      "action_listen --> 0\n"
     ]
    }
   ],
   "source": [
    "print('utter_ask_price', '-->', domain.index_for_action('utter_ask_price'))\n",
    "print('utter_ask_details', '-->', domain.index_for_action('utter_ask_details'))\n",
    "print('utter_ask_people', '-->', domain.index_for_action('utter_ask_people'))\n",
    "print('utter_explain_details_hotel', '-->', domain.index_for_action('utter_explain_details_hotel'))\n",
    "print('utter_explain_people_hotel', '-->', domain.index_for_action('utter_explain_people_hotel'))\n",
    "print('utter_explain_price_hotel', '-->', domain.index_for_action('utter_explain_price_hotel'))\n",
    "print('utter_ask_location', '-->', domain.index_for_action('utter_ask_location'))\n",
    "print('utter_explain_location_hotel', '-->', domain.index_for_action('utter_explain_location_hotel'))\n",
    "print('utter_ask_startdate', '-->', domain.index_for_action('utter_ask_startdate'))\n",
    "print('utter_suggest_hotel', '-->', domain.index_for_action('utter_suggest_hotel'))\n",
    "print('action_search_hotel', '-->', domain.index_for_action('action_search_hotel'))\n",
    "print('action_listen', '-->', domain.index_for_action('action_listen'))"
   ]
  },
  {
   "cell_type": "code",
   "execution_count": 19,
   "metadata": {},
   "outputs": [
    {
     "data": {
      "text/plain": [
       "(20,)"
      ]
     },
     "execution_count": 19,
     "metadata": {},
     "output_type": "execute_result"
    }
   ],
   "source": [
    "utter_price = embedding_from_tracker(\"#generate story\\n{}\".format(story_block), bot=True)[0,-1,5,:]\n",
    "utter_price.shape"
   ]
  },
  {
   "cell_type": "code",
   "execution_count": 20,
   "metadata": {},
   "outputs": [
    {
     "name": "stdout",
     "output_type": "stream",
     "text": [
      "(20,)\n"
     ]
    },
    {
     "data": {
      "text/html": [
       "<div style=\"display: table;\"><div style=\"display: table-row;\"><div style=\"display: table-cell;\"><b title=\"bokeh.models.renderers.GlyphRenderer\">GlyphRenderer</b>(</div><div style=\"display: table-cell;\">id&nbsp;=&nbsp;'1db745d9-cfee-44a7-8a51-a238a358f252', <span id=\"39a24e62-01d3-478d-97b4-067e18601781\" style=\"cursor: pointer;\">&hellip;)</span></div></div><div class=\"cb057124-66eb-4d3b-8bd8-dddcd76cabb6\" style=\"display: none;\"><div style=\"display: table-cell;\"></div><div style=\"display: table-cell;\">data_source&nbsp;=&nbsp;ColumnDataSource(id='f011c53f-e8a7-4c7c-9830-ff8fdc912a23', ...),</div></div><div class=\"cb057124-66eb-4d3b-8bd8-dddcd76cabb6\" style=\"display: none;\"><div style=\"display: table-cell;\"></div><div style=\"display: table-cell;\">glyph&nbsp;=&nbsp;Circle(id='dc8dc1af-cea4-493b-8c6c-d8fcbf8d1706', ...),</div></div><div class=\"cb057124-66eb-4d3b-8bd8-dddcd76cabb6\" style=\"display: none;\"><div style=\"display: table-cell;\"></div><div style=\"display: table-cell;\">hover_glyph&nbsp;=&nbsp;None,</div></div><div class=\"cb057124-66eb-4d3b-8bd8-dddcd76cabb6\" style=\"display: none;\"><div style=\"display: table-cell;\"></div><div style=\"display: table-cell;\">js_event_callbacks&nbsp;=&nbsp;{},</div></div><div class=\"cb057124-66eb-4d3b-8bd8-dddcd76cabb6\" style=\"display: none;\"><div style=\"display: table-cell;\"></div><div style=\"display: table-cell;\">js_property_callbacks&nbsp;=&nbsp;{},</div></div><div class=\"cb057124-66eb-4d3b-8bd8-dddcd76cabb6\" style=\"display: none;\"><div style=\"display: table-cell;\"></div><div style=\"display: table-cell;\">level&nbsp;=&nbsp;'glyph',</div></div><div class=\"cb057124-66eb-4d3b-8bd8-dddcd76cabb6\" style=\"display: none;\"><div style=\"display: table-cell;\"></div><div style=\"display: table-cell;\">muted&nbsp;=&nbsp;False,</div></div><div class=\"cb057124-66eb-4d3b-8bd8-dddcd76cabb6\" style=\"display: none;\"><div style=\"display: table-cell;\"></div><div style=\"display: table-cell;\">muted_glyph&nbsp;=&nbsp;None,</div></div><div class=\"cb057124-66eb-4d3b-8bd8-dddcd76cabb6\" style=\"display: none;\"><div style=\"display: table-cell;\"></div><div style=\"display: table-cell;\">name&nbsp;=&nbsp;None,</div></div><div class=\"cb057124-66eb-4d3b-8bd8-dddcd76cabb6\" style=\"display: none;\"><div style=\"display: table-cell;\"></div><div style=\"display: table-cell;\">nonselection_glyph&nbsp;=&nbsp;Circle(id='00d5c32d-1a28-4324-b511-c6c84bae9453', ...),</div></div><div class=\"cb057124-66eb-4d3b-8bd8-dddcd76cabb6\" style=\"display: none;\"><div style=\"display: table-cell;\"></div><div style=\"display: table-cell;\">selection_glyph&nbsp;=&nbsp;None,</div></div><div class=\"cb057124-66eb-4d3b-8bd8-dddcd76cabb6\" style=\"display: none;\"><div style=\"display: table-cell;\"></div><div style=\"display: table-cell;\">subscribed_events&nbsp;=&nbsp;[],</div></div><div class=\"cb057124-66eb-4d3b-8bd8-dddcd76cabb6\" style=\"display: none;\"><div style=\"display: table-cell;\"></div><div style=\"display: table-cell;\">tags&nbsp;=&nbsp;[],</div></div><div class=\"cb057124-66eb-4d3b-8bd8-dddcd76cabb6\" style=\"display: none;\"><div style=\"display: table-cell;\"></div><div style=\"display: table-cell;\">view&nbsp;=&nbsp;CDSView(id='ed67240e-ca62-4683-b5a8-428e01fd79d3', ...),</div></div><div class=\"cb057124-66eb-4d3b-8bd8-dddcd76cabb6\" style=\"display: none;\"><div style=\"display: table-cell;\"></div><div style=\"display: table-cell;\">visible&nbsp;=&nbsp;True,</div></div><div class=\"cb057124-66eb-4d3b-8bd8-dddcd76cabb6\" style=\"display: none;\"><div style=\"display: table-cell;\"></div><div style=\"display: table-cell;\">x_range_name&nbsp;=&nbsp;'default',</div></div><div class=\"cb057124-66eb-4d3b-8bd8-dddcd76cabb6\" style=\"display: none;\"><div style=\"display: table-cell;\"></div><div style=\"display: table-cell;\">y_range_name&nbsp;=&nbsp;'default')</div></div></div>\n",
       "<script>\n",
       "(function() {\n",
       "  var expanded = false;\n",
       "  var ellipsis = document.getElementById(\"39a24e62-01d3-478d-97b4-067e18601781\");\n",
       "  ellipsis.addEventListener(\"click\", function() {\n",
       "    var rows = document.getElementsByClassName(\"cb057124-66eb-4d3b-8bd8-dddcd76cabb6\");\n",
       "    for (var i = 0; i < rows.length; i++) {\n",
       "      var el = rows[i];\n",
       "      el.style.display = expanded ? \"none\" : \"table-row\";\n",
       "    }\n",
       "    ellipsis.innerHTML = expanded ? \"&hellip;)\" : \"&lsaquo;&lsaquo;&lsaquo;\";\n",
       "    expanded = !expanded;\n",
       "  });\n",
       "})();\n",
       "</script>\n"
      ],
      "text/plain": [
       "GlyphRenderer(id='1db745d9-cfee-44a7-8a51-a238a358f252', ...)"
      ]
     },
     "execution_count": 20,
     "metadata": {},
     "output_type": "execute_result"
    }
   ],
   "source": [
    "print(utter_price.shape)\n",
    "x = pca.transform(utter_price.reshape(1,-1))\n",
    "p.circle(x[0][0], x[0][1], color='black')"
   ]
  },
  {
   "cell_type": "code",
   "execution_count": 21,
   "metadata": {},
   "outputs": [
    {
     "data": {
      "text/html": [
       "\n",
       "<div class=\"bk-root\">\n",
       "    <div class=\"bk-plotdiv\" id=\"e38ee173-28d2-4a73-a4d0-aa968c67dc81\"></div>\n",
       "</div>"
      ]
     },
     "metadata": {},
     "output_type": "display_data"
    },
    {
     "data": {
      "application/javascript": [
       "(function(root) {\n",
       "  function embed_document(root) {\n",
       "    \n",
       "  var docs_json = {\"16cfbd7b-b5f2-4e06-9035-9a18049e5434\":{\"roots\":{\"references\":[{\"attributes\":{\"fill_alpha\":{\"value\":0.1},\"fill_color\":{\"value\":\"#1f77b4\"},\"line_alpha\":{\"value\":0.1},\"line_color\":{\"value\":\"#1f77b4\"},\"size\":{\"units\":\"screen\",\"value\":10},\"x\":{\"field\":\"x\"},\"y\":{\"field\":\"y\"}},\"id\":\"288a9ac7-4e75-4774-9d77-c8d942b67b2b\",\"type\":\"Circle\"},{\"attributes\":{\"line_color\":{\"value\":\"firebrick\"},\"line_width\":{\"value\":2},\"plot\":null,\"size\":10},\"id\":\"ed787cb4-7f65-45b9-a22b-c25148fa6fbc\",\"type\":\"OpenHead\"},{\"attributes\":{\"end\":{\"id\":\"8c6e4f59-cce4-4911-a30d-7799490b941b\",\"type\":\"OpenHead\"},\"line_color\":{\"value\":\"gray\"},\"plot\":{\"id\":\"347ab833-a443-4459-b311-0c8692793c11\",\"subtype\":\"Figure\",\"type\":\"Plot\"},\"source\":null,\"start\":null,\"x_end\":{\"value\":-0.3805565241904119},\"x_start\":{\"value\":0.02905640531580811},\"y_end\":{\"value\":0.10540252086984231},\"y_start\":{\"value\":-0.2549101256491246}},\"id\":\"6e531212-41e4-4b24-aaa4-a9cd13b72d7f\",\"type\":\"Arrow\"},{\"attributes\":{\"line_color\":{\"value\":\"firebrick\"},\"line_width\":{\"value\":2},\"plot\":null,\"size\":10},\"id\":\"bff4cd54-155b-4da8-98b6-1037415da493\",\"type\":\"OpenHead\"},{\"attributes\":{\"fill_color\":{\"value\":\"red\"},\"line_color\":{\"value\":\"red\"},\"size\":{\"units\":\"screen\",\"value\":5},\"x\":{\"field\":\"x\"},\"y\":{\"field\":\"y\"}},\"id\":\"a1ec1416-05b7-4a4e-824d-d92ed5ceb123\",\"type\":\"Circle\"},{\"attributes\":{\"source\":{\"id\":\"49432e78-fee7-49d0-ac29-2a202ae5ac72\",\"type\":\"ColumnDataSource\"}},\"id\":\"3e9f8f7d-44a0-4a7a-8fdd-30bc030c881f\",\"type\":\"CDSView\"},{\"attributes\":{\"end\":{\"id\":\"ed787cb4-7f65-45b9-a22b-c25148fa6fbc\",\"type\":\"OpenHead\"},\"line_color\":{\"value\":\"gray\"},\"plot\":{\"id\":\"347ab833-a443-4459-b311-0c8692793c11\",\"subtype\":\"Figure\",\"type\":\"Plot\"},\"source\":null,\"start\":null,\"x_end\":{\"value\":0.02914260745900814},\"x_start\":{\"value\":-0.3805565241904119},\"y_end\":{\"value\":-0.24985271009534893},\"y_start\":{\"value\":0.10540252086984231}},\"id\":\"9ce6940e-ddc8-4bde-9678-38df7b610fb3\",\"type\":\"Arrow\"},{\"attributes\":{\"line_color\":{\"value\":\"firebrick\"},\"line_width\":{\"value\":2},\"plot\":null,\"size\":10},\"id\":\"6c27c0c6-77ae-473d-a381-ba69ccf3dbd7\",\"type\":\"OpenHead\"},{\"attributes\":{\"end\":{\"id\":\"bff4cd54-155b-4da8-98b6-1037415da493\",\"type\":\"OpenHead\"},\"line_color\":{\"value\":\"gray\"},\"plot\":{\"id\":\"347ab833-a443-4459-b311-0c8692793c11\",\"subtype\":\"Figure\",\"type\":\"Plot\"},\"source\":null,\"start\":null,\"x_end\":{\"value\":-0.04278218138082326},\"x_start\":{\"value\":0.02914260745900814},\"y_end\":{\"value\":-0.022171252890457994},\"y_start\":{\"value\":-0.24985271009534893}},\"id\":\"337fc054-279b-4c21-807f-3fa1f8bab318\",\"type\":\"Arrow\"},{\"attributes\":{\"line_color\":{\"value\":\"firebrick\"},\"line_width\":{\"value\":2},\"plot\":null,\"size\":10},\"id\":\"5754d56c-5495-4624-abdb-3c0ecbf191c1\",\"type\":\"OpenHead\"},{\"attributes\":{\"end\":{\"id\":\"6c27c0c6-77ae-473d-a381-ba69ccf3dbd7\",\"type\":\"OpenHead\"},\"line_color\":{\"value\":\"gray\"},\"plot\":{\"id\":\"347ab833-a443-4459-b311-0c8692793c11\",\"subtype\":\"Figure\",\"type\":\"Plot\"},\"source\":null,\"start\":null,\"x_end\":{\"value\":0.031472042469468366},\"x_start\":{\"value\":-0.04278218138082326},\"y_end\":{\"value\":-0.32819433995120073},\"y_start\":{\"value\":-0.022171252890457994}},\"id\":\"35b3ebe5-ad95-4b7b-8db8-9e2df1ff3d47\",\"type\":\"Arrow\"},{\"attributes\":{\"line_color\":{\"value\":\"firebrick\"},\"line_width\":{\"value\":2},\"plot\":null,\"size\":10},\"id\":\"7b1e37c3-13a9-4157-8184-c24245a80f0a\",\"type\":\"OpenHead\"},{\"attributes\":{\"end\":{\"id\":\"5754d56c-5495-4624-abdb-3c0ecbf191c1\",\"type\":\"OpenHead\"},\"line_color\":{\"value\":\"gray\"},\"plot\":{\"id\":\"347ab833-a443-4459-b311-0c8692793c11\",\"subtype\":\"Figure\",\"type\":\"Plot\"},\"source\":null,\"start\":null,\"x_end\":{\"value\":0.03765355907090482},\"x_start\":{\"value\":0.031472042469468366},\"y_end\":{\"value\":0.005031913232679683},\"y_start\":{\"value\":-0.32819433995120073}},\"id\":\"e3355d5e-d8aa-4e9a-b770-ebfdba22f0dd\",\"type\":\"Arrow\"},{\"attributes\":{\"line_color\":{\"value\":\"firebrick\"},\"line_width\":{\"value\":2},\"plot\":null,\"size\":10},\"id\":\"74249e7d-ea2d-4c03-921a-83104eb22477\",\"type\":\"OpenHead\"},{\"attributes\":{\"end\":{\"id\":\"7b1e37c3-13a9-4157-8184-c24245a80f0a\",\"type\":\"OpenHead\"},\"line_color\":{\"value\":\"gray\"},\"plot\":{\"id\":\"347ab833-a443-4459-b311-0c8692793c11\",\"subtype\":\"Figure\",\"type\":\"Plot\"},\"source\":null,\"start\":null,\"x_end\":{\"value\":0.058576871988579186},\"x_start\":{\"value\":0.03765355907090482},\"y_end\":{\"value\":0.08619872373255343},\"y_start\":{\"value\":0.005031913232679683}},\"id\":\"a3f42c25-375a-4abd-8772-0ff3ffca206e\",\"type\":\"Arrow\"},{\"attributes\":{\"line_color\":{\"value\":\"firebrick\"},\"line_width\":{\"value\":2},\"plot\":null,\"size\":10},\"id\":\"793701a9-f05c-4209-9006-ff2b22c4e267\",\"type\":\"OpenHead\"},{\"attributes\":{\"end\":{\"id\":\"74249e7d-ea2d-4c03-921a-83104eb22477\",\"type\":\"OpenHead\"},\"line_color\":{\"value\":\"gray\"},\"plot\":{\"id\":\"347ab833-a443-4459-b311-0c8692793c11\",\"subtype\":\"Figure\",\"type\":\"Plot\"},\"source\":null,\"start\":null,\"x_end\":{\"value\":-0.265161236500666},\"x_start\":{\"value\":0.058576871988579186},\"y_end\":{\"value\":-0.1027498052560122},\"y_start\":{\"value\":0.08619872373255343}},\"id\":\"c310b04a-d3ac-4975-933c-7a399be2b271\",\"type\":\"Arrow\"},{\"attributes\":{\"line_color\":{\"value\":\"firebrick\"},\"line_width\":{\"value\":2},\"plot\":null,\"size\":10},\"id\":\"7296979d-d384-4a2a-961c-0e648fcac339\",\"type\":\"OpenHead\"},{\"attributes\":{\"end\":{\"id\":\"793701a9-f05c-4209-9006-ff2b22c4e267\",\"type\":\"OpenHead\"},\"line_color\":{\"value\":\"gray\"},\"plot\":{\"id\":\"347ab833-a443-4459-b311-0c8692793c11\",\"subtype\":\"Figure\",\"type\":\"Plot\"},\"source\":null,\"start\":null,\"x_end\":{\"value\":0.4321514539484079},\"x_start\":{\"value\":-0.265161236500666},\"y_end\":{\"value\":0.43725194230878817},\"y_start\":{\"value\":-0.1027498052560122}},\"id\":\"f3f1d100-94c8-401b-bac4-66c1215feece\",\"type\":\"Arrow\"},{\"attributes\":{\"callback\":null,\"data\":{},\"selected\":null,\"selection_policy\":null},\"id\":\"f011c53f-e8a7-4c7c-9830-ff8fdc912a23\",\"type\":\"ColumnDataSource\"},{\"attributes\":{\"line_color\":{\"value\":\"firebrick\"},\"line_width\":{\"value\":2},\"plot\":null,\"size\":10},\"id\":\"f4b718f1-7582-4911-bb35-e9ef8385f850\",\"type\":\"OpenHead\"},{\"attributes\":{\"end\":{\"id\":\"7296979d-d384-4a2a-961c-0e648fcac339\",\"type\":\"OpenHead\"},\"line_color\":{\"value\":\"gray\"},\"plot\":{\"id\":\"347ab833-a443-4459-b311-0c8692793c11\",\"subtype\":\"Figure\",\"type\":\"Plot\"},\"source\":null,\"start\":null,\"x_end\":{\"value\":-0.27990555025988323},\"x_start\":{\"value\":0.4321514539484079},\"y_end\":{\"value\":0.12805750454219536},\"y_start\":{\"value\":0.43725194230878817}},\"id\":\"3df56e9a-e861-4df7-9718-d3a32f19260c\",\"type\":\"Arrow\"},{\"attributes\":{\"line_color\":{\"value\":\"firebrick\"},\"line_width\":{\"value\":2},\"plot\":null,\"size\":10},\"id\":\"c0f74198-68ee-448c-843b-ccd90ed0607e\",\"type\":\"OpenHead\"},{\"attributes\":{\"below\":[{\"id\":\"253cd694-93b6-48fd-9f60-b4c90422d560\",\"type\":\"LinearAxis\"}],\"left\":[{\"id\":\"ad05a489-8844-4769-be78-cf30b7f1f3e7\",\"type\":\"LinearAxis\"}],\"renderers\":[{\"id\":\"253cd694-93b6-48fd-9f60-b4c90422d560\",\"type\":\"LinearAxis\"},{\"id\":\"273fbdb8-090f-44a2-9f21-d06ef754a753\",\"type\":\"Grid\"},{\"id\":\"ad05a489-8844-4769-be78-cf30b7f1f3e7\",\"type\":\"LinearAxis\"},{\"id\":\"fcb80b30-ff0a-4983-b9d1-3523834c2df5\",\"type\":\"Grid\"},{\"id\":\"15acef01-e7ad-44e9-99f9-a3c561c2662a\",\"type\":\"Arrow\"},{\"id\":\"cab1f7c8-aef3-4ff0-b259-b8851870a6af\",\"type\":\"Arrow\"},{\"id\":\"01b8bf87-b94d-490a-b0f8-5c9643b56ecb\",\"type\":\"Arrow\"},{\"id\":\"eab6fd5a-d262-4947-85ca-62eac437ecd6\",\"type\":\"Arrow\"},{\"id\":\"cf1c117d-4ad6-42ea-99a4-e4bb8c39becd\",\"type\":\"Arrow\"},{\"id\":\"ddb4367d-fa94-4767-ae80-484c44304ecb\",\"type\":\"Arrow\"},{\"id\":\"6ac8f21d-1b94-403e-8280-d9fe6910e3c8\",\"type\":\"Arrow\"},{\"id\":\"c7ac06af-202f-4a92-80f4-9c956f444136\",\"type\":\"Arrow\"},{\"id\":\"ad4d455d-3bdf-475a-9766-b4452120b796\",\"type\":\"Arrow\"},{\"id\":\"9a24fd37-932c-4a25-abf7-37e2c1a67017\",\"type\":\"Arrow\"},{\"id\":\"65c1922c-a821-47c5-b95b-5ea9489c3405\",\"type\":\"Arrow\"},{\"id\":\"0bcb76e4-4369-42c2-9211-560b04cec1cb\",\"type\":\"Arrow\"},{\"id\":\"497e8dea-2f4d-4e72-bc5a-f0bde9ca5a6e\",\"type\":\"Arrow\"},{\"id\":\"05190aa1-917f-4cbc-9ded-eaa4063cd5b2\",\"type\":\"Arrow\"},{\"id\":\"e2ded1dd-c58e-474b-9e68-c7a618d8d249\",\"type\":\"Arrow\"},{\"id\":\"411f427b-4968-4ec1-85dc-42c8e3bc8f8e\",\"type\":\"Arrow\"},{\"id\":\"a2051f56-ebea-42ff-b524-0f31028a5545\",\"type\":\"Arrow\"},{\"id\":\"6e531212-41e4-4b24-aaa4-a9cd13b72d7f\",\"type\":\"Arrow\"},{\"id\":\"9ce6940e-ddc8-4bde-9678-38df7b610fb3\",\"type\":\"Arrow\"},{\"id\":\"337fc054-279b-4c21-807f-3fa1f8bab318\",\"type\":\"Arrow\"},{\"id\":\"35b3ebe5-ad95-4b7b-8db8-9e2df1ff3d47\",\"type\":\"Arrow\"},{\"id\":\"e3355d5e-d8aa-4e9a-b770-ebfdba22f0dd\",\"type\":\"Arrow\"},{\"id\":\"a3f42c25-375a-4abd-8772-0ff3ffca206e\",\"type\":\"Arrow\"},{\"id\":\"c310b04a-d3ac-4975-933c-7a399be2b271\",\"type\":\"Arrow\"},{\"id\":\"f3f1d100-94c8-401b-bac4-66c1215feece\",\"type\":\"Arrow\"},{\"id\":\"3df56e9a-e861-4df7-9718-d3a32f19260c\",\"type\":\"Arrow\"},{\"id\":\"5cd19452-3c07-4073-a1bf-678aa016510d\",\"type\":\"Arrow\"},{\"id\":\"a30f3cf9-ead4-49e7-9532-01b7d6250e08\",\"type\":\"Arrow\"},{\"id\":\"865269fa-5224-4481-812e-05d711a403bf\",\"type\":\"GlyphRenderer\"},{\"id\":\"de144473-8478-40f2-9097-3485cf891e97\",\"type\":\"GlyphRenderer\"},{\"id\":\"8e79de32-6c44-4d9d-a42f-e08e14cf64cc\",\"type\":\"GlyphRenderer\"},{\"id\":\"518ec73b-d460-4ba1-8f3c-030cf1a6fc8a\",\"type\":\"GlyphRenderer\"},{\"id\":\"20a5c39f-cd62-4a96-af0d-e4d3913d4d88\",\"type\":\"GlyphRenderer\"},{\"id\":\"c5d66b4d-f272-4008-8554-229f36d1d5ce\",\"type\":\"GlyphRenderer\"},{\"id\":\"1db745d9-cfee-44a7-8a51-a238a358f252\",\"type\":\"GlyphRenderer\"}],\"title\":{\"id\":\"ebac63c2-0cfc-462e-861c-f1681b7dabf7\",\"type\":\"Title\"},\"toolbar\":{\"id\":\"ec430f4a-32f2-44bb-9ad0-3feebb1e64bf\",\"type\":\"Toolbar\"},\"x_range\":{\"id\":\"d1eda359-b651-40bb-a301-32ea08063dcf\",\"type\":\"DataRange1d\"},\"x_scale\":{\"id\":\"4d46a418-9539-4247-b273-2e0b3bd527d3\",\"type\":\"LinearScale\"},\"y_range\":{\"id\":\"f5b4630c-dbd9-469f-9509-4d1594a9096a\",\"type\":\"DataRange1d\"},\"y_scale\":{\"id\":\"3e36dee7-84ac-498b-991d-42d75417f810\",\"type\":\"LinearScale\"}},\"id\":\"347ab833-a443-4459-b311-0c8692793c11\",\"subtype\":\"Figure\",\"type\":\"Plot\"},{\"attributes\":{\"end\":{\"id\":\"f4b718f1-7582-4911-bb35-e9ef8385f850\",\"type\":\"OpenHead\"},\"line_color\":{\"value\":\"gray\"},\"plot\":{\"id\":\"347ab833-a443-4459-b311-0c8692793c11\",\"subtype\":\"Figure\",\"type\":\"Plot\"},\"source\":null,\"start\":null,\"x_end\":{\"value\":0.37054299755170195},\"x_start\":{\"value\":-0.27990555025988323},\"y_end\":{\"value\":0.32989097781934273},\"y_start\":{\"value\":0.12805750454219536}},\"id\":\"5cd19452-3c07-4073-a1bf-678aa016510d\",\"type\":\"Arrow\"},{\"attributes\":{\"fill_color\":{\"value\":\"#1f77b4\"},\"line_color\":{\"value\":\"#1f77b4\"},\"size\":{\"units\":\"screen\",\"value\":10},\"x\":{\"field\":\"x\"},\"y\":{\"field\":\"y\"}},\"id\":\"bf9f3bfb-84e4-4dc4-96da-2fe4b90e0c66\",\"type\":\"Circle\"},{\"attributes\":{\"callback\":null,\"names\":[\"circle\"],\"tooltips\":[[\"true action\",\"@desc\"],[\"prediction\",\"@pred\"],[\"not_skip_gate\",\"@not_skip\"]]},\"id\":\"e6398bc9-3e47-433d-a1cc-ff3bd7156280\",\"type\":\"HoverTool\"},{\"attributes\":{\"end\":{\"id\":\"c0f74198-68ee-448c-843b-ccd90ed0607e\",\"type\":\"OpenHead\"},\"line_color\":{\"value\":\"gray\"},\"plot\":{\"id\":\"347ab833-a443-4459-b311-0c8692793c11\",\"subtype\":\"Figure\",\"type\":\"Plot\"},\"source\":null,\"start\":null,\"x_end\":{\"value\":0.3708714345834348},\"x_start\":{\"value\":0.37054299755170195},\"y_end\":{\"value\":-0.015025144481799394},\"y_start\":{\"value\":0.32989097781934273}},\"id\":\"a30f3cf9-ead4-49e7-9532-01b7d6250e08\",\"type\":\"Arrow\"},{\"attributes\":{\"line_color\":{\"value\":\"firebrick\"},\"line_width\":{\"value\":2},\"plot\":null,\"size\":10},\"id\":\"57ea10ad-6ab6-49a4-9284-0eb82d79ccc9\",\"type\":\"OpenHead\"},{\"attributes\":{},\"id\":\"3e36dee7-84ac-498b-991d-42d75417f810\",\"type\":\"LinearScale\"},{\"attributes\":{\"end\":{\"id\":\"57ea10ad-6ab6-49a4-9284-0eb82d79ccc9\",\"type\":\"OpenHead\"},\"line_color\":{\"value\":\"gray\"},\"plot\":{\"id\":\"347ab833-a443-4459-b311-0c8692793c11\",\"subtype\":\"Figure\",\"type\":\"Plot\"},\"source\":null,\"start\":null,\"x_end\":{\"value\":0.014002850883277566},\"x_start\":{\"value\":0.0931300660718028},\"y_end\":{\"value\":0.12183172910549814},\"y_start\":{\"value\":0.08760349099838793}},\"id\":\"15acef01-e7ad-44e9-99f9-a3c561c2662a\",\"type\":\"Arrow\"},{\"attributes\":{\"data_source\":{\"id\":\"49432e78-fee7-49d0-ac29-2a202ae5ac72\",\"type\":\"ColumnDataSource\"},\"glyph\":{\"id\":\"bf9f3bfb-84e4-4dc4-96da-2fe4b90e0c66\",\"type\":\"Circle\"},\"hover_glyph\":null,\"muted_glyph\":null,\"name\":\"circle\",\"nonselection_glyph\":{\"id\":\"288a9ac7-4e75-4774-9d77-c8d942b67b2b\",\"type\":\"Circle\"},\"selection_glyph\":null,\"view\":{\"id\":\"3e9f8f7d-44a0-4a7a-8fdd-30bc030c881f\",\"type\":\"CDSView\"}},\"id\":\"865269fa-5224-4481-812e-05d711a403bf\",\"type\":\"GlyphRenderer\"},{\"attributes\":{\"data_source\":{\"id\":\"2b531bdf-3c4a-4d7d-b10f-e33905d85789\",\"type\":\"ColumnDataSource\"},\"glyph\":{\"id\":\"f154498f-7e74-49d1-be53-af5dd59a4d13\",\"type\":\"Circle\"},\"hover_glyph\":null,\"muted_glyph\":null,\"name\":\"circle\",\"nonselection_glyph\":{\"id\":\"86bac7a2-8062-4c69-a846-7793e764e077\",\"type\":\"Circle\"},\"selection_glyph\":null,\"view\":{\"id\":\"f720056f-801b-4014-8eb0-ed88e08e9dd7\",\"type\":\"CDSView\"}},\"id\":\"de144473-8478-40f2-9097-3485cf891e97\",\"type\":\"GlyphRenderer\"},{\"attributes\":{},\"id\":\"f85490f7-b9ff-4a67-bacc-b8657e2e869c\",\"type\":\"BasicTickFormatter\"},{\"attributes\":{},\"id\":\"523d14a1-bb0c-42fd-953e-34728f7608b8\",\"type\":\"BasicTickFormatter\"},{\"attributes\":{\"callback\":null,\"column_names\":[\"x\",\"y\",\"desc\",\"pred\",\"not_skip\"],\"data\":{\"desc\":[\"- utter_ask_details\",\"- utter_explain_details_hotel\",\"- utter_ask_details\",\"- utter_chitchat\",\"- utter_ask_details\",\"- utter_ask_startdate\",\"- utter_ask_location\",\"- utter_correct_startdate_hotel\",\"- utter_ask_location\",\"- utter_explain_location_hotel\",\"- utter_ask_location\",\"- utter_ask_price\",\"- utter_chitchat\",\"- utter_ask_price\",\"- utter_chitchat\",\"- utter_ask_price\",\"- utter_chitchat\",\"- utter_ask_price\",\"- utter_chitchat\",\"- utter_ask_price\",\"- utter_explain_price_hotel\",\"- utter_ask_price\",\"- utter_ask_people\",\"- utter_filled_slots\",\"- action_search_hotel\",\"- utter_suggest_hotel\",\"- utter_chitchat\",\"- utter_suggest_hotel\",\"- utter_happy\"],\"not_skip\":[1.0,1.0,0.0,1.0,0.0,1.0,1.0,1.0,0.0,1.0,0.0,1.0,1.0,0.0,1.0,0.0,1.0,0.0,1.0,0.0,1.0,0.0,1.0,1.0,1.0,1.0,1.0,0.0,1.0],\"pred\":[\"- utter_ask_details\",\"- utter_explain_people_hotel\",\"- utter_ask_details\",\"- utter_chitchat\",\"- utter_ask_details\",\"- utter_ask_startdate\",\"- utter_ask_location\",\"- utter_correct_startdate_hotel\",\"- utter_ask_location\",\"- utter_explain_location_hotel\",\"- utter_ask_location\",\"- utter_ask_price\",\"- utter_chitchat\",\"- utter_ask_price\",\"- utter_chitchat\",\"- utter_ask_price\",\"- utter_chitchat\",\"- utter_ask_price\",\"- utter_chitchat\",\"- utter_ask_price\",\"- utter_explain_price_hotel\",\"- utter_ask_price\",\"- utter_ask_people\",\"- utter_filled_slots\",\"- action_search_hotel\",\"- utter_suggest_hotel\",\"- utter_chitchat\",\"- utter_suggest_hotel\",\"- utter_happy\"],\"x\":{\"__ndarray__\":\"jH4NPF/Xtz+8asHUhq2MP9/TmX6T7bU/P7GTDsNY0b/82DKs+DC5P9T+dp5UycE/Sp3qeKeTwD9JTfGaweQiv0BcShURGMQ/SgAviifMk78znH4BsNjGP++EWwZt4qU/4REu7bYW17/F+cI+V36gP1OXgcFXPNe/p1UdzWBHnT/dHDHXiwbYv+BpSFr2wJ0/GVhrwAlb2L9tkNNHj9edP5Osw8uL56W/xRRKghodoD99OJPJU0ejP89g/KrJ/a0/bfy71Wb40L8QJWiSXqjbP/9xFfj46dG/fsQP+vm21z/5nKOKW7zXPw==\",\"dtype\":\"float64\",\"shape\":[29]},\"y\":{\"__ndarray__\":\"aH/asC5ttj8KjR88XTC/P1SO6bZ0wcU/B+tMFY4yuz8SvKcEt6S3P75PcM+9JrA/qsMZ0hekwL9qj10XRxrYPxLCmLztftK/uNiBHIIFlD/FYP62BrjSv+MwzHXZvMy/ACgepEqWuT+Jg5O4L8HQv/qOEYG7zbk/sbi+4P7B0L86kQG8PUu6P29DRY9yUNC/TEsN3Kj7uj9Ql1ZxLPvPv+quTZgPtJa/Vqc01SIB1b/jqFTsV5x0P79kY5seEbY/ebQ+rc9Nur/QCRWS7/vbP5UPAjUwZMA/wrA+DO8c1T/PBVbBgMWOvw==\",\"dtype\":\"float64\",\"shape\":[29]}},\"selected\":null,\"selection_policy\":null},\"id\":\"49432e78-fee7-49d0-ac29-2a202ae5ac72\",\"type\":\"ColumnDataSource\"},{\"attributes\":{\"active_drag\":\"auto\",\"active_inspect\":\"auto\",\"active_scroll\":\"auto\",\"active_tap\":\"auto\",\"tools\":[{\"id\":\"e6398bc9-3e47-433d-a1cc-ff3bd7156280\",\"type\":\"HoverTool\"}]},\"id\":\"ec430f4a-32f2-44bb-9ad0-3feebb1e64bf\",\"type\":\"Toolbar\"},{\"attributes\":{\"plot\":null,\"text\":\"\"},\"id\":\"ebac63c2-0cfc-462e-861c-f1681b7dabf7\",\"type\":\"Title\"},{\"attributes\":{\"callback\":null},\"id\":\"f5b4630c-dbd9-469f-9509-4d1594a9096a\",\"type\":\"DataRange1d\"},{\"attributes\":{\"source\":{\"id\":\"2b531bdf-3c4a-4d7d-b10f-e33905d85789\",\"type\":\"ColumnDataSource\"}},\"id\":\"f720056f-801b-4014-8eb0-ed88e08e9dd7\",\"type\":\"CDSView\"},{\"attributes\":{\"callback\":null},\"id\":\"d1eda359-b651-40bb-a301-32ea08063dcf\",\"type\":\"DataRange1d\"},{\"attributes\":{\"line_color\":{\"value\":\"firebrick\"},\"line_width\":{\"value\":2},\"plot\":null,\"size\":10},\"id\":\"2d4f83ab-0357-4fd7-af4c-37f80b6bc422\",\"type\":\"OpenHead\"},{\"attributes\":{\"fill_alpha\":{\"value\":0.1},\"fill_color\":{\"value\":\"#1f77b4\"},\"line_alpha\":{\"value\":0.1},\"line_color\":{\"value\":\"#1f77b4\"},\"size\":{\"units\":\"screen\",\"value\":5},\"x\":{\"field\":\"x\"},\"y\":{\"field\":\"y\"}},\"id\":\"86bac7a2-8062-4c69-a846-7793e764e077\",\"type\":\"Circle\"},{\"attributes\":{\"data_source\":{\"id\":\"423e2029-32f0-4e63-9086-a84987721995\",\"type\":\"ColumnDataSource\"},\"glyph\":{\"id\":\"a1ec1416-05b7-4a4e-824d-d92ed5ceb123\",\"type\":\"Circle\"},\"hover_glyph\":null,\"muted_glyph\":null,\"name\":\"circle\",\"nonselection_glyph\":{\"id\":\"1d1d97e0-dee8-497f-9036-e87f12e4d7e4\",\"type\":\"Circle\"},\"selection_glyph\":null,\"view\":{\"id\":\"51cb200a-bb52-4af3-b07c-9048c3875c29\",\"type\":\"CDSView\"}},\"id\":\"8e79de32-6c44-4d9d-a42f-e08e14cf64cc\",\"type\":\"GlyphRenderer\"},{\"attributes\":{\"formatter\":{\"id\":\"f85490f7-b9ff-4a67-bacc-b8657e2e869c\",\"type\":\"BasicTickFormatter\"},\"plot\":{\"id\":\"347ab833-a443-4459-b311-0c8692793c11\",\"subtype\":\"Figure\",\"type\":\"Plot\"},\"ticker\":{\"id\":\"cba97696-5b17-4836-a5b9-d269b3e77bcd\",\"type\":\"BasicTicker\"}},\"id\":\"253cd694-93b6-48fd-9f60-b4c90422d560\",\"type\":\"LinearAxis\"},{\"attributes\":{\"fill_color\":{\"value\":\"green\"},\"line_color\":{\"value\":\"green\"},\"size\":{\"units\":\"screen\",\"value\":5},\"x\":{\"field\":\"x\"},\"y\":{\"field\":\"y\"}},\"id\":\"f154498f-7e74-49d1-be53-af5dd59a4d13\",\"type\":\"Circle\"},{\"attributes\":{},\"id\":\"4d46a418-9539-4247-b273-2e0b3bd527d3\",\"type\":\"LinearScale\"},{\"attributes\":{\"callback\":null,\"column_names\":[\"x\",\"y\",\"desc\",\"pred\",\"not_skip\"],\"data\":{\"desc\":[\"- utter_ask_details\",\"- utter_explain_details_hotel\",\"- utter_ask_details\",\"- utter_chitchat\",\"- utter_ask_details\",\"- utter_ask_startdate\",\"- utter_ask_location\",\"- utter_correct_startdate_hotel\",\"- utter_ask_location\",\"- utter_explain_location_hotel\",\"- utter_ask_location\",\"- utter_ask_price\",\"- utter_chitchat\",\"- utter_ask_price\",\"- utter_chitchat\",\"- utter_ask_price\",\"- utter_chitchat\",\"- utter_ask_price\",\"- utter_chitchat\",\"- utter_ask_price\",\"- utter_explain_price_hotel\",\"- utter_ask_price\",\"- utter_ask_people\",\"- utter_filled_slots\",\"- action_search_hotel\",\"- utter_suggest_hotel\",\"- utter_chitchat\",\"- utter_suggest_hotel\",\"- utter_happy\"],\"not_skip\":[1.0,1.0,0.0,1.0,0.0,1.0,1.0,1.0,0.0,1.0,0.0,1.0,1.0,0.0,1.0,0.0,1.0,0.0,1.0,0.0,1.0,0.0,1.0,1.0,1.0,1.0,1.0,0.0,1.0],\"pred\":[\"- utter_ask_details\",\"- utter_explain_people_hotel\",\"- utter_ask_details\",\"- utter_chitchat\",\"- utter_ask_details\",\"- utter_ask_startdate\",\"- utter_ask_location\",\"- utter_correct_startdate_hotel\",\"- utter_ask_location\",\"- utter_explain_location_hotel\",\"- utter_ask_location\",\"- utter_ask_price\",\"- utter_chitchat\",\"- utter_ask_price\",\"- utter_chitchat\",\"- utter_ask_price\",\"- utter_chitchat\",\"- utter_ask_price\",\"- utter_chitchat\",\"- utter_ask_price\",\"- utter_explain_price_hotel\",\"- utter_ask_price\",\"- utter_ask_people\",\"- utter_filled_slots\",\"- action_search_hotel\",\"- utter_suggest_hotel\",\"- utter_chitchat\",\"- utter_suggest_hotel\",\"- utter_happy\"],\"x\":{\"__ndarray__\":\"1OR+u+KkrD8+J0RJCq6sP8nj/Y5eDrs/+3ZpWlqOrD9xz3ipqsm2P2YTZFRAaqo/T7vezBbTqT917w0xnGOoP+ulYmzzt8E/1pg8724Crj9kbsXRwa/BPwzawQ2xLqw/voyJ+NVmqz82fT39Pf+0PwkkP50inqg/VYbopg42tD/I6plQnFKnPx8h72UNFrQ/SIopWgLTpj/aePSmsNKzP2Yyt4cCSac/VEn6hfWuuT+6EBbADRusP9DkYcvd86k/7Jga/L0EmT+AlVWfBF2mPxjzNiTT8ac/Z2LROQEnwT9nBrUynm6oPw==\",\"dtype\":\"float64\",\"shape\":[29]},\"y\":{\"__ndarray__\":\"WOSOOQ3HmD/DB+qoTeSYPz8gM8cJiro/qnje+c67mT+BWIWMAtq2P1qPJpQrmJ4/GJcxQeoAoD+Kt6vAtmWhP3Db/+DGpsm/rhKVo7/mlD8CgX9sNYrJv2vCGiLonZo/JnMKD65vmz+U4bdy1gXGvzKxoO5RVJ0/yqOLOQcwxr+oovt5dIecP7sLVHeis8W/cDpIFlNxnD/uyvR930DFv5H2mH/nT1O//3bJKPx70r/RHyAMIUyZP20SJVryrJo/U2A5hCU2ZD+iiy/UIiicvxOhg6FNvpk/7RlHyM4Dtz/vHteXZj+VPw==\",\"dtype\":\"float64\",\"shape\":[29]}},\"selected\":null,\"selection_policy\":null},\"id\":\"2b531bdf-3c4a-4d7d-b10f-e33905d85789\",\"type\":\"ColumnDataSource\"},{\"attributes\":{},\"id\":\"cba97696-5b17-4836-a5b9-d269b3e77bcd\",\"type\":\"BasicTicker\"},{\"attributes\":{\"plot\":{\"id\":\"347ab833-a443-4459-b311-0c8692793c11\",\"subtype\":\"Figure\",\"type\":\"Plot\"},\"ticker\":{\"id\":\"cba97696-5b17-4836-a5b9-d269b3e77bcd\",\"type\":\"BasicTicker\"}},\"id\":\"273fbdb8-090f-44a2-9f21-d06ef754a753\",\"type\":\"Grid\"},{\"attributes\":{\"source\":{\"id\":\"423e2029-32f0-4e63-9086-a84987721995\",\"type\":\"ColumnDataSource\"}},\"id\":\"51cb200a-bb52-4af3-b07c-9048c3875c29\",\"type\":\"CDSView\"},{\"attributes\":{\"formatter\":{\"id\":\"523d14a1-bb0c-42fd-953e-34728f7608b8\",\"type\":\"BasicTickFormatter\"},\"plot\":{\"id\":\"347ab833-a443-4459-b311-0c8692793c11\",\"subtype\":\"Figure\",\"type\":\"Plot\"},\"ticker\":{\"id\":\"e25d2161-9667-4d24-bf82-9efe7aa0e609\",\"type\":\"BasicTicker\"}},\"id\":\"ad05a489-8844-4769-be78-cf30b7f1f3e7\",\"type\":\"LinearAxis\"},{\"attributes\":{\"callback\":null,\"column_names\":[\"x\",\"y\",\"desc\",\"pred\",\"not_skip\"],\"data\":{\"desc\":[\"- utter_ask_details\",\"- utter_explain_details_hotel\",\"- utter_ask_details\",\"- utter_chitchat\",\"- utter_ask_details\",\"- utter_ask_startdate\",\"- utter_ask_location\",\"- utter_correct_startdate_hotel\",\"- utter_ask_location\",\"- utter_explain_location_hotel\",\"- utter_ask_location\",\"- utter_ask_price\",\"- utter_chitchat\",\"- utter_ask_price\",\"- utter_chitchat\",\"- utter_ask_price\",\"- utter_chitchat\",\"- utter_ask_price\",\"- utter_chitchat\",\"- utter_ask_price\",\"- utter_explain_price_hotel\",\"- utter_ask_price\",\"- utter_ask_people\",\"- utter_filled_slots\",\"- action_search_hotel\",\"- utter_suggest_hotel\",\"- utter_chitchat\",\"- utter_suggest_hotel\",\"- utter_happy\"],\"not_skip\":[1.0,1.0,0.0,1.0,0.0,1.0,1.0,1.0,0.0,1.0,0.0,1.0,1.0,0.0,1.0,0.0,1.0,0.0,1.0,0.0,1.0,0.0,1.0,1.0,1.0,1.0,1.0,0.0,1.0],\"pred\":[\"- utter_ask_details\",\"- utter_explain_people_hotel\",\"- utter_ask_details\",\"- utter_chitchat\",\"- utter_ask_details\",\"- utter_ask_startdate\",\"- utter_ask_location\",\"- utter_correct_startdate_hotel\",\"- utter_ask_location\",\"- utter_explain_location_hotel\",\"- utter_ask_location\",\"- utter_ask_price\",\"- utter_chitchat\",\"- utter_ask_price\",\"- utter_chitchat\",\"- utter_ask_price\",\"- utter_chitchat\",\"- utter_ask_price\",\"- utter_chitchat\",\"- utter_ask_price\",\"- utter_explain_price_hotel\",\"- utter_ask_price\",\"- utter_ask_people\",\"- utter_filled_slots\",\"- action_search_hotel\",\"- utter_suggest_hotel\",\"- utter_chitchat\",\"- utter_suggest_hotel\",\"- utter_happy\"],\"x\":{\"__ndarray__\":\"j34NPF/Xtz8IpFSP6IiMPwNK4q5MY6I/ryXdAvJV0b+wjzpmv7mwP0LyrDv9V8I/u6jmaxpIwT8N1JkxhrmAP0Y7Jb6sErM/layiBkCHlr9LFLW4TaS4PyjhinaeWKY/TqplXPXu1r+YZ36z7yV5P8Ao/MR/u9a/TY43AK/jdj8qT7cKQ1zXv0RmYOMYyno/hqi0t82g17/6x++MSFp/P2dXJ6yri6C/L5aPLLdvir/4SAS6KNGjP5fh5VJnV7A/+ikntCzozb+/4kVcWnHcP/1wwwSXU9G/+tYDshW40j/jUpUaJEPYPw==\",\"dtype\":\"float64\",\"shape\":[29]},\"y\":{\"__ndarray__\":\"bX/asC5ttj80gZ4VDSm/P6LKdAejKrc/aonFqF31uj9dF94f3/GbP1K/XHLsZK0/OpG4tHCLwb/h2xwSAXrXPxDQO/tlfLC/IePRm8/llz84cU557Jmxv8tBFNy098y/cCxnfCLsuD9IyemxTsewv04n8llqqrg/KYWqtil2sL+RC4/2I1u5Pyws5wWEUa+/gOkzXxcRuj9+1P0+rYWuv4O7pUniP2o/Srh+6rsWj790dA1vCIhyP75Lz1Kll7U/IuARmL29tL+k/B+O4krfP/ZdLRxIRcA/Ca48MGzo0D8y498UM7aHvw==\",\"dtype\":\"float64\",\"shape\":[29]}},\"selected\":null,\"selection_policy\":null},\"id\":\"423e2029-32f0-4e63-9086-a84987721995\",\"type\":\"ColumnDataSource\"},{\"attributes\":{},\"id\":\"e25d2161-9667-4d24-bf82-9efe7aa0e609\",\"type\":\"BasicTicker\"},{\"attributes\":{\"dimension\":1,\"plot\":{\"id\":\"347ab833-a443-4459-b311-0c8692793c11\",\"subtype\":\"Figure\",\"type\":\"Plot\"},\"ticker\":{\"id\":\"e25d2161-9667-4d24-bf82-9efe7aa0e609\",\"type\":\"BasicTicker\"}},\"id\":\"fcb80b30-ff0a-4983-b9d1-3523834c2df5\",\"type\":\"Grid\"},{\"attributes\":{\"fill_alpha\":{\"value\":0.1},\"fill_color\":{\"value\":\"#1f77b4\"},\"line_alpha\":{\"value\":0.1},\"line_color\":{\"value\":\"#1f77b4\"},\"size\":{\"units\":\"screen\",\"value\":5},\"x\":{\"field\":\"x\"},\"y\":{\"field\":\"y\"}},\"id\":\"1d1d97e0-dee8-497f-9036-e87f12e4d7e4\",\"type\":\"Circle\"},{\"attributes\":{\"end\":{\"id\":\"a97759c9-c373-491d-9de0-e2a5508c3aa2\",\"type\":\"OpenHead\"},\"line_color\":{\"value\":\"gray\"},\"plot\":{\"id\":\"347ab833-a443-4459-b311-0c8692793c11\",\"subtype\":\"Figure\",\"type\":\"Plot\"},\"source\":null,\"start\":null,\"x_end\":{\"value\":0.02905640531580811},\"x_start\":{\"value\":-0.3753995515330198},\"y_end\":{\"value\":-0.2549101256491246},\"y_start\":{\"value\":0.10271058883660525}},\"id\":\"a2051f56-ebea-42ff-b524-0f31028a5545\",\"type\":\"Arrow\"},{\"attributes\":{\"callback\":null,\"data\":{},\"selected\":null,\"selection_policy\":null},\"id\":\"00842943-6833-441c-a814-3aeb0409e158\",\"type\":\"ColumnDataSource\"},{\"attributes\":{\"line_color\":{\"value\":\"firebrick\"},\"line_width\":{\"value\":2},\"plot\":null,\"size\":10},\"id\":\"7fd73d40-daee-4112-ba16-81ea8ab6c487\",\"type\":\"OpenHead\"},{\"attributes\":{\"fill_color\":{\"value\":\"magenta\"},\"line_color\":{\"value\":\"magenta\"},\"size\":{\"units\":\"screen\",\"value\":5},\"x\":{\"value\":0.05594547785535445},\"y\":{\"value\":0.02419682182128144}},\"id\":\"814d1bb4-a9a2-476d-8d21-3c2771745f2d\",\"type\":\"Circle\"},{\"attributes\":{\"line_color\":{\"value\":\"firebrick\"},\"line_width\":{\"value\":2},\"plot\":null,\"size\":10},\"id\":\"8c6e4f59-cce4-4911-a30d-7799490b941b\",\"type\":\"OpenHead\"},{\"attributes\":{\"callback\":null,\"data\":{},\"selected\":null,\"selection_policy\":null},\"id\":\"eb58ced8-a1f9-4790-8916-79f52f85b515\",\"type\":\"ColumnDataSource\"},{\"attributes\":{\"end\":{\"id\":\"d8187662-4202-443e-a7d9-23808a888ec9\",\"type\":\"OpenHead\"},\"line_color\":{\"value\":\"gray\"},\"plot\":{\"id\":\"347ab833-a443-4459-b311-0c8692793c11\",\"subtype\":\"Figure\",\"type\":\"Plot\"},\"source\":null,\"start\":null,\"x_end\":{\"value\":-0.3753995515330198},\"x_start\":{\"value\":0.028592598456574383},\"y_end\":{\"value\":0.10271058883660525},\"y_start\":{\"value\":-0.2618405527854391}},\"id\":\"411f427b-4968-4ec1-85dc-42c8e3bc8f8e\",\"type\":\"Arrow\"},{\"attributes\":{\"fill_alpha\":{\"value\":0.1},\"fill_color\":{\"value\":\"#1f77b4\"},\"line_alpha\":{\"value\":0.1},\"line_color\":{\"value\":\"#1f77b4\"},\"size\":{\"units\":\"screen\",\"value\":5},\"x\":{\"value\":0.05594547785535445},\"y\":{\"value\":0.02419682182128144}},\"id\":\"a059b3a1-cbb6-4c45-b6d0-d2d8ee416085\",\"type\":\"Circle\"},{\"attributes\":{\"fill_alpha\":{\"value\":0.1},\"fill_color\":{\"value\":\"#1f77b4\"},\"line_alpha\":{\"value\":0.1},\"line_color\":{\"value\":\"#1f77b4\"},\"x\":{\"value\":0.1392568190555826},\"y\":{\"value\":-0.20309194961420987}},\"id\":\"00d5c32d-1a28-4324-b511-c6c84bae9453\",\"type\":\"Circle\"},{\"attributes\":{\"end\":{\"id\":\"2d4f83ab-0357-4fd7-af4c-37f80b6bc422\",\"type\":\"OpenHead\"},\"line_color\":{\"value\":\"gray\"},\"plot\":{\"id\":\"347ab833-a443-4459-b311-0c8692793c11\",\"subtype\":\"Figure\",\"type\":\"Plot\"},\"source\":null,\"start\":null,\"x_end\":{\"value\":0.08565637436716099},\"x_start\":{\"value\":0.014002850883277566},\"y_end\":{\"value\":0.169966306030903},\"y_start\":{\"value\":0.12183172910549814}},\"id\":\"cab1f7c8-aef3-4ff0-b259-b8851870a6af\",\"type\":\"Arrow\"},{\"attributes\":{\"source\":{\"id\":\"eb58ced8-a1f9-4790-8916-79f52f85b515\",\"type\":\"ColumnDataSource\"}},\"id\":\"f6a5bdfe-0c17-4b46-b58f-0195525f3353\",\"type\":\"CDSView\"},{\"attributes\":{\"data_source\":{\"id\":\"eb58ced8-a1f9-4790-8916-79f52f85b515\",\"type\":\"ColumnDataSource\"},\"glyph\":{\"id\":\"814d1bb4-a9a2-476d-8d21-3c2771745f2d\",\"type\":\"Circle\"},\"hover_glyph\":null,\"muted_glyph\":null,\"nonselection_glyph\":{\"id\":\"a059b3a1-cbb6-4c45-b6d0-d2d8ee416085\",\"type\":\"Circle\"},\"selection_glyph\":null,\"view\":{\"id\":\"f6a5bdfe-0c17-4b46-b58f-0195525f3353\",\"type\":\"CDSView\"}},\"id\":\"518ec73b-d460-4ba1-8f3c-030cf1a6fc8a\",\"type\":\"GlyphRenderer\"},{\"attributes\":{\"line_color\":{\"value\":\"firebrick\"},\"line_width\":{\"value\":2},\"plot\":null,\"size\":10},\"id\":\"8787163b-5357-47a8-abf3-15330f04a39a\",\"type\":\"OpenHead\"},{\"attributes\":{\"end\":{\"id\":\"7fd73d40-daee-4112-ba16-81ea8ab6c487\",\"type\":\"OpenHead\"},\"line_color\":{\"value\":\"gray\"},\"plot\":{\"id\":\"347ab833-a443-4459-b311-0c8692793c11\",\"subtype\":\"Figure\",\"type\":\"Plot\"},\"source\":null,\"start\":null,\"x_end\":{\"value\":-0.27104259894874255},\"x_start\":{\"value\":0.08565637436716099},\"y_end\":{\"value\":0.1062401582720832},\"y_start\":{\"value\":0.169966306030903}},\"id\":\"01b8bf87-b94d-490a-b0f8-5c9643b56ecb\",\"type\":\"Arrow\"},{\"attributes\":{\"data_source\":{\"id\":\"00842943-6833-441c-a814-3aeb0409e158\",\"type\":\"ColumnDataSource\"},\"glyph\":{\"id\":\"df3cbed6-7395-435c-aa4c-169c732869c4\",\"type\":\"Circle\"},\"hover_glyph\":null,\"muted_glyph\":null,\"nonselection_glyph\":{\"id\":\"308237e1-56f5-4633-b7dc-93d69b3b060a\",\"type\":\"Circle\"},\"selection_glyph\":null,\"view\":{\"id\":\"6721e177-91bf-426b-b4ed-d5ffc7a5d788\",\"type\":\"CDSView\"}},\"id\":\"20a5c39f-cd62-4a96-af0d-e4d3913d4d88\",\"type\":\"GlyphRenderer\"},{\"attributes\":{\"line_color\":{\"value\":\"firebrick\"},\"line_width\":{\"value\":2},\"plot\":null,\"size\":10},\"id\":\"b671087f-fd49-4fc9-bf59-c254a0957eeb\",\"type\":\"OpenHead\"},{\"attributes\":{\"callback\":null,\"data\":{},\"selected\":null,\"selection_policy\":null},\"id\":\"0717cf48-bf0e-454c-8299-4bc0d6fc7d67\",\"type\":\"ColumnDataSource\"},{\"attributes\":{\"source\":{\"id\":\"f011c53f-e8a7-4c7c-9830-ff8fdc912a23\",\"type\":\"ColumnDataSource\"}},\"id\":\"ed67240e-ca62-4683-b5a8-428e01fd79d3\",\"type\":\"CDSView\"},{\"attributes\":{\"end\":{\"id\":\"8787163b-5357-47a8-abf3-15330f04a39a\",\"type\":\"OpenHead\"},\"line_color\":{\"value\":\"gray\"},\"plot\":{\"id\":\"347ab833-a443-4459-b311-0c8692793c11\",\"subtype\":\"Figure\",\"type\":\"Plot\"},\"source\":null,\"start\":null,\"x_end\":{\"value\":0.09840349392002062},\"x_start\":{\"value\":-0.27104259894874255},\"y_end\":{\"value\":0.09235710014012025},\"y_start\":{\"value\":0.1062401582720832}},\"id\":\"eab6fd5a-d262-4947-85ca-62eac437ecd6\",\"type\":\"Arrow\"},{\"attributes\":{\"fill_color\":{\"value\":\"green\"},\"line_color\":{\"value\":\"green\"},\"size\":{\"units\":\"screen\",\"value\":10},\"x\":{\"value\":0.0931300660718028},\"y\":{\"value\":0.08760349099838793}},\"id\":\"df3cbed6-7395-435c-aa4c-169c732869c4\",\"type\":\"Circle\"},{\"attributes\":{\"line_color\":{\"value\":\"firebrick\"},\"line_width\":{\"value\":2},\"plot\":null,\"size\":10},\"id\":\"a5dba983-7f6c-48a8-85bb-380c30245ba4\",\"type\":\"OpenHead\"},{\"attributes\":{\"source\":{\"id\":\"00842943-6833-441c-a814-3aeb0409e158\",\"type\":\"ColumnDataSource\"}},\"id\":\"6721e177-91bf-426b-b4ed-d5ffc7a5d788\",\"type\":\"CDSView\"},{\"attributes\":{\"end\":{\"id\":\"b671087f-fd49-4fc9-bf59-c254a0957eeb\",\"type\":\"OpenHead\"},\"line_color\":{\"value\":\"gray\"},\"plot\":{\"id\":\"347ab833-a443-4459-b311-0c8692793c11\",\"subtype\":\"Figure\",\"type\":\"Plot\"},\"source\":null,\"start\":null,\"x_end\":{\"value\":0.13895662057438207},\"x_start\":{\"value\":0.09840349392002062},\"y_end\":{\"value\":0.06309114756032749},\"y_start\":{\"value\":0.09235710014012025}},\"id\":\"cf1c117d-4ad6-42ea-99a4-e4bb8c39becd\",\"type\":\"Arrow\"},{\"attributes\":{\"fill_alpha\":{\"value\":0.1},\"fill_color\":{\"value\":\"#1f77b4\"},\"line_alpha\":{\"value\":0.1},\"line_color\":{\"value\":\"#1f77b4\"},\"size\":{\"units\":\"screen\",\"value\":10},\"x\":{\"value\":0.0931300660718028},\"y\":{\"value\":0.08760349099838793}},\"id\":\"308237e1-56f5-4633-b7dc-93d69b3b060a\",\"type\":\"Circle\"},{\"attributes\":{\"data_source\":{\"id\":\"0717cf48-bf0e-454c-8299-4bc0d6fc7d67\",\"type\":\"ColumnDataSource\"},\"glyph\":{\"id\":\"dd7b2cad-dd01-4b99-934d-77086cc432c6\",\"type\":\"Circle\"},\"hover_glyph\":null,\"muted_glyph\":null,\"nonselection_glyph\":{\"id\":\"a0ab5549-6eb0-4a61-afc9-39062ca92a7b\",\"type\":\"Circle\"},\"selection_glyph\":null,\"view\":{\"id\":\"2d271d92-d267-4602-9458-2414c9b34546\",\"type\":\"CDSView\"}},\"id\":\"c5d66b4d-f272-4008-8554-229f36d1d5ce\",\"type\":\"GlyphRenderer\"},{\"attributes\":{\"line_color\":{\"value\":\"firebrick\"},\"line_width\":{\"value\":2},\"plot\":null,\"size\":10},\"id\":\"8de605f1-8f08-49e8-8fe2-19ebe96115db\",\"type\":\"OpenHead\"},{\"attributes\":{\"end\":{\"id\":\"a5dba983-7f6c-48a8-85bb-380c30245ba4\",\"type\":\"OpenHead\"},\"line_color\":{\"value\":\"gray\"},\"plot\":{\"id\":\"347ab833-a443-4459-b311-0c8692793c11\",\"subtype\":\"Figure\",\"type\":\"Plot\"},\"source\":null,\"start\":null,\"x_end\":{\"value\":0.12950604824184558},\"x_start\":{\"value\":0.13895662057438207},\"y_end\":{\"value\":-0.13000772246189501},\"y_start\":{\"value\":0.06309114756032749}},\"id\":\"ddb4367d-fa94-4767-ae80-484c44304ecb\",\"type\":\"Arrow\"},{\"attributes\":{\"line_color\":{\"value\":\"firebrick\"},\"line_width\":{\"value\":2},\"plot\":null,\"size\":10},\"id\":\"acb9e7cb-35d7-4240-a831-cc0a0d06c9f9\",\"type\":\"OpenHead\"},{\"attributes\":{\"fill_color\":{\"value\":\"red\"},\"line_color\":{\"value\":\"red\"},\"size\":{\"units\":\"screen\",\"value\":10},\"x\":{\"value\":0.3708714345834348},\"y\":{\"value\":-0.015025144481799394}},\"id\":\"dd7b2cad-dd01-4b99-934d-77086cc432c6\",\"type\":\"Circle\"},{\"attributes\":{\"end\":{\"id\":\"8de605f1-8f08-49e8-8fe2-19ebe96115db\",\"type\":\"OpenHead\"},\"line_color\":{\"value\":\"gray\"},\"plot\":{\"id\":\"347ab833-a443-4459-b311-0c8692793c11\",\"subtype\":\"Figure\",\"type\":\"Plot\"},\"source\":null,\"start\":null,\"x_end\":{\"value\":-0.00014414656968373744},\"x_start\":{\"value\":0.12950604824184558},\"y_end\":{\"value\":0.3766038635424055},\"y_start\":{\"value\":-0.13000772246189501}},\"id\":\"6ac8f21d-1b94-403e-8280-d9fe6910e3c8\",\"type\":\"Arrow\"},{\"attributes\":{\"source\":{\"id\":\"0717cf48-bf0e-454c-8299-4bc0d6fc7d67\",\"type\":\"ColumnDataSource\"}},\"id\":\"2d271d92-d267-4602-9458-2414c9b34546\",\"type\":\"CDSView\"},{\"attributes\":{\"data_source\":{\"id\":\"f011c53f-e8a7-4c7c-9830-ff8fdc912a23\",\"type\":\"ColumnDataSource\"},\"glyph\":{\"id\":\"dc8dc1af-cea4-493b-8c6c-d8fcbf8d1706\",\"type\":\"Circle\"},\"hover_glyph\":null,\"muted_glyph\":null,\"nonselection_glyph\":{\"id\":\"00d5c32d-1a28-4324-b511-c6c84bae9453\",\"type\":\"Circle\"},\"selection_glyph\":null,\"view\":{\"id\":\"ed67240e-ca62-4683-b5a8-428e01fd79d3\",\"type\":\"CDSView\"}},\"id\":\"1db745d9-cfee-44a7-8a51-a238a358f252\",\"type\":\"GlyphRenderer\"},{\"attributes\":{\"line_color\":{\"value\":\"firebrick\"},\"line_width\":{\"value\":2},\"plot\":null,\"size\":10},\"id\":\"5c6a97b9-5208-4f47-a522-649286a9e722\",\"type\":\"OpenHead\"},{\"attributes\":{\"fill_alpha\":{\"value\":0.1},\"fill_color\":{\"value\":\"#1f77b4\"},\"line_alpha\":{\"value\":0.1},\"line_color\":{\"value\":\"#1f77b4\"},\"size\":{\"units\":\"screen\",\"value\":10},\"x\":{\"value\":0.3708714345834348},\"y\":{\"value\":-0.015025144481799394}},\"id\":\"a0ab5549-6eb0-4a61-afc9-39062ca92a7b\",\"type\":\"Circle\"},{\"attributes\":{\"end\":{\"id\":\"acb9e7cb-35d7-4240-a831-cc0a0d06c9f9\",\"type\":\"OpenHead\"},\"line_color\":{\"value\":\"gray\"},\"plot\":{\"id\":\"347ab833-a443-4459-b311-0c8692793c11\",\"subtype\":\"Figure\",\"type\":\"Plot\"},\"source\":null,\"start\":null,\"x_end\":{\"value\":0.1569844583470701},\"x_start\":{\"value\":-0.00014414656968373744},\"y_end\":{\"value\":-0.2889971105351218},\"y_start\":{\"value\":0.3766038635424055}},\"id\":\"c7ac06af-202f-4a92-80f4-9c956f444136\",\"type\":\"Arrow\"},{\"attributes\":{\"line_color\":{\"value\":\"firebrick\"},\"line_width\":{\"value\":2},\"plot\":null,\"size\":10},\"id\":\"e67f42b8-cd28-4f7d-90e6-78d7d02613e7\",\"type\":\"OpenHead\"},{\"attributes\":{\"end\":{\"id\":\"5c6a97b9-5208-4f47-a522-649286a9e722\",\"type\":\"OpenHead\"},\"line_color\":{\"value\":\"gray\"},\"plot\":{\"id\":\"347ab833-a443-4459-b311-0c8692793c11\",\"subtype\":\"Figure\",\"type\":\"Plot\"},\"source\":null,\"start\":null,\"x_end\":{\"value\":-0.019333474930818086},\"x_start\":{\"value\":0.1569844583470701},\"y_end\":{\"value\":0.01955226229662152},\"y_start\":{\"value\":-0.2889971105351218}},\"id\":\"ad4d455d-3bdf-475a-9766-b4452120b796\",\"type\":\"Arrow\"},{\"attributes\":{\"line_color\":{\"value\":\"firebrick\"},\"line_width\":{\"value\":2},\"plot\":null,\"size\":10},\"id\":\"4934da73-b9b7-4656-9c81-21800cb63383\",\"type\":\"OpenHead\"},{\"attributes\":{\"end\":{\"id\":\"e67f42b8-cd28-4f7d-90e6-78d7d02613e7\",\"type\":\"OpenHead\"},\"line_color\":{\"value\":\"gray\"},\"plot\":{\"id\":\"347ab833-a443-4459-b311-0c8692793c11\",\"subtype\":\"Figure\",\"type\":\"Plot\"},\"source\":null,\"start\":null,\"x_end\":{\"value\":0.17848777840592475},\"x_start\":{\"value\":-0.019333474930818086},\"y_end\":{\"value\":-0.292482069687605},\"y_start\":{\"value\":0.01955226229662152}},\"id\":\"9a24fd37-932c-4a25-abf7-37e2c1a67017\",\"type\":\"Arrow\"},{\"attributes\":{\"line_color\":{\"value\":\"firebrick\"},\"line_width\":{\"value\":2},\"plot\":null,\"size\":10},\"id\":\"9ef76164-a8b3-46a6-9aef-27768d975981\",\"type\":\"OpenHead\"},{\"attributes\":{\"end\":{\"id\":\"4934da73-b9b7-4656-9c81-21800cb63383\",\"type\":\"OpenHead\"},\"line_color\":{\"value\":\"gray\"},\"plot\":{\"id\":\"347ab833-a443-4459-b311-0c8692793c11\",\"subtype\":\"Figure\",\"type\":\"Plot\"},\"source\":null,\"start\":null,\"x_end\":{\"value\":0.042743117357312836},\"x_start\":{\"value\":0.17848777840592475},\"y_end\":{\"value\":-0.22451322795712433},\"y_start\":{\"value\":-0.292482069687605}},\"id\":\"65c1922c-a821-47c5-b95b-5ea9489c3405\",\"type\":\"Arrow\"},{\"attributes\":{\"line_color\":{\"value\":\"firebrick\"},\"line_width\":{\"value\":2},\"plot\":null,\"size\":10},\"id\":\"512b0039-e17a-4312-a7a0-554b2b7dbac5\",\"type\":\"OpenHead\"},{\"attributes\":{\"fill_color\":{\"value\":\"black\"},\"x\":{\"value\":0.1392568190555826},\"y\":{\"value\":-0.20309194961420987}},\"id\":\"dc8dc1af-cea4-493b-8c6c-d8fcbf8d1706\",\"type\":\"Circle\"},{\"attributes\":{\"end\":{\"id\":\"9ef76164-a8b3-46a6-9aef-27768d975981\",\"type\":\"OpenHead\"},\"line_color\":{\"value\":\"gray\"},\"plot\":{\"id\":\"347ab833-a443-4459-b311-0c8692793c11\",\"subtype\":\"Figure\",\"type\":\"Plot\"},\"source\":null,\"start\":null,\"x_end\":{\"value\":-0.36076138650994777},\"x_start\":{\"value\":0.042743117357312836},\"y_end\":{\"value\":0.09994951731474089},\"y_start\":{\"value\":-0.22451322795712433}},\"id\":\"0bcb76e4-4369-42c2-9211-560b04cec1cb\",\"type\":\"Arrow\"},{\"attributes\":{\"line_color\":{\"value\":\"firebrick\"},\"line_width\":{\"value\":2},\"plot\":null,\"size\":10},\"id\":\"9ef27647-768a-475b-89bd-d0b941ff6770\",\"type\":\"OpenHead\"},{\"attributes\":{\"end\":{\"id\":\"512b0039-e17a-4312-a7a0-554b2b7dbac5\",\"type\":\"OpenHead\"},\"line_color\":{\"value\":\"gray\"},\"plot\":{\"id\":\"347ab833-a443-4459-b311-0c8692793c11\",\"subtype\":\"Figure\",\"type\":\"Plot\"},\"source\":null,\"start\":null,\"x_end\":{\"value\":0.03221390381939985},\"x_start\":{\"value\":-0.36076138650994777},\"y_end\":{\"value\":-0.2617911627294736},\"y_start\":{\"value\":0.09994951731474089}},\"id\":\"497e8dea-2f4d-4e72-bc5a-f0bde9ca5a6e\",\"type\":\"Arrow\"},{\"attributes\":{\"line_color\":{\"value\":\"firebrick\"},\"line_width\":{\"value\":2},\"plot\":null,\"size\":10},\"id\":\"329ab291-d1dd-4666-95de-076e0ba5acee\",\"type\":\"OpenHead\"},{\"attributes\":{\"end\":{\"id\":\"9ef27647-768a-475b-89bd-d0b941ff6770\",\"type\":\"OpenHead\"},\"line_color\":{\"value\":\"gray\"},\"plot\":{\"id\":\"347ab833-a443-4459-b311-0c8692793c11\",\"subtype\":\"Figure\",\"type\":\"Plot\"},\"source\":null,\"start\":null,\"x_end\":{\"value\":-0.36305803200808845},\"x_start\":{\"value\":0.03221390381939985},\"y_end\":{\"value\":0.1007954778775079},\"y_start\":{\"value\":-0.2617911627294736}},\"id\":\"05190aa1-917f-4cbc-9ded-eaa4063cd5b2\",\"type\":\"Arrow\"},{\"attributes\":{\"line_color\":{\"value\":\"firebrick\"},\"line_width\":{\"value\":2},\"plot\":null,\"size\":10},\"id\":\"d8187662-4202-443e-a7d9-23808a888ec9\",\"type\":\"OpenHead\"},{\"attributes\":{\"end\":{\"id\":\"329ab291-d1dd-4666-95de-076e0ba5acee\",\"type\":\"OpenHead\"},\"line_color\":{\"value\":\"gray\"},\"plot\":{\"id\":\"347ab833-a443-4459-b311-0c8692793c11\",\"subtype\":\"Figure\",\"type\":\"Plot\"},\"source\":null,\"start\":null,\"x_end\":{\"value\":0.028592598456574383},\"x_start\":{\"value\":-0.36305803200808845},\"y_end\":{\"value\":-0.2618405527854391},\"y_start\":{\"value\":0.1007954778775079}},\"id\":\"e2ded1dd-c58e-474b-9e68-c7a618d8d249\",\"type\":\"Arrow\"},{\"attributes\":{\"line_color\":{\"value\":\"firebrick\"},\"line_width\":{\"value\":2},\"plot\":null,\"size\":10},\"id\":\"a97759c9-c373-491d-9de0-e2a5508c3aa2\",\"type\":\"OpenHead\"}],\"root_ids\":[\"347ab833-a443-4459-b311-0c8692793c11\"]},\"title\":\"Bokeh Application\",\"version\":\"0.12.15\"}};\n",
       "  var render_items = [{\"docid\":\"16cfbd7b-b5f2-4e06-9035-9a18049e5434\",\"elementid\":\"e38ee173-28d2-4a73-a4d0-aa968c67dc81\",\"modelid\":\"347ab833-a443-4459-b311-0c8692793c11\"}];\n",
       "  root.Bokeh.embed.embed_items_notebook(docs_json, render_items);\n",
       "\n",
       "  }\n",
       "  if (root.Bokeh !== undefined) {\n",
       "    embed_document(root);\n",
       "  } else {\n",
       "    var attempts = 0;\n",
       "    var timer = setInterval(function(root) {\n",
       "      if (root.Bokeh !== undefined) {\n",
       "        embed_document(root);\n",
       "        clearInterval(timer);\n",
       "      }\n",
       "      attempts++;\n",
       "      if (attempts > 100) {\n",
       "        console.log(\"Bokeh: ERROR: Unable to run BokehJS code because BokehJS library is missing\")\n",
       "        clearInterval(timer);\n",
       "      }\n",
       "    }, 10, root)\n",
       "  }\n",
       "})(window);"
      ],
      "application/vnd.bokehjs_exec.v0+json": ""
     },
     "metadata": {
      "application/vnd.bokehjs_exec.v0+json": {
       "id": "347ab833-a443-4459-b311-0c8692793c11"
      }
     },
     "output_type": "display_data"
    }
   ],
   "source": [
    "show(p)"
   ]
  },
  {
   "cell_type": "code",
   "execution_count": 22,
   "metadata": {},
   "outputs": [],
   "source": [
    "from collections import namedtuple"
   ]
  },
  {
   "cell_type": "code",
   "execution_count": 23,
   "metadata": {},
   "outputs": [
    {
     "data": {
      "text/plain": [
       "OrderedDict([('x', 11), ('y', 22)])"
      ]
     },
     "execution_count": 23,
     "metadata": {},
     "output_type": "execute_result"
    }
   ],
   "source": [
    "Point = namedtuple('Point', ['x', 'y'])\n",
    "p = Point(11, y=22)\n",
    "p._asdict()"
   ]
  },
  {
   "cell_type": "code",
   "execution_count": 24,
   "metadata": {},
   "outputs": [],
   "source": [
    "Point3D = namedtuple('Point3D', Point._fields + ('z',))"
   ]
  },
  {
   "cell_type": "code",
   "execution_count": 25,
   "metadata": {},
   "outputs": [
    {
     "data": {
      "text/plain": [
       "OrderedDict([('x', 11), ('y', 22), ('z', 3)])"
      ]
     },
     "execution_count": 25,
     "metadata": {},
     "output_type": "execute_result"
    }
   ],
   "source": [
    "p_asdict = p._asdict()\n",
    "p_asdict['z'] = 3\n",
    "p_asdict"
   ]
  },
  {
   "cell_type": "code",
   "execution_count": 26,
   "metadata": {},
   "outputs": [
    {
     "data": {
      "text/plain": [
       "Point3D(x=11, y=22, z=3)"
      ]
     },
     "execution_count": 26,
     "metadata": {},
     "output_type": "execute_result"
    }
   ],
   "source": [
    "p3D = Point3D(**p_asdict)\n",
    "p3D"
   ]
  },
  {
   "cell_type": "code",
   "execution_count": 27,
   "metadata": {},
   "outputs": [],
   "source": [
    "x ={\n",
    "        \"day\": \"20\",\n",
    "        \"month\": \"06\",\n",
    "        \"year\": \"2018\"\n",
    "    }"
   ]
  },
  {
   "cell_type": "code",
   "execution_count": 28,
   "metadata": {},
   "outputs": [
    {
     "data": {
      "text/plain": [
       "{'day': '20', 'month': '06', 'year': '2018'}"
      ]
     },
     "execution_count": 28,
     "metadata": {},
     "output_type": "execute_result"
    }
   ],
   "source": [
    "x"
   ]
  },
  {
   "cell_type": "code",
   "execution_count": 29,
   "metadata": {},
   "outputs": [
    {
     "data": {
      "text/plain": [
       "{'touched': True, 'value': {'value1': '20', 'value2': '06', 'value3': '2018'}}"
      ]
     },
     "execution_count": 29,
     "metadata": {},
     "output_type": "execute_result"
    }
   ],
   "source": [
    "def value_touched_dict(value):\n",
    "    if isinstance(value, dict) and value.get(\"day\"):\n",
    "        value[\"value1\"] = value.pop(\"day\")\n",
    "        value[\"value2\"] = value.pop(\"month\")\n",
    "        value[\"value3\"] = value.pop(\"year\")\n",
    "    return {\"value\": value,\n",
    "            \"touched\": True}\n",
    "value_touched_dict(x)"
   ]
  },
  {
   "cell_type": "code",
   "execution_count": 30,
   "metadata": {},
   "outputs": [
    {
     "data": {
      "text/plain": [
       "{'touched': True, 'value': 'x'}"
      ]
     },
     "execution_count": 30,
     "metadata": {},
     "output_type": "execute_result"
    }
   ],
   "source": [
    "value_touched_dict('x')"
   ]
  },
  {
   "cell_type": "code",
   "execution_count": null,
   "metadata": {},
   "outputs": [],
   "source": []
  }
 ],
 "metadata": {
  "kernelspec": {
   "display_name": "Python 3",
   "language": "python",
   "name": "python3"
  },
  "language_info": {
   "codemirror_mode": {
    "name": "ipython",
    "version": 3
   },
   "file_extension": ".py",
   "mimetype": "text/x-python",
   "name": "python",
   "nbconvert_exporter": "python",
   "pygments_lexer": "ipython3",
   "version": "3.6.5"
  }
 },
 "nbformat": 4,
 "nbformat_minor": 2
}
